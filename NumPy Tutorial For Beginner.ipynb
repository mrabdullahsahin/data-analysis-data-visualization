{
  "cells": [
    {
      "metadata": {
        "button": false,
        "new_sheet": false,
        "run_control": {
          "read_only": false
        },
        "_uuid": "bf71945ed61b50db90d6ee39a1fe141fdcfa04fa"
      },
      "cell_type": "markdown",
      "source": "# Introduction<a id=\"0\"></a>\n<hr>\n**NumPy** is a basic package for scientific computing. It is a **Python** language implementation which includes:\n\n* The powerful N-dimensional array structure\n* Sophisticated functions\n* Tools that can be integrated into C/C++ and Fortran code\n* Linear algebra, Fourier transform and random number features\n\nIn addition to being used for scientific computing, NumPy also can be used as an efficient multi-dimensional container for general data. Because it can work with any type of data, NumPy can be integrated into multiple types of databases seamlessly and efficiently.\n\n* If you like it, thank you for you **upvotes**.\n* If you have any **question**, I will happy to hear it\n\n<hr>\n\n1. [ndarray](#1)\n2. [Create a specific array](#2)\n3. [Shape and operation](#3)\n4. [Index](#4)\n5. [Mathematics](#5)\n6. [Matrix](#6)\n7. [Random Number](#7)\n8. [Conclusion](#8)\n9. [Reference](#9)"
    },
    {
      "metadata": {
        "button": false,
        "new_sheet": false,
        "run_control": {
          "read_only": false
        },
        "trusted": true,
        "_uuid": "ff2674e2b424b9119168092dd12365e68ad9d883"
      },
      "cell_type": "code",
      "source": "import numpy as np # linear algebra\nimport pandas as pd # data processing, CSV file I/O (e.g. pd.read_csv)",
      "execution_count": 28,
      "outputs": []
    },
    {
      "metadata": {
        "button": false,
        "new_sheet": false,
        "run_control": {
          "read_only": false
        },
        "_uuid": "2996d40561d475c2830c57cc7a5b79f3f9a46de2"
      },
      "cell_type": "markdown",
      "source": "Basic Porperties and array creation"
    },
    {
      "metadata": {
        "button": false,
        "new_sheet": false,
        "run_control": {
          "read_only": false
        },
        "_uuid": "cea7c5bbb1000bf27817a4482f5a1b460c6e7ecb"
      },
      "cell_type": "markdown",
      "source": "Here is an array with rank 1, and the length of the axis is 3:"
    },
    {
      "metadata": {
        "button": false,
        "new_sheet": false,
        "run_control": {
          "read_only": false
        },
        "trusted": true,
        "_uuid": "e674f48ab8c4282c06f2c7ab087731d5e207c1a6"
      },
      "cell_type": "code",
      "source": "[1,2,3]",
      "execution_count": 29,
      "outputs": [
        {
          "output_type": "execute_result",
          "execution_count": 29,
          "data": {
            "text/plain": "[1, 2, 3]"
          },
          "metadata": {}
        }
      ]
    },
    {
      "metadata": {
        "button": false,
        "new_sheet": false,
        "run_control": {
          "read_only": false
        },
        "_uuid": "8de7a767363b3a783b47f66fa5e5be217f19c84b"
      },
      "cell_type": "markdown",
      "source": "Below is an array with rank 2, and the length of the axis is 3 too:"
    },
    {
      "metadata": {
        "button": false,
        "new_sheet": false,
        "run_control": {
          "read_only": false
        },
        "trusted": true,
        "_uuid": "75ac6b9d186ff23a564be6b48698641f29a360e2"
      },
      "cell_type": "code",
      "source": "[[ 1, 2, 3],[ 4, 5, 6]]",
      "execution_count": 30,
      "outputs": [
        {
          "output_type": "execute_result",
          "execution_count": 30,
          "data": {
            "text/plain": "[[1, 2, 3], [4, 5, 6]]"
          },
          "metadata": {}
        }
      ]
    },
    {
      "metadata": {
        "button": false,
        "new_sheet": false,
        "run_control": {
          "read_only": false
        },
        "_uuid": "aeabb5140b0dbf9bef98b2817a4f5b180e0bba61"
      },
      "cell_type": "markdown",
      "source": "We can create an array of NumPy through the array function, for example:"
    },
    {
      "metadata": {
        "button": false,
        "new_sheet": false,
        "run_control": {
          "read_only": false
        },
        "trusted": true,
        "_uuid": "aebb0040493c3eab313c247189b344f3442635a2"
      },
      "cell_type": "code",
      "source": "a = np.array([1, 2, 3])\nb = np.array([(1,2,3), (4,5,6)])\n\nprint(\"a: \",a)\nprint(\"b: \",b)",
      "execution_count": 31,
      "outputs": [
        {
          "output_type": "stream",
          "text": "a:  [1 2 3]\nb:  [[1 2 3]\n [4 5 6]]\n",
          "name": "stdout"
        }
      ]
    },
    {
      "metadata": {
        "button": false,
        "new_sheet": false,
        "run_control": {
          "read_only": false
        },
        "_uuid": "aa6f0d008d44375ccbde0404138bd5a55dea31a9"
      },
      "cell_type": "markdown",
      "source": "Note that the square brackets are required here. And the following way of writing is wrong:"
    },
    {
      "metadata": {
        "button": false,
        "new_sheet": false,
        "run_control": {
          "read_only": false
        },
        "trusted": true,
        "_uuid": "e41bd94cf1310d057c9f88d71edae0531762fae0"
      },
      "cell_type": "code",
      "source": "# a = np.array(1,2,3,4) # WRONG!!!",
      "execution_count": 32,
      "outputs": []
    },
    {
      "metadata": {
        "button": false,
        "new_sheet": false,
        "run_control": {
          "read_only": false
        },
        "_uuid": "1167c9394bd6be70a0c045d698f7009a9f117b6a"
      },
      "cell_type": "markdown",
      "source": "NumPy's array class is **ndarray**, which has an alias  **numpy.array**, but it's different from **array.array** in the Python standard library. The latter is just a one-dimensional array. The features of **ndarray** are as follows:\n<a id=\"1\"></a>\n<mark>[Return Contents](#0)\n<hr>\n\n* **ndarray.ndim:** the dimension number of the array. It's called rank in Python.\n* **ndarray.shape:** the dimension of the array. It's a series of numbers whose length is determined by the dimension （ndim） of the array. For example, the shape of a one-dimensional array with length n is n. And the shape of an array with n rows and m columns is n,m.\n* **ndarray.size:** the number of all elements in the array.\n* **ndarray.dtype:** the type of the element in the array, such as numpy.int32, numpy.int16, or numpy.float64.\n* **ndarray.itemsize:** the size of each element in the array, in bytes.\n* **ndarray.data:** the buffering for storing the array elements. Usually we only need to access the elements by subscripts, and don't need to access the buffer.\n\nLet's take a look at the code example:"
    },
    {
      "metadata": {
        "button": false,
        "new_sheet": false,
        "run_control": {
          "read_only": false
        },
        "trusted": true,
        "_uuid": "dbe83d57fb5ea992077a6565ce3628531a50dbf3"
      },
      "cell_type": "code",
      "source": "a = np.array([1, 2, 3])\nb = np.array([(1,2,3), (4,5,6)])\n\nprint('a=')\nprint(a)\nprint(\"a's ndim {}\".format(a.ndim))\nprint(\"a's shape {}\".format(a.shape))\nprint(\"a's size {}\".format(a.size))\nprint(\"a's dtype {}\".format(a.dtype))\nprint(\"a's itemsize {}\".format(a.itemsize))\n\nprint('')\n\nprint('b=')\nprint(b)\nprint(\"b's ndim {}\".format(b.ndim))\nprint(\"b's shape {}\".format(b.shape))\nprint(\"b's size {}\".format(b.size))\nprint(\"b's dtype {}\".format(b.dtype))\nprint(\"b's itemsize {}\".format(b.itemsize))",
      "execution_count": 33,
      "outputs": [
        {
          "output_type": "stream",
          "text": "a=\n[1 2 3]\na's ndim 1\na's shape (3,)\na's size 3\na's dtype int64\na's itemsize 8\n\nb=\n[[1 2 3]\n [4 5 6]]\nb's ndim 2\nb's shape (2, 3)\nb's size 6\nb's dtype int64\nb's itemsize 8\n",
          "name": "stdout"
        }
      ]
    },
    {
      "metadata": {
        "button": false,
        "new_sheet": false,
        "run_control": {
          "read_only": false
        },
        "_uuid": "eafdd6863a8e825a9aa950913384498fa54c80ca"
      },
      "cell_type": "markdown",
      "source": "We can also specify the type of the element when creating the array, for example:"
    },
    {
      "metadata": {
        "button": false,
        "new_sheet": false,
        "run_control": {
          "read_only": false
        },
        "trusted": true,
        "_uuid": "a1aef2d7545dc40ae13b82f7d23ebb21587111e1"
      },
      "cell_type": "code",
      "source": "c = np.array( [ [1,2], [3,4] ], dtype=complex )\nc",
      "execution_count": 34,
      "outputs": [
        {
          "output_type": "execute_result",
          "execution_count": 34,
          "data": {
            "text/plain": "array([[1.+0.j, 2.+0.j],\n       [3.+0.j, 4.+0.j]])"
          },
          "metadata": {}
        }
      ]
    },
    {
      "metadata": {
        "button": false,
        "new_sheet": false,
        "run_control": {
          "read_only": false
        },
        "_uuid": "13627c7fab3119daf7be184a0f42f8ed60a2f40f"
      },
      "cell_type": "markdown",
      "source": "## Create a specific array<a id=\"2\"></a>\n<mark>[Return Contents](#0)\n<hr>\n\nIn actual project engineering, we often need some specific data, and some helper functions are provided in NumPy:\n\n* **zeros:** used to create an array whose elements are all 0\n* **ones:** used to create an array whose elements are all 1\n* **empty:** used to create uninitialized data. so the content is undefined.\n* **arange:** used to create an array by specifying the scope and step-length\n* **linespace:** used to create an array by specifying the range and the number of elements\n* **random:** used to generate random numbers"
    },
    {
      "metadata": {
        "button": false,
        "new_sheet": false,
        "run_control": {
          "read_only": false
        },
        "trusted": true,
        "_uuid": "efc52c4adbc234364c5e4aae77a207387c5b941c"
      },
      "cell_type": "code",
      "source": "a = np.zeros((2,3))\nprint('np.zeros((2,3)= \\n{}\\n'.format(a))\n\nb = np.ones((2,3))\nprint('np.ones((2,3))= \\n{}\\n'.format(b))\n\nc = np.empty((2,3))\nprint('np.empty((2,3))= \\n{}\\n'.format(c))\n\nd = np.arange(1, 2, 0.3)\nprint('np.arange(1, 2, 0.3)= \\n{}\\n'.format(d))\n\ne = np.linspace(1, 2, 7)\nprint('np.linspace(1, 2, 7)= \\n{}\\n'.format(e))\n\nf = np.random.random((2,3))\nprint('np.random.random((2,3))= \\n{}\\n'.format(f))",
      "execution_count": 35,
      "outputs": [
        {
          "output_type": "stream",
          "text": "np.zeros((2,3)= \n[[0. 0. 0.]\n [0. 0. 0.]]\n\nnp.ones((2,3))= \n[[1. 1. 1.]\n [1. 1. 1.]]\n\nnp.empty((2,3))= \n[[1. 1. 1.]\n [1. 1. 1.]]\n\nnp.arange(1, 2, 0.3)= \n[1.  1.3 1.6 1.9]\n\nnp.linspace(1, 2, 7)= \n[1.         1.16666667 1.33333333 1.5        1.66666667 1.83333333\n 2.        ]\n\nnp.random.random((2,3))= \n[[0.96411463 0.0752186  0.92915788]\n [0.14280146 0.55705347 0.00335895]]\n\n",
          "name": "stdout"
        }
      ]
    },
    {
      "metadata": {
        "button": false,
        "new_sheet": false,
        "run_control": {
          "read_only": false
        },
        "_uuid": "fd4eef4ed6dcb4a0e3041b235d3d2461e66b817f"
      },
      "cell_type": "markdown",
      "source": "## Shape and operation<a id=\"3\"></a>\n<mark>[Return Contents](#0)\n<hr>\n\nIn addition to generating an array, after we have held some data, we may need to generate some new data structures based on the existing array. In this case, we can use the following functions:\n\n* **reshape:** used to generate a new array based on the existing array and the specified shape\n* **vstack:** used to stack multiple arrays in vertical direction (the dimensions of the array must be matched)\n* **hstack:** used to stack multiple arrays in horizontal direction (the dimensions of the array must be matched)\n* **hsplit:** used to split the array horizontally\n* **vsplit:** used to split the array vertically\n\nWe'll use some examples to illustrate.\n\nTo make it easier to test, let's create a few data:\n\n* **zero_line:** an array with a row containing three 0\n* **one_column:** an array with a column containing three 1\n* **a:** a matrix with 2 rows and 3 columns\n* **b:** an integer array in the interval of [11,20]"
    },
    {
      "metadata": {
        "button": false,
        "new_sheet": false,
        "run_control": {
          "read_only": false
        },
        "trusted": true,
        "_uuid": "183a876e8c1fb4a04fcdebb5fe5f80357f2c6455"
      },
      "cell_type": "code",
      "source": "zero_line = np.zeros((1,3))\none_column = np.ones((3,1))\nprint(\"zero_line = \\n{}\\n\".format(zero_line))\nprint(\"one_column = \\n{}\\n\".format(one_column))\n\na = np.array([(1,2,3), (4,5,6)])\nb = np.arange(11, 20)\nprint(\"a = \\n{}\\n\".format(a))\nprint(\"b = \\n{}\\n\".format(b))",
      "execution_count": 36,
      "outputs": [
        {
          "output_type": "stream",
          "text": "zero_line = \n[[0. 0. 0.]]\n\none_column = \n[[1.]\n [1.]\n [1.]]\n\na = \n[[1 2 3]\n [4 5 6]]\n\nb = \n[11 12 13 14 15 16 17 18 19]\n\n",
          "name": "stdout"
        }
      ]
    },
    {
      "metadata": {
        "button": false,
        "new_sheet": false,
        "run_control": {
          "read_only": false
        },
        "_uuid": "965b93ea00a0024b9e8820d5bf3d802e9e7e29f9"
      },
      "cell_type": "markdown",
      "source": "The array b is a one-dimensional array originally, and we resize it into a matrix of 3 rows and 3 columns by the reshape method:"
    },
    {
      "metadata": {
        "button": false,
        "new_sheet": false,
        "run_control": {
          "read_only": false
        },
        "trusted": true,
        "_uuid": "4d505f232ce6286451728e4f85b12d9bdde64654"
      },
      "cell_type": "code",
      "source": "b = b.reshape(3, -1)\nprint(\"b.reshape(3, -1) = \\n{}\\n\".format(b))",
      "execution_count": 37,
      "outputs": [
        {
          "output_type": "stream",
          "text": "b.reshape(3, -1) = \n[[11 12 13]\n [14 15 16]\n [17 18 19]]\n\n",
          "name": "stdout"
        }
      ]
    },
    {
      "metadata": {
        "button": false,
        "new_sheet": false,
        "run_control": {
          "read_only": false
        },
        "_uuid": "54983a9eb06f0696c16e154aa9dc82b10694c9af"
      },
      "cell_type": "markdown",
      "source": "The second parameter here is set to -1, which means that it'll be determined based on actual conditions automatically. Since the array has 9 elements originally, the matrix after being resized is 3X3. The code output is as follows:"
    },
    {
      "metadata": {
        "button": false,
        "new_sheet": false,
        "run_control": {
          "read_only": false
        },
        "trusted": true,
        "_uuid": "734fb79e97a046f2af59d1baf28cebcda11b7c98"
      },
      "cell_type": "code",
      "source": "b.reshape(3, -1)",
      "execution_count": 38,
      "outputs": [
        {
          "output_type": "execute_result",
          "execution_count": 38,
          "data": {
            "text/plain": "array([[11, 12, 13],\n       [14, 15, 16],\n       [17, 18, 19]])"
          },
          "metadata": {}
        }
      ]
    },
    {
      "metadata": {
        "button": false,
        "new_sheet": false,
        "run_control": {
          "read_only": false
        },
        "_uuid": "a78d85d3cc1a16f67c4d1df518064d9f6655a9d0"
      },
      "cell_type": "markdown",
      "source": "Next, we'll stack the three arrays vertically through the vstack function:"
    },
    {
      "metadata": {
        "button": false,
        "new_sheet": false,
        "run_control": {
          "read_only": false
        },
        "trusted": true,
        "_uuid": "0b792ff88126b66792f6d9cd7231935391a449ac"
      },
      "cell_type": "code",
      "source": "c = np.vstack((a, b, zero_line))\nprint(\"c = np.vstack((a,b, zero_line)) = \\n{}\\n\".format(c))",
      "execution_count": 39,
      "outputs": [
        {
          "output_type": "stream",
          "text": "c = np.vstack((a,b, zero_line)) = \n[[ 1.  2.  3.]\n [ 4.  5.  6.]\n [11. 12. 13.]\n [14. 15. 16.]\n [17. 18. 19.]\n [ 0.  0.  0.]]\n\n",
          "name": "stdout"
        }
      ]
    },
    {
      "metadata": {
        "button": false,
        "new_sheet": false,
        "run_control": {
          "read_only": false
        },
        "_uuid": "ebe627c6bcccc9bcc539ab5016ee41d918970782"
      },
      "cell_type": "markdown",
      "source": "Similarly, we can also use the hstack for horizontal stacking. This time we need to adjust the structure of the array a first:"
    },
    {
      "metadata": {
        "button": false,
        "new_sheet": false,
        "run_control": {
          "read_only": false
        },
        "trusted": true,
        "_uuid": "741a43b359a2c9d749f8de79cabbb5c9a8424e4e"
      },
      "cell_type": "code",
      "source": "a = a.reshape(3, 2)\nprint(\"a.reshape(3, 2) = \\n{}\\n\".format(a))\n\nd = np.hstack((a, b, one_column))\nprint(\"d = np.hstack((a,b, one_column)) = \\n{}\\n\".format(d))",
      "execution_count": 40,
      "outputs": [
        {
          "output_type": "stream",
          "text": "a.reshape(3, 2) = \n[[1 2]\n [3 4]\n [5 6]]\n\nd = np.hstack((a,b, one_column)) = \n[[ 1.  2. 11. 12. 13.  1.]\n [ 3.  4. 14. 15. 16.  1.]\n [ 5.  6. 17. 18. 19.  1.]]\n\n",
          "name": "stdout"
        }
      ]
    },
    {
      "metadata": {
        "button": false,
        "new_sheet": false,
        "run_control": {
          "read_only": false
        },
        "_uuid": "da72cee4b256e82e012acd360bde444f24753bb5"
      },
      "cell_type": "markdown",
      "source": "Next, let's take a look at the split. First, we split the array d into three arrays in horizontal direction. Then we print out the middle one (the subscript is 1):"
    },
    {
      "metadata": {
        "button": false,
        "new_sheet": false,
        "run_control": {
          "read_only": false
        },
        "trusted": true,
        "_uuid": "49410d8c4a2de4401e68ae9482a04dcedf0fb255"
      },
      "cell_type": "code",
      "source": "e = np.hsplit(d, 3) # Split a into 3\nprint(\"e = np.hsplit(d, 3) = \\n{}\\n\".format(e))\nprint(\"e[1] = \\n{}\\n\".format(e[1]))",
      "execution_count": 41,
      "outputs": [
        {
          "output_type": "stream",
          "text": "e = np.hsplit(d, 3) = \n[array([[1., 2.],\n       [3., 4.],\n       [5., 6.]]), array([[11., 12.],\n       [14., 15.],\n       [17., 18.]]), array([[13.,  1.],\n       [16.,  1.],\n       [19.,  1.]])]\n\ne[1] = \n[[11. 12.]\n [14. 15.]\n [17. 18.]]\n\n",
          "name": "stdout"
        }
      ]
    },
    {
      "metadata": {
        "button": false,
        "new_sheet": false,
        "run_control": {
          "read_only": false
        },
        "_uuid": "850665290468de42b4600b8ada00106bfbde0fd6"
      },
      "cell_type": "markdown",
      "source": "In addition to specifying number to split the array evenly, we can also specify the number of columns to split. The following is to split the array d from the first column and the third column:"
    },
    {
      "metadata": {
        "button": false,
        "new_sheet": false,
        "run_control": {
          "read_only": false
        },
        "trusted": true,
        "_uuid": "83c2e07835fad242fa05bfc21bb5c1933f98b630"
      },
      "cell_type": "code",
      "source": "f = np.hsplit(d, (1, 3)) # # Split a after the 1st and the 3rd column\nprint(\"f = np.hsplit(d, (1, 3)) = \\n{}\\n\".format(f))",
      "execution_count": 42,
      "outputs": [
        {
          "output_type": "stream",
          "text": "f = np.hsplit(d, (1, 3)) = \n[array([[1.],\n       [3.],\n       [5.]]), array([[ 2., 11.],\n       [ 4., 14.],\n       [ 6., 17.]]), array([[12., 13.,  1.],\n       [15., 16.,  1.],\n       [18., 19.,  1.]])]\n\n",
          "name": "stdout"
        }
      ]
    },
    {
      "metadata": {
        "button": false,
        "new_sheet": false,
        "run_control": {
          "read_only": false
        },
        "_uuid": "cd147a6ef41ef2e15d1001cc324d41193ec055ad"
      },
      "cell_type": "markdown",
      "source": "Finally, we split the array d in the vertical direction. Similarly, if the specified number cannot make the array be split evenly, it will fail:"
    },
    {
      "metadata": {
        "button": false,
        "new_sheet": false,
        "run_control": {
          "read_only": false
        },
        "trusted": true,
        "_uuid": "12eb3db4e0596f056b5ee4314d57ca5e67ad3106"
      },
      "cell_type": "code",
      "source": "g = np.vsplit(d, 3)\nprint(\"np.hsplit(d, 2) = \\n{}\\n\".format(g))\n\n# np.vsplit(d, 2) # ValueError: array split does not result in an equal division",
      "execution_count": 43,
      "outputs": [
        {
          "output_type": "stream",
          "text": "np.hsplit(d, 2) = \n[array([[ 1.,  2., 11., 12., 13.,  1.]]), array([[ 3.,  4., 14., 15., 16.,  1.]]), array([[ 5.,  6., 17., 18., 19.,  1.]])]\n\n",
          "name": "stdout"
        }
      ]
    },
    {
      "metadata": {
        "button": false,
        "new_sheet": false,
        "run_control": {
          "read_only": false
        },
        "_uuid": "1860b6716e3db57b6d302afdd6f68edb608c23f3"
      },
      "cell_type": "markdown",
      "source": "## Index<a id=\"4\"></a>\n<mark>[Return Contents](#0)\n<hr>\n\nNext we look at how to access the data in the NumPy array.\n\nAgain, for testing convenience, let's create a one-dimensional array first. Its content is integers in the interval of [100,200).\n\nBasically, we can specify the subscripts by array[index] to access the elements of the array."
    },
    {
      "metadata": {
        "button": false,
        "new_sheet": false,
        "run_control": {
          "read_only": false
        },
        "trusted": true,
        "_uuid": "50f45c6c7e780069549a2e186f5cb705d46d685a"
      },
      "cell_type": "code",
      "source": "base_data = np.arange(100, 200)\nprint(\"base_data\\n={}\\n\".format(base_data))\n\nprint(\"base_data[10] = {}\\n\".format(base_data[10]))",
      "execution_count": 44,
      "outputs": [
        {
          "output_type": "stream",
          "text": "base_data\n=[100 101 102 103 104 105 106 107 108 109 110 111 112 113 114 115 116 117\n 118 119 120 121 122 123 124 125 126 127 128 129 130 131 132 133 134 135\n 136 137 138 139 140 141 142 143 144 145 146 147 148 149 150 151 152 153\n 154 155 156 157 158 159 160 161 162 163 164 165 166 167 168 169 170 171\n 172 173 174 175 176 177 178 179 180 181 182 183 184 185 186 187 188 189\n 190 191 192 193 194 195 196 197 198 199]\n\nbase_data[10] = 110\n\n",
          "name": "stdout"
        }
      ]
    },
    {
      "metadata": {
        "button": false,
        "new_sheet": false,
        "run_control": {
          "read_only": false
        },
        "_uuid": "9f51fb2baca7b095cb14d63d096733c536076dc0"
      },
      "cell_type": "markdown",
      "source": "In NumPy, we can create an array containing several subscripts to get the elements in the target array. For example:"
    },
    {
      "metadata": {
        "button": false,
        "new_sheet": false,
        "run_control": {
          "read_only": false
        },
        "trusted": true,
        "_uuid": "99408ffa558ae8b9332aa9753c3dc8d1c119f681"
      },
      "cell_type": "code",
      "source": "every_five = np.arange(0, 100, 5)\nprint(\"base_data[every_five] = \\n{}\\n\".format(\n    base_data[every_five]))",
      "execution_count": 45,
      "outputs": [
        {
          "output_type": "stream",
          "text": "base_data[every_five] = \n[100 105 110 115 120 125 130 135 140 145 150 155 160 165 170 175 180 185\n 190 195]\n\n",
          "name": "stdout"
        }
      ]
    },
    {
      "metadata": {
        "button": false,
        "new_sheet": false,
        "run_control": {
          "read_only": false
        },
        "_uuid": "8735fdc0428754458b3a23cdf58d2818b59098a5"
      },
      "cell_type": "markdown",
      "source": "The subscript array can be one-dimensional, or multi-dimensional. Let's suppose that we want to get a 2X2 matrix whose content comes from the four subscripts of 1, 2, 10, and 20 in the target array, so the code can be written:"
    },
    {
      "metadata": {
        "button": false,
        "new_sheet": false,
        "run_control": {
          "read_only": false
        },
        "trusted": true,
        "_uuid": "d434066f61772de0c12e6fd8c3c7eb94852ccfb7"
      },
      "cell_type": "code",
      "source": "a = np.array([(1,2), (10,20)])\nprint(\"a = \\n{}\\n\".format(a))\nprint(\"base_data[a] = \\n{}\\n\".format(base_data[a]))",
      "execution_count": 46,
      "outputs": [
        {
          "output_type": "stream",
          "text": "a = \n[[ 1  2]\n [10 20]]\n\nbase_data[a] = \n[[101 102]\n [110 120]]\n\n",
          "name": "stdout"
        }
      ]
    },
    {
      "metadata": {
        "button": false,
        "new_sheet": false,
        "run_control": {
          "read_only": false
        },
        "_uuid": "7dd58d1c2c948be7a0e8c0bbd9e586011c44cbe3"
      },
      "cell_type": "markdown",
      "source": "The above we see is the case where the target array is one-dimensional. Let's convert the following array into a 10X10 two-dimensional array."
    },
    {
      "metadata": {
        "button": false,
        "new_sheet": false,
        "run_control": {
          "read_only": false
        },
        "trusted": true,
        "_uuid": "8a1576f10685c5e37d796f7350b4687123132491"
      },
      "cell_type": "code",
      "source": "base_data2 = base_data.reshape(10, -1)\nprint(\"base_data2 = np.reshape(base_data, (10, -1)) = \\n{}\\n\".format(base_data2))",
      "execution_count": 47,
      "outputs": [
        {
          "output_type": "stream",
          "text": "base_data2 = np.reshape(base_data, (10, -1)) = \n[[100 101 102 103 104 105 106 107 108 109]\n [110 111 112 113 114 115 116 117 118 119]\n [120 121 122 123 124 125 126 127 128 129]\n [130 131 132 133 134 135 136 137 138 139]\n [140 141 142 143 144 145 146 147 148 149]\n [150 151 152 153 154 155 156 157 158 159]\n [160 161 162 163 164 165 166 167 168 169]\n [170 171 172 173 174 175 176 177 178 179]\n [180 181 182 183 184 185 186 187 188 189]\n [190 191 192 193 194 195 196 197 198 199]]\n\n",
          "name": "stdout"
        }
      ]
    },
    {
      "metadata": {
        "button": false,
        "new_sheet": false,
        "run_control": {
          "read_only": false
        },
        "_uuid": "f3f6be4a7fd80a1fee342b3b8c22dbc07b6979f1"
      },
      "cell_type": "markdown",
      "source": "For a two-dimensional array,\n\n* if we only specify one subscript, the result of the access is still an array.\n* if we specify two subscripts,  the result of the access is the elements inside.\n* we can also specify the last element by \"-1\"."
    },
    {
      "metadata": {
        "button": false,
        "new_sheet": false,
        "run_control": {
          "read_only": false
        },
        "trusted": true,
        "_uuid": "c0808ae64994a8ddc782e048de38fc91ded514cd"
      },
      "cell_type": "code",
      "source": "print(\"base_data2[2] = \\n{}\\n\".format(base_data2[2]))\nprint(\"base_data2[2, 3] = \\n{}\\n\".format(base_data2[2, 3]))\nprint(\"base_data2[-1, -1] = \\n{}\\n\".format(base_data2[-1, -1]))",
      "execution_count": 48,
      "outputs": [
        {
          "output_type": "stream",
          "text": "base_data2[2] = \n[120 121 122 123 124 125 126 127 128 129]\n\nbase_data2[2, 3] = \n123\n\nbase_data2[-1, -1] = \n199\n\n",
          "name": "stdout"
        }
      ]
    },
    {
      "metadata": {
        "button": false,
        "new_sheet": false,
        "run_control": {
          "read_only": false
        },
        "_uuid": "697c271a0333c44ba183195e79569e473c1e5b4d"
      },
      "cell_type": "markdown",
      "source": "In addition, we can also specify the scope by \":\", such as: 2:5 . Only to write \":\" indicates the full scope.\n\nPlease see the code below:\n\nIt will:\n\n* get all the elements of the row whose subscript is 2\n* get all the elements of the column whose subscript is 3\n* get all the elements of the rows whose subscripts are in [2,5) and the columns * whose subscripts are in [2,4). Please observe the following output carefully:"
    },
    {
      "metadata": {
        "button": false,
        "new_sheet": false,
        "run_control": {
          "read_only": false
        },
        "trusted": true,
        "_uuid": "d815b60dafc48b9bc6752bab52e380fc255b7912"
      },
      "cell_type": "code",
      "source": "print(\"base_data2[2, :]] = \\n{}\\n\".format(base_data2[2, :]))\nprint(\"base_data2[:, 3]] = \\n{}\\n\".format(base_data2[:, 3]))\nprint(\"base_data2[2:5, 2:4]] = \\n{}\\n\".format(base_data2[2:5, 2:4]))",
      "execution_count": 49,
      "outputs": [
        {
          "output_type": "stream",
          "text": "base_data2[2, :]] = \n[120 121 122 123 124 125 126 127 128 129]\n\nbase_data2[:, 3]] = \n[103 113 123 133 143 153 163 173 183 193]\n\nbase_data2[2:5, 2:4]] = \n[[122 123]\n [132 133]\n [142 143]]\n\n",
          "name": "stdout"
        }
      ]
    },
    {
      "metadata": {
        "button": false,
        "new_sheet": false,
        "run_control": {
          "read_only": false
        },
        "_uuid": "6392e02699f97abb3b2a92d8f43461121b1ac3e1"
      },
      "cell_type": "markdown",
      "source": "## Mathematics<a id=\"5\"></a>\n<mark>[Return Contents](#0)\n<hr>"
    },
    {
      "metadata": {
        "button": false,
        "new_sheet": false,
        "run_control": {
          "read_only": false
        },
        "_uuid": "b2916d268046ecc168235673b101b48935086d0b"
      },
      "cell_type": "markdown",
      "source": "There are also a lot of mathematical functions in NumPy. Here are some examples."
    },
    {
      "metadata": {
        "button": false,
        "new_sheet": false,
        "run_control": {
          "read_only": false
        },
        "trusted": true,
        "_uuid": "7bbef723ae17c3b93003964cd0f81346dbc67670"
      },
      "cell_type": "code",
      "source": "base_data = (np.random.random((5, 5)) - 0.5) * 100\nprint(\"base_data = \\n{}\\n\".format(base_data))\n\nprint(\"np.amin(base_data) = {}\".format(np.amin(base_data)))\nprint(\"np.amax(base_data) = {}\".format(np.amax(base_data)))\nprint(\"np.average(base_data) = {}\".format(np.average(base_data)))\nprint(\"np.sum(base_data) = {}\".format(np.sum(base_data)))\nprint(\"np.sin(base_data) = \\n{}\".format(np.sin(base_data)))",
      "execution_count": 50,
      "outputs": [
        {
          "output_type": "stream",
          "text": "base_data = \n[[-49.05406994  -1.50172638  17.53294179  20.03836674  -1.00136442]\n [ -7.49696532 -19.50856462 -23.58815728 -42.84668767  -1.64345173]\n [ 27.50831339   0.63948369 -31.27681587  35.06473541  45.8285822 ]\n [ 42.2852978    1.46501594 -45.61305372   0.76224527  49.87279822]\n [  1.25360911 -31.554143    24.59379099  12.7130413  -15.54666168]]\n\nnp.amin(base_data) = -49.054069942705766\nnp.amax(base_data) = 49.87279821683303\nnp.average(base_data) = 0.3570624085758884\nnp.sum(base_data) = 8.92656021439721\nnp.sin(base_data) = \n[[ 0.93611371 -0.99761562 -0.96786926  0.92792634 -0.8422074 ]\n [-0.93694373 -0.61233343  0.99965648  0.90679129 -0.99736176]\n [ 0.6932728   0.59678123  0.13866243 -0.48574583  0.96229237]\n [-0.99204696  0.99441047 -0.99820292  0.69054716 -0.38266972]\n [ 0.95011647 -0.13777681 -0.51323532  0.14614538 -0.16060303]]\n",
          "name": "stdout"
        }
      ]
    },
    {
      "metadata": {
        "trusted": true,
        "_uuid": "f0509daea35041de88510b1f1caa0ea709437ecd"
      },
      "cell_type": "code",
      "source": "arr = np.arange(1,20)\narr = arr * arr              #Multiplies each element by itself \nprint(\"Multpiles: \",arr)\narr = arr - arr              #Subtracts each element from itself\nprint(\"Substracts: \",arr)\narr = np.arange(1,20)\narr = arr + arr              #Adds each element to itself\nprint(\"Add: \",arr)\narr = arr / arr              #Divides each element by itself\nprint(\"Divide: \",arr)\narr = np.arange(1,20)\narr = arr + 50\nprint(\"Add +50: \",arr)",
      "execution_count": 51,
      "outputs": [
        {
          "output_type": "stream",
          "text": "Multpiles:  [  1   4   9  16  25  36  49  64  81 100 121 144 169 196 225 256 289 324\n 361]\nSubstracts:  [0 0 0 0 0 0 0 0 0 0 0 0 0 0 0 0 0 0 0]\nAdd:  [ 2  4  6  8 10 12 14 16 18 20 22 24 26 28 30 32 34 36 38]\nDivide:  [1. 1. 1. 1. 1. 1. 1. 1. 1. 1. 1. 1. 1. 1. 1. 1. 1. 1. 1.]\nAdd +50:  [51 52 53 54 55 56 57 58 59 60 61 62 63 64 65 66 67 68 69]\n",
          "name": "stdout"
        }
      ]
    },
    {
      "metadata": {
        "trusted": true,
        "_uuid": "f1102309d7542af1da3aa05bd4b90f03385347a7"
      },
      "cell_type": "code",
      "source": "print(\"Sqrt: \",np.sqrt(arr))#Returns the square root of each element \nprint(\"Exp: \",np.exp(arr))     #Returns the exponentials of each element\nprint(\"Sin: \",np.sin(arr))     #Returns the sin of each element\nprint(\"Cos: \",np.cos(arr))     #Returns the cosine of each element\nprint(\"Log: \",np.log(arr))     #Returns the logarithm of each element\nprint(\"Sum: \",np.sum(arr))     #Returns the sum total of elements in the array\nprint(\"Std: \",np.std(arr))     #Returns the standard deviation of in the array",
      "execution_count": 52,
      "outputs": [
        {
          "output_type": "stream",
          "text": "Sqrt:  [7.14142843 7.21110255 7.28010989 7.34846923 7.41619849 7.48331477\n 7.54983444 7.61577311 7.68114575 7.74596669 7.81024968 7.87400787\n 7.93725393 8.         8.06225775 8.1240384  8.18535277 8.24621125\n 8.30662386]\nExp:  [1.40934908e+22 3.83100800e+22 1.04137594e+23 2.83075330e+23\n 7.69478527e+23 2.09165950e+24 5.68572000e+24 1.54553894e+25\n 4.20121040e+25 1.14200739e+26 3.10429794e+26 8.43835667e+26\n 2.29378316e+27 6.23514908e+27 1.69488924e+28 4.60718663e+28\n 1.25236317e+29 3.40427605e+29 9.25378173e+29]\nSin:  [ 0.67022918  0.98662759  0.39592515 -0.55878905 -0.99975517 -0.521551\n  0.43616476  0.99287265  0.63673801 -0.30481062 -0.96611777 -0.7391807\n  0.1673557   0.92002604  0.82682868 -0.02655115 -0.85551998 -0.89792768\n -0.11478481]\nCos:  [ 0.7421542  -0.16299078 -0.91828279 -0.82930983  0.02212676  0.85322011\n  0.89986683  0.11918014 -0.77108022 -0.95241298 -0.25810164  0.67350716\n  0.98589658  0.39185723 -0.56245385 -0.99964746 -0.5177698   0.44014302\n  0.99339038]\nLog:  [3.93182563 3.95124372 3.97029191 3.98898405 4.00733319 4.02535169\n 4.04305127 4.06044301 4.07753744 4.09434456 4.11087386 4.12713439\n 4.14313473 4.15888308 4.17438727 4.18965474 4.20469262 4.21950771\n 4.2341065 ]\nSum:  1140\nStd:  5.477225575051661\n",
          "name": "stdout"
        }
      ]
    },
    {
      "metadata": {
        "button": false,
        "new_sheet": false,
        "run_control": {
          "read_only": false
        },
        "_uuid": "3fb98eb74a3551366c1a53f772398c12ebd7495c"
      },
      "cell_type": "markdown",
      "source": "## Matrix<a id=\"6\"></a>\n<mark>[Return Contents](#0)\n<hr>\n\nNow, let's take a look at how to use NumPy in a matrix way.\n\nFirst, let's create a 5X5 random integer matrix. There are two ways to get the transpose of a matrix: **.T** or **transpose** function. In addition, the matrix can be multiplied through the **dot** function. The sample code is as follows:"
    },
    {
      "metadata": {
        "button": false,
        "new_sheet": false,
        "run_control": {
          "read_only": false
        },
        "trusted": true,
        "_uuid": "90e3bbc6a73de40f270d3e5ef24826b25b5c2d04"
      },
      "cell_type": "code",
      "source": "base_data = np.floor((np.random.random((5, 5)) - 0.5) * 100)\nprint(\"base_data = \\n{}\\n\".format(base_data))\n\nprint(\"base_data.T = \\n{}\\n\".format(base_data.T))\nprint(\"base_data.transpose() = \\n{}\\n\".format(base_data.transpose()))\n\nmatrix_one = np.ones((5, 5))\nprint(\"matrix_one = \\n{}\\n\".format(matrix_one))\n\nminus_one = np.dot(matrix_one, -1)\nprint(\"minus_one = \\n{}\\n\".format(minus_one))\n\nprint(\"np.dot(base_data, minus_one) = \\n{}\\n\".format(\n    np.dot(base_data, minus_one)))",
      "execution_count": 53,
      "outputs": [
        {
          "output_type": "stream",
          "text": "base_data = \n[[ 13.  25. -10. -26. -24.]\n [ 21.  16.  32.  28. -19.]\n [ 33. -42. -18. -46.  21.]\n [-48. -47. -29. -16. -19.]\n [-33.  32.  21.  40.  42.]]\n\nbase_data.T = \n[[ 13.  21.  33. -48. -33.]\n [ 25.  16. -42. -47.  32.]\n [-10.  32. -18. -29.  21.]\n [-26.  28. -46. -16.  40.]\n [-24. -19.  21. -19.  42.]]\n\nbase_data.transpose() = \n[[ 13.  21.  33. -48. -33.]\n [ 25.  16. -42. -47.  32.]\n [-10.  32. -18. -29.  21.]\n [-26.  28. -46. -16.  40.]\n [-24. -19.  21. -19.  42.]]\n\nmatrix_one = \n[[1. 1. 1. 1. 1.]\n [1. 1. 1. 1. 1.]\n [1. 1. 1. 1. 1.]\n [1. 1. 1. 1. 1.]\n [1. 1. 1. 1. 1.]]\n\nminus_one = \n[[-1. -1. -1. -1. -1.]\n [-1. -1. -1. -1. -1.]\n [-1. -1. -1. -1. -1.]\n [-1. -1. -1. -1. -1.]\n [-1. -1. -1. -1. -1.]]\n\nnp.dot(base_data, minus_one) = \n[[  22.   22.   22.   22.   22.]\n [ -78.  -78.  -78.  -78.  -78.]\n [  52.   52.   52.   52.   52.]\n [ 159.  159.  159.  159.  159.]\n [-102. -102. -102. -102. -102.]]\n\n",
          "name": "stdout"
        }
      ]
    },
    {
      "metadata": {
        "button": false,
        "new_sheet": false,
        "run_control": {
          "read_only": false
        },
        "_uuid": "0395dea256448fda62ac24ec0f2ac755afff1689"
      },
      "cell_type": "markdown",
      "source": "## Random Number<a id=\"7\"></a>\n<mark>[Return Contents](#0)\n<hr>\n\nAt the end of the article, let's take a look at the use of random numbers.\n\nRandom numbers are a feature we use very often during the programming process, such as generating demo data, or disordering existing data sequence randomly to segment the modeling data and the verification data.\n\nThe numpy.random package contains a number of algorithms for random numbers. Here we list the four most common usage:\n\nThe four usages are:\n\n* to generate 20 random numbers, each of which is between **[0.0, 1.0)**\n* to generate a random number based on the specified **shape**\n* to generate a specified number (such as 20) of random integers within the specified range (such as **[0, 100)**)\n* to disorder the sequence of the existing data (**[0, 1, 2, ..., 19]**) randomly\nThe output is as follows:"
    },
    {
      "metadata": {
        "button": false,
        "new_sheet": false,
        "run_control": {
          "read_only": false
        },
        "trusted": true,
        "_uuid": "ac8fcb29ab38c97ab39e8c30d0aa32221d78950e"
      },
      "cell_type": "code",
      "source": "print(\"random: {}\\n\".format(np.random.random(20)));\n\nprint(\"rand: {}\\n\".format(np.random.rand(3, 4)));\n\nprint(\"randint: {}\\n\".format(np.random.randint(0, 100, 20)));\n\nprint(\"permutation: {}\\n\".format(np.random.permutation(np.arange(20))));",
      "execution_count": 54,
      "outputs": [
        {
          "output_type": "stream",
          "text": "random: [0.6718844  0.90195623 0.28477338 0.66828611 0.6543834  0.71623091\n 0.46016821 0.44668846 0.42309103 0.80525663 0.53302915 0.63938111\n 0.95785799 0.44696364 0.08134581 0.68091567 0.09917433 0.12641104\n 0.15784324 0.24290081]\n\nrand: [[0.54937998 0.17488108 0.64027829 0.73804452]\n [0.15053277 0.64006141 0.09742052 0.93656628]\n [0.71564962 0.61487693 0.34088819 0.98724398]]\n\nrandint: [ 5 57 31 98 25 55 13 44 13 26 72 47 51 96 18 84 39 17 23 97]\n\npermutation: [ 7 18 11  5 12  9 17  4 13  8  0 14 10 19  2  6 16  1  3 15]\n\n",
          "name": "stdout"
        }
      ]
    },
    {
      "metadata": {
        "_uuid": "b504f4657764a57d6dfaff6be2b97f2e902d55ab"
      },
      "cell_type": "markdown",
      "source": "## Conclusion <a id=\"8\"></a>\n<mark>[Return Contents](#0)\n<hr>\n* If you like it, thank you for you upvotes.\n* If you have any question, I will happy to hear it"
    },
    {
      "metadata": {
        "button": false,
        "new_sheet": false,
        "run_control": {
          "read_only": false
        },
        "_uuid": "ce1a98641bb759f570a741c1bce0fca106eaf508"
      },
      "cell_type": "markdown",
      "source": "## Reference<a id=\"9\"></a>\n<mark>[Return Contents](#0)\n<hr>\n\n* https://www.tutorialdocs.com/article/python-numpy-tutorial.html\n* https://towardsdatascience.com/lets-talk-about-numpy-for-datascience-beginners-b8088722309f\n* http://www.numpy.org"
    }
  ],
  "metadata": {
    "kernelspec": {
      "display_name": "Python 3",
      "language": "python",
      "name": "python3"
    },
    "language_info": {
      "name": "python",
      "version": "3.6.6",
      "mimetype": "text/x-python",
      "codemirror_mode": {
        "name": "ipython",
        "version": 3
      },
      "pygments_lexer": "ipython3",
      "nbconvert_exporter": "python",
      "file_extension": ".py"
    }
  },
  "nbformat": 4,
  "nbformat_minor": 1
}