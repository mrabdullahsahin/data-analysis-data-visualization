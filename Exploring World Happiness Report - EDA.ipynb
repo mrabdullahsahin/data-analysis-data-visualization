{
  "cells": [
    {
      "metadata": {
        "_uuid": "1adcd651e4f19b43d28fb990210a7132a6ab2411"
      },
      "cell_type": "markdown",
      "source": "## Introduction\n\nIn this exploratory data analysis I will try to find out a few interesting insights.\n\n* If you like it, thank you for you upvotes.\n* If you have any question, I will happy to hear it"
    },
    {
      "metadata": {
        "_uuid": "4d423f8382b5bce8c9439029797fae48b524db33"
      },
      "cell_type": "markdown",
      "source": "## Loading Libraries"
    },
    {
      "metadata": {
        "_uuid": "8f2839f25d086af736a60e9eeb907d3b93b6e0e5",
        "_cell_guid": "b1076dfc-b9ad-4769-8c92-a6c4dae69d19",
        "trusted": true,
        "_kg_hide-input": true,
        "_kg_hide-output": false
      },
      "cell_type": "code",
      "source": "import numpy as np # linear algebra\nimport pandas as pd # data processing, CSV file I/O (e.g. pd.read_csv)\nimport seaborn as sns\nfrom pandas.tools.plotting import parallel_coordinates\n\n# plotly\nimport plotly.plotly as py\nfrom plotly.offline import init_notebook_mode, iplot\ninit_notebook_mode(connected=True)\nimport plotly.graph_objs as go\nfrom plotly import tools\n\n# matplotlib\n\nimport matplotlib.pyplot as plt\n\nimport warnings\nwarnings.filterwarnings('ignore')\n\nimport os\nprint(os.listdir(\"../input\"))",
      "execution_count": 1,
      "outputs": [
        {
          "output_type": "display_data",
          "data": {
            "text/html": "<script type=\"text/javascript\">window.PlotlyConfig = {MathJaxConfig: 'local'};</script><script type=\"text/javascript\">if (window.MathJax) {MathJax.Hub.Config({SVG: {font: \"STIX-Web\"}});}</script><script>requirejs.config({paths: { 'plotly': ['https://cdn.plot.ly/plotly-latest.min']},});if(!window._Plotly) {require(['plotly'],function(plotly) {window._Plotly=plotly;});}</script>",
            "text/vnd.plotly.v1+html": "<script type=\"text/javascript\">window.PlotlyConfig = {MathJaxConfig: 'local'};</script><script type=\"text/javascript\">if (window.MathJax) {MathJax.Hub.Config({SVG: {font: \"STIX-Web\"}});}</script><script>requirejs.config({paths: { 'plotly': ['https://cdn.plot.ly/plotly-latest.min']},});if(!window._Plotly) {require(['plotly'],function(plotly) {window._Plotly=plotly;});}</script>"
          },
          "metadata": {}
        },
        {
          "output_type": "stream",
          "text": "['2017.csv', '2016.csv', '2015.csv']\n",
          "name": "stdout"
        }
      ]
    },
    {
      "metadata": {
        "_cell_guid": "79c7e3d0-c299-4dcb-8224-4455121ee9b0",
        "collapsed": true,
        "_uuid": "d629ff2d2480ee46fbb7e2d37f6b5fab8052498a",
        "trusted": false
      },
      "cell_type": "markdown",
      "source": "## Reading and Preparing Data"
    },
    {
      "metadata": {
        "trusted": true,
        "_uuid": "2561fe28cd23a5f6e763dd498543ff52fb33a023",
        "_kg_hide-input": true
      },
      "cell_type": "code",
      "source": "data2015 = pd.read_csv('../input/2015.csv')\ndata2016 = pd.read_csv('../input/2016.csv')\ndata2017 = pd.read_csv('../input/2017.csv')",
      "execution_count": 2,
      "outputs": []
    },
    {
      "metadata": {
        "trusted": true,
        "_uuid": "77d02c197a877ef27c2df7659ab6a2aa15401efb"
      },
      "cell_type": "code",
      "source": "# I changed of the columns the names\ndata2015.columns = ['country','region','happiness_rank','happiness_score','standard_error','economy','family','health','freedom','trust','generosity','dystopia']\ndata2016.columns = ['country','region','happiness_rank','hapiness_score','lower_confidence','upper_confidence','economy','family','health','freedom','trust','generosity','dystopia']\ndata2017.columns = ['country','happiness_rank','happiness_score','whisker_high','whisker_low','economy','family','health','freedom','generosity','trust','dystopia']",
      "execution_count": 3,
      "outputs": []
    },
    {
      "metadata": {
        "_uuid": "536f3cba871a75f5b8a5d76242d86572f845aacd"
      },
      "cell_type": "markdown",
      "source": "## 2015 Happiness Report Analyse"
    },
    {
      "metadata": {
        "trusted": true,
        "_uuid": "27e0db4f99645582d4c060e4d58918294fe05e4c",
        "_kg_hide-input": true
      },
      "cell_type": "code",
      "source": "trace = go.Table(\n    header=dict(values=list(data2015.columns),\n                fill = dict(color='#C2D4FF'),\n                align = ['left'] * 5),\n    cells=dict(values=[data2015.country, data2015.region, data2015.happiness_rank, data2015.happiness_score, data2015.standard_error,data2015.economy,data2015.family, data2015.health,data2015.freedom,data2015.trust,data2015.generosity,data2015.dystopia],\n               fill = dict(color='#F5F8FF'),\n               align = ['left'] * 5))\n\ndata = [trace]\nfig = dict(data = data)\niplot(fig)",
      "execution_count": 4,
      "outputs": [
        {
          "output_type": "display_data",
          "data": {
            "application/vnd.plotly.v1+json": {
              "data": [
                {
                  "cells": {
                    "align": [
                      "left",
                      "left",
                      "left",
                      "left",
                      "left"
                    ],
                    "fill": {
                      "color": "#F5F8FF"
                    },
                    "values": [
                      [
                        "Switzerland",
                        "Iceland",
                        "Denmark",
                        "Norway",
                        "Canada",
                        "Finland",
                        "Netherlands",
                        "Sweden",
                        "New Zealand",
                        "Australia",
                        "Israel",
                        "Costa Rica",
                        "Austria",
                        "Mexico",
                        "United States",
                        "Brazil",
                        "Luxembourg",
                        "Ireland",
                        "Belgium",
                        "United Arab Emirates",
                        "United Kingdom",
                        "Oman",
                        "Venezuela",
                        "Singapore",
                        "Panama",
                        "Germany",
                        "Chile",
                        "Qatar",
                        "France",
                        "Argentina",
                        "Czech Republic",
                        "Uruguay",
                        "Colombia",
                        "Thailand",
                        "Saudi Arabia",
                        "Spain",
                        "Malta",
                        "Taiwan",
                        "Kuwait",
                        "Suriname",
                        "Trinidad and Tobago",
                        "El Salvador",
                        "Guatemala",
                        "Uzbekistan",
                        "Slovakia",
                        "Japan",
                        "South Korea",
                        "Ecuador",
                        "Bahrain",
                        "Italy",
                        "Bolivia",
                        "Moldova",
                        "Paraguay",
                        "Kazakhstan",
                        "Slovenia",
                        "Lithuania",
                        "Nicaragua",
                        "Peru",
                        "Belarus",
                        "Poland",
                        "Malaysia",
                        "Croatia",
                        "Libya",
                        "Russia",
                        "Jamaica",
                        "North Cyprus",
                        "Cyprus",
                        "Algeria",
                        "Kosovo",
                        "Turkmenistan",
                        "Mauritius",
                        "Hong Kong",
                        "Estonia",
                        "Indonesia",
                        "Vietnam",
                        "Turkey",
                        "Kyrgyzstan",
                        "Nigeria",
                        "Bhutan",
                        "Azerbaijan",
                        "Pakistan",
                        "Jordan",
                        "Montenegro",
                        "China",
                        "Zambia",
                        "Romania",
                        "Serbia",
                        "Portugal",
                        "Latvia",
                        "Philippines",
                        "Somaliland region",
                        "Morocco",
                        "Macedonia",
                        "Mozambique",
                        "Albania",
                        "Bosnia and Herzegovina",
                        "Lesotho",
                        "Dominican Republic",
                        "Laos",
                        "Mongolia",
                        "Swaziland",
                        "Greece",
                        "Lebanon",
                        "Hungary",
                        "Honduras",
                        "Tajikistan",
                        "Tunisia",
                        "Palestinian Territories",
                        "Bangladesh",
                        "Iran",
                        "Ukraine",
                        "Iraq",
                        "South Africa",
                        "Ghana",
                        "Zimbabwe",
                        "Liberia",
                        "India",
                        "Sudan",
                        "Haiti",
                        "Congo (Kinshasa)",
                        "Nepal",
                        "Ethiopia",
                        "Sierra Leone",
                        "Mauritania",
                        "Kenya",
                        "Djibouti",
                        "Armenia",
                        "Botswana",
                        "Myanmar",
                        "Georgia",
                        "Malawi",
                        "Sri Lanka",
                        "Cameroon",
                        "Bulgaria",
                        "Egypt",
                        "Yemen",
                        "Angola",
                        "Mali",
                        "Congo (Brazzaville)",
                        "Comoros",
                        "Uganda",
                        "Senegal",
                        "Gabon",
                        "Niger",
                        "Cambodia",
                        "Tanzania",
                        "Madagascar",
                        "Central African Republic",
                        "Chad",
                        "Guinea",
                        "Ivory Coast",
                        "Burkina Faso",
                        "Afghanistan",
                        "Rwanda",
                        "Benin",
                        "Syria",
                        "Burundi",
                        "Togo"
                      ],
                      [
                        "Western Europe",
                        "Western Europe",
                        "Western Europe",
                        "Western Europe",
                        "North America",
                        "Western Europe",
                        "Western Europe",
                        "Western Europe",
                        "Australia and New Zealand",
                        "Australia and New Zealand",
                        "Middle East and Northern Africa",
                        "Latin America and Caribbean",
                        "Western Europe",
                        "Latin America and Caribbean",
                        "North America",
                        "Latin America and Caribbean",
                        "Western Europe",
                        "Western Europe",
                        "Western Europe",
                        "Middle East and Northern Africa",
                        "Western Europe",
                        "Middle East and Northern Africa",
                        "Latin America and Caribbean",
                        "Southeastern Asia",
                        "Latin America and Caribbean",
                        "Western Europe",
                        "Latin America and Caribbean",
                        "Middle East and Northern Africa",
                        "Western Europe",
                        "Latin America and Caribbean",
                        "Central and Eastern Europe",
                        "Latin America and Caribbean",
                        "Latin America and Caribbean",
                        "Southeastern Asia",
                        "Middle East and Northern Africa",
                        "Western Europe",
                        "Western Europe",
                        "Eastern Asia",
                        "Middle East and Northern Africa",
                        "Latin America and Caribbean",
                        "Latin America and Caribbean",
                        "Latin America and Caribbean",
                        "Latin America and Caribbean",
                        "Central and Eastern Europe",
                        "Central and Eastern Europe",
                        "Eastern Asia",
                        "Eastern Asia",
                        "Latin America and Caribbean",
                        "Middle East and Northern Africa",
                        "Western Europe",
                        "Latin America and Caribbean",
                        "Central and Eastern Europe",
                        "Latin America and Caribbean",
                        "Central and Eastern Europe",
                        "Central and Eastern Europe",
                        "Central and Eastern Europe",
                        "Latin America and Caribbean",
                        "Latin America and Caribbean",
                        "Central and Eastern Europe",
                        "Central and Eastern Europe",
                        "Southeastern Asia",
                        "Central and Eastern Europe",
                        "Middle East and Northern Africa",
                        "Central and Eastern Europe",
                        "Latin America and Caribbean",
                        "Western Europe",
                        "Western Europe",
                        "Middle East and Northern Africa",
                        "Central and Eastern Europe",
                        "Central and Eastern Europe",
                        "Sub-Saharan Africa",
                        "Eastern Asia",
                        "Central and Eastern Europe",
                        "Southeastern Asia",
                        "Southeastern Asia",
                        "Middle East and Northern Africa",
                        "Central and Eastern Europe",
                        "Sub-Saharan Africa",
                        "Southern Asia",
                        "Central and Eastern Europe",
                        "Southern Asia",
                        "Middle East and Northern Africa",
                        "Central and Eastern Europe",
                        "Eastern Asia",
                        "Sub-Saharan Africa",
                        "Central and Eastern Europe",
                        "Central and Eastern Europe",
                        "Western Europe",
                        "Central and Eastern Europe",
                        "Southeastern Asia",
                        "Sub-Saharan Africa",
                        "Middle East and Northern Africa",
                        "Central and Eastern Europe",
                        "Sub-Saharan Africa",
                        "Central and Eastern Europe",
                        "Central and Eastern Europe",
                        "Sub-Saharan Africa",
                        "Latin America and Caribbean",
                        "Southeastern Asia",
                        "Eastern Asia",
                        "Sub-Saharan Africa",
                        "Western Europe",
                        "Middle East and Northern Africa",
                        "Central and Eastern Europe",
                        "Latin America and Caribbean",
                        "Central and Eastern Europe",
                        "Middle East and Northern Africa",
                        "Middle East and Northern Africa",
                        "Southern Asia",
                        "Middle East and Northern Africa",
                        "Central and Eastern Europe",
                        "Middle East and Northern Africa",
                        "Sub-Saharan Africa",
                        "Sub-Saharan Africa",
                        "Sub-Saharan Africa",
                        "Sub-Saharan Africa",
                        "Southern Asia",
                        "Sub-Saharan Africa",
                        "Latin America and Caribbean",
                        "Sub-Saharan Africa",
                        "Southern Asia",
                        "Sub-Saharan Africa",
                        "Sub-Saharan Africa",
                        "Sub-Saharan Africa",
                        "Sub-Saharan Africa",
                        "Sub-Saharan Africa",
                        "Central and Eastern Europe",
                        "Sub-Saharan Africa",
                        "Southeastern Asia",
                        "Central and Eastern Europe",
                        "Sub-Saharan Africa",
                        "Southern Asia",
                        "Sub-Saharan Africa",
                        "Central and Eastern Europe",
                        "Middle East and Northern Africa",
                        "Middle East and Northern Africa",
                        "Sub-Saharan Africa",
                        "Sub-Saharan Africa",
                        "Sub-Saharan Africa",
                        "Sub-Saharan Africa",
                        "Sub-Saharan Africa",
                        "Sub-Saharan Africa",
                        "Sub-Saharan Africa",
                        "Sub-Saharan Africa",
                        "Southeastern Asia",
                        "Sub-Saharan Africa",
                        "Sub-Saharan Africa",
                        "Sub-Saharan Africa",
                        "Sub-Saharan Africa",
                        "Sub-Saharan Africa",
                        "Sub-Saharan Africa",
                        "Sub-Saharan Africa",
                        "Southern Asia",
                        "Sub-Saharan Africa",
                        "Sub-Saharan Africa",
                        "Middle East and Northern Africa",
                        "Sub-Saharan Africa",
                        "Sub-Saharan Africa"
                      ],
                      [
                        1,
                        2,
                        3,
                        4,
                        5,
                        6,
                        7,
                        8,
                        9,
                        10,
                        11,
                        12,
                        13,
                        14,
                        15,
                        16,
                        17,
                        18,
                        19,
                        20,
                        21,
                        22,
                        23,
                        24,
                        25,
                        26,
                        27,
                        28,
                        29,
                        30,
                        31,
                        32,
                        33,
                        34,
                        35,
                        36,
                        37,
                        38,
                        39,
                        40,
                        41,
                        42,
                        43,
                        44,
                        45,
                        46,
                        47,
                        48,
                        49,
                        50,
                        51,
                        52,
                        53,
                        54,
                        55,
                        56,
                        57,
                        58,
                        59,
                        60,
                        61,
                        62,
                        63,
                        64,
                        65,
                        66,
                        67,
                        68,
                        69,
                        70,
                        71,
                        72,
                        73,
                        74,
                        75,
                        76,
                        77,
                        78,
                        79,
                        80,
                        81,
                        82,
                        82,
                        84,
                        85,
                        86,
                        87,
                        88,
                        89,
                        90,
                        91,
                        92,
                        93,
                        94,
                        95,
                        96,
                        97,
                        98,
                        99,
                        100,
                        101,
                        102,
                        103,
                        104,
                        105,
                        106,
                        107,
                        108,
                        109,
                        110,
                        111,
                        112,
                        113,
                        114,
                        115,
                        116,
                        117,
                        118,
                        119,
                        120,
                        121,
                        122,
                        123,
                        124,
                        125,
                        126,
                        127,
                        128,
                        129,
                        130,
                        131,
                        132,
                        133,
                        134,
                        135,
                        136,
                        137,
                        138,
                        139,
                        140,
                        141,
                        142,
                        143,
                        144,
                        145,
                        146,
                        147,
                        148,
                        149,
                        150,
                        151,
                        152,
                        153,
                        154,
                        155,
                        156,
                        157,
                        158
                      ],
                      [
                        7.587000000000001,
                        7.561,
                        7.527,
                        7.522,
                        7.4270000000000005,
                        7.406000000000001,
                        7.377999999999999,
                        7.364,
                        7.2860000000000005,
                        7.284,
                        7.278,
                        7.226,
                        7.2,
                        7.187,
                        7.119,
                        6.983,
                        6.946000000000001,
                        6.94,
                        6.937,
                        6.901,
                        6.867000000000001,
                        6.853,
                        6.81,
                        6.797999999999999,
                        6.7860000000000005,
                        6.75,
                        6.67,
                        6.611000000000001,
                        6.575,
                        6.574,
                        6.505,
                        6.485,
                        6.477,
                        6.455,
                        6.4110000000000005,
                        6.329,
                        6.3020000000000005,
                        6.297999999999999,
                        6.295,
                        6.269,
                        6.167999999999999,
                        6.13,
                        6.122999999999999,
                        6.002999999999999,
                        5.995,
                        5.987,
                        5.984,
                        5.975,
                        5.96,
                        5.9479999999999995,
                        5.89,
                        5.888999999999999,
                        5.877999999999999,
                        5.855,
                        5.848,
                        5.832999999999999,
                        5.827999999999999,
                        5.824,
                        5.813,
                        5.791,
                        5.77,
                        5.7589999999999995,
                        5.754,
                        5.716,
                        5.709,
                        5.695,
                        5.689,
                        5.605,
                        5.5889999999999995,
                        5.547999999999999,
                        5.477,
                        5.474,
                        5.428999999999999,
                        5.399,
                        5.36,
                        5.332000000000001,
                        5.2860000000000005,
                        5.268,
                        5.252999999999999,
                        5.212000000000001,
                        5.194,
                        5.192,
                        5.192,
                        5.14,
                        5.129,
                        5.124,
                        5.122999999999999,
                        5.102,
                        5.098,
                        5.073,
                        5.0569999999999995,
                        5.013,
                        5.007,
                        4.971,
                        4.959,
                        4.949,
                        4.898,
                        4.885,
                        4.876,
                        4.874,
                        4.867,
                        4.857,
                        4.8389999999999995,
                        4.8,
                        4.788,
                        4.7860000000000005,
                        4.739,
                        4.715,
                        4.694,
                        4.686,
                        4.681,
                        4.677,
                        4.6419999999999995,
                        4.633,
                        4.61,
                        4.571000000000001,
                        4.565,
                        4.55,
                        4.518,
                        4.5169999999999995,
                        4.513999999999999,
                        4.512,
                        4.507,
                        4.436,
                        4.419,
                        4.369,
                        4.35,
                        4.332,
                        4.3069999999999995,
                        4.297,
                        4.292,
                        4.271,
                        4.252,
                        4.218,
                        4.194,
                        4.077,
                        4.033,
                        3.995,
                        3.989,
                        3.9560000000000004,
                        3.931,
                        3.904,
                        3.8960000000000004,
                        3.845,
                        3.819,
                        3.781,
                        3.681,
                        3.678,
                        3.667,
                        3.656,
                        3.655,
                        3.5869999999999997,
                        3.575,
                        3.465,
                        3.34,
                        3.0060000000000002,
                        2.905,
                        2.839
                      ],
                      [
                        0.03411,
                        0.048839999999999995,
                        0.033280000000000004,
                        0.0388,
                        0.03553,
                        0.0314,
                        0.027989999999999998,
                        0.03157,
                        0.033710000000000004,
                        0.04083,
                        0.0347,
                        0.044539999999999996,
                        0.03751,
                        0.041760000000000005,
                        0.03839,
                        0.040760000000000005,
                        0.03499,
                        0.03676,
                        0.03595,
                        0.03729,
                        0.01866,
                        0.05335,
                        0.06476,
                        0.0378,
                        0.0491,
                        0.01848,
                        0.057999999999999996,
                        0.06257,
                        0.03512,
                        0.04612,
                        0.04168,
                        0.04539,
                        0.05051,
                        0.03557,
                        0.04633,
                        0.03468,
                        0.04206,
                        0.03868,
                        0.04456,
                        0.09811,
                        0.10895,
                        0.056179999999999994,
                        0.052239999999999995,
                        0.04361,
                        0.04267,
                        0.03581,
                        0.04098,
                        0.04528,
                        0.05412,
                        0.03914,
                        0.056420000000000005,
                        0.037989999999999996,
                        0.045630000000000004,
                        0.041139999999999996,
                        0.04251,
                        0.03843,
                        0.05371,
                        0.04615,
                        0.03938,
                        0.04263,
                        0.0433,
                        0.04394,
                        0.07832,
                        0.03135,
                        0.13693,
                        0.05635,
                        0.0558,
                        0.05099,
                        0.05018,
                        0.04175,
                        0.07197,
                        0.05051,
                        0.04013,
                        0.025960000000000004,
                        0.03107,
                        0.03864,
                        0.03823,
                        0.04192,
                        0.03225,
                        0.03363,
                        0.03726,
                        0.045239999999999995,
                        0.05235,
                        0.02424,
                        0.06988,
                        0.06607,
                        0.048639999999999996,
                        0.04802,
                        0.0464,
                        0.049339999999999995,
                        0.061610000000000005,
                        0.0342,
                        0.05376,
                        0.07896,
                        0.05013,
                        0.06913,
                        0.09437999999999999,
                        0.07446,
                        0.06698,
                        0.03313,
                        0.08742,
                        0.05062,
                        0.04337,
                        0.061070000000000006,
                        0.056479999999999995,
                        0.03198,
                        0.03589,
                        0.04394,
                        0.03077,
                        0.044489999999999995,
                        0.04412,
                        0.052320000000000005,
                        0.04585,
                        0.04742,
                        0.0429,
                        0.11068,
                        0.02043,
                        0.0674,
                        0.07331,
                        0.0368,
                        0.03607,
                        0.0378,
                        0.07067999999999999,
                        0.03947,
                        0.04734,
                        0.08096,
                        0.04763,
                        0.049339999999999995,
                        0.04351,
                        0.042210000000000004,
                        0.0613,
                        0.03751,
                        0.04678,
                        0.04828,
                        0.0326,
                        0.04367,
                        0.047580000000000004,
                        0.05602000000000001,
                        0.06682,
                        0.04797,
                        0.04317,
                        0.03608,
                        0.04547,
                        0.036019999999999996,
                        0.05069,
                        0.05061,
                        0.03633,
                        0.06112000000000001,
                        0.0383,
                        0.0359,
                        0.051410000000000004,
                        0.04324,
                        0.03084,
                        0.03464,
                        0.03656,
                        0.05015,
                        0.08657999999999999,
                        0.06727000000000001
                      ],
                      [
                        1.3965100000000001,
                        1.3023200000000001,
                        1.32548,
                        1.459,
                        1.32629,
                        1.29025,
                        1.32944,
                        1.33171,
                        1.2501799999999998,
                        1.33358,
                        1.2285700000000002,
                        0.95578,
                        1.33723,
                        1.02054,
                        1.3945100000000001,
                        0.98124,
                        1.5639100000000001,
                        1.33596,
                        1.30782,
                        1.42727,
                        1.26637,
                        1.36011,
                        1.04424,
                        1.52186,
                        1.0635299999999999,
                        1.32792,
                        1.10715,
                        1.69042,
                        1.27778,
                        1.05351,
                        1.17898,
                        1.06166,
                        0.91861,
                        0.9669,
                        1.39541,
                        1.23011,
                        1.2074,
                        1.29098,
                        1.5542200000000002,
                        0.99534,
                        1.21183,
                        0.76454,
                        0.74553,
                        0.63244,
                        1.1689100000000001,
                        1.27074,
                        1.24461,
                        0.8640200000000001,
                        1.32376,
                        1.25114,
                        0.68133,
                        0.59448,
                        0.75985,
                        1.1225399999999999,
                        1.18498,
                        1.14723,
                        0.59325,
                        0.9001899999999999,
                        1.0319200000000002,
                        1.12555,
                        1.12486,
                        1.08254,
                        1.13145,
                        1.13764,
                        0.81038,
                        1.2080600000000001,
                        1.20813,
                        0.93929,
                        0.80148,
                        0.95847,
                        1.0076100000000001,
                        1.38604,
                        1.15174,
                        0.8282700000000001,
                        0.63216,
                        1.06098,
                        0.47428000000000003,
                        0.65435,
                        0.77042,
                        1.02389,
                        0.59543,
                        0.9019799999999999,
                        0.9743799999999999,
                        0.89012,
                        0.47038,
                        1.04345,
                        0.92053,
                        1.15991,
                        1.11312,
                        0.70532,
                        0.18847,
                        0.7347899999999999,
                        0.91851,
                        0.08308,
                        0.8786700000000001,
                        0.8322299999999999,
                        0.37545,
                        0.8953700000000001,
                        0.5906600000000001,
                        0.82819,
                        0.71206,
                        1.15406,
                        1.0256399999999999,
                        1.12094,
                        0.59532,
                        0.39047,
                        0.88113,
                        0.59867,
                        0.39753,
                        1.0088,
                        0.79907,
                        0.98549,
                        0.9204899999999999,
                        0.5455800000000001,
                        0.271,
                        0.0712,
                        0.64499,
                        0.52107,
                        0.26673,
                        0,
                        0.35996999999999996,
                        0.19072999999999998,
                        0.33024000000000003,
                        0.45407,
                        0.36471,
                        0.44025,
                        0.7682100000000001,
                        0.99355,
                        0.27108000000000004,
                        0.7419,
                        0.016040000000000002,
                        0.83524,
                        0.4225,
                        1.01216,
                        0.8818,
                        0.5464899999999999,
                        0.75778,
                        0.26074,
                        0.67866,
                        0.23906,
                        0.21101999999999999,
                        0.36498,
                        1.06024,
                        0.0694,
                        0.46038,
                        0.2852,
                        0.20824,
                        0.0785,
                        0.34193,
                        0.17417,
                        0.46534,
                        0.25811999999999996,
                        0.31982,
                        0.22208000000000003,
                        0.28665,
                        0.6632,
                        0.0153,
                        0.20868
                      ],
                      [
                        1.34951,
                        1.4022299999999999,
                        1.36058,
                        1.33095,
                        1.32261,
                        1.31826,
                        1.28017,
                        1.2890700000000002,
                        1.3196700000000001,
                        1.30923,
                        1.22393,
                        1.2378799999999999,
                        1.29704,
                        0.91451,
                        1.24711,
                        1.2328700000000001,
                        1.21963,
                        1.36948,
                        1.28566,
                        1.12575,
                        1.28548,
                        1.08182,
                        1.25596,
                        1.02,
                        1.1985,
                        1.2993700000000001,
                        1.12447,
                        1.0786,
                        1.2603799999999998,
                        1.24823,
                        1.20643,
                        1.2089,
                        1.2401799999999998,
                        1.26504,
                        1.0839299999999998,
                        1.31379,
                        1.30203,
                        1.07617,
                        1.16594,
                        0.972,
                        1.18354,
                        1.0250700000000001,
                        1.04356,
                        1.34043,
                        1.26999,
                        1.25712,
                        0.9577399999999999,
                        0.99903,
                        1.21624,
                        1.19777,
                        0.97841,
                        1.01528,
                        1.30477,
                        1.1224100000000001,
                        1.27385,
                        1.25745,
                        1.14184,
                        0.97459,
                        1.23289,
                        1.27948,
                        1.07023,
                        0.79624,
                        1.1186200000000002,
                        1.23617,
                        1.1510200000000002,
                        1.07008,
                        0.89318,
                        1.07772,
                        0.81198,
                        1.22668,
                        0.98521,
                        1.05818,
                        1.22791,
                        1.0870799999999998,
                        0.9122600000000001,
                        0.94632,
                        1.15115,
                        0.9043200000000001,
                        1.10395,
                        0.9379299999999999,
                        0.41411000000000003,
                        1.05392,
                        0.9055700000000001,
                        0.94675,
                        0.91612,
                        0.8858799999999999,
                        1.0096399999999999,
                        1.13935,
                        1.09562,
                        1.03516,
                        0.95152,
                        0.64095,
                        1.00232,
                        1.02626,
                        0.8043399999999999,
                        0.9191600000000001,
                        1.04103,
                        1.17202,
                        0.73803,
                        1.3006,
                        1.07284,
                        0.9293299999999999,
                        0.80001,
                        1.20215,
                        0.9534799999999999,
                        0.8556299999999999,
                        0.60429,
                        0.92558,
                        0.43106000000000005,
                        0.54447,
                        1.20278,
                        0.81889,
                        1.18468,
                        0.6795399999999999,
                        1.0327600000000001,
                        0.78968,
                        0.38174,
                        1.01404,
                        0.74302,
                        1.0012,
                        0.86449,
                        0.60406,
                        0.9557100000000001,
                        0.86908,
                        0.99876,
                        0.59207,
                        0.7771100000000001,
                        1.10464,
                        0.70905,
                        0.38561999999999996,
                        0.41134,
                        1.01905,
                        0.8876700000000001,
                        1.10614,
                        0.747,
                        0.68093,
                        0.8604,
                        1.03526,
                        0.6629,
                        0.79273,
                        1.13299,
                        0.97619,
                        0.90528,
                        0.77265,
                        0.62736,
                        1.00268,
                        0.66801,
                        0,
                        0.76062,
                        0.46475,
                        0.77115,
                        0.85188,
                        0.30285,
                        0.7737,
                        0.35386,
                        0.47489,
                        0.41586999999999996,
                        0.13995
                      ],
                      [
                        0.9414299999999999,
                        0.94784,
                        0.87464,
                        0.88521,
                        0.9056299999999999,
                        0.8891100000000001,
                        0.89284,
                        0.9108700000000001,
                        0.9083700000000001,
                        0.93156,
                        0.9138700000000001,
                        0.8602700000000001,
                        0.8904200000000001,
                        0.8144399999999999,
                        0.86179,
                        0.69702,
                        0.91894,
                        0.89533,
                        0.8966700000000001,
                        0.80925,
                        0.90943,
                        0.76276,
                        0.7205199999999999,
                        1.02525,
                        0.79661,
                        0.89186,
                        0.85857,
                        0.79733,
                        0.9457899999999999,
                        0.78723,
                        0.84483,
                        0.8116,
                        0.69077,
                        0.7385,
                        0.72025,
                        0.95562,
                        0.88721,
                        0.8753,
                        0.72492,
                        0.6082,
                        0.61483,
                        0.67737,
                        0.64425,
                        0.59772,
                        0.7890199999999999,
                        0.99111,
                        0.9653799999999999,
                        0.79075,
                        0.74716,
                        0.9544600000000001,
                        0.5392,
                        0.61826,
                        0.66098,
                        0.64368,
                        0.8733700000000001,
                        0.73128,
                        0.7431399999999999,
                        0.73017,
                        0.7360800000000001,
                        0.77903,
                        0.7239399999999999,
                        0.78805,
                        0.7038,
                        0.6692600000000001,
                        0.6874100000000001,
                        0.92356,
                        0.92356,
                        0.61766,
                        0.63132,
                        0.53886,
                        0.7095,
                        1.01328,
                        0.77361,
                        0.63793,
                        0.7467600000000001,
                        0.73172,
                        0.65088,
                        0.16007000000000002,
                        0.57407,
                        0.64045,
                        0.51466,
                        0.69639,
                        0.72521,
                        0.81658,
                        0.29924,
                        0.7689,
                        0.74836,
                        0.8751899999999999,
                        0.72437,
                        0.58114,
                        0.43873,
                        0.60954,
                        0.73545,
                        0.09131,
                        0.81325,
                        0.79081,
                        0.07612000000000001,
                        0.66825,
                        0.54909,
                        0.60268,
                        0.07566,
                        0.88213,
                        0.83947,
                        0.75905,
                        0.6951,
                        0.5737899999999999,
                        0.73793,
                        0.66015,
                        0.60164,
                        0.69805,
                        0.6739,
                        0.60237,
                        0.27688,
                        0.40131999999999995,
                        0.33475,
                        0.34201,
                        0.5152899999999999,
                        0.36878,
                        0.38847,
                        0.09806000000000001,
                        0.5687399999999999,
                        0.44055,
                        0,
                        0.35874,
                        0.41435,
                        0.36291,
                        0.7299,
                        0.047760000000000004,
                        0.48246000000000006,
                        0.72926,
                        0.22562,
                        0.70806,
                        0.23401999999999998,
                        0.76649,
                        0.61712,
                        0.40064,
                        0.16683,
                        0.20583,
                        0.31051,
                        0.36315,
                        0.33860999999999997,
                        0.4354,
                        0.43372,
                        0.29707,
                        0.61114,
                        0.38215,
                        0.46721,
                        0.06699,
                        0.1501,
                        0.24009,
                        0.15185,
                        0.27125,
                        0.30335,
                        0.42863999999999997,
                        0.3191,
                        0.7219300000000001,
                        0.22396,
                        0.28443
                      ],
                      [
                        0.66557,
                        0.6287699999999999,
                        0.6493800000000001,
                        0.66973,
                        0.63297,
                        0.64169,
                        0.6157600000000001,
                        0.6598,
                        0.6393800000000001,
                        0.6512399999999999,
                        0.41318999999999995,
                        0.63376,
                        0.62433,
                        0.48181,
                        0.54604,
                        0.49049,
                        0.61583,
                        0.6177699999999999,
                        0.5845,
                        0.64157,
                        0.59625,
                        0.63274,
                        0.42908,
                        0.54252,
                        0.5421,
                        0.6147699999999999,
                        0.44132,
                        0.6404,
                        0.55011,
                        0.44974,
                        0.46363999999999994,
                        0.6036199999999999,
                        0.53466,
                        0.5566399999999999,
                        0.31048000000000003,
                        0.45951000000000003,
                        0.60365,
                        0.3974,
                        0.55499,
                        0.5965699999999999,
                        0.55884,
                        0.4035,
                        0.57733,
                        0.6582100000000001,
                        0.31751,
                        0.49615,
                        0.33208000000000004,
                        0.48573999999999995,
                        0.45492,
                        0.26236,
                        0.57414,
                        0.32818,
                        0.53899,
                        0.51649,
                        0.60855,
                        0.21341999999999997,
                        0.55475,
                        0.41496000000000005,
                        0.37938,
                        0.53122,
                        0.5302399999999999,
                        0.25883,
                        0.41668,
                        0.36679,
                        0.50442,
                        0.49027,
                        0.40671999999999997,
                        0.28579,
                        0.24749000000000002,
                        0.4761,
                        0.56066,
                        0.59608,
                        0.44888,
                        0.46611,
                        0.59444,
                        0.22815,
                        0.43477,
                        0.34334000000000003,
                        0.5320600000000001,
                        0.3703,
                        0.12102,
                        0.40660999999999997,
                        0.1826,
                        0.5169699999999999,
                        0.48827,
                        0.35068,
                        0.20107,
                        0.51469,
                        0.29671,
                        0.62545,
                        0.46581999999999996,
                        0.41691000000000006,
                        0.33457,
                        0.34037,
                        0.35733000000000004,
                        0.09245,
                        0.31767,
                        0.57672,
                        0.59591,
                        0.43626000000000004,
                        0.30658,
                        0.07699,
                        0.33916,
                        0.32111999999999996,
                        0.40148,
                        0.47216,
                        0.26268,
                        0.24499,
                        0.4082,
                        0.30033000000000004,
                        0.25123,
                        0,
                        0.33207,
                        0.42341999999999996,
                        0.25861,
                        0.28531,
                        0.39786,
                        0.10081,
                        0.24425,
                        0.22605,
                        0.38282,
                        0.4345,
                        0.4084,
                        0.24231999999999998,
                        0.42215,
                        0.46074,
                        0.19847,
                        0.49495,
                        0.44017,
                        0.40576999999999996,
                        0.43054,
                        0.5372600000000001,
                        0.49309,
                        0.30587,
                        0.17288,
                        0.35570999999999997,
                        0.10384000000000002,
                        0.38856999999999997,
                        0.41466000000000003,
                        0.22916999999999998,
                        0.45726999999999995,
                        0.36772,
                        0.31914000000000003,
                        0.47691999999999996,
                        0.66246,
                        0.32878,
                        0.19184,
                        0.48878999999999995,
                        0.23501,
                        0.37725,
                        0.46866,
                        0.39493,
                        0.23414000000000001,
                        0.59201,
                        0.4845,
                        0.15684,
                        0.1185,
                        0.36453
                      ],
                      [
                        0.41978000000000004,
                        0.14145,
                        0.48357,
                        0.36503,
                        0.32957,
                        0.41372,
                        0.31814000000000003,
                        0.43843999999999994,
                        0.42922,
                        0.35636999999999996,
                        0.07785,
                        0.10583,
                        0.18675999999999998,
                        0.21311999999999998,
                        0.1589,
                        0.17521,
                        0.37798000000000004,
                        0.28703,
                        0.2254,
                        0.38583,
                        0.32066999999999996,
                        0.32524000000000003,
                        0.11069000000000001,
                        0.4921,
                        0.0927,
                        0.21843,
                        0.12869,
                        0.52208,
                        0.20646,
                        0.08484,
                        0.02652,
                        0.24558000000000002,
                        0.0512,
                        0.031869999999999996,
                        0.32524000000000003,
                        0.06398,
                        0.13585999999999998,
                        0.08129,
                        0.25609,
                        0.13633,
                        0.0114,
                        0.11775999999999999,
                        0.09472,
                        0.30826,
                        0.03431,
                        0.1806,
                        0.07857,
                        0.1809,
                        0.306,
                        0.02901,
                        0.08800000000000001,
                        0.01615,
                        0.08242000000000001,
                        0.08454,
                        0.03787,
                        0.01031,
                        0.19317,
                        0.05989,
                        0.1909,
                        0.04212,
                        0.10500999999999999,
                        0.0243,
                        0.11023,
                        0.03005,
                        0.02299,
                        0.1428,
                        0.06146,
                        0.17382999999999998,
                        0.04741,
                        0.30844,
                        0.07521,
                        0.37124,
                        0.15184,
                        0,
                        0.10440999999999999,
                        0.15746,
                        0.042319999999999997,
                        0.0403,
                        0.15445,
                        0.16065,
                        0.10464000000000001,
                        0.14293,
                        0.14296,
                        0.02781,
                        0.12468,
                        0.006490000000000001,
                        0.02617,
                        0.01078,
                        0.06332,
                        0.12279000000000001,
                        0.39928,
                        0.08546000000000001,
                        0.053270000000000005,
                        0.15603,
                        0.06412999999999999,
                        0.00227,
                        0.12504,
                        0.14234000000000002,
                        0.24249,
                        0.026660000000000003,
                        0.0306,
                        0.013969999999999998,
                        0.04582,
                        0.02758,
                        0.06825,
                        0.15072,
                        0.06358,
                        0.12905,
                        0.12569,
                        0.058629999999999995,
                        0.02961,
                        0.13788,
                        0.08884,
                        0.04355,
                        0.08079,
                        0.06232000000000001,
                        0.08492000000000001,
                        0.1466,
                        0.17175,
                        0.07625,
                        0.059070000000000004,
                        0.15048,
                        0.08786000000000001,
                        0.17461,
                        0.05839,
                        0.28105,
                        0.039,
                        0.12474,
                        0.19034,
                        0.38331,
                        0.06977,
                        0.09179,
                        0.05786,
                        0.00872,
                        0.06324,
                        0.07854,
                        0.07122,
                        0.12352,
                        0.11685999999999999,
                        0.19899999999999998,
                        0.07267,
                        0.10712999999999999,
                        0.11091,
                        0.15639,
                        0.07247,
                        0.05747000000000001,
                        0.08123999999999999,
                        0.08288999999999999,
                        0.05269,
                        0.12139000000000001,
                        0.17922000000000002,
                        0.12832000000000002,
                        0.09719,
                        0.55191,
                        0.0801,
                        0.18905999999999998,
                        0.10062,
                        0.10730999999999999
                      ],
                      [
                        0.29678000000000004,
                        0.4363,
                        0.34139,
                        0.34699,
                        0.45811,
                        0.23351,
                        0.4761,
                        0.36262,
                        0.47501000000000004,
                        0.43562,
                        0.33171999999999996,
                        0.25497,
                        0.33088,
                        0.14074,
                        0.40105,
                        0.14574,
                        0.28034000000000003,
                        0.45901000000000003,
                        0.2225,
                        0.26428,
                        0.51912,
                        0.21541999999999997,
                        0.058410000000000004,
                        0.31105,
                        0.24434,
                        0.28214,
                        0.33363000000000004,
                        0.32573,
                        0.12332,
                        0.11450999999999999,
                        0.10686,
                        0.2324,
                        0.18400999999999998,
                        0.5763,
                        0.13706,
                        0.18227000000000002,
                        0.51752,
                        0.25376,
                        0.16228,
                        0.16990999999999998,
                        0.31844,
                        0.10692,
                        0.27489,
                        0.22837,
                        0.16893,
                        0.10705,
                        0.18557,
                        0.11540999999999998,
                        0.17362,
                        0.22823000000000002,
                        0.20536,
                        0.20951,
                        0.3424,
                        0.11827,
                        0.25328,
                        0.026410000000000003,
                        0.27815,
                        0.14982,
                        0.11045999999999999,
                        0.16759000000000002,
                        0.33075,
                        0.054439999999999995,
                        0.18295,
                        0.00199,
                        0.2123,
                        0.26169000000000003,
                        0.30638000000000004,
                        0.07822,
                        0.2831,
                        0.16979,
                        0.37744,
                        0.39478,
                        0.0868,
                        0.51535,
                        0.1686,
                        0.12253,
                        0.3003,
                        0.27233,
                        0.47998,
                        0.07799,
                        0.33671,
                        0.11052999999999999,
                        0.1614,
                        0.08185,
                        0.19591,
                        0.13748,
                        0.19230999999999998,
                        0.13719,
                        0.18225999999999998,
                        0.24991,
                        0.5031800000000001,
                        0.07172,
                        0.22359,
                        0.22269,
                        0.14272,
                        0.24808000000000002,
                        0.16388,
                        0.21684,
                        0.42191999999999996,
                        0.3323,
                        0.18259,
                        0,
                        0.21854,
                        0.128,
                        0.23026999999999997,
                        0.22974,
                        0.06431,
                        0.11250999999999999,
                        0.21222,
                        0.38086,
                        0.15275,
                        0.17922000000000002,
                        0.11972999999999999,
                        0.23087,
                        0.18987,
                        0.24361999999999998,
                        0.26475,
                        0.19062,
                        0.46187,
                        0.24834,
                        0.32295999999999997,
                        0.24325,
                        0.21488000000000002,
                        0.21899999999999997,
                        0.37542,
                        0.18093,
                        0.07855,
                        0.10461,
                        0.79588,
                        0.055470000000000005,
                        0.33128,
                        0.40828000000000003,
                        0.20618000000000003,
                        0.11921,
                        0.11291,
                        0.09131,
                        0.12344000000000001,
                        0.18798,
                        0.12387999999999999,
                        0.17440999999999998,
                        0.29066,
                        0.20843000000000003,
                        0.06822,
                        0.19387000000000001,
                        0.40359,
                        0.34376999999999996,
                        0.21333000000000002,
                        0.23835,
                        0.18386,
                        0.28657,
                        0.20165,
                        0.21746999999999997,
                        0.3651,
                        0.22628,
                        0.1826,
                        0.47179,
                        0.19727,
                        0.16680999999999999
                      ],
                      [
                        2.5173799999999997,
                        2.70201,
                        2.4920400000000003,
                        2.4653099999999997,
                        2.4517599999999997,
                        2.61955,
                        2.4657,
                        2.3711900000000004,
                        2.26425,
                        2.26646,
                        3.08854,
                        3.17728,
                        2.5332,
                        3.6021400000000003,
                        2.51011,
                        3.26001,
                        1.9696099999999999,
                        1.9757,
                        2.4148400000000003,
                        2.24743,
                        1.9699400000000002,
                        2.4748900000000003,
                        3.1913099999999996,
                        1.8850099999999999,
                        2.84848,
                        2.1156900000000003,
                        2.67585,
                        1.55674,
                        2.21126,
                        2.8360000000000003,
                        2.67782,
                        2.3214200000000003,
                        2.85737,
                        2.31945,
                        2.43872,
                        2.12367,
                        1.6488,
                        2.32323,
                        1.8763400000000001,
                        2.79094,
                        2.2688200000000003,
                        3.035,
                        2.74255,
                        2.2374099999999997,
                        2.2463900000000003,
                        1.68435,
                        2.21978,
                        2.5394200000000002,
                        1.73797,
                        2.0251799999999998,
                        2.82334,
                        3.10712,
                        2.18896,
                        2.24729,
                        1.6158299999999999,
                        2.4464900000000003,
                        2.32407,
                        2.5945,
                        2.1309,
                        1.86565,
                        1.8854099999999998,
                        2.75414,
                        2.0906599999999997,
                        2.27394,
                        2.32038,
                        1.5988799999999999,
                        1.8893099999999998,
                        2.43209,
                        2.76579,
                        1.8698400000000002,
                        1.76145,
                        0.6542899999999999,
                        1.58782,
                        1.86399,
                        2.20173,
                        2.08528,
                        2.2327,
                        2.89319,
                        1.63794,
                        2.00073,
                        3.1070900000000004,
                        1.8799599999999999,
                        2.10017,
                        1.8604,
                        2.6343,
                        1.9312900000000002,
                        2.025,
                        1.26462,
                        1.62215,
                        1.7536,
                        2.11032,
                        2.4537299999999997,
                        1.7393299999999998,
                        3.05137,
                        1.89894,
                        2.06367,
                        2.79832,
                        1.21305,
                        1.7379900000000001,
                        1.34759,
                        2.48676,
                        1.8010099999999998,
                        1.57059,
                        1.24074,
                        1.84408,
                        2.1139900000000003,
                        2.12466,
                        2.0438400000000003,
                        2.51767,
                        1.6944,
                        1.5714,
                        1.95335,
                        1.7195599999999998,
                        2.30919,
                        2.44191,
                        2.7772900000000003,
                        2.27513,
                        2.20857,
                        2.24173,
                        2.86712,
                        1.9563700000000002,
                        2.44876,
                        2.51009,
                        2.11773,
                        1.78555,
                        2.05125,
                        1.75873,
                        1.46181,
                        1.41805,
                        1.59541,
                        2.8079099999999997,
                        0.67108,
                        1.95071,
                        0.89991,
                        1.59927,
                        1.92313,
                        1.9493900000000002,
                        1.79293,
                        1.68135,
                        1.95812,
                        1.42766,
                        1.44395,
                        0.99895,
                        1.87877,
                        0.98195,
                        1.38079,
                        1.851,
                        2.7223,
                        1.9429599999999998,
                        1.9917200000000002,
                        1.41723,
                        1.46494,
                        1.9521,
                        0.67042,
                        1.6332799999999998,
                        0.32858000000000004,
                        1.83302,
                        1.56726
                      ]
                    ]
                  },
                  "header": {
                    "align": [
                      "left",
                      "left",
                      "left",
                      "left",
                      "left"
                    ],
                    "fill": {
                      "color": "#C2D4FF"
                    },
                    "values": [
                      "country",
                      "region",
                      "happiness_rank",
                      "happiness_score",
                      "standard_error",
                      "economy",
                      "family",
                      "health",
                      "freedom",
                      "trust",
                      "generosity",
                      "dystopia"
                    ]
                  },
                  "type": "table",
                  "uid": "9c2ac8a3-1d28-4b3b-80d3-7d3ed89dbbc1"
                }
              ],
              "layout": {},
              "config": {
                "showLink": true,
                "linkText": "Export to plot.ly",
                "plotlyServerURL": "https://plot.ly"
              }
            },
            "text/html": "<div id=\"327d9db6-842e-44ac-b059-97db2622b410\" style=\"height: 525px; width: 100%;\" class=\"plotly-graph-div\"></div><script type=\"text/javascript\">require([\"plotly\"], function(Plotly) { window.PLOTLYENV=window.PLOTLYENV || {};window.PLOTLYENV.BASE_URL=\"https://plot.ly\";Plotly.newPlot(\"327d9db6-842e-44ac-b059-97db2622b410\", [{\"cells\": {\"align\": [\"left\", \"left\", \"left\", \"left\", \"left\"], \"fill\": {\"color\": \"#F5F8FF\"}, \"values\": [[\"Switzerland\", \"Iceland\", \"Denmark\", \"Norway\", \"Canada\", \"Finland\", \"Netherlands\", \"Sweden\", \"New Zealand\", \"Australia\", \"Israel\", \"Costa Rica\", \"Austria\", \"Mexico\", \"United States\", \"Brazil\", \"Luxembourg\", \"Ireland\", \"Belgium\", \"United Arab Emirates\", \"United Kingdom\", \"Oman\", \"Venezuela\", \"Singapore\", \"Panama\", \"Germany\", \"Chile\", \"Qatar\", \"France\", \"Argentina\", \"Czech Republic\", \"Uruguay\", \"Colombia\", \"Thailand\", \"Saudi Arabia\", \"Spain\", \"Malta\", \"Taiwan\", \"Kuwait\", \"Suriname\", \"Trinidad and Tobago\", \"El Salvador\", \"Guatemala\", \"Uzbekistan\", \"Slovakia\", \"Japan\", \"South Korea\", \"Ecuador\", \"Bahrain\", \"Italy\", \"Bolivia\", \"Moldova\", \"Paraguay\", \"Kazakhstan\", \"Slovenia\", \"Lithuania\", \"Nicaragua\", \"Peru\", \"Belarus\", \"Poland\", \"Malaysia\", \"Croatia\", \"Libya\", \"Russia\", \"Jamaica\", \"North Cyprus\", \"Cyprus\", \"Algeria\", \"Kosovo\", \"Turkmenistan\", \"Mauritius\", \"Hong Kong\", \"Estonia\", \"Indonesia\", \"Vietnam\", \"Turkey\", \"Kyrgyzstan\", \"Nigeria\", \"Bhutan\", \"Azerbaijan\", \"Pakistan\", \"Jordan\", \"Montenegro\", \"China\", \"Zambia\", \"Romania\", \"Serbia\", \"Portugal\", \"Latvia\", \"Philippines\", \"Somaliland region\", \"Morocco\", \"Macedonia\", \"Mozambique\", \"Albania\", \"Bosnia and Herzegovina\", \"Lesotho\", \"Dominican Republic\", \"Laos\", \"Mongolia\", \"Swaziland\", \"Greece\", \"Lebanon\", \"Hungary\", \"Honduras\", \"Tajikistan\", \"Tunisia\", \"Palestinian Territories\", \"Bangladesh\", \"Iran\", \"Ukraine\", \"Iraq\", \"South Africa\", \"Ghana\", \"Zimbabwe\", \"Liberia\", \"India\", \"Sudan\", \"Haiti\", \"Congo (Kinshasa)\", \"Nepal\", \"Ethiopia\", \"Sierra Leone\", \"Mauritania\", \"Kenya\", \"Djibouti\", \"Armenia\", \"Botswana\", \"Myanmar\", \"Georgia\", \"Malawi\", \"Sri Lanka\", \"Cameroon\", \"Bulgaria\", \"Egypt\", \"Yemen\", \"Angola\", \"Mali\", \"Congo (Brazzaville)\", \"Comoros\", \"Uganda\", \"Senegal\", \"Gabon\", \"Niger\", \"Cambodia\", \"Tanzania\", \"Madagascar\", \"Central African Republic\", \"Chad\", \"Guinea\", \"Ivory Coast\", \"Burkina Faso\", \"Afghanistan\", \"Rwanda\", \"Benin\", \"Syria\", \"Burundi\", \"Togo\"], [\"Western Europe\", \"Western Europe\", \"Western Europe\", \"Western Europe\", \"North America\", \"Western Europe\", \"Western Europe\", \"Western Europe\", \"Australia and New Zealand\", \"Australia and New Zealand\", \"Middle East and Northern Africa\", \"Latin America and Caribbean\", \"Western Europe\", \"Latin America and Caribbean\", \"North America\", \"Latin America and Caribbean\", \"Western Europe\", \"Western Europe\", \"Western Europe\", \"Middle East and Northern Africa\", \"Western Europe\", \"Middle East and Northern Africa\", \"Latin America and Caribbean\", \"Southeastern Asia\", \"Latin America and Caribbean\", \"Western Europe\", \"Latin America and Caribbean\", \"Middle East and Northern Africa\", \"Western Europe\", \"Latin America and Caribbean\", \"Central and Eastern Europe\", \"Latin America and Caribbean\", \"Latin America and Caribbean\", \"Southeastern Asia\", \"Middle East and Northern Africa\", \"Western Europe\", \"Western Europe\", \"Eastern Asia\", \"Middle East and Northern Africa\", \"Latin America and Caribbean\", \"Latin America and Caribbean\", \"Latin America and Caribbean\", \"Latin America and Caribbean\", \"Central and Eastern Europe\", \"Central and Eastern Europe\", \"Eastern Asia\", \"Eastern Asia\", \"Latin America and Caribbean\", \"Middle East and Northern Africa\", \"Western Europe\", \"Latin America and Caribbean\", \"Central and Eastern Europe\", \"Latin America and Caribbean\", \"Central and Eastern Europe\", \"Central and Eastern Europe\", \"Central and Eastern Europe\", \"Latin America and Caribbean\", \"Latin America and Caribbean\", \"Central and Eastern Europe\", \"Central and Eastern Europe\", \"Southeastern Asia\", \"Central and Eastern Europe\", \"Middle East and Northern Africa\", \"Central and Eastern Europe\", \"Latin America and Caribbean\", \"Western Europe\", \"Western Europe\", \"Middle East and Northern Africa\", \"Central and Eastern Europe\", \"Central and Eastern Europe\", \"Sub-Saharan Africa\", \"Eastern Asia\", \"Central and Eastern Europe\", \"Southeastern Asia\", \"Southeastern Asia\", \"Middle East and Northern Africa\", \"Central and Eastern Europe\", \"Sub-Saharan Africa\", \"Southern Asia\", \"Central and Eastern Europe\", \"Southern Asia\", \"Middle East and Northern Africa\", \"Central and Eastern Europe\", \"Eastern Asia\", \"Sub-Saharan Africa\", \"Central and Eastern Europe\", \"Central and Eastern Europe\", \"Western Europe\", \"Central and Eastern Europe\", \"Southeastern Asia\", \"Sub-Saharan Africa\", \"Middle East and Northern Africa\", \"Central and Eastern Europe\", \"Sub-Saharan Africa\", \"Central and Eastern Europe\", \"Central and Eastern Europe\", \"Sub-Saharan Africa\", \"Latin America and Caribbean\", \"Southeastern Asia\", \"Eastern Asia\", \"Sub-Saharan Africa\", \"Western Europe\", \"Middle East and Northern Africa\", \"Central and Eastern Europe\", \"Latin America and Caribbean\", \"Central and Eastern Europe\", \"Middle East and Northern Africa\", \"Middle East and Northern Africa\", \"Southern Asia\", \"Middle East and Northern Africa\", \"Central and Eastern Europe\", \"Middle East and Northern Africa\", \"Sub-Saharan Africa\", \"Sub-Saharan Africa\", \"Sub-Saharan Africa\", \"Sub-Saharan Africa\", \"Southern Asia\", \"Sub-Saharan Africa\", \"Latin America and Caribbean\", \"Sub-Saharan Africa\", \"Southern Asia\", \"Sub-Saharan Africa\", \"Sub-Saharan Africa\", \"Sub-Saharan Africa\", \"Sub-Saharan Africa\", \"Sub-Saharan Africa\", \"Central and Eastern Europe\", \"Sub-Saharan Africa\", \"Southeastern Asia\", \"Central and Eastern Europe\", \"Sub-Saharan Africa\", \"Southern Asia\", \"Sub-Saharan Africa\", \"Central and Eastern Europe\", \"Middle East and Northern Africa\", \"Middle East and Northern Africa\", \"Sub-Saharan Africa\", \"Sub-Saharan Africa\", \"Sub-Saharan Africa\", \"Sub-Saharan Africa\", \"Sub-Saharan Africa\", \"Sub-Saharan Africa\", \"Sub-Saharan Africa\", \"Sub-Saharan Africa\", \"Southeastern Asia\", \"Sub-Saharan Africa\", \"Sub-Saharan Africa\", \"Sub-Saharan Africa\", \"Sub-Saharan Africa\", \"Sub-Saharan Africa\", \"Sub-Saharan Africa\", \"Sub-Saharan Africa\", \"Southern Asia\", \"Sub-Saharan Africa\", \"Sub-Saharan Africa\", \"Middle East and Northern Africa\", \"Sub-Saharan Africa\", \"Sub-Saharan Africa\"], [1, 2, 3, 4, 5, 6, 7, 8, 9, 10, 11, 12, 13, 14, 15, 16, 17, 18, 19, 20, 21, 22, 23, 24, 25, 26, 27, 28, 29, 30, 31, 32, 33, 34, 35, 36, 37, 38, 39, 40, 41, 42, 43, 44, 45, 46, 47, 48, 49, 50, 51, 52, 53, 54, 55, 56, 57, 58, 59, 60, 61, 62, 63, 64, 65, 66, 67, 68, 69, 70, 71, 72, 73, 74, 75, 76, 77, 78, 79, 80, 81, 82, 82, 84, 85, 86, 87, 88, 89, 90, 91, 92, 93, 94, 95, 96, 97, 98, 99, 100, 101, 102, 103, 104, 105, 106, 107, 108, 109, 110, 111, 112, 113, 114, 115, 116, 117, 118, 119, 120, 121, 122, 123, 124, 125, 126, 127, 128, 129, 130, 131, 132, 133, 134, 135, 136, 137, 138, 139, 140, 141, 142, 143, 144, 145, 146, 147, 148, 149, 150, 151, 152, 153, 154, 155, 156, 157, 158], [7.587000000000001, 7.561, 7.527, 7.522, 7.4270000000000005, 7.406000000000001, 7.377999999999999, 7.364, 7.2860000000000005, 7.284, 7.278, 7.226, 7.2, 7.187, 7.119, 6.983, 6.946000000000001, 6.94, 6.937, 6.901, 6.867000000000001, 6.853, 6.81, 6.797999999999999, 6.7860000000000005, 6.75, 6.67, 6.611000000000001, 6.575, 6.574, 6.505, 6.485, 6.477, 6.455, 6.4110000000000005, 6.329, 6.3020000000000005, 6.297999999999999, 6.295, 6.269, 6.167999999999999, 6.13, 6.122999999999999, 6.002999999999999, 5.995, 5.987, 5.984, 5.975, 5.96, 5.9479999999999995, 5.89, 5.888999999999999, 5.877999999999999, 5.855, 5.848, 5.832999999999999, 5.827999999999999, 5.824, 5.813, 5.791, 5.77, 5.7589999999999995, 5.754, 5.716, 5.709, 5.695, 5.689, 5.605, 5.5889999999999995, 5.547999999999999, 5.477, 5.474, 5.428999999999999, 5.399, 5.36, 5.332000000000001, 5.2860000000000005, 5.268, 5.252999999999999, 5.212000000000001, 5.194, 5.192, 5.192, 5.14, 5.129, 5.124, 5.122999999999999, 5.102, 5.098, 5.073, 5.0569999999999995, 5.013, 5.007, 4.971, 4.959, 4.949, 4.898, 4.885, 4.876, 4.874, 4.867, 4.857, 4.8389999999999995, 4.8, 4.788, 4.7860000000000005, 4.739, 4.715, 4.694, 4.686, 4.681, 4.677, 4.6419999999999995, 4.633, 4.61, 4.571000000000001, 4.565, 4.55, 4.518, 4.5169999999999995, 4.513999999999999, 4.512, 4.507, 4.436, 4.419, 4.369, 4.35, 4.332, 4.3069999999999995, 4.297, 4.292, 4.271, 4.252, 4.218, 4.194, 4.077, 4.033, 3.995, 3.989, 3.9560000000000004, 3.931, 3.904, 3.8960000000000004, 3.845, 3.819, 3.781, 3.681, 3.678, 3.667, 3.656, 3.655, 3.5869999999999997, 3.575, 3.465, 3.34, 3.0060000000000002, 2.905, 2.839], [0.03411, 0.048839999999999995, 0.033280000000000004, 0.0388, 0.03553, 0.0314, 0.027989999999999998, 0.03157, 0.033710000000000004, 0.04083, 0.0347, 0.044539999999999996, 0.03751, 0.041760000000000005, 0.03839, 0.040760000000000005, 0.03499, 0.03676, 0.03595, 0.03729, 0.01866, 0.05335, 0.06476, 0.0378, 0.0491, 0.01848, 0.057999999999999996, 0.06257, 0.03512, 0.04612, 0.04168, 0.04539, 0.05051, 0.03557, 0.04633, 0.03468, 0.04206, 0.03868, 0.04456, 0.09811, 0.10895, 0.056179999999999994, 0.052239999999999995, 0.04361, 0.04267, 0.03581, 0.04098, 0.04528, 0.05412, 0.03914, 0.056420000000000005, 0.037989999999999996, 0.045630000000000004, 0.041139999999999996, 0.04251, 0.03843, 0.05371, 0.04615, 0.03938, 0.04263, 0.0433, 0.04394, 0.07832, 0.03135, 0.13693, 0.05635, 0.0558, 0.05099, 0.05018, 0.04175, 0.07197, 0.05051, 0.04013, 0.025960000000000004, 0.03107, 0.03864, 0.03823, 0.04192, 0.03225, 0.03363, 0.03726, 0.045239999999999995, 0.05235, 0.02424, 0.06988, 0.06607, 0.048639999999999996, 0.04802, 0.0464, 0.049339999999999995, 0.061610000000000005, 0.0342, 0.05376, 0.07896, 0.05013, 0.06913, 0.09437999999999999, 0.07446, 0.06698, 0.03313, 0.08742, 0.05062, 0.04337, 0.061070000000000006, 0.056479999999999995, 0.03198, 0.03589, 0.04394, 0.03077, 0.044489999999999995, 0.04412, 0.052320000000000005, 0.04585, 0.04742, 0.0429, 0.11068, 0.02043, 0.0674, 0.07331, 0.0368, 0.03607, 0.0378, 0.07067999999999999, 0.03947, 0.04734, 0.08096, 0.04763, 0.049339999999999995, 0.04351, 0.042210000000000004, 0.0613, 0.03751, 0.04678, 0.04828, 0.0326, 0.04367, 0.047580000000000004, 0.05602000000000001, 0.06682, 0.04797, 0.04317, 0.03608, 0.04547, 0.036019999999999996, 0.05069, 0.05061, 0.03633, 0.06112000000000001, 0.0383, 0.0359, 0.051410000000000004, 0.04324, 0.03084, 0.03464, 0.03656, 0.05015, 0.08657999999999999, 0.06727000000000001], [1.3965100000000001, 1.3023200000000001, 1.32548, 1.459, 1.32629, 1.29025, 1.32944, 1.33171, 1.2501799999999998, 1.33358, 1.2285700000000002, 0.95578, 1.33723, 1.02054, 1.3945100000000001, 0.98124, 1.5639100000000001, 1.33596, 1.30782, 1.42727, 1.26637, 1.36011, 1.04424, 1.52186, 1.0635299999999999, 1.32792, 1.10715, 1.69042, 1.27778, 1.05351, 1.17898, 1.06166, 0.91861, 0.9669, 1.39541, 1.23011, 1.2074, 1.29098, 1.5542200000000002, 0.99534, 1.21183, 0.76454, 0.74553, 0.63244, 1.1689100000000001, 1.27074, 1.24461, 0.8640200000000001, 1.32376, 1.25114, 0.68133, 0.59448, 0.75985, 1.1225399999999999, 1.18498, 1.14723, 0.59325, 0.9001899999999999, 1.0319200000000002, 1.12555, 1.12486, 1.08254, 1.13145, 1.13764, 0.81038, 1.2080600000000001, 1.20813, 0.93929, 0.80148, 0.95847, 1.0076100000000001, 1.38604, 1.15174, 0.8282700000000001, 0.63216, 1.06098, 0.47428000000000003, 0.65435, 0.77042, 1.02389, 0.59543, 0.9019799999999999, 0.9743799999999999, 0.89012, 0.47038, 1.04345, 0.92053, 1.15991, 1.11312, 0.70532, 0.18847, 0.7347899999999999, 0.91851, 0.08308, 0.8786700000000001, 0.8322299999999999, 0.37545, 0.8953700000000001, 0.5906600000000001, 0.82819, 0.71206, 1.15406, 1.0256399999999999, 1.12094, 0.59532, 0.39047, 0.88113, 0.59867, 0.39753, 1.0088, 0.79907, 0.98549, 0.9204899999999999, 0.5455800000000001, 0.271, 0.0712, 0.64499, 0.52107, 0.26673, 0.0, 0.35996999999999996, 0.19072999999999998, 0.33024000000000003, 0.45407, 0.36471, 0.44025, 0.7682100000000001, 0.99355, 0.27108000000000004, 0.7419, 0.016040000000000002, 0.83524, 0.4225, 1.01216, 0.8818, 0.5464899999999999, 0.75778, 0.26074, 0.67866, 0.23906, 0.21101999999999999, 0.36498, 1.06024, 0.0694, 0.46038, 0.2852, 0.20824, 0.0785, 0.34193, 0.17417, 0.46534, 0.25811999999999996, 0.31982, 0.22208000000000003, 0.28665, 0.6632, 0.0153, 0.20868], [1.34951, 1.4022299999999999, 1.36058, 1.33095, 1.32261, 1.31826, 1.28017, 1.2890700000000002, 1.3196700000000001, 1.30923, 1.22393, 1.2378799999999999, 1.29704, 0.91451, 1.24711, 1.2328700000000001, 1.21963, 1.36948, 1.28566, 1.12575, 1.28548, 1.08182, 1.25596, 1.02, 1.1985, 1.2993700000000001, 1.12447, 1.0786, 1.2603799999999998, 1.24823, 1.20643, 1.2089, 1.2401799999999998, 1.26504, 1.0839299999999998, 1.31379, 1.30203, 1.07617, 1.16594, 0.972, 1.18354, 1.0250700000000001, 1.04356, 1.34043, 1.26999, 1.25712, 0.9577399999999999, 0.99903, 1.21624, 1.19777, 0.97841, 1.01528, 1.30477, 1.1224100000000001, 1.27385, 1.25745, 1.14184, 0.97459, 1.23289, 1.27948, 1.07023, 0.79624, 1.1186200000000002, 1.23617, 1.1510200000000002, 1.07008, 0.89318, 1.07772, 0.81198, 1.22668, 0.98521, 1.05818, 1.22791, 1.0870799999999998, 0.9122600000000001, 0.94632, 1.15115, 0.9043200000000001, 1.10395, 0.9379299999999999, 0.41411000000000003, 1.05392, 0.9055700000000001, 0.94675, 0.91612, 0.8858799999999999, 1.0096399999999999, 1.13935, 1.09562, 1.03516, 0.95152, 0.64095, 1.00232, 1.02626, 0.8043399999999999, 0.9191600000000001, 1.04103, 1.17202, 0.73803, 1.3006, 1.07284, 0.9293299999999999, 0.80001, 1.20215, 0.9534799999999999, 0.8556299999999999, 0.60429, 0.92558, 0.43106000000000005, 0.54447, 1.20278, 0.81889, 1.18468, 0.6795399999999999, 1.0327600000000001, 0.78968, 0.38174, 1.01404, 0.74302, 1.0012, 0.86449, 0.60406, 0.9557100000000001, 0.86908, 0.99876, 0.59207, 0.7771100000000001, 1.10464, 0.70905, 0.38561999999999996, 0.41134, 1.01905, 0.8876700000000001, 1.10614, 0.747, 0.68093, 0.8604, 1.03526, 0.6629, 0.79273, 1.13299, 0.97619, 0.90528, 0.77265, 0.62736, 1.00268, 0.66801, 0.0, 0.76062, 0.46475, 0.77115, 0.85188, 0.30285, 0.7737, 0.35386, 0.47489, 0.41586999999999996, 0.13995], [0.9414299999999999, 0.94784, 0.87464, 0.88521, 0.9056299999999999, 0.8891100000000001, 0.89284, 0.9108700000000001, 0.9083700000000001, 0.93156, 0.9138700000000001, 0.8602700000000001, 0.8904200000000001, 0.8144399999999999, 0.86179, 0.69702, 0.91894, 0.89533, 0.8966700000000001, 0.80925, 0.90943, 0.76276, 0.7205199999999999, 1.02525, 0.79661, 0.89186, 0.85857, 0.79733, 0.9457899999999999, 0.78723, 0.84483, 0.8116, 0.69077, 0.7385, 0.72025, 0.95562, 0.88721, 0.8753, 0.72492, 0.6082, 0.61483, 0.67737, 0.64425, 0.59772, 0.7890199999999999, 0.99111, 0.9653799999999999, 0.79075, 0.74716, 0.9544600000000001, 0.5392, 0.61826, 0.66098, 0.64368, 0.8733700000000001, 0.73128, 0.7431399999999999, 0.73017, 0.7360800000000001, 0.77903, 0.7239399999999999, 0.78805, 0.7038, 0.6692600000000001, 0.6874100000000001, 0.92356, 0.92356, 0.61766, 0.63132, 0.53886, 0.7095, 1.01328, 0.77361, 0.63793, 0.7467600000000001, 0.73172, 0.65088, 0.16007000000000002, 0.57407, 0.64045, 0.51466, 0.69639, 0.72521, 0.81658, 0.29924, 0.7689, 0.74836, 0.8751899999999999, 0.72437, 0.58114, 0.43873, 0.60954, 0.73545, 0.09131, 0.81325, 0.79081, 0.07612000000000001, 0.66825, 0.54909, 0.60268, 0.07566, 0.88213, 0.83947, 0.75905, 0.6951, 0.5737899999999999, 0.73793, 0.66015, 0.60164, 0.69805, 0.6739, 0.60237, 0.27688, 0.40131999999999995, 0.33475, 0.34201, 0.5152899999999999, 0.36878, 0.38847, 0.09806000000000001, 0.5687399999999999, 0.44055, 0.0, 0.35874, 0.41435, 0.36291, 0.7299, 0.047760000000000004, 0.48246000000000006, 0.72926, 0.22562, 0.70806, 0.23401999999999998, 0.76649, 0.61712, 0.40064, 0.16683, 0.20583, 0.31051, 0.36315, 0.33860999999999997, 0.4354, 0.43372, 0.29707, 0.61114, 0.38215, 0.46721, 0.06699, 0.1501, 0.24009, 0.15185, 0.27125, 0.30335, 0.42863999999999997, 0.3191, 0.7219300000000001, 0.22396, 0.28443], [0.66557, 0.6287699999999999, 0.6493800000000001, 0.66973, 0.63297, 0.64169, 0.6157600000000001, 0.6598, 0.6393800000000001, 0.6512399999999999, 0.41318999999999995, 0.63376, 0.62433, 0.48181, 0.54604, 0.49049, 0.61583, 0.6177699999999999, 0.5845, 0.64157, 0.59625, 0.63274, 0.42908, 0.54252, 0.5421, 0.6147699999999999, 0.44132, 0.6404, 0.55011, 0.44974, 0.46363999999999994, 0.6036199999999999, 0.53466, 0.5566399999999999, 0.31048000000000003, 0.45951000000000003, 0.60365, 0.3974, 0.55499, 0.5965699999999999, 0.55884, 0.4035, 0.57733, 0.6582100000000001, 0.31751, 0.49615, 0.33208000000000004, 0.48573999999999995, 0.45492, 0.26236, 0.57414, 0.32818, 0.53899, 0.51649, 0.60855, 0.21341999999999997, 0.55475, 0.41496000000000005, 0.37938, 0.53122, 0.5302399999999999, 0.25883, 0.41668, 0.36679, 0.50442, 0.49027, 0.40671999999999997, 0.28579, 0.24749000000000002, 0.4761, 0.56066, 0.59608, 0.44888, 0.46611, 0.59444, 0.22815, 0.43477, 0.34334000000000003, 0.5320600000000001, 0.3703, 0.12102, 0.40660999999999997, 0.1826, 0.5169699999999999, 0.48827, 0.35068, 0.20107, 0.51469, 0.29671, 0.62545, 0.46581999999999996, 0.41691000000000006, 0.33457, 0.34037, 0.35733000000000004, 0.09245, 0.31767, 0.57672, 0.59591, 0.43626000000000004, 0.30658, 0.07699, 0.33916, 0.32111999999999996, 0.40148, 0.47216, 0.26268, 0.24499, 0.4082, 0.30033000000000004, 0.25123, 0.0, 0.33207, 0.42341999999999996, 0.25861, 0.28531, 0.39786, 0.10081, 0.24425, 0.22605, 0.38282, 0.4345, 0.4084, 0.24231999999999998, 0.42215, 0.46074, 0.19847, 0.49495, 0.44017, 0.40576999999999996, 0.43054, 0.5372600000000001, 0.49309, 0.30587, 0.17288, 0.35570999999999997, 0.10384000000000002, 0.38856999999999997, 0.41466000000000003, 0.22916999999999998, 0.45726999999999995, 0.36772, 0.31914000000000003, 0.47691999999999996, 0.66246, 0.32878, 0.19184, 0.48878999999999995, 0.23501, 0.37725, 0.46866, 0.39493, 0.23414000000000001, 0.59201, 0.4845, 0.15684, 0.1185, 0.36453], [0.41978000000000004, 0.14145, 0.48357, 0.36503, 0.32957, 0.41372, 0.31814000000000003, 0.43843999999999994, 0.42922, 0.35636999999999996, 0.07785, 0.10583, 0.18675999999999998, 0.21311999999999998, 0.1589, 0.17521, 0.37798000000000004, 0.28703, 0.2254, 0.38583, 0.32066999999999996, 0.32524000000000003, 0.11069000000000001, 0.4921, 0.0927, 0.21843, 0.12869, 0.52208, 0.20646, 0.08484, 0.02652, 0.24558000000000002, 0.0512, 0.031869999999999996, 0.32524000000000003, 0.06398, 0.13585999999999998, 0.08129, 0.25609, 0.13633, 0.0114, 0.11775999999999999, 0.09472, 0.30826, 0.03431, 0.1806, 0.07857, 0.1809, 0.306, 0.02901, 0.08800000000000001, 0.01615, 0.08242000000000001, 0.08454, 0.03787, 0.01031, 0.19317, 0.05989, 0.1909, 0.04212, 0.10500999999999999, 0.0243, 0.11023, 0.03005, 0.02299, 0.1428, 0.06146, 0.17382999999999998, 0.04741, 0.30844, 0.07521, 0.37124, 0.15184, 0.0, 0.10440999999999999, 0.15746, 0.042319999999999997, 0.0403, 0.15445, 0.16065, 0.10464000000000001, 0.14293, 0.14296, 0.02781, 0.12468, 0.006490000000000001, 0.02617, 0.01078, 0.06332, 0.12279000000000001, 0.39928, 0.08546000000000001, 0.053270000000000005, 0.15603, 0.06412999999999999, 0.00227, 0.12504, 0.14234000000000002, 0.24249, 0.026660000000000003, 0.0306, 0.013969999999999998, 0.04582, 0.02758, 0.06825, 0.15072, 0.06358, 0.12905, 0.12569, 0.058629999999999995, 0.02961, 0.13788, 0.08884, 0.04355, 0.08079, 0.06232000000000001, 0.08492000000000001, 0.1466, 0.17175, 0.07625, 0.059070000000000004, 0.15048, 0.08786000000000001, 0.17461, 0.05839, 0.28105, 0.039, 0.12474, 0.19034, 0.38331, 0.06977, 0.09179, 0.05786, 0.00872, 0.06324, 0.07854, 0.07122, 0.12352, 0.11685999999999999, 0.19899999999999998, 0.07267, 0.10712999999999999, 0.11091, 0.15639, 0.07247, 0.05747000000000001, 0.08123999999999999, 0.08288999999999999, 0.05269, 0.12139000000000001, 0.17922000000000002, 0.12832000000000002, 0.09719, 0.55191, 0.0801, 0.18905999999999998, 0.10062, 0.10730999999999999], [0.29678000000000004, 0.4363, 0.34139, 0.34699, 0.45811, 0.23351, 0.4761, 0.36262, 0.47501000000000004, 0.43562, 0.33171999999999996, 0.25497, 0.33088, 0.14074, 0.40105, 0.14574, 0.28034000000000003, 0.45901000000000003, 0.2225, 0.26428, 0.51912, 0.21541999999999997, 0.058410000000000004, 0.31105, 0.24434, 0.28214, 0.33363000000000004, 0.32573, 0.12332, 0.11450999999999999, 0.10686, 0.2324, 0.18400999999999998, 0.5763, 0.13706, 0.18227000000000002, 0.51752, 0.25376, 0.16228, 0.16990999999999998, 0.31844, 0.10692, 0.27489, 0.22837, 0.16893, 0.10705, 0.18557, 0.11540999999999998, 0.17362, 0.22823000000000002, 0.20536, 0.20951, 0.3424, 0.11827, 0.25328, 0.026410000000000003, 0.27815, 0.14982, 0.11045999999999999, 0.16759000000000002, 0.33075, 0.054439999999999995, 0.18295, 0.00199, 0.2123, 0.26169000000000003, 0.30638000000000004, 0.07822, 0.2831, 0.16979, 0.37744, 0.39478, 0.0868, 0.51535, 0.1686, 0.12253, 0.3003, 0.27233, 0.47998, 0.07799, 0.33671, 0.11052999999999999, 0.1614, 0.08185, 0.19591, 0.13748, 0.19230999999999998, 0.13719, 0.18225999999999998, 0.24991, 0.5031800000000001, 0.07172, 0.22359, 0.22269, 0.14272, 0.24808000000000002, 0.16388, 0.21684, 0.42191999999999996, 0.3323, 0.18259, 0.0, 0.21854, 0.128, 0.23026999999999997, 0.22974, 0.06431, 0.11250999999999999, 0.21222, 0.38086, 0.15275, 0.17922000000000002, 0.11972999999999999, 0.23087, 0.18987, 0.24361999999999998, 0.26475, 0.19062, 0.46187, 0.24834, 0.32295999999999997, 0.24325, 0.21488000000000002, 0.21899999999999997, 0.37542, 0.18093, 0.07855, 0.10461, 0.79588, 0.055470000000000005, 0.33128, 0.40828000000000003, 0.20618000000000003, 0.11921, 0.11291, 0.09131, 0.12344000000000001, 0.18798, 0.12387999999999999, 0.17440999999999998, 0.29066, 0.20843000000000003, 0.06822, 0.19387000000000001, 0.40359, 0.34376999999999996, 0.21333000000000002, 0.23835, 0.18386, 0.28657, 0.20165, 0.21746999999999997, 0.3651, 0.22628, 0.1826, 0.47179, 0.19727, 0.16680999999999999], [2.5173799999999997, 2.70201, 2.4920400000000003, 2.4653099999999997, 2.4517599999999997, 2.61955, 2.4657, 2.3711900000000004, 2.26425, 2.26646, 3.08854, 3.17728, 2.5332, 3.6021400000000003, 2.51011, 3.26001, 1.9696099999999999, 1.9757, 2.4148400000000003, 2.24743, 1.9699400000000002, 2.4748900000000003, 3.1913099999999996, 1.8850099999999999, 2.84848, 2.1156900000000003, 2.67585, 1.55674, 2.21126, 2.8360000000000003, 2.67782, 2.3214200000000003, 2.85737, 2.31945, 2.43872, 2.12367, 1.6488, 2.32323, 1.8763400000000001, 2.79094, 2.2688200000000003, 3.035, 2.74255, 2.2374099999999997, 2.2463900000000003, 1.68435, 2.21978, 2.5394200000000002, 1.73797, 2.0251799999999998, 2.82334, 3.10712, 2.18896, 2.24729, 1.6158299999999999, 2.4464900000000003, 2.32407, 2.5945, 2.1309, 1.86565, 1.8854099999999998, 2.75414, 2.0906599999999997, 2.27394, 2.32038, 1.5988799999999999, 1.8893099999999998, 2.43209, 2.76579, 1.8698400000000002, 1.76145, 0.6542899999999999, 1.58782, 1.86399, 2.20173, 2.08528, 2.2327, 2.89319, 1.63794, 2.00073, 3.1070900000000004, 1.8799599999999999, 2.10017, 1.8604, 2.6343, 1.9312900000000002, 2.025, 1.26462, 1.62215, 1.7536, 2.11032, 2.4537299999999997, 1.7393299999999998, 3.05137, 1.89894, 2.06367, 2.79832, 1.21305, 1.7379900000000001, 1.34759, 2.48676, 1.8010099999999998, 1.57059, 1.24074, 1.84408, 2.1139900000000003, 2.12466, 2.0438400000000003, 2.51767, 1.6944, 1.5714, 1.95335, 1.7195599999999998, 2.30919, 2.44191, 2.7772900000000003, 2.27513, 2.20857, 2.24173, 2.86712, 1.9563700000000002, 2.44876, 2.51009, 2.11773, 1.78555, 2.05125, 1.75873, 1.46181, 1.41805, 1.59541, 2.8079099999999997, 0.67108, 1.95071, 0.89991, 1.59927, 1.92313, 1.9493900000000002, 1.79293, 1.68135, 1.95812, 1.42766, 1.44395, 0.99895, 1.87877, 0.98195, 1.38079, 1.851, 2.7223, 1.9429599999999998, 1.9917200000000002, 1.41723, 1.46494, 1.9521, 0.67042, 1.6332799999999998, 0.32858000000000004, 1.83302, 1.56726]]}, \"header\": {\"align\": [\"left\", \"left\", \"left\", \"left\", \"left\"], \"fill\": {\"color\": \"#C2D4FF\"}, \"values\": [\"country\", \"region\", \"happiness_rank\", \"happiness_score\", \"standard_error\", \"economy\", \"family\", \"health\", \"freedom\", \"trust\", \"generosity\", \"dystopia\"]}, \"type\": \"table\", \"uid\": \"994637f7-27c5-4be9-a89d-ee1fafca2e21\"}], {}, {\"showLink\": true, \"linkText\": \"Export to plot.ly\", \"plotlyServerURL\": \"https://plot.ly\"})});</script><script type=\"text/javascript\">window.addEventListener(\"resize\", function(){window._Plotly.Plots.resize(document.getElementById(\"327d9db6-842e-44ac-b059-97db2622b410\"));});</script>",
            "text/vnd.plotly.v1+html": "<div id=\"327d9db6-842e-44ac-b059-97db2622b410\" style=\"height: 525px; width: 100%;\" class=\"plotly-graph-div\"></div><script type=\"text/javascript\">require([\"plotly\"], function(Plotly) { window.PLOTLYENV=window.PLOTLYENV || {};window.PLOTLYENV.BASE_URL=\"https://plot.ly\";Plotly.newPlot(\"327d9db6-842e-44ac-b059-97db2622b410\", [{\"cells\": {\"align\": [\"left\", \"left\", \"left\", \"left\", \"left\"], \"fill\": {\"color\": \"#F5F8FF\"}, \"values\": [[\"Switzerland\", \"Iceland\", \"Denmark\", \"Norway\", \"Canada\", \"Finland\", \"Netherlands\", \"Sweden\", \"New Zealand\", \"Australia\", \"Israel\", \"Costa Rica\", \"Austria\", \"Mexico\", \"United States\", \"Brazil\", \"Luxembourg\", \"Ireland\", \"Belgium\", \"United Arab Emirates\", \"United Kingdom\", \"Oman\", \"Venezuela\", \"Singapore\", \"Panama\", \"Germany\", \"Chile\", \"Qatar\", \"France\", \"Argentina\", \"Czech Republic\", \"Uruguay\", \"Colombia\", \"Thailand\", \"Saudi Arabia\", \"Spain\", \"Malta\", \"Taiwan\", \"Kuwait\", \"Suriname\", \"Trinidad and Tobago\", \"El Salvador\", \"Guatemala\", \"Uzbekistan\", \"Slovakia\", \"Japan\", \"South Korea\", \"Ecuador\", \"Bahrain\", \"Italy\", \"Bolivia\", \"Moldova\", \"Paraguay\", \"Kazakhstan\", \"Slovenia\", \"Lithuania\", \"Nicaragua\", \"Peru\", \"Belarus\", \"Poland\", \"Malaysia\", \"Croatia\", \"Libya\", \"Russia\", \"Jamaica\", \"North Cyprus\", \"Cyprus\", \"Algeria\", \"Kosovo\", \"Turkmenistan\", \"Mauritius\", \"Hong Kong\", \"Estonia\", \"Indonesia\", \"Vietnam\", \"Turkey\", \"Kyrgyzstan\", \"Nigeria\", \"Bhutan\", \"Azerbaijan\", \"Pakistan\", \"Jordan\", \"Montenegro\", \"China\", \"Zambia\", \"Romania\", \"Serbia\", \"Portugal\", \"Latvia\", \"Philippines\", \"Somaliland region\", \"Morocco\", \"Macedonia\", \"Mozambique\", \"Albania\", \"Bosnia and Herzegovina\", \"Lesotho\", \"Dominican Republic\", \"Laos\", \"Mongolia\", \"Swaziland\", \"Greece\", \"Lebanon\", \"Hungary\", \"Honduras\", \"Tajikistan\", \"Tunisia\", \"Palestinian Territories\", \"Bangladesh\", \"Iran\", \"Ukraine\", \"Iraq\", \"South Africa\", \"Ghana\", \"Zimbabwe\", \"Liberia\", \"India\", \"Sudan\", \"Haiti\", \"Congo (Kinshasa)\", \"Nepal\", \"Ethiopia\", \"Sierra Leone\", \"Mauritania\", \"Kenya\", \"Djibouti\", \"Armenia\", \"Botswana\", \"Myanmar\", \"Georgia\", \"Malawi\", \"Sri Lanka\", \"Cameroon\", \"Bulgaria\", \"Egypt\", \"Yemen\", \"Angola\", \"Mali\", \"Congo (Brazzaville)\", \"Comoros\", \"Uganda\", \"Senegal\", \"Gabon\", \"Niger\", \"Cambodia\", \"Tanzania\", \"Madagascar\", \"Central African Republic\", \"Chad\", \"Guinea\", \"Ivory Coast\", \"Burkina Faso\", \"Afghanistan\", \"Rwanda\", \"Benin\", \"Syria\", \"Burundi\", \"Togo\"], [\"Western Europe\", \"Western Europe\", \"Western Europe\", \"Western Europe\", \"North America\", \"Western Europe\", \"Western Europe\", \"Western Europe\", \"Australia and New Zealand\", \"Australia and New Zealand\", \"Middle East and Northern Africa\", \"Latin America and Caribbean\", \"Western Europe\", \"Latin America and Caribbean\", \"North America\", \"Latin America and Caribbean\", \"Western Europe\", \"Western Europe\", \"Western Europe\", \"Middle East and Northern Africa\", \"Western Europe\", \"Middle East and Northern Africa\", \"Latin America and Caribbean\", \"Southeastern Asia\", \"Latin America and Caribbean\", \"Western Europe\", \"Latin America and Caribbean\", \"Middle East and Northern Africa\", \"Western Europe\", \"Latin America and Caribbean\", \"Central and Eastern Europe\", \"Latin America and Caribbean\", \"Latin America and Caribbean\", \"Southeastern Asia\", \"Middle East and Northern Africa\", \"Western Europe\", \"Western Europe\", \"Eastern Asia\", \"Middle East and Northern Africa\", \"Latin America and Caribbean\", \"Latin America and Caribbean\", \"Latin America and Caribbean\", \"Latin America and Caribbean\", \"Central and Eastern Europe\", \"Central and Eastern Europe\", \"Eastern Asia\", \"Eastern Asia\", \"Latin America and Caribbean\", \"Middle East and Northern Africa\", \"Western Europe\", \"Latin America and Caribbean\", \"Central and Eastern Europe\", \"Latin America and Caribbean\", \"Central and Eastern Europe\", \"Central and Eastern Europe\", \"Central and Eastern Europe\", \"Latin America and Caribbean\", \"Latin America and Caribbean\", \"Central and Eastern Europe\", \"Central and Eastern Europe\", \"Southeastern Asia\", \"Central and Eastern Europe\", \"Middle East and Northern Africa\", \"Central and Eastern Europe\", \"Latin America and Caribbean\", \"Western Europe\", \"Western Europe\", \"Middle East and Northern Africa\", \"Central and Eastern Europe\", \"Central and Eastern Europe\", \"Sub-Saharan Africa\", \"Eastern Asia\", \"Central and Eastern Europe\", \"Southeastern Asia\", \"Southeastern Asia\", \"Middle East and Northern Africa\", \"Central and Eastern Europe\", \"Sub-Saharan Africa\", \"Southern Asia\", \"Central and Eastern Europe\", \"Southern Asia\", \"Middle East and Northern Africa\", \"Central and Eastern Europe\", \"Eastern Asia\", \"Sub-Saharan Africa\", \"Central and Eastern Europe\", \"Central and Eastern Europe\", \"Western Europe\", \"Central and Eastern Europe\", \"Southeastern Asia\", \"Sub-Saharan Africa\", \"Middle East and Northern Africa\", \"Central and Eastern Europe\", \"Sub-Saharan Africa\", \"Central and Eastern Europe\", \"Central and Eastern Europe\", \"Sub-Saharan Africa\", \"Latin America and Caribbean\", \"Southeastern Asia\", \"Eastern Asia\", \"Sub-Saharan Africa\", \"Western Europe\", \"Middle East and Northern Africa\", \"Central and Eastern Europe\", \"Latin America and Caribbean\", \"Central and Eastern Europe\", \"Middle East and Northern Africa\", \"Middle East and Northern Africa\", \"Southern Asia\", \"Middle East and Northern Africa\", \"Central and Eastern Europe\", \"Middle East and Northern Africa\", \"Sub-Saharan Africa\", \"Sub-Saharan Africa\", \"Sub-Saharan Africa\", \"Sub-Saharan Africa\", \"Southern Asia\", \"Sub-Saharan Africa\", \"Latin America and Caribbean\", \"Sub-Saharan Africa\", \"Southern Asia\", \"Sub-Saharan Africa\", \"Sub-Saharan Africa\", \"Sub-Saharan Africa\", \"Sub-Saharan Africa\", \"Sub-Saharan Africa\", \"Central and Eastern Europe\", \"Sub-Saharan Africa\", \"Southeastern Asia\", \"Central and Eastern Europe\", \"Sub-Saharan Africa\", \"Southern Asia\", \"Sub-Saharan Africa\", \"Central and Eastern Europe\", \"Middle East and Northern Africa\", \"Middle East and Northern Africa\", \"Sub-Saharan Africa\", \"Sub-Saharan Africa\", \"Sub-Saharan Africa\", \"Sub-Saharan Africa\", \"Sub-Saharan Africa\", \"Sub-Saharan Africa\", \"Sub-Saharan Africa\", \"Sub-Saharan Africa\", \"Southeastern Asia\", \"Sub-Saharan Africa\", \"Sub-Saharan Africa\", \"Sub-Saharan Africa\", \"Sub-Saharan Africa\", \"Sub-Saharan Africa\", \"Sub-Saharan Africa\", \"Sub-Saharan Africa\", \"Southern Asia\", \"Sub-Saharan Africa\", \"Sub-Saharan Africa\", \"Middle East and Northern Africa\", \"Sub-Saharan Africa\", \"Sub-Saharan Africa\"], [1, 2, 3, 4, 5, 6, 7, 8, 9, 10, 11, 12, 13, 14, 15, 16, 17, 18, 19, 20, 21, 22, 23, 24, 25, 26, 27, 28, 29, 30, 31, 32, 33, 34, 35, 36, 37, 38, 39, 40, 41, 42, 43, 44, 45, 46, 47, 48, 49, 50, 51, 52, 53, 54, 55, 56, 57, 58, 59, 60, 61, 62, 63, 64, 65, 66, 67, 68, 69, 70, 71, 72, 73, 74, 75, 76, 77, 78, 79, 80, 81, 82, 82, 84, 85, 86, 87, 88, 89, 90, 91, 92, 93, 94, 95, 96, 97, 98, 99, 100, 101, 102, 103, 104, 105, 106, 107, 108, 109, 110, 111, 112, 113, 114, 115, 116, 117, 118, 119, 120, 121, 122, 123, 124, 125, 126, 127, 128, 129, 130, 131, 132, 133, 134, 135, 136, 137, 138, 139, 140, 141, 142, 143, 144, 145, 146, 147, 148, 149, 150, 151, 152, 153, 154, 155, 156, 157, 158], [7.587000000000001, 7.561, 7.527, 7.522, 7.4270000000000005, 7.406000000000001, 7.377999999999999, 7.364, 7.2860000000000005, 7.284, 7.278, 7.226, 7.2, 7.187, 7.119, 6.983, 6.946000000000001, 6.94, 6.937, 6.901, 6.867000000000001, 6.853, 6.81, 6.797999999999999, 6.7860000000000005, 6.75, 6.67, 6.611000000000001, 6.575, 6.574, 6.505, 6.485, 6.477, 6.455, 6.4110000000000005, 6.329, 6.3020000000000005, 6.297999999999999, 6.295, 6.269, 6.167999999999999, 6.13, 6.122999999999999, 6.002999999999999, 5.995, 5.987, 5.984, 5.975, 5.96, 5.9479999999999995, 5.89, 5.888999999999999, 5.877999999999999, 5.855, 5.848, 5.832999999999999, 5.827999999999999, 5.824, 5.813, 5.791, 5.77, 5.7589999999999995, 5.754, 5.716, 5.709, 5.695, 5.689, 5.605, 5.5889999999999995, 5.547999999999999, 5.477, 5.474, 5.428999999999999, 5.399, 5.36, 5.332000000000001, 5.2860000000000005, 5.268, 5.252999999999999, 5.212000000000001, 5.194, 5.192, 5.192, 5.14, 5.129, 5.124, 5.122999999999999, 5.102, 5.098, 5.073, 5.0569999999999995, 5.013, 5.007, 4.971, 4.959, 4.949, 4.898, 4.885, 4.876, 4.874, 4.867, 4.857, 4.8389999999999995, 4.8, 4.788, 4.7860000000000005, 4.739, 4.715, 4.694, 4.686, 4.681, 4.677, 4.6419999999999995, 4.633, 4.61, 4.571000000000001, 4.565, 4.55, 4.518, 4.5169999999999995, 4.513999999999999, 4.512, 4.507, 4.436, 4.419, 4.369, 4.35, 4.332, 4.3069999999999995, 4.297, 4.292, 4.271, 4.252, 4.218, 4.194, 4.077, 4.033, 3.995, 3.989, 3.9560000000000004, 3.931, 3.904, 3.8960000000000004, 3.845, 3.819, 3.781, 3.681, 3.678, 3.667, 3.656, 3.655, 3.5869999999999997, 3.575, 3.465, 3.34, 3.0060000000000002, 2.905, 2.839], [0.03411, 0.048839999999999995, 0.033280000000000004, 0.0388, 0.03553, 0.0314, 0.027989999999999998, 0.03157, 0.033710000000000004, 0.04083, 0.0347, 0.044539999999999996, 0.03751, 0.041760000000000005, 0.03839, 0.040760000000000005, 0.03499, 0.03676, 0.03595, 0.03729, 0.01866, 0.05335, 0.06476, 0.0378, 0.0491, 0.01848, 0.057999999999999996, 0.06257, 0.03512, 0.04612, 0.04168, 0.04539, 0.05051, 0.03557, 0.04633, 0.03468, 0.04206, 0.03868, 0.04456, 0.09811, 0.10895, 0.056179999999999994, 0.052239999999999995, 0.04361, 0.04267, 0.03581, 0.04098, 0.04528, 0.05412, 0.03914, 0.056420000000000005, 0.037989999999999996, 0.045630000000000004, 0.041139999999999996, 0.04251, 0.03843, 0.05371, 0.04615, 0.03938, 0.04263, 0.0433, 0.04394, 0.07832, 0.03135, 0.13693, 0.05635, 0.0558, 0.05099, 0.05018, 0.04175, 0.07197, 0.05051, 0.04013, 0.025960000000000004, 0.03107, 0.03864, 0.03823, 0.04192, 0.03225, 0.03363, 0.03726, 0.045239999999999995, 0.05235, 0.02424, 0.06988, 0.06607, 0.048639999999999996, 0.04802, 0.0464, 0.049339999999999995, 0.061610000000000005, 0.0342, 0.05376, 0.07896, 0.05013, 0.06913, 0.09437999999999999, 0.07446, 0.06698, 0.03313, 0.08742, 0.05062, 0.04337, 0.061070000000000006, 0.056479999999999995, 0.03198, 0.03589, 0.04394, 0.03077, 0.044489999999999995, 0.04412, 0.052320000000000005, 0.04585, 0.04742, 0.0429, 0.11068, 0.02043, 0.0674, 0.07331, 0.0368, 0.03607, 0.0378, 0.07067999999999999, 0.03947, 0.04734, 0.08096, 0.04763, 0.049339999999999995, 0.04351, 0.042210000000000004, 0.0613, 0.03751, 0.04678, 0.04828, 0.0326, 0.04367, 0.047580000000000004, 0.05602000000000001, 0.06682, 0.04797, 0.04317, 0.03608, 0.04547, 0.036019999999999996, 0.05069, 0.05061, 0.03633, 0.06112000000000001, 0.0383, 0.0359, 0.051410000000000004, 0.04324, 0.03084, 0.03464, 0.03656, 0.05015, 0.08657999999999999, 0.06727000000000001], [1.3965100000000001, 1.3023200000000001, 1.32548, 1.459, 1.32629, 1.29025, 1.32944, 1.33171, 1.2501799999999998, 1.33358, 1.2285700000000002, 0.95578, 1.33723, 1.02054, 1.3945100000000001, 0.98124, 1.5639100000000001, 1.33596, 1.30782, 1.42727, 1.26637, 1.36011, 1.04424, 1.52186, 1.0635299999999999, 1.32792, 1.10715, 1.69042, 1.27778, 1.05351, 1.17898, 1.06166, 0.91861, 0.9669, 1.39541, 1.23011, 1.2074, 1.29098, 1.5542200000000002, 0.99534, 1.21183, 0.76454, 0.74553, 0.63244, 1.1689100000000001, 1.27074, 1.24461, 0.8640200000000001, 1.32376, 1.25114, 0.68133, 0.59448, 0.75985, 1.1225399999999999, 1.18498, 1.14723, 0.59325, 0.9001899999999999, 1.0319200000000002, 1.12555, 1.12486, 1.08254, 1.13145, 1.13764, 0.81038, 1.2080600000000001, 1.20813, 0.93929, 0.80148, 0.95847, 1.0076100000000001, 1.38604, 1.15174, 0.8282700000000001, 0.63216, 1.06098, 0.47428000000000003, 0.65435, 0.77042, 1.02389, 0.59543, 0.9019799999999999, 0.9743799999999999, 0.89012, 0.47038, 1.04345, 0.92053, 1.15991, 1.11312, 0.70532, 0.18847, 0.7347899999999999, 0.91851, 0.08308, 0.8786700000000001, 0.8322299999999999, 0.37545, 0.8953700000000001, 0.5906600000000001, 0.82819, 0.71206, 1.15406, 1.0256399999999999, 1.12094, 0.59532, 0.39047, 0.88113, 0.59867, 0.39753, 1.0088, 0.79907, 0.98549, 0.9204899999999999, 0.5455800000000001, 0.271, 0.0712, 0.64499, 0.52107, 0.26673, 0.0, 0.35996999999999996, 0.19072999999999998, 0.33024000000000003, 0.45407, 0.36471, 0.44025, 0.7682100000000001, 0.99355, 0.27108000000000004, 0.7419, 0.016040000000000002, 0.83524, 0.4225, 1.01216, 0.8818, 0.5464899999999999, 0.75778, 0.26074, 0.67866, 0.23906, 0.21101999999999999, 0.36498, 1.06024, 0.0694, 0.46038, 0.2852, 0.20824, 0.0785, 0.34193, 0.17417, 0.46534, 0.25811999999999996, 0.31982, 0.22208000000000003, 0.28665, 0.6632, 0.0153, 0.20868], [1.34951, 1.4022299999999999, 1.36058, 1.33095, 1.32261, 1.31826, 1.28017, 1.2890700000000002, 1.3196700000000001, 1.30923, 1.22393, 1.2378799999999999, 1.29704, 0.91451, 1.24711, 1.2328700000000001, 1.21963, 1.36948, 1.28566, 1.12575, 1.28548, 1.08182, 1.25596, 1.02, 1.1985, 1.2993700000000001, 1.12447, 1.0786, 1.2603799999999998, 1.24823, 1.20643, 1.2089, 1.2401799999999998, 1.26504, 1.0839299999999998, 1.31379, 1.30203, 1.07617, 1.16594, 0.972, 1.18354, 1.0250700000000001, 1.04356, 1.34043, 1.26999, 1.25712, 0.9577399999999999, 0.99903, 1.21624, 1.19777, 0.97841, 1.01528, 1.30477, 1.1224100000000001, 1.27385, 1.25745, 1.14184, 0.97459, 1.23289, 1.27948, 1.07023, 0.79624, 1.1186200000000002, 1.23617, 1.1510200000000002, 1.07008, 0.89318, 1.07772, 0.81198, 1.22668, 0.98521, 1.05818, 1.22791, 1.0870799999999998, 0.9122600000000001, 0.94632, 1.15115, 0.9043200000000001, 1.10395, 0.9379299999999999, 0.41411000000000003, 1.05392, 0.9055700000000001, 0.94675, 0.91612, 0.8858799999999999, 1.0096399999999999, 1.13935, 1.09562, 1.03516, 0.95152, 0.64095, 1.00232, 1.02626, 0.8043399999999999, 0.9191600000000001, 1.04103, 1.17202, 0.73803, 1.3006, 1.07284, 0.9293299999999999, 0.80001, 1.20215, 0.9534799999999999, 0.8556299999999999, 0.60429, 0.92558, 0.43106000000000005, 0.54447, 1.20278, 0.81889, 1.18468, 0.6795399999999999, 1.0327600000000001, 0.78968, 0.38174, 1.01404, 0.74302, 1.0012, 0.86449, 0.60406, 0.9557100000000001, 0.86908, 0.99876, 0.59207, 0.7771100000000001, 1.10464, 0.70905, 0.38561999999999996, 0.41134, 1.01905, 0.8876700000000001, 1.10614, 0.747, 0.68093, 0.8604, 1.03526, 0.6629, 0.79273, 1.13299, 0.97619, 0.90528, 0.77265, 0.62736, 1.00268, 0.66801, 0.0, 0.76062, 0.46475, 0.77115, 0.85188, 0.30285, 0.7737, 0.35386, 0.47489, 0.41586999999999996, 0.13995], [0.9414299999999999, 0.94784, 0.87464, 0.88521, 0.9056299999999999, 0.8891100000000001, 0.89284, 0.9108700000000001, 0.9083700000000001, 0.93156, 0.9138700000000001, 0.8602700000000001, 0.8904200000000001, 0.8144399999999999, 0.86179, 0.69702, 0.91894, 0.89533, 0.8966700000000001, 0.80925, 0.90943, 0.76276, 0.7205199999999999, 1.02525, 0.79661, 0.89186, 0.85857, 0.79733, 0.9457899999999999, 0.78723, 0.84483, 0.8116, 0.69077, 0.7385, 0.72025, 0.95562, 0.88721, 0.8753, 0.72492, 0.6082, 0.61483, 0.67737, 0.64425, 0.59772, 0.7890199999999999, 0.99111, 0.9653799999999999, 0.79075, 0.74716, 0.9544600000000001, 0.5392, 0.61826, 0.66098, 0.64368, 0.8733700000000001, 0.73128, 0.7431399999999999, 0.73017, 0.7360800000000001, 0.77903, 0.7239399999999999, 0.78805, 0.7038, 0.6692600000000001, 0.6874100000000001, 0.92356, 0.92356, 0.61766, 0.63132, 0.53886, 0.7095, 1.01328, 0.77361, 0.63793, 0.7467600000000001, 0.73172, 0.65088, 0.16007000000000002, 0.57407, 0.64045, 0.51466, 0.69639, 0.72521, 0.81658, 0.29924, 0.7689, 0.74836, 0.8751899999999999, 0.72437, 0.58114, 0.43873, 0.60954, 0.73545, 0.09131, 0.81325, 0.79081, 0.07612000000000001, 0.66825, 0.54909, 0.60268, 0.07566, 0.88213, 0.83947, 0.75905, 0.6951, 0.5737899999999999, 0.73793, 0.66015, 0.60164, 0.69805, 0.6739, 0.60237, 0.27688, 0.40131999999999995, 0.33475, 0.34201, 0.5152899999999999, 0.36878, 0.38847, 0.09806000000000001, 0.5687399999999999, 0.44055, 0.0, 0.35874, 0.41435, 0.36291, 0.7299, 0.047760000000000004, 0.48246000000000006, 0.72926, 0.22562, 0.70806, 0.23401999999999998, 0.76649, 0.61712, 0.40064, 0.16683, 0.20583, 0.31051, 0.36315, 0.33860999999999997, 0.4354, 0.43372, 0.29707, 0.61114, 0.38215, 0.46721, 0.06699, 0.1501, 0.24009, 0.15185, 0.27125, 0.30335, 0.42863999999999997, 0.3191, 0.7219300000000001, 0.22396, 0.28443], [0.66557, 0.6287699999999999, 0.6493800000000001, 0.66973, 0.63297, 0.64169, 0.6157600000000001, 0.6598, 0.6393800000000001, 0.6512399999999999, 0.41318999999999995, 0.63376, 0.62433, 0.48181, 0.54604, 0.49049, 0.61583, 0.6177699999999999, 0.5845, 0.64157, 0.59625, 0.63274, 0.42908, 0.54252, 0.5421, 0.6147699999999999, 0.44132, 0.6404, 0.55011, 0.44974, 0.46363999999999994, 0.6036199999999999, 0.53466, 0.5566399999999999, 0.31048000000000003, 0.45951000000000003, 0.60365, 0.3974, 0.55499, 0.5965699999999999, 0.55884, 0.4035, 0.57733, 0.6582100000000001, 0.31751, 0.49615, 0.33208000000000004, 0.48573999999999995, 0.45492, 0.26236, 0.57414, 0.32818, 0.53899, 0.51649, 0.60855, 0.21341999999999997, 0.55475, 0.41496000000000005, 0.37938, 0.53122, 0.5302399999999999, 0.25883, 0.41668, 0.36679, 0.50442, 0.49027, 0.40671999999999997, 0.28579, 0.24749000000000002, 0.4761, 0.56066, 0.59608, 0.44888, 0.46611, 0.59444, 0.22815, 0.43477, 0.34334000000000003, 0.5320600000000001, 0.3703, 0.12102, 0.40660999999999997, 0.1826, 0.5169699999999999, 0.48827, 0.35068, 0.20107, 0.51469, 0.29671, 0.62545, 0.46581999999999996, 0.41691000000000006, 0.33457, 0.34037, 0.35733000000000004, 0.09245, 0.31767, 0.57672, 0.59591, 0.43626000000000004, 0.30658, 0.07699, 0.33916, 0.32111999999999996, 0.40148, 0.47216, 0.26268, 0.24499, 0.4082, 0.30033000000000004, 0.25123, 0.0, 0.33207, 0.42341999999999996, 0.25861, 0.28531, 0.39786, 0.10081, 0.24425, 0.22605, 0.38282, 0.4345, 0.4084, 0.24231999999999998, 0.42215, 0.46074, 0.19847, 0.49495, 0.44017, 0.40576999999999996, 0.43054, 0.5372600000000001, 0.49309, 0.30587, 0.17288, 0.35570999999999997, 0.10384000000000002, 0.38856999999999997, 0.41466000000000003, 0.22916999999999998, 0.45726999999999995, 0.36772, 0.31914000000000003, 0.47691999999999996, 0.66246, 0.32878, 0.19184, 0.48878999999999995, 0.23501, 0.37725, 0.46866, 0.39493, 0.23414000000000001, 0.59201, 0.4845, 0.15684, 0.1185, 0.36453], [0.41978000000000004, 0.14145, 0.48357, 0.36503, 0.32957, 0.41372, 0.31814000000000003, 0.43843999999999994, 0.42922, 0.35636999999999996, 0.07785, 0.10583, 0.18675999999999998, 0.21311999999999998, 0.1589, 0.17521, 0.37798000000000004, 0.28703, 0.2254, 0.38583, 0.32066999999999996, 0.32524000000000003, 0.11069000000000001, 0.4921, 0.0927, 0.21843, 0.12869, 0.52208, 0.20646, 0.08484, 0.02652, 0.24558000000000002, 0.0512, 0.031869999999999996, 0.32524000000000003, 0.06398, 0.13585999999999998, 0.08129, 0.25609, 0.13633, 0.0114, 0.11775999999999999, 0.09472, 0.30826, 0.03431, 0.1806, 0.07857, 0.1809, 0.306, 0.02901, 0.08800000000000001, 0.01615, 0.08242000000000001, 0.08454, 0.03787, 0.01031, 0.19317, 0.05989, 0.1909, 0.04212, 0.10500999999999999, 0.0243, 0.11023, 0.03005, 0.02299, 0.1428, 0.06146, 0.17382999999999998, 0.04741, 0.30844, 0.07521, 0.37124, 0.15184, 0.0, 0.10440999999999999, 0.15746, 0.042319999999999997, 0.0403, 0.15445, 0.16065, 0.10464000000000001, 0.14293, 0.14296, 0.02781, 0.12468, 0.006490000000000001, 0.02617, 0.01078, 0.06332, 0.12279000000000001, 0.39928, 0.08546000000000001, 0.053270000000000005, 0.15603, 0.06412999999999999, 0.00227, 0.12504, 0.14234000000000002, 0.24249, 0.026660000000000003, 0.0306, 0.013969999999999998, 0.04582, 0.02758, 0.06825, 0.15072, 0.06358, 0.12905, 0.12569, 0.058629999999999995, 0.02961, 0.13788, 0.08884, 0.04355, 0.08079, 0.06232000000000001, 0.08492000000000001, 0.1466, 0.17175, 0.07625, 0.059070000000000004, 0.15048, 0.08786000000000001, 0.17461, 0.05839, 0.28105, 0.039, 0.12474, 0.19034, 0.38331, 0.06977, 0.09179, 0.05786, 0.00872, 0.06324, 0.07854, 0.07122, 0.12352, 0.11685999999999999, 0.19899999999999998, 0.07267, 0.10712999999999999, 0.11091, 0.15639, 0.07247, 0.05747000000000001, 0.08123999999999999, 0.08288999999999999, 0.05269, 0.12139000000000001, 0.17922000000000002, 0.12832000000000002, 0.09719, 0.55191, 0.0801, 0.18905999999999998, 0.10062, 0.10730999999999999], [0.29678000000000004, 0.4363, 0.34139, 0.34699, 0.45811, 0.23351, 0.4761, 0.36262, 0.47501000000000004, 0.43562, 0.33171999999999996, 0.25497, 0.33088, 0.14074, 0.40105, 0.14574, 0.28034000000000003, 0.45901000000000003, 0.2225, 0.26428, 0.51912, 0.21541999999999997, 0.058410000000000004, 0.31105, 0.24434, 0.28214, 0.33363000000000004, 0.32573, 0.12332, 0.11450999999999999, 0.10686, 0.2324, 0.18400999999999998, 0.5763, 0.13706, 0.18227000000000002, 0.51752, 0.25376, 0.16228, 0.16990999999999998, 0.31844, 0.10692, 0.27489, 0.22837, 0.16893, 0.10705, 0.18557, 0.11540999999999998, 0.17362, 0.22823000000000002, 0.20536, 0.20951, 0.3424, 0.11827, 0.25328, 0.026410000000000003, 0.27815, 0.14982, 0.11045999999999999, 0.16759000000000002, 0.33075, 0.054439999999999995, 0.18295, 0.00199, 0.2123, 0.26169000000000003, 0.30638000000000004, 0.07822, 0.2831, 0.16979, 0.37744, 0.39478, 0.0868, 0.51535, 0.1686, 0.12253, 0.3003, 0.27233, 0.47998, 0.07799, 0.33671, 0.11052999999999999, 0.1614, 0.08185, 0.19591, 0.13748, 0.19230999999999998, 0.13719, 0.18225999999999998, 0.24991, 0.5031800000000001, 0.07172, 0.22359, 0.22269, 0.14272, 0.24808000000000002, 0.16388, 0.21684, 0.42191999999999996, 0.3323, 0.18259, 0.0, 0.21854, 0.128, 0.23026999999999997, 0.22974, 0.06431, 0.11250999999999999, 0.21222, 0.38086, 0.15275, 0.17922000000000002, 0.11972999999999999, 0.23087, 0.18987, 0.24361999999999998, 0.26475, 0.19062, 0.46187, 0.24834, 0.32295999999999997, 0.24325, 0.21488000000000002, 0.21899999999999997, 0.37542, 0.18093, 0.07855, 0.10461, 0.79588, 0.055470000000000005, 0.33128, 0.40828000000000003, 0.20618000000000003, 0.11921, 0.11291, 0.09131, 0.12344000000000001, 0.18798, 0.12387999999999999, 0.17440999999999998, 0.29066, 0.20843000000000003, 0.06822, 0.19387000000000001, 0.40359, 0.34376999999999996, 0.21333000000000002, 0.23835, 0.18386, 0.28657, 0.20165, 0.21746999999999997, 0.3651, 0.22628, 0.1826, 0.47179, 0.19727, 0.16680999999999999], [2.5173799999999997, 2.70201, 2.4920400000000003, 2.4653099999999997, 2.4517599999999997, 2.61955, 2.4657, 2.3711900000000004, 2.26425, 2.26646, 3.08854, 3.17728, 2.5332, 3.6021400000000003, 2.51011, 3.26001, 1.9696099999999999, 1.9757, 2.4148400000000003, 2.24743, 1.9699400000000002, 2.4748900000000003, 3.1913099999999996, 1.8850099999999999, 2.84848, 2.1156900000000003, 2.67585, 1.55674, 2.21126, 2.8360000000000003, 2.67782, 2.3214200000000003, 2.85737, 2.31945, 2.43872, 2.12367, 1.6488, 2.32323, 1.8763400000000001, 2.79094, 2.2688200000000003, 3.035, 2.74255, 2.2374099999999997, 2.2463900000000003, 1.68435, 2.21978, 2.5394200000000002, 1.73797, 2.0251799999999998, 2.82334, 3.10712, 2.18896, 2.24729, 1.6158299999999999, 2.4464900000000003, 2.32407, 2.5945, 2.1309, 1.86565, 1.8854099999999998, 2.75414, 2.0906599999999997, 2.27394, 2.32038, 1.5988799999999999, 1.8893099999999998, 2.43209, 2.76579, 1.8698400000000002, 1.76145, 0.6542899999999999, 1.58782, 1.86399, 2.20173, 2.08528, 2.2327, 2.89319, 1.63794, 2.00073, 3.1070900000000004, 1.8799599999999999, 2.10017, 1.8604, 2.6343, 1.9312900000000002, 2.025, 1.26462, 1.62215, 1.7536, 2.11032, 2.4537299999999997, 1.7393299999999998, 3.05137, 1.89894, 2.06367, 2.79832, 1.21305, 1.7379900000000001, 1.34759, 2.48676, 1.8010099999999998, 1.57059, 1.24074, 1.84408, 2.1139900000000003, 2.12466, 2.0438400000000003, 2.51767, 1.6944, 1.5714, 1.95335, 1.7195599999999998, 2.30919, 2.44191, 2.7772900000000003, 2.27513, 2.20857, 2.24173, 2.86712, 1.9563700000000002, 2.44876, 2.51009, 2.11773, 1.78555, 2.05125, 1.75873, 1.46181, 1.41805, 1.59541, 2.8079099999999997, 0.67108, 1.95071, 0.89991, 1.59927, 1.92313, 1.9493900000000002, 1.79293, 1.68135, 1.95812, 1.42766, 1.44395, 0.99895, 1.87877, 0.98195, 1.38079, 1.851, 2.7223, 1.9429599999999998, 1.9917200000000002, 1.41723, 1.46494, 1.9521, 0.67042, 1.6332799999999998, 0.32858000000000004, 1.83302, 1.56726]]}, \"header\": {\"align\": [\"left\", \"left\", \"left\", \"left\", \"left\"], \"fill\": {\"color\": \"#C2D4FF\"}, \"values\": [\"country\", \"region\", \"happiness_rank\", \"happiness_score\", \"standard_error\", \"economy\", \"family\", \"health\", \"freedom\", \"trust\", \"generosity\", \"dystopia\"]}, \"type\": \"table\", \"uid\": \"994637f7-27c5-4be9-a89d-ee1fafca2e21\"}], {}, {\"showLink\": true, \"linkText\": \"Export to plot.ly\", \"plotlyServerURL\": \"https://plot.ly\"})});</script><script type=\"text/javascript\">window.addEventListener(\"resize\", function(){window._Plotly.Plots.resize(document.getElementById(\"327d9db6-842e-44ac-b059-97db2622b410\"));});</script>"
          },
          "metadata": {}
        }
      ]
    },
    {
      "metadata": {
        "_uuid": "6e1aa5e017de039286464f18c3e96ec8d5d9d339"
      },
      "cell_type": "markdown",
      "source": "## Heatmap"
    },
    {
      "metadata": {
        "_kg_hide-input": true,
        "trusted": true,
        "_uuid": "5eb9ea966972b427b7e60017516f7f53491996d3"
      },
      "cell_type": "code",
      "source": "f,ax=plt.subplots(figsize=(8,8))\nsns.heatmap(data2015.corr(),annot=True,linewidth=.5,fmt='.1f',ax=ax)\nplt.show()",
      "execution_count": 5,
      "outputs": [
        {
          "output_type": "display_data",
          "data": {
            "text/plain": "<Figure size 576x576 with 2 Axes>",
            "image/png": "[encoded data removed]"
          },
          "metadata": {}
        }
      ]
    },
    {
      "metadata": {
        "_uuid": "bf3faf59b5b02f24c19ab4e4ac34d9424fbef229"
      },
      "cell_type": "markdown",
      "source": "## Happiness ranking by region"
    },
    {
      "metadata": {
        "trusted": true,
        "_uuid": "63708affc0b56d28b5fa94d11f936b6359066b61",
        "_kg_hide-input": true
      },
      "cell_type": "code",
      "source": "region_mean = data2015.groupby(['region'])['happiness_score'].mean()\nregion_mean.sort_values(ascending=False, inplace=True)\n\n# Bar Chart\ntrace1 = go.Bar(\n    x=region_mean.index,\n    y=region_mean.values,\n    marker=dict(\n        color=['rgb(93, 100, 210)', 'rgb(255, 144, 14)',\n               'rgb(44, 160, 101)', 'rgb(255, 65, 54)'],\n        line=dict(\n            color='rgb(8,48,107)',\n            width=1.5,\n        )\n    ),\n)\n\ndata = [trace1]\nlayout = go.Layout(\n    barmode='stack'\n)\nlayout = dict(title = '2015 Happiness ranking by region',\n              xaxis= dict(title= 'Region',ticklen= 5,zeroline= False)\n             )\nfig = go.Figure(data=data, layout=layout)\niplot(fig)",
      "execution_count": 6,
      "outputs": [
        {
          "output_type": "display_data",
          "data": {
            "application/vnd.plotly.v1+json": {
              "data": [
                {
                  "marker": {
                    "color": [
                      "rgb(93, 100, 210)",
                      "rgb(255, 144, 14)",
                      "rgb(44, 160, 101)",
                      "rgb(255, 65, 54)"
                    ],
                    "line": {
                      "color": "rgb(8,48,107)",
                      "width": 1.5
                    }
                  },
                  "x": [
                    "Australia and New Zealand",
                    "North America",
                    "Western Europe",
                    "Latin America and Caribbean",
                    "Eastern Asia",
                    "Middle East and Northern Africa",
                    "Central and Eastern Europe",
                    "Southeastern Asia",
                    "Southern Asia",
                    "Sub-Saharan Africa"
                  ],
                  "y": [
                    7.285,
                    7.273,
                    6.689619047619048,
                    6.144681818181818,
                    5.626166666666666,
                    5.406899999999999,
                    5.332931034482758,
                    5.317444444444445,
                    4.580857142857143,
                    4.202800000000001
                  ],
                  "type": "bar",
                  "uid": "c7f18940-4f7d-4d73-a136-1dcb35e027ee"
                }
              ],
              "layout": {
                "title": "2015 Happiness ranking by region",
                "xaxis": {
                  "ticklen": 5,
                  "title": "Region",
                  "zeroline": false
                }
              },
              "config": {
                "showLink": true,
                "linkText": "Export to plot.ly",
                "plotlyServerURL": "https://plot.ly"
              }
            },
            "text/html": "<div id=\"abca1bd1-60b8-40b6-b3c3-559c3bf72654\" style=\"height: 525px; width: 100%;\" class=\"plotly-graph-div\"></div><script type=\"text/javascript\">require([\"plotly\"], function(Plotly) { window.PLOTLYENV=window.PLOTLYENV || {};window.PLOTLYENV.BASE_URL=\"https://plot.ly\";Plotly.newPlot(\"abca1bd1-60b8-40b6-b3c3-559c3bf72654\", [{\"marker\": {\"color\": [\"rgb(93, 100, 210)\", \"rgb(255, 144, 14)\", \"rgb(44, 160, 101)\", \"rgb(255, 65, 54)\"], \"line\": {\"color\": \"rgb(8,48,107)\", \"width\": 1.5}}, \"x\": [\"Australia and New Zealand\", \"North America\", \"Western Europe\", \"Latin America and Caribbean\", \"Eastern Asia\", \"Middle East and Northern Africa\", \"Central and Eastern Europe\", \"Southeastern Asia\", \"Southern Asia\", \"Sub-Saharan Africa\"], \"y\": [7.285, 7.273, 6.689619047619048, 6.144681818181818, 5.626166666666666, 5.406899999999999, 5.332931034482758, 5.317444444444445, 4.580857142857143, 4.202800000000001], \"type\": \"bar\", \"uid\": \"c7f18940-4f7d-4d73-a136-1dcb35e027ee\"}], {\"title\": \"2015 Happiness ranking by region\", \"xaxis\": {\"ticklen\": 5, \"title\": \"Region\", \"zeroline\": false}}, {\"showLink\": true, \"linkText\": \"Export to plot.ly\", \"plotlyServerURL\": \"https://plot.ly\"})});</script><script type=\"text/javascript\">window.addEventListener(\"resize\", function(){window._Plotly.Plots.resize(document.getElementById(\"abca1bd1-60b8-40b6-b3c3-559c3bf72654\"));});</script>",
            "text/vnd.plotly.v1+html": "<div id=\"abca1bd1-60b8-40b6-b3c3-559c3bf72654\" style=\"height: 525px; width: 100%;\" class=\"plotly-graph-div\"></div><script type=\"text/javascript\">require([\"plotly\"], function(Plotly) { window.PLOTLYENV=window.PLOTLYENV || {};window.PLOTLYENV.BASE_URL=\"https://plot.ly\";Plotly.newPlot(\"abca1bd1-60b8-40b6-b3c3-559c3bf72654\", [{\"marker\": {\"color\": [\"rgb(93, 100, 210)\", \"rgb(255, 144, 14)\", \"rgb(44, 160, 101)\", \"rgb(255, 65, 54)\"], \"line\": {\"color\": \"rgb(8,48,107)\", \"width\": 1.5}}, \"x\": [\"Australia and New Zealand\", \"North America\", \"Western Europe\", \"Latin America and Caribbean\", \"Eastern Asia\", \"Middle East and Northern Africa\", \"Central and Eastern Europe\", \"Southeastern Asia\", \"Southern Asia\", \"Sub-Saharan Africa\"], \"y\": [7.285, 7.273, 6.689619047619048, 6.144681818181818, 5.626166666666666, 5.406899999999999, 5.332931034482758, 5.317444444444445, 4.580857142857143, 4.202800000000001], \"type\": \"bar\", \"uid\": \"c7f18940-4f7d-4d73-a136-1dcb35e027ee\"}], {\"title\": \"2015 Happiness ranking by region\", \"xaxis\": {\"ticklen\": 5, \"title\": \"Region\", \"zeroline\": false}}, {\"showLink\": true, \"linkText\": \"Export to plot.ly\", \"plotlyServerURL\": \"https://plot.ly\"})});</script><script type=\"text/javascript\">window.addEventListener(\"resize\", function(){window._Plotly.Plots.resize(document.getElementById(\"abca1bd1-60b8-40b6-b3c3-559c3bf72654\"));});</script>"
          },
          "metadata": {}
        }
      ]
    },
    {
      "metadata": {
        "_uuid": "3a1d142ee5d0a24e1fa3f1c3a09b6c40fe044f85"
      },
      "cell_type": "markdown",
      "source": "## Economy ranking by region"
    },
    {
      "metadata": {
        "trusted": true,
        "_uuid": "6fe9d5fd7c6c2df47c064239cf96763ce78ead37",
        "_kg_hide-input": true
      },
      "cell_type": "code",
      "source": "region_mean = data2015.groupby(['region'])['economy'].mean()\nregion_mean.sort_values(ascending=False, inplace=True)\n\n# Bar Chart\ntrace1 = go.Bar(\n    x=region_mean.index,\n    y=region_mean.values,\n    marker=dict(\n        color=['rgb(93, 100, 210)', 'rgb(255, 144, 14)',\n               'rgb(44, 160, 101)', 'rgb(255, 65, 54)'],\n        line=dict(\n            color='rgb(8,48,107)',\n            width=1.5,\n        )\n    ),\n)\n\ndata = [trace1]\nlayout = go.Layout(\n    barmode='stack'\n)\nlayout = dict(title = '2015 Economy ranking by region',\n              xaxis= dict(title= 'Region',ticklen= 5,zeroline= False)\n             )\nfig = go.Figure(data=data, layout=layout)\niplot(fig)",
      "execution_count": 7,
      "outputs": [
        {
          "output_type": "display_data",
          "data": {
            "application/vnd.plotly.v1+json": {
              "data": [
                {
                  "marker": {
                    "color": [
                      "rgb(93, 100, 210)",
                      "rgb(255, 144, 14)",
                      "rgb(44, 160, 101)",
                      "rgb(255, 65, 54)"
                    ],
                    "line": {
                      "color": "rgb(8,48,107)",
                      "width": 1.5
                    }
                  },
                  "x": [
                    "North America",
                    "Western Europe",
                    "Australia and New Zealand",
                    "Eastern Asia",
                    "Middle East and Northern Africa",
                    "Central and Eastern Europe",
                    "Latin America and Caribbean",
                    "Southeastern Asia",
                    "Southern Asia",
                    "Sub-Saharan Africa"
                  ],
                  "y": [
                    1.3604,
                    1.2985957142857143,
                    1.29188,
                    1.15178,
                    1.0669734999999998,
                    0.942438275862069,
                    0.8768154545454546,
                    0.7890544444444445,
                    0.5604857142857143,
                    0.38047299999999995
                  ],
                  "type": "bar",
                  "uid": "80f73c5e-0178-4d26-86d6-488148caf223"
                }
              ],
              "layout": {
                "title": "2015 Economy ranking by region",
                "xaxis": {
                  "ticklen": 5,
                  "title": "Region",
                  "zeroline": false
                }
              },
              "config": {
                "showLink": true,
                "linkText": "Export to plot.ly",
                "plotlyServerURL": "https://plot.ly"
              }
            },
            "text/html": "<div id=\"728bf0b6-ad88-4422-b5f0-3d8d36b83d88\" style=\"height: 525px; width: 100%;\" class=\"plotly-graph-div\"></div><script type=\"text/javascript\">require([\"plotly\"], function(Plotly) { window.PLOTLYENV=window.PLOTLYENV || {};window.PLOTLYENV.BASE_URL=\"https://plot.ly\";Plotly.newPlot(\"728bf0b6-ad88-4422-b5f0-3d8d36b83d88\", [{\"marker\": {\"color\": [\"rgb(93, 100, 210)\", \"rgb(255, 144, 14)\", \"rgb(44, 160, 101)\", \"rgb(255, 65, 54)\"], \"line\": {\"color\": \"rgb(8,48,107)\", \"width\": 1.5}}, \"x\": [\"North America\", \"Western Europe\", \"Australia and New Zealand\", \"Eastern Asia\", \"Middle East and Northern Africa\", \"Central and Eastern Europe\", \"Latin America and Caribbean\", \"Southeastern Asia\", \"Southern Asia\", \"Sub-Saharan Africa\"], \"y\": [1.3604, 1.2985957142857143, 1.29188, 1.15178, 1.0669734999999998, 0.942438275862069, 0.8768154545454546, 0.7890544444444445, 0.5604857142857143, 0.38047299999999995], \"type\": \"bar\", \"uid\": \"80f73c5e-0178-4d26-86d6-488148caf223\"}], {\"title\": \"2015 Economy ranking by region\", \"xaxis\": {\"ticklen\": 5, \"title\": \"Region\", \"zeroline\": false}}, {\"showLink\": true, \"linkText\": \"Export to plot.ly\", \"plotlyServerURL\": \"https://plot.ly\"})});</script><script type=\"text/javascript\">window.addEventListener(\"resize\", function(){window._Plotly.Plots.resize(document.getElementById(\"728bf0b6-ad88-4422-b5f0-3d8d36b83d88\"));});</script>",
            "text/vnd.plotly.v1+html": "<div id=\"728bf0b6-ad88-4422-b5f0-3d8d36b83d88\" style=\"height: 525px; width: 100%;\" class=\"plotly-graph-div\"></div><script type=\"text/javascript\">require([\"plotly\"], function(Plotly) { window.PLOTLYENV=window.PLOTLYENV || {};window.PLOTLYENV.BASE_URL=\"https://plot.ly\";Plotly.newPlot(\"728bf0b6-ad88-4422-b5f0-3d8d36b83d88\", [{\"marker\": {\"color\": [\"rgb(93, 100, 210)\", \"rgb(255, 144, 14)\", \"rgb(44, 160, 101)\", \"rgb(255, 65, 54)\"], \"line\": {\"color\": \"rgb(8,48,107)\", \"width\": 1.5}}, \"x\": [\"North America\", \"Western Europe\", \"Australia and New Zealand\", \"Eastern Asia\", \"Middle East and Northern Africa\", \"Central and Eastern Europe\", \"Latin America and Caribbean\", \"Southeastern Asia\", \"Southern Asia\", \"Sub-Saharan Africa\"], \"y\": [1.3604, 1.2985957142857143, 1.29188, 1.15178, 1.0669734999999998, 0.942438275862069, 0.8768154545454546, 0.7890544444444445, 0.5604857142857143, 0.38047299999999995], \"type\": \"bar\", \"uid\": \"80f73c5e-0178-4d26-86d6-488148caf223\"}], {\"title\": \"2015 Economy ranking by region\", \"xaxis\": {\"ticklen\": 5, \"title\": \"Region\", \"zeroline\": false}}, {\"showLink\": true, \"linkText\": \"Export to plot.ly\", \"plotlyServerURL\": \"https://plot.ly\"})});</script><script type=\"text/javascript\">window.addEventListener(\"resize\", function(){window._Plotly.Plots.resize(document.getElementById(\"728bf0b6-ad88-4422-b5f0-3d8d36b83d88\"));});</script>"
          },
          "metadata": {}
        }
      ]
    },
    {
      "metadata": {
        "_uuid": "a17fa9b315b468f0dedfc2b2a696c4fa0456f756"
      },
      "cell_type": "markdown",
      "source": "## Family ranking by region"
    },
    {
      "metadata": {
        "trusted": true,
        "_uuid": "05032580d0ea16674814ddf03eb0e97dc25b2293",
        "_kg_hide-input": true
      },
      "cell_type": "code",
      "source": "region_mean = data2015.groupby(['region'])['family'].mean()\nregion_mean.sort_values(ascending=False, inplace=True)\n\n# Bar Chart\ntrace1 = go.Bar(\n    x=region_mean.index,\n    y=region_mean.values,\n    marker=dict(\n        color=['rgb(93, 100, 210)', 'rgb(255, 144, 14)',\n               'rgb(44, 160, 101)', 'rgb(255, 65, 54)'],\n        line=dict(\n            color='rgb(8,48,107)',\n            width=1.5,\n        )\n    ),\n)\n\ndata = [trace1]\nlayout = go.Layout(\n    barmode='stack'\n)\nlayout = dict(title = '2015 Family ranking by region',\n              xaxis= dict(title= 'Region',ticklen= 5,zeroline= False)\n             )\nfig = go.Figure(data=data, layout=layout)\niplot(fig)",
      "execution_count": 8,
      "outputs": [
        {
          "output_type": "display_data",
          "data": {
            "application/vnd.plotly.v1+json": {
              "data": [
                {
                  "marker": {
                    "color": [
                      "rgb(93, 100, 210)",
                      "rgb(255, 144, 14)",
                      "rgb(44, 160, 101)",
                      "rgb(255, 65, 54)"
                    ],
                    "line": {
                      "color": "rgb(8,48,107)",
                      "width": 1.5
                    }
                  },
                  "x": [
                    "Australia and New Zealand",
                    "North America",
                    "Western Europe",
                    "Latin America and Caribbean",
                    "Eastern Asia",
                    "Central and Eastern Europe",
                    "Southeastern Asia",
                    "Middle East and Northern Africa",
                    "Sub-Saharan Africa",
                    "Southern Asia"
                  ],
                  "y": [
                    1.31445,
                    1.2848600000000001,
                    1.247301904761905,
                    1.1047204545454543,
                    1.0994266666666666,
                    1.0530424137931036,
                    0.9404677777777777,
                    0.92049,
                    0.8090849999999999,
                    0.6453214285714285
                  ],
                  "type": "bar",
                  "uid": "4ff19025-f79c-4d4d-9c39-52d2ec4cffeb"
                }
              ],
              "layout": {
                "title": "2015 Family ranking by region",
                "xaxis": {
                  "ticklen": 5,
                  "title": "Region",
                  "zeroline": false
                }
              },
              "config": {
                "showLink": true,
                "linkText": "Export to plot.ly",
                "plotlyServerURL": "https://plot.ly"
              }
            },
            "text/html": "<div id=\"7aa48101-4451-48ae-a2d7-60a25216d5dd\" style=\"height: 525px; width: 100%;\" class=\"plotly-graph-div\"></div><script type=\"text/javascript\">require([\"plotly\"], function(Plotly) { window.PLOTLYENV=window.PLOTLYENV || {};window.PLOTLYENV.BASE_URL=\"https://plot.ly\";Plotly.newPlot(\"7aa48101-4451-48ae-a2d7-60a25216d5dd\", [{\"marker\": {\"color\": [\"rgb(93, 100, 210)\", \"rgb(255, 144, 14)\", \"rgb(44, 160, 101)\", \"rgb(255, 65, 54)\"], \"line\": {\"color\": \"rgb(8,48,107)\", \"width\": 1.5}}, \"x\": [\"Australia and New Zealand\", \"North America\", \"Western Europe\", \"Latin America and Caribbean\", \"Eastern Asia\", \"Central and Eastern Europe\", \"Southeastern Asia\", \"Middle East and Northern Africa\", \"Sub-Saharan Africa\", \"Southern Asia\"], \"y\": [1.31445, 1.2848600000000001, 1.247301904761905, 1.1047204545454543, 1.0994266666666666, 1.0530424137931036, 0.9404677777777777, 0.92049, 0.8090849999999999, 0.6453214285714285], \"type\": \"bar\", \"uid\": \"4ff19025-f79c-4d4d-9c39-52d2ec4cffeb\"}], {\"title\": \"2015 Family ranking by region\", \"xaxis\": {\"ticklen\": 5, \"title\": \"Region\", \"zeroline\": false}}, {\"showLink\": true, \"linkText\": \"Export to plot.ly\", \"plotlyServerURL\": \"https://plot.ly\"})});</script><script type=\"text/javascript\">window.addEventListener(\"resize\", function(){window._Plotly.Plots.resize(document.getElementById(\"7aa48101-4451-48ae-a2d7-60a25216d5dd\"));});</script>",
            "text/vnd.plotly.v1+html": "<div id=\"7aa48101-4451-48ae-a2d7-60a25216d5dd\" style=\"height: 525px; width: 100%;\" class=\"plotly-graph-div\"></div><script type=\"text/javascript\">require([\"plotly\"], function(Plotly) { window.PLOTLYENV=window.PLOTLYENV || {};window.PLOTLYENV.BASE_URL=\"https://plot.ly\";Plotly.newPlot(\"7aa48101-4451-48ae-a2d7-60a25216d5dd\", [{\"marker\": {\"color\": [\"rgb(93, 100, 210)\", \"rgb(255, 144, 14)\", \"rgb(44, 160, 101)\", \"rgb(255, 65, 54)\"], \"line\": {\"color\": \"rgb(8,48,107)\", \"width\": 1.5}}, \"x\": [\"Australia and New Zealand\", \"North America\", \"Western Europe\", \"Latin America and Caribbean\", \"Eastern Asia\", \"Central and Eastern Europe\", \"Southeastern Asia\", \"Middle East and Northern Africa\", \"Sub-Saharan Africa\", \"Southern Asia\"], \"y\": [1.31445, 1.2848600000000001, 1.247301904761905, 1.1047204545454543, 1.0994266666666666, 1.0530424137931036, 0.9404677777777777, 0.92049, 0.8090849999999999, 0.6453214285714285], \"type\": \"bar\", \"uid\": \"4ff19025-f79c-4d4d-9c39-52d2ec4cffeb\"}], {\"title\": \"2015 Family ranking by region\", \"xaxis\": {\"ticklen\": 5, \"title\": \"Region\", \"zeroline\": false}}, {\"showLink\": true, \"linkText\": \"Export to plot.ly\", \"plotlyServerURL\": \"https://plot.ly\"})});</script><script type=\"text/javascript\">window.addEventListener(\"resize\", function(){window._Plotly.Plots.resize(document.getElementById(\"7aa48101-4451-48ae-a2d7-60a25216d5dd\"));});</script>"
          },
          "metadata": {}
        }
      ]
    },
    {
      "metadata": {
        "_uuid": "b8243d97eaabe185cd915e67957c5bdfe0158e85"
      },
      "cell_type": "markdown",
      "source": "## Health ranking by region"
    },
    {
      "metadata": {
        "trusted": true,
        "_uuid": "b19596cfaa40c168ac92327ef96c24fba06ec463",
        "_kg_hide-input": true
      },
      "cell_type": "code",
      "source": "region_mean = data2015.groupby(['region'])['health'].mean()\nregion_mean.sort_values(ascending=False, inplace=True)\n\n# Bar Chart\ntrace1 = go.Bar(\n    x=region_mean.index,\n    y=region_mean.values,\n    marker=dict(\n        color=['rgb(93, 100, 210)', 'rgb(255, 144, 14)',\n               'rgb(44, 160, 101)', 'rgb(255, 65, 54)'],\n        line=dict(\n            color='rgb(8,48,107)',\n            width=1.5,\n        )\n    ),\n)\n\ndata = [trace1]\nlayout = go.Layout(\n    barmode='stack'\n)\nlayout = dict(title = '2015 Health ranking by region',\n              xaxis= dict(title= 'Region',ticklen= 5,zeroline= False)\n             )\nfig = go.Figure(data=data, layout=layout)\niplot(fig)",
      "execution_count": 9,
      "outputs": [
        {
          "output_type": "display_data",
          "data": {
            "application/vnd.plotly.v1+json": {
              "data": [
                {
                  "marker": {
                    "color": [
                      "rgb(93, 100, 210)",
                      "rgb(255, 144, 14)",
                      "rgb(44, 160, 101)",
                      "rgb(255, 65, 54)"
                    ],
                    "line": {
                      "color": "rgb(8,48,107)",
                      "width": 1.5
                    }
                  },
                  "x": [
                    "Australia and New Zealand",
                    "Western Europe",
                    "North America",
                    "Eastern Asia",
                    "Central and Eastern Europe",
                    "Middle East and Northern Africa",
                    "Latin America and Caribbean",
                    "Southeastern Asia",
                    "Southern Asia",
                    "Sub-Saharan Africa"
                  ],
                  "y": [
                    0.9199650000000001,
                    0.909148095238095,
                    0.88371,
                    0.8773883333333333,
                    0.7187737931034482,
                    0.7056155000000001,
                    0.7038704545454545,
                    0.6773566666666665,
                    0.54083,
                    0.28233175
                  ],
                  "type": "bar",
                  "uid": "b2fe0523-c28d-4ecd-a9fa-451a57930393"
                }
              ],
              "layout": {
                "title": "2015 Health ranking by region",
                "xaxis": {
                  "ticklen": 5,
                  "title": "Region",
                  "zeroline": false
                }
              },
              "config": {
                "showLink": true,
                "linkText": "Export to plot.ly",
                "plotlyServerURL": "https://plot.ly"
              }
            },
            "text/html": "<div id=\"a227ffca-68ff-4d03-99f5-4e1399d35f51\" style=\"height: 525px; width: 100%;\" class=\"plotly-graph-div\"></div><script type=\"text/javascript\">require([\"plotly\"], function(Plotly) { window.PLOTLYENV=window.PLOTLYENV || {};window.PLOTLYENV.BASE_URL=\"https://plot.ly\";Plotly.newPlot(\"a227ffca-68ff-4d03-99f5-4e1399d35f51\", [{\"marker\": {\"color\": [\"rgb(93, 100, 210)\", \"rgb(255, 144, 14)\", \"rgb(44, 160, 101)\", \"rgb(255, 65, 54)\"], \"line\": {\"color\": \"rgb(8,48,107)\", \"width\": 1.5}}, \"x\": [\"Australia and New Zealand\", \"Western Europe\", \"North America\", \"Eastern Asia\", \"Central and Eastern Europe\", \"Middle East and Northern Africa\", \"Latin America and Caribbean\", \"Southeastern Asia\", \"Southern Asia\", \"Sub-Saharan Africa\"], \"y\": [0.9199650000000001, 0.909148095238095, 0.88371, 0.8773883333333333, 0.7187737931034482, 0.7056155000000001, 0.7038704545454545, 0.6773566666666665, 0.54083, 0.28233175], \"type\": \"bar\", \"uid\": \"b2fe0523-c28d-4ecd-a9fa-451a57930393\"}], {\"title\": \"2015 Health ranking by region\", \"xaxis\": {\"ticklen\": 5, \"title\": \"Region\", \"zeroline\": false}}, {\"showLink\": true, \"linkText\": \"Export to plot.ly\", \"plotlyServerURL\": \"https://plot.ly\"})});</script><script type=\"text/javascript\">window.addEventListener(\"resize\", function(){window._Plotly.Plots.resize(document.getElementById(\"a227ffca-68ff-4d03-99f5-4e1399d35f51\"));});</script>",
            "text/vnd.plotly.v1+html": "<div id=\"a227ffca-68ff-4d03-99f5-4e1399d35f51\" style=\"height: 525px; width: 100%;\" class=\"plotly-graph-div\"></div><script type=\"text/javascript\">require([\"plotly\"], function(Plotly) { window.PLOTLYENV=window.PLOTLYENV || {};window.PLOTLYENV.BASE_URL=\"https://plot.ly\";Plotly.newPlot(\"a227ffca-68ff-4d03-99f5-4e1399d35f51\", [{\"marker\": {\"color\": [\"rgb(93, 100, 210)\", \"rgb(255, 144, 14)\", \"rgb(44, 160, 101)\", \"rgb(255, 65, 54)\"], \"line\": {\"color\": \"rgb(8,48,107)\", \"width\": 1.5}}, \"x\": [\"Australia and New Zealand\", \"Western Europe\", \"North America\", \"Eastern Asia\", \"Central and Eastern Europe\", \"Middle East and Northern Africa\", \"Latin America and Caribbean\", \"Southeastern Asia\", \"Southern Asia\", \"Sub-Saharan Africa\"], \"y\": [0.9199650000000001, 0.909148095238095, 0.88371, 0.8773883333333333, 0.7187737931034482, 0.7056155000000001, 0.7038704545454545, 0.6773566666666665, 0.54083, 0.28233175], \"type\": \"bar\", \"uid\": \"b2fe0523-c28d-4ecd-a9fa-451a57930393\"}], {\"title\": \"2015 Health ranking by region\", \"xaxis\": {\"ticklen\": 5, \"title\": \"Region\", \"zeroline\": false}}, {\"showLink\": true, \"linkText\": \"Export to plot.ly\", \"plotlyServerURL\": \"https://plot.ly\"})});</script><script type=\"text/javascript\">window.addEventListener(\"resize\", function(){window._Plotly.Plots.resize(document.getElementById(\"a227ffca-68ff-4d03-99f5-4e1399d35f51\"));});</script>"
          },
          "metadata": {}
        }
      ]
    },
    {
      "metadata": {
        "_uuid": "1945493961e78e53fe890f1d8adc3a9c6a781d14"
      },
      "cell_type": "markdown",
      "source": "## Trust ranking by region"
    },
    {
      "metadata": {
        "trusted": true,
        "_uuid": "2e528c8b6304982d7f23c8517e58dd7422705cd4",
        "_kg_hide-input": true
      },
      "cell_type": "code",
      "source": "region_mean = data2015.groupby(['region'])['trust'].mean()\nregion_mean.sort_values(ascending=False, inplace=True)\n\n# Bar Chart\ntrace1 = go.Bar(\n    x=region_mean.index,\n    y=region_mean.values,\n    marker=dict(\n        color=['rgb(93, 100, 210)', 'rgb(255, 144, 14)',\n               'rgb(44, 160, 101)', 'rgb(255, 65, 54)'],\n        line=dict(\n            color='rgb(8,48,107)',\n            width=1.5,\n        )\n    ),\n)\n\ndata = [trace1]\nlayout = go.Layout(\n    barmode='stack'\n)\nlayout = dict(title = '2015 Trust ranking by region',\n              xaxis= dict(title= 'Region',ticklen= 5,zeroline= False)\n             )\nfig = go.Figure(data=data, layout=layout)\niplot(fig)",
      "execution_count": 10,
      "outputs": [
        {
          "output_type": "display_data",
          "data": {
            "application/vnd.plotly.v1+json": {
              "data": [
                {
                  "marker": {
                    "color": [
                      "rgb(93, 100, 210)",
                      "rgb(255, 144, 14)",
                      "rgb(44, 160, 101)",
                      "rgb(255, 65, 54)"
                    ],
                    "line": {
                      "color": "rgb(8,48,107)",
                      "width": 1.5
                    }
                  },
                  "x": [
                    "Australia and New Zealand",
                    "North America",
                    "Western Europe",
                    "Middle East and Northern Africa",
                    "Southeastern Asia",
                    "Eastern Asia",
                    "Sub-Saharan Africa",
                    "Latin America and Caribbean",
                    "Southern Asia",
                    "Central and Eastern Europe"
                  ],
                  "y": [
                    0.392795,
                    0.24423499999999998,
                    0.23146285714285714,
                    0.18170199999999997,
                    0.15127555555555555,
                    0.127695,
                    0.12387775000000001,
                    0.1171718181818182,
                    0.10253571428571429,
                    0.08667379310344826
                  ],
                  "type": "bar",
                  "uid": "964d9f8e-3732-4ee1-b2a2-341e8cdc39aa"
                }
              ],
              "layout": {
                "title": "2015 Trust ranking by region",
                "xaxis": {
                  "ticklen": 5,
                  "title": "Region",
                  "zeroline": false
                }
              },
              "config": {
                "showLink": true,
                "linkText": "Export to plot.ly",
                "plotlyServerURL": "https://plot.ly"
              }
            },
            "text/html": "<div id=\"83697605-cf44-4230-b798-89776182c95d\" style=\"height: 525px; width: 100%;\" class=\"plotly-graph-div\"></div><script type=\"text/javascript\">require([\"plotly\"], function(Plotly) { window.PLOTLYENV=window.PLOTLYENV || {};window.PLOTLYENV.BASE_URL=\"https://plot.ly\";Plotly.newPlot(\"83697605-cf44-4230-b798-89776182c95d\", [{\"marker\": {\"color\": [\"rgb(93, 100, 210)\", \"rgb(255, 144, 14)\", \"rgb(44, 160, 101)\", \"rgb(255, 65, 54)\"], \"line\": {\"color\": \"rgb(8,48,107)\", \"width\": 1.5}}, \"x\": [\"Australia and New Zealand\", \"North America\", \"Western Europe\", \"Middle East and Northern Africa\", \"Southeastern Asia\", \"Eastern Asia\", \"Sub-Saharan Africa\", \"Latin America and Caribbean\", \"Southern Asia\", \"Central and Eastern Europe\"], \"y\": [0.392795, 0.24423499999999998, 0.23146285714285714, 0.18170199999999997, 0.15127555555555555, 0.127695, 0.12387775000000001, 0.1171718181818182, 0.10253571428571429, 0.08667379310344826], \"type\": \"bar\", \"uid\": \"964d9f8e-3732-4ee1-b2a2-341e8cdc39aa\"}], {\"title\": \"2015 Trust ranking by region\", \"xaxis\": {\"ticklen\": 5, \"title\": \"Region\", \"zeroline\": false}}, {\"showLink\": true, \"linkText\": \"Export to plot.ly\", \"plotlyServerURL\": \"https://plot.ly\"})});</script><script type=\"text/javascript\">window.addEventListener(\"resize\", function(){window._Plotly.Plots.resize(document.getElementById(\"83697605-cf44-4230-b798-89776182c95d\"));});</script>",
            "text/vnd.plotly.v1+html": "<div id=\"83697605-cf44-4230-b798-89776182c95d\" style=\"height: 525px; width: 100%;\" class=\"plotly-graph-div\"></div><script type=\"text/javascript\">require([\"plotly\"], function(Plotly) { window.PLOTLYENV=window.PLOTLYENV || {};window.PLOTLYENV.BASE_URL=\"https://plot.ly\";Plotly.newPlot(\"83697605-cf44-4230-b798-89776182c95d\", [{\"marker\": {\"color\": [\"rgb(93, 100, 210)\", \"rgb(255, 144, 14)\", \"rgb(44, 160, 101)\", \"rgb(255, 65, 54)\"], \"line\": {\"color\": \"rgb(8,48,107)\", \"width\": 1.5}}, \"x\": [\"Australia and New Zealand\", \"North America\", \"Western Europe\", \"Middle East and Northern Africa\", \"Southeastern Asia\", \"Eastern Asia\", \"Sub-Saharan Africa\", \"Latin America and Caribbean\", \"Southern Asia\", \"Central and Eastern Europe\"], \"y\": [0.392795, 0.24423499999999998, 0.23146285714285714, 0.18170199999999997, 0.15127555555555555, 0.127695, 0.12387775000000001, 0.1171718181818182, 0.10253571428571429, 0.08667379310344826], \"type\": \"bar\", \"uid\": \"964d9f8e-3732-4ee1-b2a2-341e8cdc39aa\"}], {\"title\": \"2015 Trust ranking by region\", \"xaxis\": {\"ticklen\": 5, \"title\": \"Region\", \"zeroline\": false}}, {\"showLink\": true, \"linkText\": \"Export to plot.ly\", \"plotlyServerURL\": \"https://plot.ly\"})});</script><script type=\"text/javascript\">window.addEventListener(\"resize\", function(){window._Plotly.Plots.resize(document.getElementById(\"83697605-cf44-4230-b798-89776182c95d\"));});</script>"
          },
          "metadata": {}
        }
      ]
    },
    {
      "metadata": {
        "_uuid": "f6b05e665ca7a968d4b46b40b3720f687d78b2e3"
      },
      "cell_type": "markdown",
      "source": "## Generosity ranking by region"
    },
    {
      "metadata": {
        "trusted": true,
        "_uuid": "e2609f4d8af49cdaa2b4dc855ef6981bc41ceb27",
        "_kg_hide-input": true
      },
      "cell_type": "code",
      "source": "region_mean = data2015.groupby(['region'])['generosity'].mean()\nregion_mean.sort_values(ascending=False, inplace=True)\n\n# Bar Chart\ntrace1 = go.Bar(\n    x=region_mean.index,\n    y=region_mean.values,\n    marker=dict(\n        color=['rgb(93, 100, 210)', 'rgb(255, 144, 14)',\n               'rgb(44, 160, 101)', 'rgb(255, 65, 54)'],\n        line=dict(\n            color='rgb(8,48,107)',\n            width=1.5,\n        )\n    ),\n)\n\ndata = [trace1]\nlayout = go.Layout(\n    barmode='stack'\n)\nlayout = dict(title = '2015 Generosity ranking by region',\n              xaxis= dict(title= 'Region',ticklen= 5,zeroline= False)\n             )\nfig = go.Figure(data=data, layout=layout)\niplot(fig)",
      "execution_count": 11,
      "outputs": [
        {
          "output_type": "display_data",
          "data": {
            "application/vnd.plotly.v1+json": {
              "data": [
                {
                  "marker": {
                    "color": [
                      "rgb(93, 100, 210)",
                      "rgb(255, 144, 14)",
                      "rgb(44, 160, 101)",
                      "rgb(255, 65, 54)"
                    ],
                    "line": {
                      "color": "rgb(8,48,107)",
                      "width": 1.5
                    }
                  },
                  "x": [
                    "Australia and New Zealand",
                    "North America",
                    "Southeastern Asia",
                    "Southern Asia",
                    "Western Europe",
                    "Eastern Asia",
                    "Sub-Saharan Africa",
                    "Latin America and Caribbean",
                    "Middle East and Northern Africa",
                    "Central and Eastern Europe"
                  ],
                  "y": [
                    0.455315,
                    0.42958,
                    0.41926111111111114,
                    0.34142857142857147,
                    0.30210857142857145,
                    0.225885,
                    0.22113674999999997,
                    0.2177877272727273,
                    0.19037549999999995,
                    0.15226379310344823
                  ],
                  "type": "bar",
                  "uid": "5035bbd6-f0fe-4456-b0d6-0b57163f4e5e"
                }
              ],
              "layout": {
                "title": "2015 Generosity ranking by region",
                "xaxis": {
                  "ticklen": 5,
                  "title": "Region",
                  "zeroline": false
                }
              },
              "config": {
                "showLink": true,
                "linkText": "Export to plot.ly",
                "plotlyServerURL": "https://plot.ly"
              }
            },
            "text/html": "<div id=\"01715a72-6fae-413d-bf6a-279830160a04\" style=\"height: 525px; width: 100%;\" class=\"plotly-graph-div\"></div><script type=\"text/javascript\">require([\"plotly\"], function(Plotly) { window.PLOTLYENV=window.PLOTLYENV || {};window.PLOTLYENV.BASE_URL=\"https://plot.ly\";Plotly.newPlot(\"01715a72-6fae-413d-bf6a-279830160a04\", [{\"marker\": {\"color\": [\"rgb(93, 100, 210)\", \"rgb(255, 144, 14)\", \"rgb(44, 160, 101)\", \"rgb(255, 65, 54)\"], \"line\": {\"color\": \"rgb(8,48,107)\", \"width\": 1.5}}, \"x\": [\"Australia and New Zealand\", \"North America\", \"Southeastern Asia\", \"Southern Asia\", \"Western Europe\", \"Eastern Asia\", \"Sub-Saharan Africa\", \"Latin America and Caribbean\", \"Middle East and Northern Africa\", \"Central and Eastern Europe\"], \"y\": [0.455315, 0.42958, 0.41926111111111114, 0.34142857142857147, 0.30210857142857145, 0.225885, 0.22113674999999997, 0.2177877272727273, 0.19037549999999995, 0.15226379310344823], \"type\": \"bar\", \"uid\": \"5035bbd6-f0fe-4456-b0d6-0b57163f4e5e\"}], {\"title\": \"2015 Generosity ranking by region\", \"xaxis\": {\"ticklen\": 5, \"title\": \"Region\", \"zeroline\": false}}, {\"showLink\": true, \"linkText\": \"Export to plot.ly\", \"plotlyServerURL\": \"https://plot.ly\"})});</script><script type=\"text/javascript\">window.addEventListener(\"resize\", function(){window._Plotly.Plots.resize(document.getElementById(\"01715a72-6fae-413d-bf6a-279830160a04\"));});</script>",
            "text/vnd.plotly.v1+html": "<div id=\"01715a72-6fae-413d-bf6a-279830160a04\" style=\"height: 525px; width: 100%;\" class=\"plotly-graph-div\"></div><script type=\"text/javascript\">require([\"plotly\"], function(Plotly) { window.PLOTLYENV=window.PLOTLYENV || {};window.PLOTLYENV.BASE_URL=\"https://plot.ly\";Plotly.newPlot(\"01715a72-6fae-413d-bf6a-279830160a04\", [{\"marker\": {\"color\": [\"rgb(93, 100, 210)\", \"rgb(255, 144, 14)\", \"rgb(44, 160, 101)\", \"rgb(255, 65, 54)\"], \"line\": {\"color\": \"rgb(8,48,107)\", \"width\": 1.5}}, \"x\": [\"Australia and New Zealand\", \"North America\", \"Southeastern Asia\", \"Southern Asia\", \"Western Europe\", \"Eastern Asia\", \"Sub-Saharan Africa\", \"Latin America and Caribbean\", \"Middle East and Northern Africa\", \"Central and Eastern Europe\"], \"y\": [0.455315, 0.42958, 0.41926111111111114, 0.34142857142857147, 0.30210857142857145, 0.225885, 0.22113674999999997, 0.2177877272727273, 0.19037549999999995, 0.15226379310344823], \"type\": \"bar\", \"uid\": \"5035bbd6-f0fe-4456-b0d6-0b57163f4e5e\"}], {\"title\": \"2015 Generosity ranking by region\", \"xaxis\": {\"ticklen\": 5, \"title\": \"Region\", \"zeroline\": false}}, {\"showLink\": true, \"linkText\": \"Export to plot.ly\", \"plotlyServerURL\": \"https://plot.ly\"})});</script><script type=\"text/javascript\">window.addEventListener(\"resize\", function(){window._Plotly.Plots.resize(document.getElementById(\"01715a72-6fae-413d-bf6a-279830160a04\"));});</script>"
          },
          "metadata": {}
        }
      ]
    },
    {
      "metadata": {
        "_uuid": "6c04f254e00fdba29c3ad53285f7923447adcc9e"
      },
      "cell_type": "markdown",
      "source": "## Freedom ranking by region "
    },
    {
      "metadata": {
        "trusted": true,
        "_uuid": "0b28bd30f08fb865d82b09072604bf5f7e342f6b",
        "_kg_hide-input": true
      },
      "cell_type": "code",
      "source": "region_mean = data2015.groupby(['region'])['freedom'].mean()\nregion_mean.sort_values(ascending=False, inplace=True)\n\n# Bar Chart\ntrace1 = go.Bar(\n    x=region_mean.index,\n    y=region_mean.values,\n    marker=dict(\n        color=['rgb(93, 100, 210)', 'rgb(255, 144, 14)',\n               'rgb(44, 160, 101)', 'rgb(255, 65, 54)'],\n        line=dict(\n            color='rgb(8,48,107)',\n            width=1.5,\n        )\n    ),\n)\n\ndata = [trace1]\nlayout = go.Layout(\n    barmode='stack'\n)\nlayout = dict(title = '2015 Freedom ranking by region',\n              xaxis= dict(title= 'Region',ticklen= 5,zeroline= False)\n             )\nfig = go.Figure(data=data, layout=layout)\niplot(fig)",
      "execution_count": 12,
      "outputs": [
        {
          "output_type": "display_data",
          "data": {
            "application/vnd.plotly.v1+json": {
              "data": [
                {
                  "marker": {
                    "color": [
                      "rgb(93, 100, 210)",
                      "rgb(255, 144, 14)",
                      "rgb(44, 160, 101)",
                      "rgb(255, 65, 54)"
                    ],
                    "line": {
                      "color": "rgb(8,48,107)",
                      "width": 1.5
                    }
                  },
                  "x": [
                    "Australia and New Zealand",
                    "North America",
                    "Southeastern Asia",
                    "Western Europe",
                    "Latin America and Caribbean",
                    "Eastern Asia",
                    "Southern Asia",
                    "Sub-Saharan Africa",
                    "Middle East and Northern Africa",
                    "Central and Eastern Europe"
                  ],
                  "y": [
                    0.64531,
                    0.589505,
                    0.5571044444444444,
                    0.5499261904761905,
                    0.5017395454545454,
                    0.46249,
                    0.37333714285714287,
                    0.365944,
                    0.361751,
                    0.3582686206896552
                  ],
                  "type": "bar",
                  "uid": "7f275821-8116-41ef-b908-2e10996e866a"
                }
              ],
              "layout": {
                "title": "2015 Freedom ranking by region",
                "xaxis": {
                  "ticklen": 5,
                  "title": "Region",
                  "zeroline": false
                }
              },
              "config": {
                "showLink": true,
                "linkText": "Export to plot.ly",
                "plotlyServerURL": "https://plot.ly"
              }
            },
            "text/html": "<div id=\"0cce3f3f-4d00-4703-a2ba-f251f99dec17\" style=\"height: 525px; width: 100%;\" class=\"plotly-graph-div\"></div><script type=\"text/javascript\">require([\"plotly\"], function(Plotly) { window.PLOTLYENV=window.PLOTLYENV || {};window.PLOTLYENV.BASE_URL=\"https://plot.ly\";Plotly.newPlot(\"0cce3f3f-4d00-4703-a2ba-f251f99dec17\", [{\"marker\": {\"color\": [\"rgb(93, 100, 210)\", \"rgb(255, 144, 14)\", \"rgb(44, 160, 101)\", \"rgb(255, 65, 54)\"], \"line\": {\"color\": \"rgb(8,48,107)\", \"width\": 1.5}}, \"x\": [\"Australia and New Zealand\", \"North America\", \"Southeastern Asia\", \"Western Europe\", \"Latin America and Caribbean\", \"Eastern Asia\", \"Southern Asia\", \"Sub-Saharan Africa\", \"Middle East and Northern Africa\", \"Central and Eastern Europe\"], \"y\": [0.64531, 0.589505, 0.5571044444444444, 0.5499261904761905, 0.5017395454545454, 0.46249, 0.37333714285714287, 0.365944, 0.361751, 0.3582686206896552], \"type\": \"bar\", \"uid\": \"7f275821-8116-41ef-b908-2e10996e866a\"}], {\"title\": \"2015 Freedom ranking by region\", \"xaxis\": {\"ticklen\": 5, \"title\": \"Region\", \"zeroline\": false}}, {\"showLink\": true, \"linkText\": \"Export to plot.ly\", \"plotlyServerURL\": \"https://plot.ly\"})});</script><script type=\"text/javascript\">window.addEventListener(\"resize\", function(){window._Plotly.Plots.resize(document.getElementById(\"0cce3f3f-4d00-4703-a2ba-f251f99dec17\"));});</script>",
            "text/vnd.plotly.v1+html": "<div id=\"0cce3f3f-4d00-4703-a2ba-f251f99dec17\" style=\"height: 525px; width: 100%;\" class=\"plotly-graph-div\"></div><script type=\"text/javascript\">require([\"plotly\"], function(Plotly) { window.PLOTLYENV=window.PLOTLYENV || {};window.PLOTLYENV.BASE_URL=\"https://plot.ly\";Plotly.newPlot(\"0cce3f3f-4d00-4703-a2ba-f251f99dec17\", [{\"marker\": {\"color\": [\"rgb(93, 100, 210)\", \"rgb(255, 144, 14)\", \"rgb(44, 160, 101)\", \"rgb(255, 65, 54)\"], \"line\": {\"color\": \"rgb(8,48,107)\", \"width\": 1.5}}, \"x\": [\"Australia and New Zealand\", \"North America\", \"Southeastern Asia\", \"Western Europe\", \"Latin America and Caribbean\", \"Eastern Asia\", \"Southern Asia\", \"Sub-Saharan Africa\", \"Middle East and Northern Africa\", \"Central and Eastern Europe\"], \"y\": [0.64531, 0.589505, 0.5571044444444444, 0.5499261904761905, 0.5017395454545454, 0.46249, 0.37333714285714287, 0.365944, 0.361751, 0.3582686206896552], \"type\": \"bar\", \"uid\": \"7f275821-8116-41ef-b908-2e10996e866a\"}], {\"title\": \"2015 Freedom ranking by region\", \"xaxis\": {\"ticklen\": 5, \"title\": \"Region\", \"zeroline\": false}}, {\"showLink\": true, \"linkText\": \"Export to plot.ly\", \"plotlyServerURL\": \"https://plot.ly\"})});</script><script type=\"text/javascript\">window.addEventListener(\"resize\", function(){window._Plotly.Plots.resize(document.getElementById(\"0cce3f3f-4d00-4703-a2ba-f251f99dec17\"));});</script>"
          },
          "metadata": {}
        }
      ]
    },
    {
      "metadata": {
        "_uuid": "0fd2aa5c295353c06e081a4f8b720ff6ba677ad1"
      },
      "cell_type": "markdown",
      "source": "## Happiness ranking by country"
    },
    {
      "metadata": {
        "trusted": true,
        "_uuid": "ecabf339276b4bb79aefc4832538e944780a3012",
        "_kg_hide-input": true
      },
      "cell_type": "code",
      "source": "sorted_happiness = data2015.sort_values('happiness_score', ascending=False)\n\n# Bar Chart\ntrace1 = go.Bar(\n    x=sorted_happiness.country.head(21),\n    y=sorted_happiness.happiness_score.head(21),\n    marker=dict(\n        color=['rgb(93, 100, 210)', 'rgb(255, 144, 14)',\n               'rgb(44, 160, 101)', 'rgb(255, 65, 54)'],\n        line=dict(\n            color='rgb(8,48,107)',\n            width=1.5,\n        )\n    ),\n)\n\ndata = [trace1]\nlayout = go.Layout(\n    barmode='stack'\n)\nlayout = dict(title = '2015 Happiness ranking by country',\n              xaxis= dict(title= 'Region',ticklen= 5,zeroline= False)\n             )\nfig = go.Figure(data=data, layout=layout)\niplot(fig)",
      "execution_count": 13,
      "outputs": [
        {
          "output_type": "display_data",
          "data": {
            "application/vnd.plotly.v1+json": {
              "data": [
                {
                  "marker": {
                    "color": [
                      "rgb(93, 100, 210)",
                      "rgb(255, 144, 14)",
                      "rgb(44, 160, 101)",
                      "rgb(255, 65, 54)"
                    ],
                    "line": {
                      "color": "rgb(8,48,107)",
                      "width": 1.5
                    }
                  },
                  "x": [
                    "Switzerland",
                    "Iceland",
                    "Denmark",
                    "Norway",
                    "Canada",
                    "Finland",
                    "Netherlands",
                    "Sweden",
                    "New Zealand",
                    "Australia",
                    "Israel",
                    "Costa Rica",
                    "Austria",
                    "Mexico",
                    "United States",
                    "Brazil",
                    "Luxembourg",
                    "Ireland",
                    "Belgium",
                    "United Arab Emirates",
                    "United Kingdom"
                  ],
                  "y": [
                    7.587000000000001,
                    7.561,
                    7.527,
                    7.522,
                    7.4270000000000005,
                    7.406000000000001,
                    7.377999999999999,
                    7.364,
                    7.2860000000000005,
                    7.284,
                    7.278,
                    7.226,
                    7.2,
                    7.187,
                    7.119,
                    6.983,
                    6.946000000000001,
                    6.94,
                    6.937,
                    6.901,
                    6.867000000000001
                  ],
                  "type": "bar",
                  "uid": "c324823c-08c1-43d5-966d-76e7119c57ea"
                }
              ],
              "layout": {
                "title": "2015 Happiness ranking by country",
                "xaxis": {
                  "ticklen": 5,
                  "title": "Region",
                  "zeroline": false
                }
              },
              "config": {
                "showLink": true,
                "linkText": "Export to plot.ly",
                "plotlyServerURL": "https://plot.ly"
              }
            },
            "text/html": "<div id=\"5917feec-f2a1-4c55-a62c-67f87b09b6b2\" style=\"height: 525px; width: 100%;\" class=\"plotly-graph-div\"></div><script type=\"text/javascript\">require([\"plotly\"], function(Plotly) { window.PLOTLYENV=window.PLOTLYENV || {};window.PLOTLYENV.BASE_URL=\"https://plot.ly\";Plotly.newPlot(\"5917feec-f2a1-4c55-a62c-67f87b09b6b2\", [{\"marker\": {\"color\": [\"rgb(93, 100, 210)\", \"rgb(255, 144, 14)\", \"rgb(44, 160, 101)\", \"rgb(255, 65, 54)\"], \"line\": {\"color\": \"rgb(8,48,107)\", \"width\": 1.5}}, \"x\": [\"Switzerland\", \"Iceland\", \"Denmark\", \"Norway\", \"Canada\", \"Finland\", \"Netherlands\", \"Sweden\", \"New Zealand\", \"Australia\", \"Israel\", \"Costa Rica\", \"Austria\", \"Mexico\", \"United States\", \"Brazil\", \"Luxembourg\", \"Ireland\", \"Belgium\", \"United Arab Emirates\", \"United Kingdom\"], \"y\": [7.587000000000001, 7.561, 7.527, 7.522, 7.4270000000000005, 7.406000000000001, 7.377999999999999, 7.364, 7.2860000000000005, 7.284, 7.278, 7.226, 7.2, 7.187, 7.119, 6.983, 6.946000000000001, 6.94, 6.937, 6.901, 6.867000000000001], \"type\": \"bar\", \"uid\": \"c324823c-08c1-43d5-966d-76e7119c57ea\"}], {\"title\": \"2015 Happiness ranking by country\", \"xaxis\": {\"ticklen\": 5, \"title\": \"Region\", \"zeroline\": false}}, {\"showLink\": true, \"linkText\": \"Export to plot.ly\", \"plotlyServerURL\": \"https://plot.ly\"})});</script><script type=\"text/javascript\">window.addEventListener(\"resize\", function(){window._Plotly.Plots.resize(document.getElementById(\"5917feec-f2a1-4c55-a62c-67f87b09b6b2\"));});</script>",
            "text/vnd.plotly.v1+html": "<div id=\"5917feec-f2a1-4c55-a62c-67f87b09b6b2\" style=\"height: 525px; width: 100%;\" class=\"plotly-graph-div\"></div><script type=\"text/javascript\">require([\"plotly\"], function(Plotly) { window.PLOTLYENV=window.PLOTLYENV || {};window.PLOTLYENV.BASE_URL=\"https://plot.ly\";Plotly.newPlot(\"5917feec-f2a1-4c55-a62c-67f87b09b6b2\", [{\"marker\": {\"color\": [\"rgb(93, 100, 210)\", \"rgb(255, 144, 14)\", \"rgb(44, 160, 101)\", \"rgb(255, 65, 54)\"], \"line\": {\"color\": \"rgb(8,48,107)\", \"width\": 1.5}}, \"x\": [\"Switzerland\", \"Iceland\", \"Denmark\", \"Norway\", \"Canada\", \"Finland\", \"Netherlands\", \"Sweden\", \"New Zealand\", \"Australia\", \"Israel\", \"Costa Rica\", \"Austria\", \"Mexico\", \"United States\", \"Brazil\", \"Luxembourg\", \"Ireland\", \"Belgium\", \"United Arab Emirates\", \"United Kingdom\"], \"y\": [7.587000000000001, 7.561, 7.527, 7.522, 7.4270000000000005, 7.406000000000001, 7.377999999999999, 7.364, 7.2860000000000005, 7.284, 7.278, 7.226, 7.2, 7.187, 7.119, 6.983, 6.946000000000001, 6.94, 6.937, 6.901, 6.867000000000001], \"type\": \"bar\", \"uid\": \"c324823c-08c1-43d5-966d-76e7119c57ea\"}], {\"title\": \"2015 Happiness ranking by country\", \"xaxis\": {\"ticklen\": 5, \"title\": \"Region\", \"zeroline\": false}}, {\"showLink\": true, \"linkText\": \"Export to plot.ly\", \"plotlyServerURL\": \"https://plot.ly\"})});</script><script type=\"text/javascript\">window.addEventListener(\"resize\", function(){window._Plotly.Plots.resize(document.getElementById(\"5917feec-f2a1-4c55-a62c-67f87b09b6b2\"));});</script>"
          },
          "metadata": {}
        }
      ]
    },
    {
      "metadata": {
        "_uuid": "15916eec19ab333a7b84de845fe608f091f0f078"
      },
      "cell_type": "markdown",
      "source": "## Generosity vs Economoy"
    },
    {
      "metadata": {
        "trusted": true,
        "_uuid": "da25eef013c0b77050ca5e435d732bc01fd819bb",
        "_kg_hide-input": true
      },
      "cell_type": "code",
      "source": "generosity_rank = data2015.sort_values('generosity', ascending=False)\neconomy_rank = data2015.sort_values('economy', ascending=False)\n\ntrace1 = go.Bar(\n            x=generosity_rank.country.head(15),\n            y=generosity_rank.generosity.head(15),\n            opacity=0.65,\n            name = 'Generosity')\n\ntrace2 = go.Bar(\n            x=economy_rank.country.head(15),\n            y=economy_rank.economy.head(15),\n            opacity=0.65,\n            name = 'Economy'\n        )\n\nfig = tools.make_subplots(rows=2, cols=1, subplot_titles=())\nfig.append_trace(trace1, 1, 1)\nfig.append_trace(trace2, 2, 1)\n\nfig['layout'].update(height=650, width=900, title='2015 Generosity vs Economy')\n\niplot(fig)",
      "execution_count": 14,
      "outputs": [
        {
          "output_type": "stream",
          "text": "This is the format of your plot grid:\n[ (1,1) x1,y1 ]\n[ (2,1) x2,y2 ]\n\n",
          "name": "stdout"
        },
        {
          "output_type": "display_data",
          "data": {
            "application/vnd.plotly.v1+json": {
              "data": [
                {
                  "name": "Generosity",
                  "opacity": 0.65,
                  "x": [
                    "Myanmar",
                    "Thailand",
                    "United Kingdom",
                    "Malta",
                    "Indonesia",
                    "Somaliland region",
                    "Bhutan",
                    "Netherlands",
                    "New Zealand",
                    "Syria",
                    "Haiti",
                    "Ireland",
                    "Canada",
                    "Iceland",
                    "Australia"
                  ],
                  "y": [
                    0.79588,
                    0.5763,
                    0.51912,
                    0.51752,
                    0.51535,
                    0.5031800000000001,
                    0.47998,
                    0.4761,
                    0.47501000000000004,
                    0.47179,
                    0.46187,
                    0.45901000000000003,
                    0.45811,
                    0.4363,
                    0.43562
                  ],
                  "type": "bar",
                  "uid": "b1072d57-b3d5-4b7b-ad9a-a7ccddbb4670",
                  "xaxis": "x",
                  "yaxis": "y"
                },
                {
                  "name": "Economy",
                  "opacity": 0.65,
                  "x": [
                    "Qatar",
                    "Luxembourg",
                    "Kuwait",
                    "Singapore",
                    "Norway",
                    "United Arab Emirates",
                    "Switzerland",
                    "Saudi Arabia",
                    "United States",
                    "Hong Kong",
                    "Oman",
                    "Austria",
                    "Ireland",
                    "Australia",
                    "Sweden"
                  ],
                  "y": [
                    1.69042,
                    1.5639100000000001,
                    1.5542200000000002,
                    1.52186,
                    1.459,
                    1.42727,
                    1.3965100000000001,
                    1.39541,
                    1.3945100000000001,
                    1.38604,
                    1.36011,
                    1.33723,
                    1.33596,
                    1.33358,
                    1.33171
                  ],
                  "type": "bar",
                  "uid": "76ceac2b-19d7-4c58-b123-f4f7eb6f5d0f",
                  "xaxis": "x2",
                  "yaxis": "y2"
                }
              ],
              "layout": {
                "xaxis": {
                  "anchor": "y",
                  "domain": [
                    0,
                    1
                  ]
                },
                "yaxis": {
                  "anchor": "x",
                  "domain": [
                    0.625,
                    1
                  ]
                },
                "xaxis2": {
                  "anchor": "y2",
                  "domain": [
                    0,
                    1
                  ]
                },
                "yaxis2": {
                  "anchor": "x2",
                  "domain": [
                    0,
                    0.375
                  ]
                },
                "height": 650,
                "width": 900,
                "title": "2015 Generosity vs Economy"
              },
              "config": {
                "showLink": true,
                "linkText": "Export to plot.ly",
                "plotlyServerURL": "https://plot.ly"
              }
            },
            "text/html": "<div id=\"f0643346-4db3-45f6-a661-e0aec01fa926\" style=\"height: 650px; width: 900px;\" class=\"plotly-graph-div\"></div><script type=\"text/javascript\">require([\"plotly\"], function(Plotly) { window.PLOTLYENV=window.PLOTLYENV || {};window.PLOTLYENV.BASE_URL=\"https://plot.ly\";Plotly.newPlot(\"f0643346-4db3-45f6-a661-e0aec01fa926\", [{\"name\": \"Generosity\", \"opacity\": 0.65, \"x\": [\"Myanmar\", \"Thailand\", \"United Kingdom\", \"Malta\", \"Indonesia\", \"Somaliland region\", \"Bhutan\", \"Netherlands\", \"New Zealand\", \"Syria\", \"Haiti\", \"Ireland\", \"Canada\", \"Iceland\", \"Australia\"], \"y\": [0.79588, 0.5763, 0.51912, 0.51752, 0.51535, 0.5031800000000001, 0.47998, 0.4761, 0.47501000000000004, 0.47179, 0.46187, 0.45901000000000003, 0.45811, 0.4363, 0.43562], \"type\": \"bar\", \"uid\": \"b1072d57-b3d5-4b7b-ad9a-a7ccddbb4670\", \"xaxis\": \"x\", \"yaxis\": \"y\"}, {\"name\": \"Economy\", \"opacity\": 0.65, \"x\": [\"Qatar\", \"Luxembourg\", \"Kuwait\", \"Singapore\", \"Norway\", \"United Arab Emirates\", \"Switzerland\", \"Saudi Arabia\", \"United States\", \"Hong Kong\", \"Oman\", \"Austria\", \"Ireland\", \"Australia\", \"Sweden\"], \"y\": [1.69042, 1.5639100000000001, 1.5542200000000002, 1.52186, 1.459, 1.42727, 1.3965100000000001, 1.39541, 1.3945100000000001, 1.38604, 1.36011, 1.33723, 1.33596, 1.33358, 1.33171], \"type\": \"bar\", \"uid\": \"76ceac2b-19d7-4c58-b123-f4f7eb6f5d0f\", \"xaxis\": \"x2\", \"yaxis\": \"y2\"}], {\"xaxis\": {\"anchor\": \"y\", \"domain\": [0.0, 1.0]}, \"yaxis\": {\"anchor\": \"x\", \"domain\": [0.625, 1.0]}, \"xaxis2\": {\"anchor\": \"y2\", \"domain\": [0.0, 1.0]}, \"yaxis2\": {\"anchor\": \"x2\", \"domain\": [0.0, 0.375]}, \"height\": 650, \"width\": 900, \"title\": \"2015 Generosity vs Economy\"}, {\"showLink\": true, \"linkText\": \"Export to plot.ly\", \"plotlyServerURL\": \"https://plot.ly\"})});</script>",
            "text/vnd.plotly.v1+html": "<div id=\"f0643346-4db3-45f6-a661-e0aec01fa926\" style=\"height: 650px; width: 900px;\" class=\"plotly-graph-div\"></div><script type=\"text/javascript\">require([\"plotly\"], function(Plotly) { window.PLOTLYENV=window.PLOTLYENV || {};window.PLOTLYENV.BASE_URL=\"https://plot.ly\";Plotly.newPlot(\"f0643346-4db3-45f6-a661-e0aec01fa926\", [{\"name\": \"Generosity\", \"opacity\": 0.65, \"x\": [\"Myanmar\", \"Thailand\", \"United Kingdom\", \"Malta\", \"Indonesia\", \"Somaliland region\", \"Bhutan\", \"Netherlands\", \"New Zealand\", \"Syria\", \"Haiti\", \"Ireland\", \"Canada\", \"Iceland\", \"Australia\"], \"y\": [0.79588, 0.5763, 0.51912, 0.51752, 0.51535, 0.5031800000000001, 0.47998, 0.4761, 0.47501000000000004, 0.47179, 0.46187, 0.45901000000000003, 0.45811, 0.4363, 0.43562], \"type\": \"bar\", \"uid\": \"b1072d57-b3d5-4b7b-ad9a-a7ccddbb4670\", \"xaxis\": \"x\", \"yaxis\": \"y\"}, {\"name\": \"Economy\", \"opacity\": 0.65, \"x\": [\"Qatar\", \"Luxembourg\", \"Kuwait\", \"Singapore\", \"Norway\", \"United Arab Emirates\", \"Switzerland\", \"Saudi Arabia\", \"United States\", \"Hong Kong\", \"Oman\", \"Austria\", \"Ireland\", \"Australia\", \"Sweden\"], \"y\": [1.69042, 1.5639100000000001, 1.5542200000000002, 1.52186, 1.459, 1.42727, 1.3965100000000001, 1.39541, 1.3945100000000001, 1.38604, 1.36011, 1.33723, 1.33596, 1.33358, 1.33171], \"type\": \"bar\", \"uid\": \"76ceac2b-19d7-4c58-b123-f4f7eb6f5d0f\", \"xaxis\": \"x2\", \"yaxis\": \"y2\"}], {\"xaxis\": {\"anchor\": \"y\", \"domain\": [0.0, 1.0]}, \"yaxis\": {\"anchor\": \"x\", \"domain\": [0.625, 1.0]}, \"xaxis2\": {\"anchor\": \"y2\", \"domain\": [0.0, 1.0]}, \"yaxis2\": {\"anchor\": \"x2\", \"domain\": [0.0, 0.375]}, \"height\": 650, \"width\": 900, \"title\": \"2015 Generosity vs Economy\"}, {\"showLink\": true, \"linkText\": \"Export to plot.ly\", \"plotlyServerURL\": \"https://plot.ly\"})});</script>"
          },
          "metadata": {}
        }
      ]
    },
    {
      "metadata": {
        "_uuid": "53aee051151aeb3db3adfa2e5990bc06bd57b8f5"
      },
      "cell_type": "markdown",
      "source": "there is no relationship between the economy and the generous."
    },
    {
      "metadata": {
        "_uuid": "1b4dceb078d04634a14b2732ff4d82f1fa81c1c6"
      },
      "cell_type": "markdown",
      "source": "## Health vs Economy"
    },
    {
      "metadata": {
        "trusted": true,
        "_uuid": "21ef1a0024e2fc6a9aaf6a75dd61ed8b3e6fee9a",
        "_kg_hide-input": true
      },
      "cell_type": "code",
      "source": "health_rank = data2015.sort_values('health', ascending=False)\neconomy_rank = data2015.sort_values('economy', ascending=False)\n\ntrace1 = go.Bar(\n            x=health_rank.country.head(15),\n            y=health_rank.health.head(15),\n            opacity=0.65,\n            name = 'Health'\n        )\n\ntrace2 = go.Bar(\n            x=economy_rank.country.head(15),\n            y=economy_rank.economy.head(15),\n            opacity=0.65,\n            name = 'Economy'\n        )\n\nfig = tools.make_subplots(rows=2, cols=1, subplot_titles=('Health', 'Economy'))\nfig.append_trace(trace1, 1, 1)\nfig.append_trace(trace2, 2, 1)\n\nfig['layout'].update(height=650, width=900, title='2015 Health vs Economy')\n\niplot(fig)",
      "execution_count": 15,
      "outputs": [
        {
          "output_type": "stream",
          "text": "This is the format of your plot grid:\n[ (1,1) x1,y1 ]\n[ (2,1) x2,y2 ]\n\n",
          "name": "stdout"
        },
        {
          "output_type": "display_data",
          "data": {
            "application/vnd.plotly.v1+json": {
              "data": [
                {
                  "name": "Health",
                  "opacity": 0.65,
                  "x": [
                    "Singapore",
                    "Hong Kong",
                    "Japan",
                    "South Korea",
                    "Spain",
                    "Italy",
                    "Iceland",
                    "France",
                    "Switzerland",
                    "Australia",
                    "North Cyprus",
                    "Cyprus",
                    "Luxembourg",
                    "Israel",
                    "Sweden"
                  ],
                  "y": [
                    1.02525,
                    1.01328,
                    0.99111,
                    0.9653799999999999,
                    0.95562,
                    0.9544600000000001,
                    0.94784,
                    0.9457899999999999,
                    0.9414299999999999,
                    0.93156,
                    0.92356,
                    0.92356,
                    0.91894,
                    0.9138700000000001,
                    0.9108700000000001
                  ],
                  "type": "bar",
                  "uid": "db51b122-aa12-4547-9380-bb417a1a4cd5",
                  "xaxis": "x",
                  "yaxis": "y"
                },
                {
                  "name": "Economy",
                  "opacity": 0.65,
                  "x": [
                    "Qatar",
                    "Luxembourg",
                    "Kuwait",
                    "Singapore",
                    "Norway",
                    "United Arab Emirates",
                    "Switzerland",
                    "Saudi Arabia",
                    "United States",
                    "Hong Kong",
                    "Oman",
                    "Austria",
                    "Ireland",
                    "Australia",
                    "Sweden"
                  ],
                  "y": [
                    1.69042,
                    1.5639100000000001,
                    1.5542200000000002,
                    1.52186,
                    1.459,
                    1.42727,
                    1.3965100000000001,
                    1.39541,
                    1.3945100000000001,
                    1.38604,
                    1.36011,
                    1.33723,
                    1.33596,
                    1.33358,
                    1.33171
                  ],
                  "type": "bar",
                  "uid": "33507160-20eb-493a-8a0a-8e78ae3af524",
                  "xaxis": "x2",
                  "yaxis": "y2"
                }
              ],
              "layout": {
                "annotations": [
                  {
                    "font": {
                      "size": 16
                    },
                    "showarrow": false,
                    "text": "Health",
                    "x": 0.5,
                    "xanchor": "center",
                    "xref": "paper",
                    "y": 1,
                    "yanchor": "bottom",
                    "yref": "paper"
                  },
                  {
                    "font": {
                      "size": 16
                    },
                    "showarrow": false,
                    "text": "Economy",
                    "x": 0.5,
                    "xanchor": "center",
                    "xref": "paper",
                    "y": 0.375,
                    "yanchor": "bottom",
                    "yref": "paper"
                  }
                ],
                "xaxis": {
                  "anchor": "y",
                  "domain": [
                    0,
                    1
                  ]
                },
                "yaxis": {
                  "anchor": "x",
                  "domain": [
                    0.625,
                    1
                  ]
                },
                "xaxis2": {
                  "anchor": "y2",
                  "domain": [
                    0,
                    1
                  ]
                },
                "yaxis2": {
                  "anchor": "x2",
                  "domain": [
                    0,
                    0.375
                  ]
                },
                "height": 650,
                "width": 900,
                "title": "2015 Health vs Economy"
              },
              "config": {
                "showLink": true,
                "linkText": "Export to plot.ly",
                "plotlyServerURL": "https://plot.ly"
              }
            },
            "text/html": "<div id=\"065bdd32-4f8c-4161-bd6c-1edcbf01f2b4\" style=\"height: 650px; width: 900px;\" class=\"plotly-graph-div\"></div><script type=\"text/javascript\">require([\"plotly\"], function(Plotly) { window.PLOTLYENV=window.PLOTLYENV || {};window.PLOTLYENV.BASE_URL=\"https://plot.ly\";Plotly.newPlot(\"065bdd32-4f8c-4161-bd6c-1edcbf01f2b4\", [{\"name\": \"Health\", \"opacity\": 0.65, \"x\": [\"Singapore\", \"Hong Kong\", \"Japan\", \"South Korea\", \"Spain\", \"Italy\", \"Iceland\", \"France\", \"Switzerland\", \"Australia\", \"North Cyprus\", \"Cyprus\", \"Luxembourg\", \"Israel\", \"Sweden\"], \"y\": [1.02525, 1.01328, 0.99111, 0.9653799999999999, 0.95562, 0.9544600000000001, 0.94784, 0.9457899999999999, 0.9414299999999999, 0.93156, 0.92356, 0.92356, 0.91894, 0.9138700000000001, 0.9108700000000001], \"type\": \"bar\", \"uid\": \"db51b122-aa12-4547-9380-bb417a1a4cd5\", \"xaxis\": \"x\", \"yaxis\": \"y\"}, {\"name\": \"Economy\", \"opacity\": 0.65, \"x\": [\"Qatar\", \"Luxembourg\", \"Kuwait\", \"Singapore\", \"Norway\", \"United Arab Emirates\", \"Switzerland\", \"Saudi Arabia\", \"United States\", \"Hong Kong\", \"Oman\", \"Austria\", \"Ireland\", \"Australia\", \"Sweden\"], \"y\": [1.69042, 1.5639100000000001, 1.5542200000000002, 1.52186, 1.459, 1.42727, 1.3965100000000001, 1.39541, 1.3945100000000001, 1.38604, 1.36011, 1.33723, 1.33596, 1.33358, 1.33171], \"type\": \"bar\", \"uid\": \"33507160-20eb-493a-8a0a-8e78ae3af524\", \"xaxis\": \"x2\", \"yaxis\": \"y2\"}], {\"annotations\": [{\"font\": {\"size\": 16}, \"showarrow\": false, \"text\": \"Health\", \"x\": 0.5, \"xanchor\": \"center\", \"xref\": \"paper\", \"y\": 1.0, \"yanchor\": \"bottom\", \"yref\": \"paper\"}, {\"font\": {\"size\": 16}, \"showarrow\": false, \"text\": \"Economy\", \"x\": 0.5, \"xanchor\": \"center\", \"xref\": \"paper\", \"y\": 0.375, \"yanchor\": \"bottom\", \"yref\": \"paper\"}], \"xaxis\": {\"anchor\": \"y\", \"domain\": [0.0, 1.0]}, \"yaxis\": {\"anchor\": \"x\", \"domain\": [0.625, 1.0]}, \"xaxis2\": {\"anchor\": \"y2\", \"domain\": [0.0, 1.0]}, \"yaxis2\": {\"anchor\": \"x2\", \"domain\": [0.0, 0.375]}, \"height\": 650, \"width\": 900, \"title\": \"2015 Health vs Economy\"}, {\"showLink\": true, \"linkText\": \"Export to plot.ly\", \"plotlyServerURL\": \"https://plot.ly\"})});</script>",
            "text/vnd.plotly.v1+html": "<div id=\"065bdd32-4f8c-4161-bd6c-1edcbf01f2b4\" style=\"height: 650px; width: 900px;\" class=\"plotly-graph-div\"></div><script type=\"text/javascript\">require([\"plotly\"], function(Plotly) { window.PLOTLYENV=window.PLOTLYENV || {};window.PLOTLYENV.BASE_URL=\"https://plot.ly\";Plotly.newPlot(\"065bdd32-4f8c-4161-bd6c-1edcbf01f2b4\", [{\"name\": \"Health\", \"opacity\": 0.65, \"x\": [\"Singapore\", \"Hong Kong\", \"Japan\", \"South Korea\", \"Spain\", \"Italy\", \"Iceland\", \"France\", \"Switzerland\", \"Australia\", \"North Cyprus\", \"Cyprus\", \"Luxembourg\", \"Israel\", \"Sweden\"], \"y\": [1.02525, 1.01328, 0.99111, 0.9653799999999999, 0.95562, 0.9544600000000001, 0.94784, 0.9457899999999999, 0.9414299999999999, 0.93156, 0.92356, 0.92356, 0.91894, 0.9138700000000001, 0.9108700000000001], \"type\": \"bar\", \"uid\": \"db51b122-aa12-4547-9380-bb417a1a4cd5\", \"xaxis\": \"x\", \"yaxis\": \"y\"}, {\"name\": \"Economy\", \"opacity\": 0.65, \"x\": [\"Qatar\", \"Luxembourg\", \"Kuwait\", \"Singapore\", \"Norway\", \"United Arab Emirates\", \"Switzerland\", \"Saudi Arabia\", \"United States\", \"Hong Kong\", \"Oman\", \"Austria\", \"Ireland\", \"Australia\", \"Sweden\"], \"y\": [1.69042, 1.5639100000000001, 1.5542200000000002, 1.52186, 1.459, 1.42727, 1.3965100000000001, 1.39541, 1.3945100000000001, 1.38604, 1.36011, 1.33723, 1.33596, 1.33358, 1.33171], \"type\": \"bar\", \"uid\": \"33507160-20eb-493a-8a0a-8e78ae3af524\", \"xaxis\": \"x2\", \"yaxis\": \"y2\"}], {\"annotations\": [{\"font\": {\"size\": 16}, \"showarrow\": false, \"text\": \"Health\", \"x\": 0.5, \"xanchor\": \"center\", \"xref\": \"paper\", \"y\": 1.0, \"yanchor\": \"bottom\", \"yref\": \"paper\"}, {\"font\": {\"size\": 16}, \"showarrow\": false, \"text\": \"Economy\", \"x\": 0.5, \"xanchor\": \"center\", \"xref\": \"paper\", \"y\": 0.375, \"yanchor\": \"bottom\", \"yref\": \"paper\"}], \"xaxis\": {\"anchor\": \"y\", \"domain\": [0.0, 1.0]}, \"yaxis\": {\"anchor\": \"x\", \"domain\": [0.625, 1.0]}, \"xaxis2\": {\"anchor\": \"y2\", \"domain\": [0.0, 1.0]}, \"yaxis2\": {\"anchor\": \"x2\", \"domain\": [0.0, 0.375]}, \"height\": 650, \"width\": 900, \"title\": \"2015 Health vs Economy\"}, {\"showLink\": true, \"linkText\": \"Export to plot.ly\", \"plotlyServerURL\": \"https://plot.ly\"})});</script>"
          },
          "metadata": {}
        }
      ]
    },
    {
      "metadata": {
        "_uuid": "a07237e8038fa56daf02960c3c960e26b5430de4"
      },
      "cell_type": "markdown",
      "source": "## Trust vs Economy"
    },
    {
      "metadata": {
        "trusted": true,
        "_uuid": "19879f96b8d59b75d9031cc9d58b5634a4752aac",
        "_kg_hide-input": true
      },
      "cell_type": "code",
      "source": "trust_rank = data2015.sort_values('trust', ascending=False)\neconomy_rank = data2015.sort_values('economy', ascending=False)\n\ntrace1 = go.Bar(\n            x=trust_rank.country.head(15),\n            y=trust_rank.trust.head(15),\n            opacity=0.65,\n            name = 'Trust'\n        )\n\ntrace2 = go.Bar(\n            x=economy_rank.country.head(15),\n            y=economy_rank.economy.head(15),\n            opacity=0.65,\n            name = 'Economy'\n        )\n\nfig = tools.make_subplots(rows=2, cols=1, subplot_titles=('Trust', 'Economy'))\nfig.append_trace(trace1, 1, 1)\nfig.append_trace(trace2, 2, 1)\n\nfig['layout'].update(height=650, width=900, title='2015 Trust vs Economy')\n\niplot(fig)",
      "execution_count": 16,
      "outputs": [
        {
          "output_type": "stream",
          "text": "This is the format of your plot grid:\n[ (1,1) x1,y1 ]\n[ (2,1) x2,y2 ]\n\n",
          "name": "stdout"
        },
        {
          "output_type": "display_data",
          "data": {
            "application/vnd.plotly.v1+json": {
              "data": [
                {
                  "name": "Trust",
                  "opacity": 0.65,
                  "x": [
                    "Rwanda",
                    "Qatar",
                    "Singapore",
                    "Denmark",
                    "Sweden",
                    "New Zealand",
                    "Switzerland",
                    "Finland",
                    "Somaliland region",
                    "United Arab Emirates",
                    "Georgia",
                    "Luxembourg",
                    "Hong Kong",
                    "Norway",
                    "Australia"
                  ],
                  "y": [
                    0.55191,
                    0.52208,
                    0.4921,
                    0.48357,
                    0.43843999999999994,
                    0.42922,
                    0.41978000000000004,
                    0.41372,
                    0.39928,
                    0.38583,
                    0.38331,
                    0.37798000000000004,
                    0.37124,
                    0.36503,
                    0.35636999999999996
                  ],
                  "type": "bar",
                  "uid": "53833e2f-4319-4dbb-add1-85442111256a",
                  "xaxis": "x",
                  "yaxis": "y"
                },
                {
                  "name": "Economy",
                  "opacity": 0.65,
                  "x": [
                    "Qatar",
                    "Luxembourg",
                    "Kuwait",
                    "Singapore",
                    "Norway",
                    "United Arab Emirates",
                    "Switzerland",
                    "Saudi Arabia",
                    "United States",
                    "Hong Kong",
                    "Oman",
                    "Austria",
                    "Ireland",
                    "Australia",
                    "Sweden"
                  ],
                  "y": [
                    1.69042,
                    1.5639100000000001,
                    1.5542200000000002,
                    1.52186,
                    1.459,
                    1.42727,
                    1.3965100000000001,
                    1.39541,
                    1.3945100000000001,
                    1.38604,
                    1.36011,
                    1.33723,
                    1.33596,
                    1.33358,
                    1.33171
                  ],
                  "type": "bar",
                  "uid": "631a2c4a-58e3-4c62-8da2-7d0a680d37b9",
                  "xaxis": "x2",
                  "yaxis": "y2"
                }
              ],
              "layout": {
                "annotations": [
                  {
                    "font": {
                      "size": 16
                    },
                    "showarrow": false,
                    "text": "Trust",
                    "x": 0.5,
                    "xanchor": "center",
                    "xref": "paper",
                    "y": 1,
                    "yanchor": "bottom",
                    "yref": "paper"
                  },
                  {
                    "font": {
                      "size": 16
                    },
                    "showarrow": false,
                    "text": "Economy",
                    "x": 0.5,
                    "xanchor": "center",
                    "xref": "paper",
                    "y": 0.375,
                    "yanchor": "bottom",
                    "yref": "paper"
                  }
                ],
                "xaxis": {
                  "anchor": "y",
                  "domain": [
                    0,
                    1
                  ]
                },
                "yaxis": {
                  "anchor": "x",
                  "domain": [
                    0.625,
                    1
                  ]
                },
                "xaxis2": {
                  "anchor": "y2",
                  "domain": [
                    0,
                    1
                  ]
                },
                "yaxis2": {
                  "anchor": "x2",
                  "domain": [
                    0,
                    0.375
                  ]
                },
                "height": 650,
                "width": 900,
                "title": "2015 Trust vs Economy"
              },
              "config": {
                "showLink": true,
                "linkText": "Export to plot.ly",
                "plotlyServerURL": "https://plot.ly"
              }
            },
            "text/html": "<div id=\"a6eff390-58fe-4ddb-a5a6-2e95c29d3d85\" style=\"height: 650px; width: 900px;\" class=\"plotly-graph-div\"></div><script type=\"text/javascript\">require([\"plotly\"], function(Plotly) { window.PLOTLYENV=window.PLOTLYENV || {};window.PLOTLYENV.BASE_URL=\"https://plot.ly\";Plotly.newPlot(\"a6eff390-58fe-4ddb-a5a6-2e95c29d3d85\", [{\"name\": \"Trust\", \"opacity\": 0.65, \"x\": [\"Rwanda\", \"Qatar\", \"Singapore\", \"Denmark\", \"Sweden\", \"New Zealand\", \"Switzerland\", \"Finland\", \"Somaliland region\", \"United Arab Emirates\", \"Georgia\", \"Luxembourg\", \"Hong Kong\", \"Norway\", \"Australia\"], \"y\": [0.55191, 0.52208, 0.4921, 0.48357, 0.43843999999999994, 0.42922, 0.41978000000000004, 0.41372, 0.39928, 0.38583, 0.38331, 0.37798000000000004, 0.37124, 0.36503, 0.35636999999999996], \"type\": \"bar\", \"uid\": \"53833e2f-4319-4dbb-add1-85442111256a\", \"xaxis\": \"x\", \"yaxis\": \"y\"}, {\"name\": \"Economy\", \"opacity\": 0.65, \"x\": [\"Qatar\", \"Luxembourg\", \"Kuwait\", \"Singapore\", \"Norway\", \"United Arab Emirates\", \"Switzerland\", \"Saudi Arabia\", \"United States\", \"Hong Kong\", \"Oman\", \"Austria\", \"Ireland\", \"Australia\", \"Sweden\"], \"y\": [1.69042, 1.5639100000000001, 1.5542200000000002, 1.52186, 1.459, 1.42727, 1.3965100000000001, 1.39541, 1.3945100000000001, 1.38604, 1.36011, 1.33723, 1.33596, 1.33358, 1.33171], \"type\": \"bar\", \"uid\": \"631a2c4a-58e3-4c62-8da2-7d0a680d37b9\", \"xaxis\": \"x2\", \"yaxis\": \"y2\"}], {\"annotations\": [{\"font\": {\"size\": 16}, \"showarrow\": false, \"text\": \"Trust\", \"x\": 0.5, \"xanchor\": \"center\", \"xref\": \"paper\", \"y\": 1.0, \"yanchor\": \"bottom\", \"yref\": \"paper\"}, {\"font\": {\"size\": 16}, \"showarrow\": false, \"text\": \"Economy\", \"x\": 0.5, \"xanchor\": \"center\", \"xref\": \"paper\", \"y\": 0.375, \"yanchor\": \"bottom\", \"yref\": \"paper\"}], \"xaxis\": {\"anchor\": \"y\", \"domain\": [0.0, 1.0]}, \"yaxis\": {\"anchor\": \"x\", \"domain\": [0.625, 1.0]}, \"xaxis2\": {\"anchor\": \"y2\", \"domain\": [0.0, 1.0]}, \"yaxis2\": {\"anchor\": \"x2\", \"domain\": [0.0, 0.375]}, \"height\": 650, \"width\": 900, \"title\": \"2015 Trust vs Economy\"}, {\"showLink\": true, \"linkText\": \"Export to plot.ly\", \"plotlyServerURL\": \"https://plot.ly\"})});</script>",
            "text/vnd.plotly.v1+html": "<div id=\"a6eff390-58fe-4ddb-a5a6-2e95c29d3d85\" style=\"height: 650px; width: 900px;\" class=\"plotly-graph-div\"></div><script type=\"text/javascript\">require([\"plotly\"], function(Plotly) { window.PLOTLYENV=window.PLOTLYENV || {};window.PLOTLYENV.BASE_URL=\"https://plot.ly\";Plotly.newPlot(\"a6eff390-58fe-4ddb-a5a6-2e95c29d3d85\", [{\"name\": \"Trust\", \"opacity\": 0.65, \"x\": [\"Rwanda\", \"Qatar\", \"Singapore\", \"Denmark\", \"Sweden\", \"New Zealand\", \"Switzerland\", \"Finland\", \"Somaliland region\", \"United Arab Emirates\", \"Georgia\", \"Luxembourg\", \"Hong Kong\", \"Norway\", \"Australia\"], \"y\": [0.55191, 0.52208, 0.4921, 0.48357, 0.43843999999999994, 0.42922, 0.41978000000000004, 0.41372, 0.39928, 0.38583, 0.38331, 0.37798000000000004, 0.37124, 0.36503, 0.35636999999999996], \"type\": \"bar\", \"uid\": \"53833e2f-4319-4dbb-add1-85442111256a\", \"xaxis\": \"x\", \"yaxis\": \"y\"}, {\"name\": \"Economy\", \"opacity\": 0.65, \"x\": [\"Qatar\", \"Luxembourg\", \"Kuwait\", \"Singapore\", \"Norway\", \"United Arab Emirates\", \"Switzerland\", \"Saudi Arabia\", \"United States\", \"Hong Kong\", \"Oman\", \"Austria\", \"Ireland\", \"Australia\", \"Sweden\"], \"y\": [1.69042, 1.5639100000000001, 1.5542200000000002, 1.52186, 1.459, 1.42727, 1.3965100000000001, 1.39541, 1.3945100000000001, 1.38604, 1.36011, 1.33723, 1.33596, 1.33358, 1.33171], \"type\": \"bar\", \"uid\": \"631a2c4a-58e3-4c62-8da2-7d0a680d37b9\", \"xaxis\": \"x2\", \"yaxis\": \"y2\"}], {\"annotations\": [{\"font\": {\"size\": 16}, \"showarrow\": false, \"text\": \"Trust\", \"x\": 0.5, \"xanchor\": \"center\", \"xref\": \"paper\", \"y\": 1.0, \"yanchor\": \"bottom\", \"yref\": \"paper\"}, {\"font\": {\"size\": 16}, \"showarrow\": false, \"text\": \"Economy\", \"x\": 0.5, \"xanchor\": \"center\", \"xref\": \"paper\", \"y\": 0.375, \"yanchor\": \"bottom\", \"yref\": \"paper\"}], \"xaxis\": {\"anchor\": \"y\", \"domain\": [0.0, 1.0]}, \"yaxis\": {\"anchor\": \"x\", \"domain\": [0.625, 1.0]}, \"xaxis2\": {\"anchor\": \"y2\", \"domain\": [0.0, 1.0]}, \"yaxis2\": {\"anchor\": \"x2\", \"domain\": [0.0, 0.375]}, \"height\": 650, \"width\": 900, \"title\": \"2015 Trust vs Economy\"}, {\"showLink\": true, \"linkText\": \"Export to plot.ly\", \"plotlyServerURL\": \"https://plot.ly\"})});</script>"
          },
          "metadata": {}
        }
      ]
    },
    {
      "metadata": {
        "_uuid": "e6cf0b3a44f7d67de966001e3d5ca488798ec478"
      },
      "cell_type": "markdown",
      "source": "The economy has little to do with trust in the government."
    },
    {
      "metadata": {
        "_uuid": "7f600a000362d116caa77f31f818f99d5cedcffa"
      },
      "cell_type": "markdown",
      "source": "## Happiness vs Economy"
    },
    {
      "metadata": {
        "trusted": true,
        "_uuid": "2db00de9f12dad29e0c40319dc1be861abc87006",
        "_kg_hide-input": true
      },
      "cell_type": "code",
      "source": "happiness_rank = data2015.sort_values('happiness_score', ascending=False)\neconomy_rank = data2015.sort_values('economy', ascending=False)\n\ntrace1 = go.Bar(\n            x=happiness_rank.country.head(15),\n            y=happiness_rank.happiness_score.head(15),\n            opacity=0.65,\n            name = 'Happiness'\n        )\n\ntrace2 = go.Bar(\n            x=economy_rank.country.head(15),\n            y=economy_rank.economy.head(15),\n            opacity=0.65,\n            name = 'Economy'\n        )\n\nfig = tools.make_subplots(rows=2, cols=1, subplot_titles=('Happiness', 'Economy'))\nfig.append_trace(trace1, 1, 1)\nfig.append_trace(trace2, 2, 1)\n\nfig['layout'].update(height=650, width=900, title='2015 Happiness vs Economy')\n\niplot(fig)",
      "execution_count": 17,
      "outputs": [
        {
          "output_type": "stream",
          "text": "This is the format of your plot grid:\n[ (1,1) x1,y1 ]\n[ (2,1) x2,y2 ]\n\n",
          "name": "stdout"
        },
        {
          "output_type": "display_data",
          "data": {
            "application/vnd.plotly.v1+json": {
              "data": [
                {
                  "name": "Happiness",
                  "opacity": 0.65,
                  "x": [
                    "Switzerland",
                    "Iceland",
                    "Denmark",
                    "Norway",
                    "Canada",
                    "Finland",
                    "Netherlands",
                    "Sweden",
                    "New Zealand",
                    "Australia",
                    "Israel",
                    "Costa Rica",
                    "Austria",
                    "Mexico",
                    "United States"
                  ],
                  "y": [
                    7.587000000000001,
                    7.561,
                    7.527,
                    7.522,
                    7.4270000000000005,
                    7.406000000000001,
                    7.377999999999999,
                    7.364,
                    7.2860000000000005,
                    7.284,
                    7.278,
                    7.226,
                    7.2,
                    7.187,
                    7.119
                  ],
                  "type": "bar",
                  "uid": "f76aae9f-5cb6-4204-bf9d-108eb771034c",
                  "xaxis": "x",
                  "yaxis": "y"
                },
                {
                  "name": "Economy",
                  "opacity": 0.65,
                  "x": [
                    "Qatar",
                    "Luxembourg",
                    "Kuwait",
                    "Singapore",
                    "Norway",
                    "United Arab Emirates",
                    "Switzerland",
                    "Saudi Arabia",
                    "United States",
                    "Hong Kong",
                    "Oman",
                    "Austria",
                    "Ireland",
                    "Australia",
                    "Sweden"
                  ],
                  "y": [
                    1.69042,
                    1.5639100000000001,
                    1.5542200000000002,
                    1.52186,
                    1.459,
                    1.42727,
                    1.3965100000000001,
                    1.39541,
                    1.3945100000000001,
                    1.38604,
                    1.36011,
                    1.33723,
                    1.33596,
                    1.33358,
                    1.33171
                  ],
                  "type": "bar",
                  "uid": "be0edbfb-5bc2-4b62-8850-a8f73db8ed6c",
                  "xaxis": "x2",
                  "yaxis": "y2"
                }
              ],
              "layout": {
                "annotations": [
                  {
                    "font": {
                      "size": 16
                    },
                    "showarrow": false,
                    "text": "Happiness",
                    "x": 0.5,
                    "xanchor": "center",
                    "xref": "paper",
                    "y": 1,
                    "yanchor": "bottom",
                    "yref": "paper"
                  },
                  {
                    "font": {
                      "size": 16
                    },
                    "showarrow": false,
                    "text": "Economy",
                    "x": 0.5,
                    "xanchor": "center",
                    "xref": "paper",
                    "y": 0.375,
                    "yanchor": "bottom",
                    "yref": "paper"
                  }
                ],
                "xaxis": {
                  "anchor": "y",
                  "domain": [
                    0,
                    1
                  ]
                },
                "yaxis": {
                  "anchor": "x",
                  "domain": [
                    0.625,
                    1
                  ]
                },
                "xaxis2": {
                  "anchor": "y2",
                  "domain": [
                    0,
                    1
                  ]
                },
                "yaxis2": {
                  "anchor": "x2",
                  "domain": [
                    0,
                    0.375
                  ]
                },
                "height": 650,
                "width": 900,
                "title": "2015 Happiness vs Economy"
              },
              "config": {
                "showLink": true,
                "linkText": "Export to plot.ly",
                "plotlyServerURL": "https://plot.ly"
              }
            },
            "text/html": "<div id=\"ff4f33e5-64b9-4b26-a18b-b75c078afec5\" style=\"height: 650px; width: 900px;\" class=\"plotly-graph-div\"></div><script type=\"text/javascript\">require([\"plotly\"], function(Plotly) { window.PLOTLYENV=window.PLOTLYENV || {};window.PLOTLYENV.BASE_URL=\"https://plot.ly\";Plotly.newPlot(\"ff4f33e5-64b9-4b26-a18b-b75c078afec5\", [{\"name\": \"Happiness\", \"opacity\": 0.65, \"x\": [\"Switzerland\", \"Iceland\", \"Denmark\", \"Norway\", \"Canada\", \"Finland\", \"Netherlands\", \"Sweden\", \"New Zealand\", \"Australia\", \"Israel\", \"Costa Rica\", \"Austria\", \"Mexico\", \"United States\"], \"y\": [7.587000000000001, 7.561, 7.527, 7.522, 7.4270000000000005, 7.406000000000001, 7.377999999999999, 7.364, 7.2860000000000005, 7.284, 7.278, 7.226, 7.2, 7.187, 7.119], \"type\": \"bar\", \"uid\": \"f76aae9f-5cb6-4204-bf9d-108eb771034c\", \"xaxis\": \"x\", \"yaxis\": \"y\"}, {\"name\": \"Economy\", \"opacity\": 0.65, \"x\": [\"Qatar\", \"Luxembourg\", \"Kuwait\", \"Singapore\", \"Norway\", \"United Arab Emirates\", \"Switzerland\", \"Saudi Arabia\", \"United States\", \"Hong Kong\", \"Oman\", \"Austria\", \"Ireland\", \"Australia\", \"Sweden\"], \"y\": [1.69042, 1.5639100000000001, 1.5542200000000002, 1.52186, 1.459, 1.42727, 1.3965100000000001, 1.39541, 1.3945100000000001, 1.38604, 1.36011, 1.33723, 1.33596, 1.33358, 1.33171], \"type\": \"bar\", \"uid\": \"be0edbfb-5bc2-4b62-8850-a8f73db8ed6c\", \"xaxis\": \"x2\", \"yaxis\": \"y2\"}], {\"annotations\": [{\"font\": {\"size\": 16}, \"showarrow\": false, \"text\": \"Happiness\", \"x\": 0.5, \"xanchor\": \"center\", \"xref\": \"paper\", \"y\": 1.0, \"yanchor\": \"bottom\", \"yref\": \"paper\"}, {\"font\": {\"size\": 16}, \"showarrow\": false, \"text\": \"Economy\", \"x\": 0.5, \"xanchor\": \"center\", \"xref\": \"paper\", \"y\": 0.375, \"yanchor\": \"bottom\", \"yref\": \"paper\"}], \"xaxis\": {\"anchor\": \"y\", \"domain\": [0.0, 1.0]}, \"yaxis\": {\"anchor\": \"x\", \"domain\": [0.625, 1.0]}, \"xaxis2\": {\"anchor\": \"y2\", \"domain\": [0.0, 1.0]}, \"yaxis2\": {\"anchor\": \"x2\", \"domain\": [0.0, 0.375]}, \"height\": 650, \"width\": 900, \"title\": \"2015 Happiness vs Economy\"}, {\"showLink\": true, \"linkText\": \"Export to plot.ly\", \"plotlyServerURL\": \"https://plot.ly\"})});</script>",
            "text/vnd.plotly.v1+html": "<div id=\"ff4f33e5-64b9-4b26-a18b-b75c078afec5\" style=\"height: 650px; width: 900px;\" class=\"plotly-graph-div\"></div><script type=\"text/javascript\">require([\"plotly\"], function(Plotly) { window.PLOTLYENV=window.PLOTLYENV || {};window.PLOTLYENV.BASE_URL=\"https://plot.ly\";Plotly.newPlot(\"ff4f33e5-64b9-4b26-a18b-b75c078afec5\", [{\"name\": \"Happiness\", \"opacity\": 0.65, \"x\": [\"Switzerland\", \"Iceland\", \"Denmark\", \"Norway\", \"Canada\", \"Finland\", \"Netherlands\", \"Sweden\", \"New Zealand\", \"Australia\", \"Israel\", \"Costa Rica\", \"Austria\", \"Mexico\", \"United States\"], \"y\": [7.587000000000001, 7.561, 7.527, 7.522, 7.4270000000000005, 7.406000000000001, 7.377999999999999, 7.364, 7.2860000000000005, 7.284, 7.278, 7.226, 7.2, 7.187, 7.119], \"type\": \"bar\", \"uid\": \"f76aae9f-5cb6-4204-bf9d-108eb771034c\", \"xaxis\": \"x\", \"yaxis\": \"y\"}, {\"name\": \"Economy\", \"opacity\": 0.65, \"x\": [\"Qatar\", \"Luxembourg\", \"Kuwait\", \"Singapore\", \"Norway\", \"United Arab Emirates\", \"Switzerland\", \"Saudi Arabia\", \"United States\", \"Hong Kong\", \"Oman\", \"Austria\", \"Ireland\", \"Australia\", \"Sweden\"], \"y\": [1.69042, 1.5639100000000001, 1.5542200000000002, 1.52186, 1.459, 1.42727, 1.3965100000000001, 1.39541, 1.3945100000000001, 1.38604, 1.36011, 1.33723, 1.33596, 1.33358, 1.33171], \"type\": \"bar\", \"uid\": \"be0edbfb-5bc2-4b62-8850-a8f73db8ed6c\", \"xaxis\": \"x2\", \"yaxis\": \"y2\"}], {\"annotations\": [{\"font\": {\"size\": 16}, \"showarrow\": false, \"text\": \"Happiness\", \"x\": 0.5, \"xanchor\": \"center\", \"xref\": \"paper\", \"y\": 1.0, \"yanchor\": \"bottom\", \"yref\": \"paper\"}, {\"font\": {\"size\": 16}, \"showarrow\": false, \"text\": \"Economy\", \"x\": 0.5, \"xanchor\": \"center\", \"xref\": \"paper\", \"y\": 0.375, \"yanchor\": \"bottom\", \"yref\": \"paper\"}], \"xaxis\": {\"anchor\": \"y\", \"domain\": [0.0, 1.0]}, \"yaxis\": {\"anchor\": \"x\", \"domain\": [0.625, 1.0]}, \"xaxis2\": {\"anchor\": \"y2\", \"domain\": [0.0, 1.0]}, \"yaxis2\": {\"anchor\": \"x2\", \"domain\": [0.0, 0.375]}, \"height\": 650, \"width\": 900, \"title\": \"2015 Happiness vs Economy\"}, {\"showLink\": true, \"linkText\": \"Export to plot.ly\", \"plotlyServerURL\": \"https://plot.ly\"})});</script>"
          },
          "metadata": {}
        }
      ]
    },
    {
      "metadata": {
        "_uuid": "5b7ee5e920ed26559397620c3223ebe965cb1992"
      },
      "cell_type": "markdown",
      "source": "## Happiness vs Family"
    },
    {
      "metadata": {
        "trusted": true,
        "_uuid": "62fa5c2cde0e88be5341f3f0a419911a374680f2",
        "_kg_hide-input": true
      },
      "cell_type": "code",
      "source": "happiness_rank = data2015.sort_values('happiness_score', ascending=False)\nfamily_rank = data2015.sort_values('family', ascending=False)\n\ntrace1 = go.Bar(\n            x=happiness_rank.country.head(15),\n            y=happiness_rank.happiness_score.head(15),\n            opacity=0.65,\n            name = 'Happiness'\n        )\n\ntrace2 = go.Bar(\n            x=family_rank.country.head(15),\n            y=family_rank.family.head(15),\n            opacity=0.65,\n            name = 'Family'\n        )\n\nfig = tools.make_subplots(rows=2, cols=1, subplot_titles=('Happiness', 'Family'))\nfig.append_trace(trace1, 1, 1)\nfig.append_trace(trace2, 2, 1)\n\nfig['layout'].update(height=500, width=900, title='2015 Happiness vs Family')\n\niplot(fig)",
      "execution_count": 18,
      "outputs": [
        {
          "output_type": "stream",
          "text": "This is the format of your plot grid:\n[ (1,1) x1,y1 ]\n[ (2,1) x2,y2 ]\n\n",
          "name": "stdout"
        },
        {
          "output_type": "display_data",
          "data": {
            "application/vnd.plotly.v1+json": {
              "data": [
                {
                  "name": "Happiness",
                  "opacity": 0.65,
                  "x": [
                    "Switzerland",
                    "Iceland",
                    "Denmark",
                    "Norway",
                    "Canada",
                    "Finland",
                    "Netherlands",
                    "Sweden",
                    "New Zealand",
                    "Australia",
                    "Israel",
                    "Costa Rica",
                    "Austria",
                    "Mexico",
                    "United States"
                  ],
                  "y": [
                    7.587000000000001,
                    7.561,
                    7.527,
                    7.522,
                    7.4270000000000005,
                    7.406000000000001,
                    7.377999999999999,
                    7.364,
                    7.2860000000000005,
                    7.284,
                    7.278,
                    7.226,
                    7.2,
                    7.187,
                    7.119
                  ],
                  "type": "bar",
                  "uid": "e5e4ae0e-4656-4627-a6c3-38568533e450",
                  "xaxis": "x",
                  "yaxis": "y"
                },
                {
                  "name": "Family",
                  "opacity": 0.65,
                  "x": [
                    "Iceland",
                    "Ireland",
                    "Denmark",
                    "Switzerland",
                    "Uzbekistan",
                    "Norway",
                    "Canada",
                    "New Zealand",
                    "Finland",
                    "Spain",
                    "Australia",
                    "Paraguay",
                    "Malta",
                    "Mongolia",
                    "Germany"
                  ],
                  "y": [
                    1.4022299999999999,
                    1.36948,
                    1.36058,
                    1.34951,
                    1.34043,
                    1.33095,
                    1.32261,
                    1.3196700000000001,
                    1.31826,
                    1.31379,
                    1.30923,
                    1.30477,
                    1.30203,
                    1.3006,
                    1.2993700000000001
                  ],
                  "type": "bar",
                  "uid": "379c681a-8705-48a2-b633-040040421401",
                  "xaxis": "x2",
                  "yaxis": "y2"
                }
              ],
              "layout": {
                "annotations": [
                  {
                    "font": {
                      "size": 16
                    },
                    "showarrow": false,
                    "text": "Happiness",
                    "x": 0.5,
                    "xanchor": "center",
                    "xref": "paper",
                    "y": 1,
                    "yanchor": "bottom",
                    "yref": "paper"
                  },
                  {
                    "font": {
                      "size": 16
                    },
                    "showarrow": false,
                    "text": "Family",
                    "x": 0.5,
                    "xanchor": "center",
                    "xref": "paper",
                    "y": 0.375,
                    "yanchor": "bottom",
                    "yref": "paper"
                  }
                ],
                "xaxis": {
                  "anchor": "y",
                  "domain": [
                    0,
                    1
                  ]
                },
                "yaxis": {
                  "anchor": "x",
                  "domain": [
                    0.625,
                    1
                  ]
                },
                "xaxis2": {
                  "anchor": "y2",
                  "domain": [
                    0,
                    1
                  ]
                },
                "yaxis2": {
                  "anchor": "x2",
                  "domain": [
                    0,
                    0.375
                  ]
                },
                "height": 500,
                "width": 900,
                "title": "2015 Happiness vs Family"
              },
              "config": {
                "showLink": true,
                "linkText": "Export to plot.ly",
                "plotlyServerURL": "https://plot.ly"
              }
            },
            "text/html": "<div id=\"85f0a414-ee78-48b7-b60d-2a50ed1bab0f\" style=\"height: 500px; width: 900px;\" class=\"plotly-graph-div\"></div><script type=\"text/javascript\">require([\"plotly\"], function(Plotly) { window.PLOTLYENV=window.PLOTLYENV || {};window.PLOTLYENV.BASE_URL=\"https://plot.ly\";Plotly.newPlot(\"85f0a414-ee78-48b7-b60d-2a50ed1bab0f\", [{\"name\": \"Happiness\", \"opacity\": 0.65, \"x\": [\"Switzerland\", \"Iceland\", \"Denmark\", \"Norway\", \"Canada\", \"Finland\", \"Netherlands\", \"Sweden\", \"New Zealand\", \"Australia\", \"Israel\", \"Costa Rica\", \"Austria\", \"Mexico\", \"United States\"], \"y\": [7.587000000000001, 7.561, 7.527, 7.522, 7.4270000000000005, 7.406000000000001, 7.377999999999999, 7.364, 7.2860000000000005, 7.284, 7.278, 7.226, 7.2, 7.187, 7.119], \"type\": \"bar\", \"uid\": \"e5e4ae0e-4656-4627-a6c3-38568533e450\", \"xaxis\": \"x\", \"yaxis\": \"y\"}, {\"name\": \"Family\", \"opacity\": 0.65, \"x\": [\"Iceland\", \"Ireland\", \"Denmark\", \"Switzerland\", \"Uzbekistan\", \"Norway\", \"Canada\", \"New Zealand\", \"Finland\", \"Spain\", \"Australia\", \"Paraguay\", \"Malta\", \"Mongolia\", \"Germany\"], \"y\": [1.4022299999999999, 1.36948, 1.36058, 1.34951, 1.34043, 1.33095, 1.32261, 1.3196700000000001, 1.31826, 1.31379, 1.30923, 1.30477, 1.30203, 1.3006, 1.2993700000000001], \"type\": \"bar\", \"uid\": \"379c681a-8705-48a2-b633-040040421401\", \"xaxis\": \"x2\", \"yaxis\": \"y2\"}], {\"annotations\": [{\"font\": {\"size\": 16}, \"showarrow\": false, \"text\": \"Happiness\", \"x\": 0.5, \"xanchor\": \"center\", \"xref\": \"paper\", \"y\": 1.0, \"yanchor\": \"bottom\", \"yref\": \"paper\"}, {\"font\": {\"size\": 16}, \"showarrow\": false, \"text\": \"Family\", \"x\": 0.5, \"xanchor\": \"center\", \"xref\": \"paper\", \"y\": 0.375, \"yanchor\": \"bottom\", \"yref\": \"paper\"}], \"xaxis\": {\"anchor\": \"y\", \"domain\": [0.0, 1.0]}, \"yaxis\": {\"anchor\": \"x\", \"domain\": [0.625, 1.0]}, \"xaxis2\": {\"anchor\": \"y2\", \"domain\": [0.0, 1.0]}, \"yaxis2\": {\"anchor\": \"x2\", \"domain\": [0.0, 0.375]}, \"height\": 500, \"width\": 900, \"title\": \"2015 Happiness vs Family\"}, {\"showLink\": true, \"linkText\": \"Export to plot.ly\", \"plotlyServerURL\": \"https://plot.ly\"})});</script>",
            "text/vnd.plotly.v1+html": "<div id=\"85f0a414-ee78-48b7-b60d-2a50ed1bab0f\" style=\"height: 500px; width: 900px;\" class=\"plotly-graph-div\"></div><script type=\"text/javascript\">require([\"plotly\"], function(Plotly) { window.PLOTLYENV=window.PLOTLYENV || {};window.PLOTLYENV.BASE_URL=\"https://plot.ly\";Plotly.newPlot(\"85f0a414-ee78-48b7-b60d-2a50ed1bab0f\", [{\"name\": \"Happiness\", \"opacity\": 0.65, \"x\": [\"Switzerland\", \"Iceland\", \"Denmark\", \"Norway\", \"Canada\", \"Finland\", \"Netherlands\", \"Sweden\", \"New Zealand\", \"Australia\", \"Israel\", \"Costa Rica\", \"Austria\", \"Mexico\", \"United States\"], \"y\": [7.587000000000001, 7.561, 7.527, 7.522, 7.4270000000000005, 7.406000000000001, 7.377999999999999, 7.364, 7.2860000000000005, 7.284, 7.278, 7.226, 7.2, 7.187, 7.119], \"type\": \"bar\", \"uid\": \"e5e4ae0e-4656-4627-a6c3-38568533e450\", \"xaxis\": \"x\", \"yaxis\": \"y\"}, {\"name\": \"Family\", \"opacity\": 0.65, \"x\": [\"Iceland\", \"Ireland\", \"Denmark\", \"Switzerland\", \"Uzbekistan\", \"Norway\", \"Canada\", \"New Zealand\", \"Finland\", \"Spain\", \"Australia\", \"Paraguay\", \"Malta\", \"Mongolia\", \"Germany\"], \"y\": [1.4022299999999999, 1.36948, 1.36058, 1.34951, 1.34043, 1.33095, 1.32261, 1.3196700000000001, 1.31826, 1.31379, 1.30923, 1.30477, 1.30203, 1.3006, 1.2993700000000001], \"type\": \"bar\", \"uid\": \"379c681a-8705-48a2-b633-040040421401\", \"xaxis\": \"x2\", \"yaxis\": \"y2\"}], {\"annotations\": [{\"font\": {\"size\": 16}, \"showarrow\": false, \"text\": \"Happiness\", \"x\": 0.5, \"xanchor\": \"center\", \"xref\": \"paper\", \"y\": 1.0, \"yanchor\": \"bottom\", \"yref\": \"paper\"}, {\"font\": {\"size\": 16}, \"showarrow\": false, \"text\": \"Family\", \"x\": 0.5, \"xanchor\": \"center\", \"xref\": \"paper\", \"y\": 0.375, \"yanchor\": \"bottom\", \"yref\": \"paper\"}], \"xaxis\": {\"anchor\": \"y\", \"domain\": [0.0, 1.0]}, \"yaxis\": {\"anchor\": \"x\", \"domain\": [0.625, 1.0]}, \"xaxis2\": {\"anchor\": \"y2\", \"domain\": [0.0, 1.0]}, \"yaxis2\": {\"anchor\": \"x2\", \"domain\": [0.0, 0.375]}, \"height\": 500, \"width\": 900, \"title\": \"2015 Happiness vs Family\"}, {\"showLink\": true, \"linkText\": \"Export to plot.ly\", \"plotlyServerURL\": \"https://plot.ly\"})});</script>"
          },
          "metadata": {}
        }
      ]
    },
    {
      "metadata": {
        "_uuid": "bfb5ccb20b78057e0302adcaced0531df409e7ce"
      },
      "cell_type": "markdown",
      "source": "## Happiness vs Freedom"
    },
    {
      "metadata": {
        "trusted": true,
        "_uuid": "c1a37f17df3bcb2c95eebcb9659e588eb2c8bfbe",
        "_kg_hide-input": true
      },
      "cell_type": "code",
      "source": "happiness_rank = data2015.sort_values('happiness_score', ascending=False)\nfreedom_rank = data2015.sort_values('freedom', ascending=False)\n\ntrace1 = go.Bar(\n            x=happiness_rank.country.head(15),\n            y=happiness_rank.happiness_score.head(15),\n            opacity=0.65,\n            name = 'Happiness'\n        )\n\ntrace2 = go.Bar(\n            x=freedom_rank.country.head(15),\n            y=freedom_rank.freedom.head(15),\n            opacity=0.65,\n            name = 'Freedom'\n        )\n\nfig = tools.make_subplots(rows=2, cols=1, subplot_titles=('Happiness', 'Freedom'))\nfig.append_trace(trace1, 1, 1)\nfig.append_trace(trace2, 2, 1)\n\nfig['layout'].update(height=500, width=900, title='2015 Happiness vs Freedom')\n\niplot(fig)",
      "execution_count": 19,
      "outputs": [
        {
          "output_type": "stream",
          "text": "This is the format of your plot grid:\n[ (1,1) x1,y1 ]\n[ (2,1) x2,y2 ]\n\n",
          "name": "stdout"
        },
        {
          "output_type": "display_data",
          "data": {
            "application/vnd.plotly.v1+json": {
              "data": [
                {
                  "name": "Happiness",
                  "opacity": 0.65,
                  "x": [
                    "Switzerland",
                    "Iceland",
                    "Denmark",
                    "Norway",
                    "Canada",
                    "Finland",
                    "Netherlands",
                    "Sweden",
                    "New Zealand",
                    "Australia",
                    "Israel",
                    "Costa Rica",
                    "Austria",
                    "Mexico",
                    "United States"
                  ],
                  "y": [
                    7.587000000000001,
                    7.561,
                    7.527,
                    7.522,
                    7.4270000000000005,
                    7.406000000000001,
                    7.377999999999999,
                    7.364,
                    7.2860000000000005,
                    7.284,
                    7.278,
                    7.226,
                    7.2,
                    7.187,
                    7.119
                  ],
                  "type": "bar",
                  "uid": "6c845c3c-15a7-4bf7-95b3-0bd43592b95a",
                  "xaxis": "x",
                  "yaxis": "y"
                },
                {
                  "name": "Freedom",
                  "opacity": 0.65,
                  "x": [
                    "Norway",
                    "Switzerland",
                    "Cambodia",
                    "Sweden",
                    "Uzbekistan",
                    "Australia",
                    "Denmark",
                    "Finland",
                    "United Arab Emirates",
                    "Qatar",
                    "New Zealand",
                    "Costa Rica",
                    "Canada",
                    "Oman",
                    "Iceland"
                  ],
                  "y": [
                    0.66973,
                    0.66557,
                    0.66246,
                    0.6598,
                    0.6582100000000001,
                    0.6512399999999999,
                    0.6493800000000001,
                    0.64169,
                    0.64157,
                    0.6404,
                    0.6393800000000001,
                    0.63376,
                    0.63297,
                    0.63274,
                    0.6287699999999999
                  ],
                  "type": "bar",
                  "uid": "18f5573e-23d1-49a5-815f-1c02d3cfbd4c",
                  "xaxis": "x2",
                  "yaxis": "y2"
                }
              ],
              "layout": {
                "annotations": [
                  {
                    "font": {
                      "size": 16
                    },
                    "showarrow": false,
                    "text": "Happiness",
                    "x": 0.5,
                    "xanchor": "center",
                    "xref": "paper",
                    "y": 1,
                    "yanchor": "bottom",
                    "yref": "paper"
                  },
                  {
                    "font": {
                      "size": 16
                    },
                    "showarrow": false,
                    "text": "Freedom",
                    "x": 0.5,
                    "xanchor": "center",
                    "xref": "paper",
                    "y": 0.375,
                    "yanchor": "bottom",
                    "yref": "paper"
                  }
                ],
                "xaxis": {
                  "anchor": "y",
                  "domain": [
                    0,
                    1
                  ]
                },
                "yaxis": {
                  "anchor": "x",
                  "domain": [
                    0.625,
                    1
                  ]
                },
                "xaxis2": {
                  "anchor": "y2",
                  "domain": [
                    0,
                    1
                  ]
                },
                "yaxis2": {
                  "anchor": "x2",
                  "domain": [
                    0,
                    0.375
                  ]
                },
                "height": 500,
                "width": 900,
                "title": "2015 Happiness vs Freedom"
              },
              "config": {
                "showLink": true,
                "linkText": "Export to plot.ly",
                "plotlyServerURL": "https://plot.ly"
              }
            },
            "text/html": "<div id=\"298ca145-e625-4941-8534-ec538469b5c1\" style=\"height: 500px; width: 900px;\" class=\"plotly-graph-div\"></div><script type=\"text/javascript\">require([\"plotly\"], function(Plotly) { window.PLOTLYENV=window.PLOTLYENV || {};window.PLOTLYENV.BASE_URL=\"https://plot.ly\";Plotly.newPlot(\"298ca145-e625-4941-8534-ec538469b5c1\", [{\"name\": \"Happiness\", \"opacity\": 0.65, \"x\": [\"Switzerland\", \"Iceland\", \"Denmark\", \"Norway\", \"Canada\", \"Finland\", \"Netherlands\", \"Sweden\", \"New Zealand\", \"Australia\", \"Israel\", \"Costa Rica\", \"Austria\", \"Mexico\", \"United States\"], \"y\": [7.587000000000001, 7.561, 7.527, 7.522, 7.4270000000000005, 7.406000000000001, 7.377999999999999, 7.364, 7.2860000000000005, 7.284, 7.278, 7.226, 7.2, 7.187, 7.119], \"type\": \"bar\", \"uid\": \"6c845c3c-15a7-4bf7-95b3-0bd43592b95a\", \"xaxis\": \"x\", \"yaxis\": \"y\"}, {\"name\": \"Freedom\", \"opacity\": 0.65, \"x\": [\"Norway\", \"Switzerland\", \"Cambodia\", \"Sweden\", \"Uzbekistan\", \"Australia\", \"Denmark\", \"Finland\", \"United Arab Emirates\", \"Qatar\", \"New Zealand\", \"Costa Rica\", \"Canada\", \"Oman\", \"Iceland\"], \"y\": [0.66973, 0.66557, 0.66246, 0.6598, 0.6582100000000001, 0.6512399999999999, 0.6493800000000001, 0.64169, 0.64157, 0.6404, 0.6393800000000001, 0.63376, 0.63297, 0.63274, 0.6287699999999999], \"type\": \"bar\", \"uid\": \"18f5573e-23d1-49a5-815f-1c02d3cfbd4c\", \"xaxis\": \"x2\", \"yaxis\": \"y2\"}], {\"annotations\": [{\"font\": {\"size\": 16}, \"showarrow\": false, \"text\": \"Happiness\", \"x\": 0.5, \"xanchor\": \"center\", \"xref\": \"paper\", \"y\": 1.0, \"yanchor\": \"bottom\", \"yref\": \"paper\"}, {\"font\": {\"size\": 16}, \"showarrow\": false, \"text\": \"Freedom\", \"x\": 0.5, \"xanchor\": \"center\", \"xref\": \"paper\", \"y\": 0.375, \"yanchor\": \"bottom\", \"yref\": \"paper\"}], \"xaxis\": {\"anchor\": \"y\", \"domain\": [0.0, 1.0]}, \"yaxis\": {\"anchor\": \"x\", \"domain\": [0.625, 1.0]}, \"xaxis2\": {\"anchor\": \"y2\", \"domain\": [0.0, 1.0]}, \"yaxis2\": {\"anchor\": \"x2\", \"domain\": [0.0, 0.375]}, \"height\": 500, \"width\": 900, \"title\": \"2015 Happiness vs Freedom\"}, {\"showLink\": true, \"linkText\": \"Export to plot.ly\", \"plotlyServerURL\": \"https://plot.ly\"})});</script>",
            "text/vnd.plotly.v1+html": "<div id=\"298ca145-e625-4941-8534-ec538469b5c1\" style=\"height: 500px; width: 900px;\" class=\"plotly-graph-div\"></div><script type=\"text/javascript\">require([\"plotly\"], function(Plotly) { window.PLOTLYENV=window.PLOTLYENV || {};window.PLOTLYENV.BASE_URL=\"https://plot.ly\";Plotly.newPlot(\"298ca145-e625-4941-8534-ec538469b5c1\", [{\"name\": \"Happiness\", \"opacity\": 0.65, \"x\": [\"Switzerland\", \"Iceland\", \"Denmark\", \"Norway\", \"Canada\", \"Finland\", \"Netherlands\", \"Sweden\", \"New Zealand\", \"Australia\", \"Israel\", \"Costa Rica\", \"Austria\", \"Mexico\", \"United States\"], \"y\": [7.587000000000001, 7.561, 7.527, 7.522, 7.4270000000000005, 7.406000000000001, 7.377999999999999, 7.364, 7.2860000000000005, 7.284, 7.278, 7.226, 7.2, 7.187, 7.119], \"type\": \"bar\", \"uid\": \"6c845c3c-15a7-4bf7-95b3-0bd43592b95a\", \"xaxis\": \"x\", \"yaxis\": \"y\"}, {\"name\": \"Freedom\", \"opacity\": 0.65, \"x\": [\"Norway\", \"Switzerland\", \"Cambodia\", \"Sweden\", \"Uzbekistan\", \"Australia\", \"Denmark\", \"Finland\", \"United Arab Emirates\", \"Qatar\", \"New Zealand\", \"Costa Rica\", \"Canada\", \"Oman\", \"Iceland\"], \"y\": [0.66973, 0.66557, 0.66246, 0.6598, 0.6582100000000001, 0.6512399999999999, 0.6493800000000001, 0.64169, 0.64157, 0.6404, 0.6393800000000001, 0.63376, 0.63297, 0.63274, 0.6287699999999999], \"type\": \"bar\", \"uid\": \"18f5573e-23d1-49a5-815f-1c02d3cfbd4c\", \"xaxis\": \"x2\", \"yaxis\": \"y2\"}], {\"annotations\": [{\"font\": {\"size\": 16}, \"showarrow\": false, \"text\": \"Happiness\", \"x\": 0.5, \"xanchor\": \"center\", \"xref\": \"paper\", \"y\": 1.0, \"yanchor\": \"bottom\", \"yref\": \"paper\"}, {\"font\": {\"size\": 16}, \"showarrow\": false, \"text\": \"Freedom\", \"x\": 0.5, \"xanchor\": \"center\", \"xref\": \"paper\", \"y\": 0.375, \"yanchor\": \"bottom\", \"yref\": \"paper\"}], \"xaxis\": {\"anchor\": \"y\", \"domain\": [0.0, 1.0]}, \"yaxis\": {\"anchor\": \"x\", \"domain\": [0.625, 1.0]}, \"xaxis2\": {\"anchor\": \"y2\", \"domain\": [0.0, 1.0]}, \"yaxis2\": {\"anchor\": \"x2\", \"domain\": [0.0, 0.375]}, \"height\": 500, \"width\": 900, \"title\": \"2015 Happiness vs Freedom\"}, {\"showLink\": true, \"linkText\": \"Export to plot.ly\", \"plotlyServerURL\": \"https://plot.ly\"})});</script>"
          },
          "metadata": {}
        }
      ]
    },
    {
      "metadata": {
        "_uuid": "e5a169b6141fcf04ad795ddae0b6cfd40c3cd444"
      },
      "cell_type": "markdown",
      "source": "## 2015 Happiness Score with World Map"
    },
    {
      "metadata": {
        "_kg_hide-input": true,
        "trusted": true,
        "_uuid": "a1c1c7897053d4a917b89f608ed424f79dc6a329"
      },
      "cell_type": "code",
      "source": "data = dict(type = 'choropleth', \n           locations = data2015['country'],\n           locationmode = 'country names',\n           z = data2015['happiness_rank'], \n           text = data2015['country'],\n           colorbar = {'title':'Happiness'})\nlayout = dict(title = '2015 Global Happiness', \n                 geo = dict(showframe = False, \n                       projection = {'type': 'equirectangular'}))\nfig = go.Figure(data = [data], layout=layout)\niplot(fig)",
      "execution_count": 20,
      "outputs": [
        {
          "output_type": "display_data",
          "data": {
            "application/vnd.plotly.v1+json": {
              "data": [
                {
                  "colorbar": {
                    "title": "Happiness"
                  },
                  "locationmode": "country names",
                  "locations": [
                    "Switzerland",
                    "Iceland",
                    "Denmark",
                    "Norway",
                    "Canada",
                    "Finland",
                    "Netherlands",
                    "Sweden",
                    "New Zealand",
                    "Australia",
                    "Israel",
                    "Costa Rica",
                    "Austria",
                    "Mexico",
                    "United States",
                    "Brazil",
                    "Luxembourg",
                    "Ireland",
                    "Belgium",
                    "United Arab Emirates",
                    "United Kingdom",
                    "Oman",
                    "Venezuela",
                    "Singapore",
                    "Panama",
                    "Germany",
                    "Chile",
                    "Qatar",
                    "France",
                    "Argentina",
                    "Czech Republic",
                    "Uruguay",
                    "Colombia",
                    "Thailand",
                    "Saudi Arabia",
                    "Spain",
                    "Malta",
                    "Taiwan",
                    "Kuwait",
                    "Suriname",
                    "Trinidad and Tobago",
                    "El Salvador",
                    "Guatemala",
                    "Uzbekistan",
                    "Slovakia",
                    "Japan",
                    "South Korea",
                    "Ecuador",
                    "Bahrain",
                    "Italy",
                    "Bolivia",
                    "Moldova",
                    "Paraguay",
                    "Kazakhstan",
                    "Slovenia",
                    "Lithuania",
                    "Nicaragua",
                    "Peru",
                    "Belarus",
                    "Poland",
                    "Malaysia",
                    "Croatia",
                    "Libya",
                    "Russia",
                    "Jamaica",
                    "North Cyprus",
                    "Cyprus",
                    "Algeria",
                    "Kosovo",
                    "Turkmenistan",
                    "Mauritius",
                    "Hong Kong",
                    "Estonia",
                    "Indonesia",
                    "Vietnam",
                    "Turkey",
                    "Kyrgyzstan",
                    "Nigeria",
                    "Bhutan",
                    "Azerbaijan",
                    "Pakistan",
                    "Jordan",
                    "Montenegro",
                    "China",
                    "Zambia",
                    "Romania",
                    "Serbia",
                    "Portugal",
                    "Latvia",
                    "Philippines",
                    "Somaliland region",
                    "Morocco",
                    "Macedonia",
                    "Mozambique",
                    "Albania",
                    "Bosnia and Herzegovina",
                    "Lesotho",
                    "Dominican Republic",
                    "Laos",
                    "Mongolia",
                    "Swaziland",
                    "Greece",
                    "Lebanon",
                    "Hungary",
                    "Honduras",
                    "Tajikistan",
                    "Tunisia",
                    "Palestinian Territories",
                    "Bangladesh",
                    "Iran",
                    "Ukraine",
                    "Iraq",
                    "South Africa",
                    "Ghana",
                    "Zimbabwe",
                    "Liberia",
                    "India",
                    "Sudan",
                    "Haiti",
                    "Congo (Kinshasa)",
                    "Nepal",
                    "Ethiopia",
                    "Sierra Leone",
                    "Mauritania",
                    "Kenya",
                    "Djibouti",
                    "Armenia",
                    "Botswana",
                    "Myanmar",
                    "Georgia",
                    "Malawi",
                    "Sri Lanka",
                    "Cameroon",
                    "Bulgaria",
                    "Egypt",
                    "Yemen",
                    "Angola",
                    "Mali",
                    "Congo (Brazzaville)",
                    "Comoros",
                    "Uganda",
                    "Senegal",
                    "Gabon",
                    "Niger",
                    "Cambodia",
                    "Tanzania",
                    "Madagascar",
                    "Central African Republic",
                    "Chad",
                    "Guinea",
                    "Ivory Coast",
                    "Burkina Faso",
                    "Afghanistan",
                    "Rwanda",
                    "Benin",
                    "Syria",
                    "Burundi",
                    "Togo"
                  ],
                  "text": [
                    "Switzerland",
                    "Iceland",
                    "Denmark",
                    "Norway",
                    "Canada",
                    "Finland",
                    "Netherlands",
                    "Sweden",
                    "New Zealand",
                    "Australia",
                    "Israel",
                    "Costa Rica",
                    "Austria",
                    "Mexico",
                    "United States",
                    "Brazil",
                    "Luxembourg",
                    "Ireland",
                    "Belgium",
                    "United Arab Emirates",
                    "United Kingdom",
                    "Oman",
                    "Venezuela",
                    "Singapore",
                    "Panama",
                    "Germany",
                    "Chile",
                    "Qatar",
                    "France",
                    "Argentina",
                    "Czech Republic",
                    "Uruguay",
                    "Colombia",
                    "Thailand",
                    "Saudi Arabia",
                    "Spain",
                    "Malta",
                    "Taiwan",
                    "Kuwait",
                    "Suriname",
                    "Trinidad and Tobago",
                    "El Salvador",
                    "Guatemala",
                    "Uzbekistan",
                    "Slovakia",
                    "Japan",
                    "South Korea",
                    "Ecuador",
                    "Bahrain",
                    "Italy",
                    "Bolivia",
                    "Moldova",
                    "Paraguay",
                    "Kazakhstan",
                    "Slovenia",
                    "Lithuania",
                    "Nicaragua",
                    "Peru",
                    "Belarus",
                    "Poland",
                    "Malaysia",
                    "Croatia",
                    "Libya",
                    "Russia",
                    "Jamaica",
                    "North Cyprus",
                    "Cyprus",
                    "Algeria",
                    "Kosovo",
                    "Turkmenistan",
                    "Mauritius",
                    "Hong Kong",
                    "Estonia",
                    "Indonesia",
                    "Vietnam",
                    "Turkey",
                    "Kyrgyzstan",
                    "Nigeria",
                    "Bhutan",
                    "Azerbaijan",
                    "Pakistan",
                    "Jordan",
                    "Montenegro",
                    "China",
                    "Zambia",
                    "Romania",
                    "Serbia",
                    "Portugal",
                    "Latvia",
                    "Philippines",
                    "Somaliland region",
                    "Morocco",
                    "Macedonia",
                    "Mozambique",
                    "Albania",
                    "Bosnia and Herzegovina",
                    "Lesotho",
                    "Dominican Republic",
                    "Laos",
                    "Mongolia",
                    "Swaziland",
                    "Greece",
                    "Lebanon",
                    "Hungary",
                    "Honduras",
                    "Tajikistan",
                    "Tunisia",
                    "Palestinian Territories",
                    "Bangladesh",
                    "Iran",
                    "Ukraine",
                    "Iraq",
                    "South Africa",
                    "Ghana",
                    "Zimbabwe",
                    "Liberia",
                    "India",
                    "Sudan",
                    "Haiti",
                    "Congo (Kinshasa)",
                    "Nepal",
                    "Ethiopia",
                    "Sierra Leone",
                    "Mauritania",
                    "Kenya",
                    "Djibouti",
                    "Armenia",
                    "Botswana",
                    "Myanmar",
                    "Georgia",
                    "Malawi",
                    "Sri Lanka",
                    "Cameroon",
                    "Bulgaria",
                    "Egypt",
                    "Yemen",
                    "Angola",
                    "Mali",
                    "Congo (Brazzaville)",
                    "Comoros",
                    "Uganda",
                    "Senegal",
                    "Gabon",
                    "Niger",
                    "Cambodia",
                    "Tanzania",
                    "Madagascar",
                    "Central African Republic",
                    "Chad",
                    "Guinea",
                    "Ivory Coast",
                    "Burkina Faso",
                    "Afghanistan",
                    "Rwanda",
                    "Benin",
                    "Syria",
                    "Burundi",
                    "Togo"
                  ],
                  "z": [
                    1,
                    2,
                    3,
                    4,
                    5,
                    6,
                    7,
                    8,
                    9,
                    10,
                    11,
                    12,
                    13,
                    14,
                    15,
                    16,
                    17,
                    18,
                    19,
                    20,
                    21,
                    22,
                    23,
                    24,
                    25,
                    26,
                    27,
                    28,
                    29,
                    30,
                    31,
                    32,
                    33,
                    34,
                    35,
                    36,
                    37,
                    38,
                    39,
                    40,
                    41,
                    42,
                    43,
                    44,
                    45,
                    46,
                    47,
                    48,
                    49,
                    50,
                    51,
                    52,
                    53,
                    54,
                    55,
                    56,
                    57,
                    58,
                    59,
                    60,
                    61,
                    62,
                    63,
                    64,
                    65,
                    66,
                    67,
                    68,
                    69,
                    70,
                    71,
                    72,
                    73,
                    74,
                    75,
                    76,
                    77,
                    78,
                    79,
                    80,
                    81,
                    82,
                    82,
                    84,
                    85,
                    86,
                    87,
                    88,
                    89,
                    90,
                    91,
                    92,
                    93,
                    94,
                    95,
                    96,
                    97,
                    98,
                    99,
                    100,
                    101,
                    102,
                    103,
                    104,
                    105,
                    106,
                    107,
                    108,
                    109,
                    110,
                    111,
                    112,
                    113,
                    114,
                    115,
                    116,
                    117,
                    118,
                    119,
                    120,
                    121,
                    122,
                    123,
                    124,
                    125,
                    126,
                    127,
                    128,
                    129,
                    130,
                    131,
                    132,
                    133,
                    134,
                    135,
                    136,
                    137,
                    138,
                    139,
                    140,
                    141,
                    142,
                    143,
                    144,
                    145,
                    146,
                    147,
                    148,
                    149,
                    150,
                    151,
                    152,
                    153,
                    154,
                    155,
                    156,
                    157,
                    158
                  ],
                  "type": "choropleth",
                  "uid": "8a3f0c49-f258-4e6e-bb8e-c615a376f53b"
                }
              ],
              "layout": {
                "geo": {
                  "projection": {
                    "type": "equirectangular"
                  },
                  "showframe": false
                },
                "title": "2015 Global Happiness"
              },
              "config": {
                "showLink": true,
                "linkText": "Export to plot.ly",
                "plotlyServerURL": "https://plot.ly"
              }
            },
            "text/html": "<div id=\"ef724b0f-cd2b-4592-9974-bc7414c16b34\" style=\"height: 525px; width: 100%;\" class=\"plotly-graph-div\"></div><script type=\"text/javascript\">require([\"plotly\"], function(Plotly) { window.PLOTLYENV=window.PLOTLYENV || {};window.PLOTLYENV.BASE_URL=\"https://plot.ly\";Plotly.newPlot(\"ef724b0f-cd2b-4592-9974-bc7414c16b34\", [{\"colorbar\": {\"title\": \"Happiness\"}, \"locationmode\": \"country names\", \"locations\": [\"Switzerland\", \"Iceland\", \"Denmark\", \"Norway\", \"Canada\", \"Finland\", \"Netherlands\", \"Sweden\", \"New Zealand\", \"Australia\", \"Israel\", \"Costa Rica\", \"Austria\", \"Mexico\", \"United States\", \"Brazil\", \"Luxembourg\", \"Ireland\", \"Belgium\", \"United Arab Emirates\", \"United Kingdom\", \"Oman\", \"Venezuela\", \"Singapore\", \"Panama\", \"Germany\", \"Chile\", \"Qatar\", \"France\", \"Argentina\", \"Czech Republic\", \"Uruguay\", \"Colombia\", \"Thailand\", \"Saudi Arabia\", \"Spain\", \"Malta\", \"Taiwan\", \"Kuwait\", \"Suriname\", \"Trinidad and Tobago\", \"El Salvador\", \"Guatemala\", \"Uzbekistan\", \"Slovakia\", \"Japan\", \"South Korea\", \"Ecuador\", \"Bahrain\", \"Italy\", \"Bolivia\", \"Moldova\", \"Paraguay\", \"Kazakhstan\", \"Slovenia\", \"Lithuania\", \"Nicaragua\", \"Peru\", \"Belarus\", \"Poland\", \"Malaysia\", \"Croatia\", \"Libya\", \"Russia\", \"Jamaica\", \"North Cyprus\", \"Cyprus\", \"Algeria\", \"Kosovo\", \"Turkmenistan\", \"Mauritius\", \"Hong Kong\", \"Estonia\", \"Indonesia\", \"Vietnam\", \"Turkey\", \"Kyrgyzstan\", \"Nigeria\", \"Bhutan\", \"Azerbaijan\", \"Pakistan\", \"Jordan\", \"Montenegro\", \"China\", \"Zambia\", \"Romania\", \"Serbia\", \"Portugal\", \"Latvia\", \"Philippines\", \"Somaliland region\", \"Morocco\", \"Macedonia\", \"Mozambique\", \"Albania\", \"Bosnia and Herzegovina\", \"Lesotho\", \"Dominican Republic\", \"Laos\", \"Mongolia\", \"Swaziland\", \"Greece\", \"Lebanon\", \"Hungary\", \"Honduras\", \"Tajikistan\", \"Tunisia\", \"Palestinian Territories\", \"Bangladesh\", \"Iran\", \"Ukraine\", \"Iraq\", \"South Africa\", \"Ghana\", \"Zimbabwe\", \"Liberia\", \"India\", \"Sudan\", \"Haiti\", \"Congo (Kinshasa)\", \"Nepal\", \"Ethiopia\", \"Sierra Leone\", \"Mauritania\", \"Kenya\", \"Djibouti\", \"Armenia\", \"Botswana\", \"Myanmar\", \"Georgia\", \"Malawi\", \"Sri Lanka\", \"Cameroon\", \"Bulgaria\", \"Egypt\", \"Yemen\", \"Angola\", \"Mali\", \"Congo (Brazzaville)\", \"Comoros\", \"Uganda\", \"Senegal\", \"Gabon\", \"Niger\", \"Cambodia\", \"Tanzania\", \"Madagascar\", \"Central African Republic\", \"Chad\", \"Guinea\", \"Ivory Coast\", \"Burkina Faso\", \"Afghanistan\", \"Rwanda\", \"Benin\", \"Syria\", \"Burundi\", \"Togo\"], \"text\": [\"Switzerland\", \"Iceland\", \"Denmark\", \"Norway\", \"Canada\", \"Finland\", \"Netherlands\", \"Sweden\", \"New Zealand\", \"Australia\", \"Israel\", \"Costa Rica\", \"Austria\", \"Mexico\", \"United States\", \"Brazil\", \"Luxembourg\", \"Ireland\", \"Belgium\", \"United Arab Emirates\", \"United Kingdom\", \"Oman\", \"Venezuela\", \"Singapore\", \"Panama\", \"Germany\", \"Chile\", \"Qatar\", \"France\", \"Argentina\", \"Czech Republic\", \"Uruguay\", \"Colombia\", \"Thailand\", \"Saudi Arabia\", \"Spain\", \"Malta\", \"Taiwan\", \"Kuwait\", \"Suriname\", \"Trinidad and Tobago\", \"El Salvador\", \"Guatemala\", \"Uzbekistan\", \"Slovakia\", \"Japan\", \"South Korea\", \"Ecuador\", \"Bahrain\", \"Italy\", \"Bolivia\", \"Moldova\", \"Paraguay\", \"Kazakhstan\", \"Slovenia\", \"Lithuania\", \"Nicaragua\", \"Peru\", \"Belarus\", \"Poland\", \"Malaysia\", \"Croatia\", \"Libya\", \"Russia\", \"Jamaica\", \"North Cyprus\", \"Cyprus\", \"Algeria\", \"Kosovo\", \"Turkmenistan\", \"Mauritius\", \"Hong Kong\", \"Estonia\", \"Indonesia\", \"Vietnam\", \"Turkey\", \"Kyrgyzstan\", \"Nigeria\", \"Bhutan\", \"Azerbaijan\", \"Pakistan\", \"Jordan\", \"Montenegro\", \"China\", \"Zambia\", \"Romania\", \"Serbia\", \"Portugal\", \"Latvia\", \"Philippines\", \"Somaliland region\", \"Morocco\", \"Macedonia\", \"Mozambique\", \"Albania\", \"Bosnia and Herzegovina\", \"Lesotho\", \"Dominican Republic\", \"Laos\", \"Mongolia\", \"Swaziland\", \"Greece\", \"Lebanon\", \"Hungary\", \"Honduras\", \"Tajikistan\", \"Tunisia\", \"Palestinian Territories\", \"Bangladesh\", \"Iran\", \"Ukraine\", \"Iraq\", \"South Africa\", \"Ghana\", \"Zimbabwe\", \"Liberia\", \"India\", \"Sudan\", \"Haiti\", \"Congo (Kinshasa)\", \"Nepal\", \"Ethiopia\", \"Sierra Leone\", \"Mauritania\", \"Kenya\", \"Djibouti\", \"Armenia\", \"Botswana\", \"Myanmar\", \"Georgia\", \"Malawi\", \"Sri Lanka\", \"Cameroon\", \"Bulgaria\", \"Egypt\", \"Yemen\", \"Angola\", \"Mali\", \"Congo (Brazzaville)\", \"Comoros\", \"Uganda\", \"Senegal\", \"Gabon\", \"Niger\", \"Cambodia\", \"Tanzania\", \"Madagascar\", \"Central African Republic\", \"Chad\", \"Guinea\", \"Ivory Coast\", \"Burkina Faso\", \"Afghanistan\", \"Rwanda\", \"Benin\", \"Syria\", \"Burundi\", \"Togo\"], \"z\": [1, 2, 3, 4, 5, 6, 7, 8, 9, 10, 11, 12, 13, 14, 15, 16, 17, 18, 19, 20, 21, 22, 23, 24, 25, 26, 27, 28, 29, 30, 31, 32, 33, 34, 35, 36, 37, 38, 39, 40, 41, 42, 43, 44, 45, 46, 47, 48, 49, 50, 51, 52, 53, 54, 55, 56, 57, 58, 59, 60, 61, 62, 63, 64, 65, 66, 67, 68, 69, 70, 71, 72, 73, 74, 75, 76, 77, 78, 79, 80, 81, 82, 82, 84, 85, 86, 87, 88, 89, 90, 91, 92, 93, 94, 95, 96, 97, 98, 99, 100, 101, 102, 103, 104, 105, 106, 107, 108, 109, 110, 111, 112, 113, 114, 115, 116, 117, 118, 119, 120, 121, 122, 123, 124, 125, 126, 127, 128, 129, 130, 131, 132, 133, 134, 135, 136, 137, 138, 139, 140, 141, 142, 143, 144, 145, 146, 147, 148, 149, 150, 151, 152, 153, 154, 155, 156, 157, 158], \"type\": \"choropleth\", \"uid\": \"8a3f0c49-f258-4e6e-bb8e-c615a376f53b\"}], {\"geo\": {\"projection\": {\"type\": \"equirectangular\"}, \"showframe\": false}, \"title\": \"2015 Global Happiness\"}, {\"showLink\": true, \"linkText\": \"Export to plot.ly\", \"plotlyServerURL\": \"https://plot.ly\"})});</script><script type=\"text/javascript\">window.addEventListener(\"resize\", function(){window._Plotly.Plots.resize(document.getElementById(\"ef724b0f-cd2b-4592-9974-bc7414c16b34\"));});</script>",
            "text/vnd.plotly.v1+html": "<div id=\"ef724b0f-cd2b-4592-9974-bc7414c16b34\" style=\"height: 525px; width: 100%;\" class=\"plotly-graph-div\"></div><script type=\"text/javascript\">require([\"plotly\"], function(Plotly) { window.PLOTLYENV=window.PLOTLYENV || {};window.PLOTLYENV.BASE_URL=\"https://plot.ly\";Plotly.newPlot(\"ef724b0f-cd2b-4592-9974-bc7414c16b34\", [{\"colorbar\": {\"title\": \"Happiness\"}, \"locationmode\": \"country names\", \"locations\": [\"Switzerland\", \"Iceland\", \"Denmark\", \"Norway\", \"Canada\", \"Finland\", \"Netherlands\", \"Sweden\", \"New Zealand\", \"Australia\", \"Israel\", \"Costa Rica\", \"Austria\", \"Mexico\", \"United States\", \"Brazil\", \"Luxembourg\", \"Ireland\", \"Belgium\", \"United Arab Emirates\", \"United Kingdom\", \"Oman\", \"Venezuela\", \"Singapore\", \"Panama\", \"Germany\", \"Chile\", \"Qatar\", \"France\", \"Argentina\", \"Czech Republic\", \"Uruguay\", \"Colombia\", \"Thailand\", \"Saudi Arabia\", \"Spain\", \"Malta\", \"Taiwan\", \"Kuwait\", \"Suriname\", \"Trinidad and Tobago\", \"El Salvador\", \"Guatemala\", \"Uzbekistan\", \"Slovakia\", \"Japan\", \"South Korea\", \"Ecuador\", \"Bahrain\", \"Italy\", \"Bolivia\", \"Moldova\", \"Paraguay\", \"Kazakhstan\", \"Slovenia\", \"Lithuania\", \"Nicaragua\", \"Peru\", \"Belarus\", \"Poland\", \"Malaysia\", \"Croatia\", \"Libya\", \"Russia\", \"Jamaica\", \"North Cyprus\", \"Cyprus\", \"Algeria\", \"Kosovo\", \"Turkmenistan\", \"Mauritius\", \"Hong Kong\", \"Estonia\", \"Indonesia\", \"Vietnam\", \"Turkey\", \"Kyrgyzstan\", \"Nigeria\", \"Bhutan\", \"Azerbaijan\", \"Pakistan\", \"Jordan\", \"Montenegro\", \"China\", \"Zambia\", \"Romania\", \"Serbia\", \"Portugal\", \"Latvia\", \"Philippines\", \"Somaliland region\", \"Morocco\", \"Macedonia\", \"Mozambique\", \"Albania\", \"Bosnia and Herzegovina\", \"Lesotho\", \"Dominican Republic\", \"Laos\", \"Mongolia\", \"Swaziland\", \"Greece\", \"Lebanon\", \"Hungary\", \"Honduras\", \"Tajikistan\", \"Tunisia\", \"Palestinian Territories\", \"Bangladesh\", \"Iran\", \"Ukraine\", \"Iraq\", \"South Africa\", \"Ghana\", \"Zimbabwe\", \"Liberia\", \"India\", \"Sudan\", \"Haiti\", \"Congo (Kinshasa)\", \"Nepal\", \"Ethiopia\", \"Sierra Leone\", \"Mauritania\", \"Kenya\", \"Djibouti\", \"Armenia\", \"Botswana\", \"Myanmar\", \"Georgia\", \"Malawi\", \"Sri Lanka\", \"Cameroon\", \"Bulgaria\", \"Egypt\", \"Yemen\", \"Angola\", \"Mali\", \"Congo (Brazzaville)\", \"Comoros\", \"Uganda\", \"Senegal\", \"Gabon\", \"Niger\", \"Cambodia\", \"Tanzania\", \"Madagascar\", \"Central African Republic\", \"Chad\", \"Guinea\", \"Ivory Coast\", \"Burkina Faso\", \"Afghanistan\", \"Rwanda\", \"Benin\", \"Syria\", \"Burundi\", \"Togo\"], \"text\": [\"Switzerland\", \"Iceland\", \"Denmark\", \"Norway\", \"Canada\", \"Finland\", \"Netherlands\", \"Sweden\", \"New Zealand\", \"Australia\", \"Israel\", \"Costa Rica\", \"Austria\", \"Mexico\", \"United States\", \"Brazil\", \"Luxembourg\", \"Ireland\", \"Belgium\", \"United Arab Emirates\", \"United Kingdom\", \"Oman\", \"Venezuela\", \"Singapore\", \"Panama\", \"Germany\", \"Chile\", \"Qatar\", \"France\", \"Argentina\", \"Czech Republic\", \"Uruguay\", \"Colombia\", \"Thailand\", \"Saudi Arabia\", \"Spain\", \"Malta\", \"Taiwan\", \"Kuwait\", \"Suriname\", \"Trinidad and Tobago\", \"El Salvador\", \"Guatemala\", \"Uzbekistan\", \"Slovakia\", \"Japan\", \"South Korea\", \"Ecuador\", \"Bahrain\", \"Italy\", \"Bolivia\", \"Moldova\", \"Paraguay\", \"Kazakhstan\", \"Slovenia\", \"Lithuania\", \"Nicaragua\", \"Peru\", \"Belarus\", \"Poland\", \"Malaysia\", \"Croatia\", \"Libya\", \"Russia\", \"Jamaica\", \"North Cyprus\", \"Cyprus\", \"Algeria\", \"Kosovo\", \"Turkmenistan\", \"Mauritius\", \"Hong Kong\", \"Estonia\", \"Indonesia\", \"Vietnam\", \"Turkey\", \"Kyrgyzstan\", \"Nigeria\", \"Bhutan\", \"Azerbaijan\", \"Pakistan\", \"Jordan\", \"Montenegro\", \"China\", \"Zambia\", \"Romania\", \"Serbia\", \"Portugal\", \"Latvia\", \"Philippines\", \"Somaliland region\", \"Morocco\", \"Macedonia\", \"Mozambique\", \"Albania\", \"Bosnia and Herzegovina\", \"Lesotho\", \"Dominican Republic\", \"Laos\", \"Mongolia\", \"Swaziland\", \"Greece\", \"Lebanon\", \"Hungary\", \"Honduras\", \"Tajikistan\", \"Tunisia\", \"Palestinian Territories\", \"Bangladesh\", \"Iran\", \"Ukraine\", \"Iraq\", \"South Africa\", \"Ghana\", \"Zimbabwe\", \"Liberia\", \"India\", \"Sudan\", \"Haiti\", \"Congo (Kinshasa)\", \"Nepal\", \"Ethiopia\", \"Sierra Leone\", \"Mauritania\", \"Kenya\", \"Djibouti\", \"Armenia\", \"Botswana\", \"Myanmar\", \"Georgia\", \"Malawi\", \"Sri Lanka\", \"Cameroon\", \"Bulgaria\", \"Egypt\", \"Yemen\", \"Angola\", \"Mali\", \"Congo (Brazzaville)\", \"Comoros\", \"Uganda\", \"Senegal\", \"Gabon\", \"Niger\", \"Cambodia\", \"Tanzania\", \"Madagascar\", \"Central African Republic\", \"Chad\", \"Guinea\", \"Ivory Coast\", \"Burkina Faso\", \"Afghanistan\", \"Rwanda\", \"Benin\", \"Syria\", \"Burundi\", \"Togo\"], \"z\": [1, 2, 3, 4, 5, 6, 7, 8, 9, 10, 11, 12, 13, 14, 15, 16, 17, 18, 19, 20, 21, 22, 23, 24, 25, 26, 27, 28, 29, 30, 31, 32, 33, 34, 35, 36, 37, 38, 39, 40, 41, 42, 43, 44, 45, 46, 47, 48, 49, 50, 51, 52, 53, 54, 55, 56, 57, 58, 59, 60, 61, 62, 63, 64, 65, 66, 67, 68, 69, 70, 71, 72, 73, 74, 75, 76, 77, 78, 79, 80, 81, 82, 82, 84, 85, 86, 87, 88, 89, 90, 91, 92, 93, 94, 95, 96, 97, 98, 99, 100, 101, 102, 103, 104, 105, 106, 107, 108, 109, 110, 111, 112, 113, 114, 115, 116, 117, 118, 119, 120, 121, 122, 123, 124, 125, 126, 127, 128, 129, 130, 131, 132, 133, 134, 135, 136, 137, 138, 139, 140, 141, 142, 143, 144, 145, 146, 147, 148, 149, 150, 151, 152, 153, 154, 155, 156, 157, 158], \"type\": \"choropleth\", \"uid\": \"8a3f0c49-f258-4e6e-bb8e-c615a376f53b\"}], {\"geo\": {\"projection\": {\"type\": \"equirectangular\"}, \"showframe\": false}, \"title\": \"2015 Global Happiness\"}, {\"showLink\": true, \"linkText\": \"Export to plot.ly\", \"plotlyServerURL\": \"https://plot.ly\"})});</script><script type=\"text/javascript\">window.addEventListener(\"resize\", function(){window._Plotly.Plots.resize(document.getElementById(\"ef724b0f-cd2b-4592-9974-bc7414c16b34\"));});</script>"
          },
          "metadata": {}
        }
      ]
    },
    {
      "metadata": {
        "_uuid": "9838b74a4842835ea83904e0b461ed29ac9c03eb"
      },
      "cell_type": "markdown",
      "source": "## 2015 Top 15 Country"
    },
    {
      "metadata": {
        "_kg_hide-input": true,
        "trusted": true,
        "_uuid": "06912dc98f06bcd5f40cb445886e4a1320a56182"
      },
      "cell_type": "code",
      "source": "#Horizontal bar plot\nregion_lists=list(data2015['country'].head(15))\nshare_economy=[]\nshare_family=[]\nshare_health=[]\nshare_freedom=[]\nshare_trust=[]\nfor each in region_lists:\n    region=data2015[data2015['country']==each]\n    share_economy.append(sum(region.economy)/len(region))\n    share_family.append(sum(region.family)/len(region))\n    share_health.append(sum(region.health)/len(region))\n    share_freedom.append(sum(region.freedom)/len(region))\n    share_trust.append(sum(region.trust)/len(region))\n\n#Visualization\nf,ax = plt.subplots(figsize = (15,13))\nsns.set_color_codes(\"pastel\")\nsns.barplot(x=share_economy,y=region_lists,color='g',label=\"Economy\")\nsns.barplot(x=share_family,y=region_lists,color='b',label=\"Family\")\nsns.barplot(x=share_health,y=region_lists,color='c',label=\"Health\")\nsns.barplot(x=share_freedom,y=region_lists,color='y',label=\"Freedom\")\nsns.barplot(x=share_trust,y=region_lists,color='r',label=\"Trust\")\nax.legend(loc=\"lower right\",frameon = True)\nax.set(xlabel='Percentage', ylabel='Country',title = \"2015 Top 15 Country\")\nplt.show()",
      "execution_count": 21,
      "outputs": [
        {
          "output_type": "display_data",
          "data": {
            "text/plain": "<Figure size 1080x936 with 1 Axes>",
            "image/png": "[encoded data removed]"
          },
          "metadata": {}
        }
      ]
    },
    {
      "metadata": {
        "_uuid": "ca30292452fb073439c262a0b60cd2e916ff4e8a"
      },
      "cell_type": "markdown",
      "source": "## 2015 vs 2016 vs 2017"
    },
    {
      "metadata": {
        "_uuid": "e99580769bbad2a2d850df51800000cb23414f34"
      },
      "cell_type": "markdown",
      "source": "## Happiness Score"
    },
    {
      "metadata": {
        "trusted": true,
        "_uuid": "5bf68123f2e146eed87b25423de17245b2308c6a",
        "_kg_hide-input": true
      },
      "cell_type": "code",
      "source": "happiness2015_rank = data2015.sort_values('happiness_score', ascending=False)\nhappiness2016_rank = data2016.sort_values('hapiness_score', ascending=False)\nhappiness2017_rank = data2017.sort_values('happiness_score', ascending=False)\n\ntrace1 = go.Bar(\n            x=happiness2015_rank.country.head(15),\n            y=happiness2015_rank.happiness_score.head(15),\n            opacity=0.65,\n            name='2015 Happiness'\n        )\n\ntrace2 = go.Bar(\n            x=happiness2016_rank.country.head(15),\n            y=happiness2016_rank.hapiness_score.head(15),\n            opacity=0.65,\n            name='2016 Happiness'\n        )\ntrace3 = go.Bar(\n            x=happiness2017_rank.country.head(15),\n            y=happiness2017_rank.happiness_score.head(15),\n            opacity=0.65,\n            name='2017 Happiness'\n        )\n\nfig = tools.make_subplots(rows=3, cols=1, subplot_titles=())\nfig.append_trace(trace1, 1, 1)\nfig.append_trace(trace2, 2, 1)\nfig.append_trace(trace3, 3, 1)\n\nfig['layout'].update(height=650, width=900, title='Ranking of Happiness by Year')\niplot(fig)",
      "execution_count": 22,
      "outputs": [
        {
          "output_type": "stream",
          "text": "This is the format of your plot grid:\n[ (1,1) x1,y1 ]\n[ (2,1) x2,y2 ]\n[ (3,1) x3,y3 ]\n\n",
          "name": "stdout"
        },
        {
          "output_type": "display_data",
          "data": {
            "application/vnd.plotly.v1+json": {
              "data": [
                {
                  "name": "2015 Happiness",
                  "opacity": 0.65,
                  "x": [
                    "Switzerland",
                    "Iceland",
                    "Denmark",
                    "Norway",
                    "Canada",
                    "Finland",
                    "Netherlands",
                    "Sweden",
                    "New Zealand",
                    "Australia",
                    "Israel",
                    "Costa Rica",
                    "Austria",
                    "Mexico",
                    "United States"
                  ],
                  "y": [
                    7.587000000000001,
                    7.561,
                    7.527,
                    7.522,
                    7.4270000000000005,
                    7.406000000000001,
                    7.377999999999999,
                    7.364,
                    7.2860000000000005,
                    7.284,
                    7.278,
                    7.226,
                    7.2,
                    7.187,
                    7.119
                  ],
                  "type": "bar",
                  "uid": "025954fe-4d69-40fe-98ee-7af8a662bccf",
                  "xaxis": "x",
                  "yaxis": "y"
                },
                {
                  "name": "2016 Happiness",
                  "opacity": 0.65,
                  "x": [
                    "Denmark",
                    "Switzerland",
                    "Iceland",
                    "Norway",
                    "Finland",
                    "Canada",
                    "Netherlands",
                    "New Zealand",
                    "Australia",
                    "Sweden",
                    "Israel",
                    "Austria",
                    "United States",
                    "Costa Rica",
                    "Puerto Rico"
                  ],
                  "y": [
                    7.526,
                    7.5089999999999995,
                    7.501,
                    7.497999999999999,
                    7.412999999999999,
                    7.404,
                    7.3389999999999995,
                    7.334,
                    7.313,
                    7.291,
                    7.267,
                    7.119,
                    7.104,
                    7.087000000000001,
                    7.039
                  ],
                  "type": "bar",
                  "uid": "d1b0d370-f07b-49a0-985d-a12fd4bf5575",
                  "xaxis": "x2",
                  "yaxis": "y2"
                },
                {
                  "name": "2017 Happiness",
                  "opacity": 0.65,
                  "x": [
                    "Norway",
                    "Denmark",
                    "Iceland",
                    "Switzerland",
                    "Finland",
                    "Netherlands",
                    "Canada",
                    "New Zealand",
                    "Australia",
                    "Sweden",
                    "Israel",
                    "Costa Rica",
                    "Austria",
                    "United States",
                    "Ireland"
                  ],
                  "y": [
                    7.537000179290769,
                    7.52199983596802,
                    7.50400018692017,
                    7.49399995803833,
                    7.468999862670901,
                    7.3769998550415,
                    7.31599998474121,
                    7.31400012969971,
                    7.28399991989136,
                    7.28399991989136,
                    7.212999820709231,
                    7.0789999961853,
                    7.00600004196167,
                    6.993000030517581,
                    6.9770002365112305
                  ],
                  "type": "bar",
                  "uid": "d152e849-f3d7-43d5-86bb-be3551c46922",
                  "xaxis": "x3",
                  "yaxis": "y3"
                }
              ],
              "layout": {
                "xaxis": {
                  "anchor": "y",
                  "domain": [
                    0,
                    1
                  ]
                },
                "yaxis": {
                  "anchor": "x",
                  "domain": [
                    0.7777777777777778,
                    1
                  ]
                },
                "xaxis2": {
                  "anchor": "y2",
                  "domain": [
                    0,
                    1
                  ]
                },
                "yaxis2": {
                  "anchor": "x2",
                  "domain": [
                    0.3888888888888889,
                    0.6111111111111112
                  ]
                },
                "xaxis3": {
                  "anchor": "y3",
                  "domain": [
                    0,
                    1
                  ]
                },
                "yaxis3": {
                  "anchor": "x3",
                  "domain": [
                    0,
                    0.22222222222222224
                  ]
                },
                "height": 650,
                "width": 900,
                "title": "Ranking of Happiness by Year"
              },
              "config": {
                "showLink": true,
                "linkText": "Export to plot.ly",
                "plotlyServerURL": "https://plot.ly"
              }
            },
            "text/html": "<div id=\"e02415f1-05f0-42fb-8fbe-19115fd656f7\" style=\"height: 650px; width: 900px;\" class=\"plotly-graph-div\"></div><script type=\"text/javascript\">require([\"plotly\"], function(Plotly) { window.PLOTLYENV=window.PLOTLYENV || {};window.PLOTLYENV.BASE_URL=\"https://plot.ly\";Plotly.newPlot(\"e02415f1-05f0-42fb-8fbe-19115fd656f7\", [{\"name\": \"2015 Happiness\", \"opacity\": 0.65, \"x\": [\"Switzerland\", \"Iceland\", \"Denmark\", \"Norway\", \"Canada\", \"Finland\", \"Netherlands\", \"Sweden\", \"New Zealand\", \"Australia\", \"Israel\", \"Costa Rica\", \"Austria\", \"Mexico\", \"United States\"], \"y\": [7.587000000000001, 7.561, 7.527, 7.522, 7.4270000000000005, 7.406000000000001, 7.377999999999999, 7.364, 7.2860000000000005, 7.284, 7.278, 7.226, 7.2, 7.187, 7.119], \"type\": \"bar\", \"uid\": \"025954fe-4d69-40fe-98ee-7af8a662bccf\", \"xaxis\": \"x\", \"yaxis\": \"y\"}, {\"name\": \"2016 Happiness\", \"opacity\": 0.65, \"x\": [\"Denmark\", \"Switzerland\", \"Iceland\", \"Norway\", \"Finland\", \"Canada\", \"Netherlands\", \"New Zealand\", \"Australia\", \"Sweden\", \"Israel\", \"Austria\", \"United States\", \"Costa Rica\", \"Puerto Rico\"], \"y\": [7.526, 7.5089999999999995, 7.501, 7.497999999999999, 7.412999999999999, 7.404, 7.3389999999999995, 7.334, 7.313, 7.291, 7.267, 7.119, 7.104, 7.087000000000001, 7.039], \"type\": \"bar\", \"uid\": \"d1b0d370-f07b-49a0-985d-a12fd4bf5575\", \"xaxis\": \"x2\", \"yaxis\": \"y2\"}, {\"name\": \"2017 Happiness\", \"opacity\": 0.65, \"x\": [\"Norway\", \"Denmark\", \"Iceland\", \"Switzerland\", \"Finland\", \"Netherlands\", \"Canada\", \"New Zealand\", \"Australia\", \"Sweden\", \"Israel\", \"Costa Rica\", \"Austria\", \"United States\", \"Ireland\"], \"y\": [7.537000179290769, 7.52199983596802, 7.50400018692017, 7.49399995803833, 7.468999862670901, 7.3769998550415, 7.31599998474121, 7.31400012969971, 7.28399991989136, 7.28399991989136, 7.212999820709231, 7.0789999961853, 7.00600004196167, 6.993000030517581, 6.9770002365112305], \"type\": \"bar\", \"uid\": \"d152e849-f3d7-43d5-86bb-be3551c46922\", \"xaxis\": \"x3\", \"yaxis\": \"y3\"}], {\"xaxis\": {\"anchor\": \"y\", \"domain\": [0.0, 1.0]}, \"yaxis\": {\"anchor\": \"x\", \"domain\": [0.7777777777777778, 1.0]}, \"xaxis2\": {\"anchor\": \"y2\", \"domain\": [0.0, 1.0]}, \"yaxis2\": {\"anchor\": \"x2\", \"domain\": [0.3888888888888889, 0.6111111111111112]}, \"xaxis3\": {\"anchor\": \"y3\", \"domain\": [0.0, 1.0]}, \"yaxis3\": {\"anchor\": \"x3\", \"domain\": [0.0, 0.22222222222222224]}, \"height\": 650, \"width\": 900, \"title\": \"Ranking of Happiness by Year\"}, {\"showLink\": true, \"linkText\": \"Export to plot.ly\", \"plotlyServerURL\": \"https://plot.ly\"})});</script>",
            "text/vnd.plotly.v1+html": "<div id=\"e02415f1-05f0-42fb-8fbe-19115fd656f7\" style=\"height: 650px; width: 900px;\" class=\"plotly-graph-div\"></div><script type=\"text/javascript\">require([\"plotly\"], function(Plotly) { window.PLOTLYENV=window.PLOTLYENV || {};window.PLOTLYENV.BASE_URL=\"https://plot.ly\";Plotly.newPlot(\"e02415f1-05f0-42fb-8fbe-19115fd656f7\", [{\"name\": \"2015 Happiness\", \"opacity\": 0.65, \"x\": [\"Switzerland\", \"Iceland\", \"Denmark\", \"Norway\", \"Canada\", \"Finland\", \"Netherlands\", \"Sweden\", \"New Zealand\", \"Australia\", \"Israel\", \"Costa Rica\", \"Austria\", \"Mexico\", \"United States\"], \"y\": [7.587000000000001, 7.561, 7.527, 7.522, 7.4270000000000005, 7.406000000000001, 7.377999999999999, 7.364, 7.2860000000000005, 7.284, 7.278, 7.226, 7.2, 7.187, 7.119], \"type\": \"bar\", \"uid\": \"025954fe-4d69-40fe-98ee-7af8a662bccf\", \"xaxis\": \"x\", \"yaxis\": \"y\"}, {\"name\": \"2016 Happiness\", \"opacity\": 0.65, \"x\": [\"Denmark\", \"Switzerland\", \"Iceland\", \"Norway\", \"Finland\", \"Canada\", \"Netherlands\", \"New Zealand\", \"Australia\", \"Sweden\", \"Israel\", \"Austria\", \"United States\", \"Costa Rica\", \"Puerto Rico\"], \"y\": [7.526, 7.5089999999999995, 7.501, 7.497999999999999, 7.412999999999999, 7.404, 7.3389999999999995, 7.334, 7.313, 7.291, 7.267, 7.119, 7.104, 7.087000000000001, 7.039], \"type\": \"bar\", \"uid\": \"d1b0d370-f07b-49a0-985d-a12fd4bf5575\", \"xaxis\": \"x2\", \"yaxis\": \"y2\"}, {\"name\": \"2017 Happiness\", \"opacity\": 0.65, \"x\": [\"Norway\", \"Denmark\", \"Iceland\", \"Switzerland\", \"Finland\", \"Netherlands\", \"Canada\", \"New Zealand\", \"Australia\", \"Sweden\", \"Israel\", \"Costa Rica\", \"Austria\", \"United States\", \"Ireland\"], \"y\": [7.537000179290769, 7.52199983596802, 7.50400018692017, 7.49399995803833, 7.468999862670901, 7.3769998550415, 7.31599998474121, 7.31400012969971, 7.28399991989136, 7.28399991989136, 7.212999820709231, 7.0789999961853, 7.00600004196167, 6.993000030517581, 6.9770002365112305], \"type\": \"bar\", \"uid\": \"d152e849-f3d7-43d5-86bb-be3551c46922\", \"xaxis\": \"x3\", \"yaxis\": \"y3\"}], {\"xaxis\": {\"anchor\": \"y\", \"domain\": [0.0, 1.0]}, \"yaxis\": {\"anchor\": \"x\", \"domain\": [0.7777777777777778, 1.0]}, \"xaxis2\": {\"anchor\": \"y2\", \"domain\": [0.0, 1.0]}, \"yaxis2\": {\"anchor\": \"x2\", \"domain\": [0.3888888888888889, 0.6111111111111112]}, \"xaxis3\": {\"anchor\": \"y3\", \"domain\": [0.0, 1.0]}, \"yaxis3\": {\"anchor\": \"x3\", \"domain\": [0.0, 0.22222222222222224]}, \"height\": 650, \"width\": 900, \"title\": \"Ranking of Happiness by Year\"}, {\"showLink\": true, \"linkText\": \"Export to plot.ly\", \"plotlyServerURL\": \"https://plot.ly\"})});</script>"
          },
          "metadata": {}
        }
      ]
    },
    {
      "metadata": {
        "_uuid": "f5abbbf3e5e738cf2a9075476781503aa76f5775"
      },
      "cell_type": "markdown",
      "source": "## Freedom"
    },
    {
      "metadata": {
        "trusted": true,
        "_uuid": "2692bf24a294925dbd02afaad8b33a4434e19bc8",
        "_kg_hide-input": true
      },
      "cell_type": "code",
      "source": "freedom2015_rank = data2015.sort_values('freedom', ascending=False)\nfreedom2016_rank = data2016.sort_values('freedom', ascending=False)\nfreedom2017_rank = data2017.sort_values('freedom', ascending=False)\n\ntrace1 = go.Bar(\n            x=freedom2015_rank.country.head(15),\n            y=freedom2015_rank.freedom.head(15),\n            opacity=0.65,\n            name='2015 Freedom'\n        )\n\ntrace2 = go.Bar(\n            x=freedom2016_rank.country.head(15),\n            y=freedom2016_rank.freedom.head(15),\n            opacity=0.65,\n            name='2016 Freedom'\n        )\ntrace3 = go.Bar(\n            x=freedom2017_rank.country.head(15),\n            y=freedom2017_rank.freedom.head(15),\n            opacity=0.65,\n            name='2017 Freedom'\n        )\n\nfig = tools.make_subplots(rows=3, cols=1, subplot_titles=())\nfig.append_trace(trace1, 1, 1)\nfig.append_trace(trace2, 2, 1)\nfig.append_trace(trace3, 3, 1)\n\nfig['layout'].update(height=650, width=900, title='Ranking of Freedom by Year')\niplot(fig)",
      "execution_count": 23,
      "outputs": [
        {
          "output_type": "stream",
          "text": "This is the format of your plot grid:\n[ (1,1) x1,y1 ]\n[ (2,1) x2,y2 ]\n[ (3,1) x3,y3 ]\n\n",
          "name": "stdout"
        },
        {
          "output_type": "display_data",
          "data": {
            "application/vnd.plotly.v1+json": {
              "data": [
                {
                  "name": "2015 Freedom",
                  "opacity": 0.65,
                  "x": [
                    "Norway",
                    "Switzerland",
                    "Cambodia",
                    "Sweden",
                    "Uzbekistan",
                    "Australia",
                    "Denmark",
                    "Finland",
                    "United Arab Emirates",
                    "Qatar",
                    "New Zealand",
                    "Costa Rica",
                    "Canada",
                    "Oman",
                    "Iceland"
                  ],
                  "y": [
                    0.66973,
                    0.66557,
                    0.66246,
                    0.6598,
                    0.6582100000000001,
                    0.6512399999999999,
                    0.6493800000000001,
                    0.64169,
                    0.64157,
                    0.6404,
                    0.6393800000000001,
                    0.63376,
                    0.63297,
                    0.63274,
                    0.6287699999999999
                  ],
                  "type": "bar",
                  "uid": "18c1a615-c2ce-4d87-bc72-f58e8935c6f9",
                  "xaxis": "x",
                  "yaxis": "y"
                },
                {
                  "name": "2016 Freedom",
                  "opacity": 0.65,
                  "x": [
                    "Uzbekistan",
                    "Norway",
                    "Cambodia",
                    "Switzerland",
                    "Sweden",
                    "New Zealand",
                    "Denmark",
                    "Canada",
                    "Finland",
                    "Australia",
                    "Somalia",
                    "Qatar",
                    "Iceland",
                    "United Arab Emirates",
                    "Vietnam"
                  ],
                  "y": [
                    0.60848,
                    0.59609,
                    0.5885199999999999,
                    0.58557,
                    0.58218,
                    0.5814699999999999,
                    0.5794100000000001,
                    0.5737,
                    0.57104,
                    0.5683699999999999,
                    0.5677800000000001,
                    0.56679,
                    0.56624,
                    0.56215,
                    0.5595399999999999
                  ],
                  "type": "bar",
                  "uid": "0968a009-ede8-4586-bbd9-566a4a02baf6",
                  "xaxis": "x2",
                  "yaxis": "y2"
                },
                {
                  "name": "2017 Freedom",
                  "opacity": 0.65,
                  "x": [
                    "Uzbekistan",
                    "Norway",
                    "Cambodia",
                    "Iceland",
                    "Denmark",
                    "Switzerland",
                    "Finland",
                    "New Zealand",
                    "Sweden",
                    "Canada",
                    "United Arab Emirates",
                    "Qatar",
                    "Somalia",
                    "Australia",
                    "Luxembourg"
                  ],
                  "y": [
                    0.6582486629486078,
                    0.635422587394714,
                    0.633375823497772,
                    0.6271626353263849,
                    0.626006722450256,
                    0.620070576667786,
                    0.6179508566856379,
                    0.6140621304512021,
                    0.612924098968506,
                    0.611100912094116,
                    0.60834527015686,
                    0.604130983352661,
                    0.602126955986023,
                    0.601607382297516,
                    0.59662789106369
                  ],
                  "type": "bar",
                  "uid": "88b100c5-7711-40b3-a507-a4c0c9192d1b",
                  "xaxis": "x3",
                  "yaxis": "y3"
                }
              ],
              "layout": {
                "xaxis": {
                  "anchor": "y",
                  "domain": [
                    0,
                    1
                  ]
                },
                "yaxis": {
                  "anchor": "x",
                  "domain": [
                    0.7777777777777778,
                    1
                  ]
                },
                "xaxis2": {
                  "anchor": "y2",
                  "domain": [
                    0,
                    1
                  ]
                },
                "yaxis2": {
                  "anchor": "x2",
                  "domain": [
                    0.3888888888888889,
                    0.6111111111111112
                  ]
                },
                "xaxis3": {
                  "anchor": "y3",
                  "domain": [
                    0,
                    1
                  ]
                },
                "yaxis3": {
                  "anchor": "x3",
                  "domain": [
                    0,
                    0.22222222222222224
                  ]
                },
                "height": 650,
                "width": 900,
                "title": "Ranking of Freedom by Year"
              },
              "config": {
                "showLink": true,
                "linkText": "Export to plot.ly",
                "plotlyServerURL": "https://plot.ly"
              }
            },
            "text/html": "<div id=\"9c5ccb66-909b-4c5e-97b2-6f922c470869\" style=\"height: 650px; width: 900px;\" class=\"plotly-graph-div\"></div><script type=\"text/javascript\">require([\"plotly\"], function(Plotly) { window.PLOTLYENV=window.PLOTLYENV || {};window.PLOTLYENV.BASE_URL=\"https://plot.ly\";Plotly.newPlot(\"9c5ccb66-909b-4c5e-97b2-6f922c470869\", [{\"name\": \"2015 Freedom\", \"opacity\": 0.65, \"x\": [\"Norway\", \"Switzerland\", \"Cambodia\", \"Sweden\", \"Uzbekistan\", \"Australia\", \"Denmark\", \"Finland\", \"United Arab Emirates\", \"Qatar\", \"New Zealand\", \"Costa Rica\", \"Canada\", \"Oman\", \"Iceland\"], \"y\": [0.66973, 0.66557, 0.66246, 0.6598, 0.6582100000000001, 0.6512399999999999, 0.6493800000000001, 0.64169, 0.64157, 0.6404, 0.6393800000000001, 0.63376, 0.63297, 0.63274, 0.6287699999999999], \"type\": \"bar\", \"uid\": \"18c1a615-c2ce-4d87-bc72-f58e8935c6f9\", \"xaxis\": \"x\", \"yaxis\": \"y\"}, {\"name\": \"2016 Freedom\", \"opacity\": 0.65, \"x\": [\"Uzbekistan\", \"Norway\", \"Cambodia\", \"Switzerland\", \"Sweden\", \"New Zealand\", \"Denmark\", \"Canada\", \"Finland\", \"Australia\", \"Somalia\", \"Qatar\", \"Iceland\", \"United Arab Emirates\", \"Vietnam\"], \"y\": [0.60848, 0.59609, 0.5885199999999999, 0.58557, 0.58218, 0.5814699999999999, 0.5794100000000001, 0.5737, 0.57104, 0.5683699999999999, 0.5677800000000001, 0.56679, 0.56624, 0.56215, 0.5595399999999999], \"type\": \"bar\", \"uid\": \"0968a009-ede8-4586-bbd9-566a4a02baf6\", \"xaxis\": \"x2\", \"yaxis\": \"y2\"}, {\"name\": \"2017 Freedom\", \"opacity\": 0.65, \"x\": [\"Uzbekistan\", \"Norway\", \"Cambodia\", \"Iceland\", \"Denmark\", \"Switzerland\", \"Finland\", \"New Zealand\", \"Sweden\", \"Canada\", \"United Arab Emirates\", \"Qatar\", \"Somalia\", \"Australia\", \"Luxembourg\"], \"y\": [0.6582486629486078, 0.635422587394714, 0.633375823497772, 0.6271626353263849, 0.626006722450256, 0.620070576667786, 0.6179508566856379, 0.6140621304512021, 0.612924098968506, 0.611100912094116, 0.60834527015686, 0.604130983352661, 0.602126955986023, 0.601607382297516, 0.59662789106369], \"type\": \"bar\", \"uid\": \"88b100c5-7711-40b3-a507-a4c0c9192d1b\", \"xaxis\": \"x3\", \"yaxis\": \"y3\"}], {\"xaxis\": {\"anchor\": \"y\", \"domain\": [0.0, 1.0]}, \"yaxis\": {\"anchor\": \"x\", \"domain\": [0.7777777777777778, 1.0]}, \"xaxis2\": {\"anchor\": \"y2\", \"domain\": [0.0, 1.0]}, \"yaxis2\": {\"anchor\": \"x2\", \"domain\": [0.3888888888888889, 0.6111111111111112]}, \"xaxis3\": {\"anchor\": \"y3\", \"domain\": [0.0, 1.0]}, \"yaxis3\": {\"anchor\": \"x3\", \"domain\": [0.0, 0.22222222222222224]}, \"height\": 650, \"width\": 900, \"title\": \"Ranking of Freedom by Year\"}, {\"showLink\": true, \"linkText\": \"Export to plot.ly\", \"plotlyServerURL\": \"https://plot.ly\"})});</script>",
            "text/vnd.plotly.v1+html": "<div id=\"9c5ccb66-909b-4c5e-97b2-6f922c470869\" style=\"height: 650px; width: 900px;\" class=\"plotly-graph-div\"></div><script type=\"text/javascript\">require([\"plotly\"], function(Plotly) { window.PLOTLYENV=window.PLOTLYENV || {};window.PLOTLYENV.BASE_URL=\"https://plot.ly\";Plotly.newPlot(\"9c5ccb66-909b-4c5e-97b2-6f922c470869\", [{\"name\": \"2015 Freedom\", \"opacity\": 0.65, \"x\": [\"Norway\", \"Switzerland\", \"Cambodia\", \"Sweden\", \"Uzbekistan\", \"Australia\", \"Denmark\", \"Finland\", \"United Arab Emirates\", \"Qatar\", \"New Zealand\", \"Costa Rica\", \"Canada\", \"Oman\", \"Iceland\"], \"y\": [0.66973, 0.66557, 0.66246, 0.6598, 0.6582100000000001, 0.6512399999999999, 0.6493800000000001, 0.64169, 0.64157, 0.6404, 0.6393800000000001, 0.63376, 0.63297, 0.63274, 0.6287699999999999], \"type\": \"bar\", \"uid\": \"18c1a615-c2ce-4d87-bc72-f58e8935c6f9\", \"xaxis\": \"x\", \"yaxis\": \"y\"}, {\"name\": \"2016 Freedom\", \"opacity\": 0.65, \"x\": [\"Uzbekistan\", \"Norway\", \"Cambodia\", \"Switzerland\", \"Sweden\", \"New Zealand\", \"Denmark\", \"Canada\", \"Finland\", \"Australia\", \"Somalia\", \"Qatar\", \"Iceland\", \"United Arab Emirates\", \"Vietnam\"], \"y\": [0.60848, 0.59609, 0.5885199999999999, 0.58557, 0.58218, 0.5814699999999999, 0.5794100000000001, 0.5737, 0.57104, 0.5683699999999999, 0.5677800000000001, 0.56679, 0.56624, 0.56215, 0.5595399999999999], \"type\": \"bar\", \"uid\": \"0968a009-ede8-4586-bbd9-566a4a02baf6\", \"xaxis\": \"x2\", \"yaxis\": \"y2\"}, {\"name\": \"2017 Freedom\", \"opacity\": 0.65, \"x\": [\"Uzbekistan\", \"Norway\", \"Cambodia\", \"Iceland\", \"Denmark\", \"Switzerland\", \"Finland\", \"New Zealand\", \"Sweden\", \"Canada\", \"United Arab Emirates\", \"Qatar\", \"Somalia\", \"Australia\", \"Luxembourg\"], \"y\": [0.6582486629486078, 0.635422587394714, 0.633375823497772, 0.6271626353263849, 0.626006722450256, 0.620070576667786, 0.6179508566856379, 0.6140621304512021, 0.612924098968506, 0.611100912094116, 0.60834527015686, 0.604130983352661, 0.602126955986023, 0.601607382297516, 0.59662789106369], \"type\": \"bar\", \"uid\": \"88b100c5-7711-40b3-a507-a4c0c9192d1b\", \"xaxis\": \"x3\", \"yaxis\": \"y3\"}], {\"xaxis\": {\"anchor\": \"y\", \"domain\": [0.0, 1.0]}, \"yaxis\": {\"anchor\": \"x\", \"domain\": [0.7777777777777778, 1.0]}, \"xaxis2\": {\"anchor\": \"y2\", \"domain\": [0.0, 1.0]}, \"yaxis2\": {\"anchor\": \"x2\", \"domain\": [0.3888888888888889, 0.6111111111111112]}, \"xaxis3\": {\"anchor\": \"y3\", \"domain\": [0.0, 1.0]}, \"yaxis3\": {\"anchor\": \"x3\", \"domain\": [0.0, 0.22222222222222224]}, \"height\": 650, \"width\": 900, \"title\": \"Ranking of Freedom by Year\"}, {\"showLink\": true, \"linkText\": \"Export to plot.ly\", \"plotlyServerURL\": \"https://plot.ly\"})});</script>"
          },
          "metadata": {}
        }
      ]
    },
    {
      "metadata": {
        "_uuid": "28059535d2d7d0e03148764362e72c3280ba8d6d"
      },
      "cell_type": "markdown",
      "source": "## Generosity"
    },
    {
      "metadata": {
        "trusted": true,
        "_uuid": "da3c97a5627621e1994ddf90e2a55280a442ee2d",
        "_kg_hide-input": true
      },
      "cell_type": "code",
      "source": "generosity2015_rank = data2015.sort_values('generosity', ascending=False)\ngenerosity2016_rank = data2016.sort_values('generosity', ascending=False)\ngenerosity2017_rank = data2017.sort_values('generosity', ascending=False)\n\ntrace1 = go.Bar(\n            x=generosity2015_rank.country.head(15),\n            y=generosity2015_rank.generosity.head(15),\n            opacity=0.65,\n            name='2015 Generosity'\n        )\n\ntrace2 = go.Bar(\n            x=generosity2016_rank.country.head(15),\n            y=generosity2016_rank.generosity.head(15),\n            opacity=0.65,\n            name='2016 Generosity'\n        )\ntrace3 = go.Bar(\n            x=generosity2017_rank.country.head(15),\n            y=generosity2017_rank.generosity.head(15),\n            opacity=0.65,\n            name='2017 Generosity'\n        )\n\nfig = tools.make_subplots(rows=3, cols=1, subplot_titles=())\nfig.append_trace(trace1, 1, 1)\nfig.append_trace(trace2, 2, 1)\nfig.append_trace(trace3, 3, 1)\n\nfig['layout'].update(height=700, width=900, title='Ranking of Generosity by Year')\niplot(fig)",
      "execution_count": 24,
      "outputs": [
        {
          "output_type": "stream",
          "text": "This is the format of your plot grid:\n[ (1,1) x1,y1 ]\n[ (2,1) x2,y2 ]\n[ (3,1) x3,y3 ]\n\n",
          "name": "stdout"
        },
        {
          "output_type": "display_data",
          "data": {
            "application/vnd.plotly.v1+json": {
              "data": [
                {
                  "name": "2015 Generosity",
                  "opacity": 0.65,
                  "x": [
                    "Myanmar",
                    "Thailand",
                    "United Kingdom",
                    "Malta",
                    "Indonesia",
                    "Somaliland region",
                    "Bhutan",
                    "Netherlands",
                    "New Zealand",
                    "Syria",
                    "Haiti",
                    "Ireland",
                    "Canada",
                    "Iceland",
                    "Australia"
                  ],
                  "y": [
                    0.79588,
                    0.5763,
                    0.51912,
                    0.51752,
                    0.51535,
                    0.5031800000000001,
                    0.47998,
                    0.4761,
                    0.47501000000000004,
                    0.47179,
                    0.46187,
                    0.45901000000000003,
                    0.45811,
                    0.4363,
                    0.43562
                  ],
                  "type": "bar",
                  "uid": "a434bb46-f81e-48d6-97e8-9c8bd4f31245",
                  "xaxis": "x",
                  "yaxis": "y"
                },
                {
                  "name": "2016 Generosity",
                  "opacity": 0.65,
                  "x": [
                    "Myanmar",
                    "Thailand",
                    "Indonesia",
                    "Malta",
                    "Somaliland Region",
                    "United Kingdom",
                    "New Zealand",
                    "Bhutan",
                    "Syria",
                    "Haiti",
                    "Iceland",
                    "Netherlands",
                    "Australia",
                    "Sri Lanka",
                    "Ireland"
                  ],
                  "y": [
                    0.81971,
                    0.58696,
                    0.56521,
                    0.56237,
                    0.51479,
                    0.50156,
                    0.49401000000000006,
                    0.48546000000000006,
                    0.48396999999999996,
                    0.47958,
                    0.47678000000000004,
                    0.47416,
                    0.47407,
                    0.46978000000000003,
                    0.44963000000000003
                  ],
                  "type": "bar",
                  "uid": "42757300-05f1-4df3-a4d8-03f7e1e668b2",
                  "xaxis": "x2",
                  "yaxis": "y2"
                },
                {
                  "name": "2017 Generosity",
                  "opacity": 0.65,
                  "x": [
                    "Myanmar",
                    "Indonesia",
                    "Malta",
                    "Thailand",
                    "New Zealand",
                    "Syria",
                    "United Kingdom",
                    "Sri Lanka",
                    "Haiti",
                    "Australia",
                    "Iceland",
                    "Bhutan",
                    "Netherlands",
                    "Kenya",
                    "Canada"
                  ],
                  "y": [
                    0.8380751609802249,
                    0.611704587936401,
                    0.5747305750846861,
                    0.572123110294342,
                    0.500005125999451,
                    0.49366372823715204,
                    0.492774158716202,
                    0.49086356163024897,
                    0.48920378088951094,
                    0.47769924998283403,
                    0.47554022073745705,
                    0.474054545164108,
                    0.47048982977867104,
                    0.444860309362411,
                    0.435539722442627
                  ],
                  "type": "bar",
                  "uid": "932d8e43-4122-4b13-80f0-aa603c4bb556",
                  "xaxis": "x3",
                  "yaxis": "y3"
                }
              ],
              "layout": {
                "xaxis": {
                  "anchor": "y",
                  "domain": [
                    0,
                    1
                  ]
                },
                "yaxis": {
                  "anchor": "x",
                  "domain": [
                    0.7777777777777778,
                    1
                  ]
                },
                "xaxis2": {
                  "anchor": "y2",
                  "domain": [
                    0,
                    1
                  ]
                },
                "yaxis2": {
                  "anchor": "x2",
                  "domain": [
                    0.3888888888888889,
                    0.6111111111111112
                  ]
                },
                "xaxis3": {
                  "anchor": "y3",
                  "domain": [
                    0,
                    1
                  ]
                },
                "yaxis3": {
                  "anchor": "x3",
                  "domain": [
                    0,
                    0.22222222222222224
                  ]
                },
                "height": 700,
                "width": 900,
                "title": "Ranking of Generosity by Year"
              },
              "config": {
                "showLink": true,
                "linkText": "Export to plot.ly",
                "plotlyServerURL": "https://plot.ly"
              }
            },
            "text/html": "<div id=\"57e1740e-b87b-4643-8e4f-b5617ca69186\" style=\"height: 700px; width: 900px;\" class=\"plotly-graph-div\"></div><script type=\"text/javascript\">require([\"plotly\"], function(Plotly) { window.PLOTLYENV=window.PLOTLYENV || {};window.PLOTLYENV.BASE_URL=\"https://plot.ly\";Plotly.newPlot(\"57e1740e-b87b-4643-8e4f-b5617ca69186\", [{\"name\": \"2015 Generosity\", \"opacity\": 0.65, \"x\": [\"Myanmar\", \"Thailand\", \"United Kingdom\", \"Malta\", \"Indonesia\", \"Somaliland region\", \"Bhutan\", \"Netherlands\", \"New Zealand\", \"Syria\", \"Haiti\", \"Ireland\", \"Canada\", \"Iceland\", \"Australia\"], \"y\": [0.79588, 0.5763, 0.51912, 0.51752, 0.51535, 0.5031800000000001, 0.47998, 0.4761, 0.47501000000000004, 0.47179, 0.46187, 0.45901000000000003, 0.45811, 0.4363, 0.43562], \"type\": \"bar\", \"uid\": \"a434bb46-f81e-48d6-97e8-9c8bd4f31245\", \"xaxis\": \"x\", \"yaxis\": \"y\"}, {\"name\": \"2016 Generosity\", \"opacity\": 0.65, \"x\": [\"Myanmar\", \"Thailand\", \"Indonesia\", \"Malta\", \"Somaliland Region\", \"United Kingdom\", \"New Zealand\", \"Bhutan\", \"Syria\", \"Haiti\", \"Iceland\", \"Netherlands\", \"Australia\", \"Sri Lanka\", \"Ireland\"], \"y\": [0.81971, 0.58696, 0.56521, 0.56237, 0.51479, 0.50156, 0.49401000000000006, 0.48546000000000006, 0.48396999999999996, 0.47958, 0.47678000000000004, 0.47416, 0.47407, 0.46978000000000003, 0.44963000000000003], \"type\": \"bar\", \"uid\": \"42757300-05f1-4df3-a4d8-03f7e1e668b2\", \"xaxis\": \"x2\", \"yaxis\": \"y2\"}, {\"name\": \"2017 Generosity\", \"opacity\": 0.65, \"x\": [\"Myanmar\", \"Indonesia\", \"Malta\", \"Thailand\", \"New Zealand\", \"Syria\", \"United Kingdom\", \"Sri Lanka\", \"Haiti\", \"Australia\", \"Iceland\", \"Bhutan\", \"Netherlands\", \"Kenya\", \"Canada\"], \"y\": [0.8380751609802249, 0.611704587936401, 0.5747305750846861, 0.572123110294342, 0.500005125999451, 0.49366372823715204, 0.492774158716202, 0.49086356163024897, 0.48920378088951094, 0.47769924998283403, 0.47554022073745705, 0.474054545164108, 0.47048982977867104, 0.444860309362411, 0.435539722442627], \"type\": \"bar\", \"uid\": \"932d8e43-4122-4b13-80f0-aa603c4bb556\", \"xaxis\": \"x3\", \"yaxis\": \"y3\"}], {\"xaxis\": {\"anchor\": \"y\", \"domain\": [0.0, 1.0]}, \"yaxis\": {\"anchor\": \"x\", \"domain\": [0.7777777777777778, 1.0]}, \"xaxis2\": {\"anchor\": \"y2\", \"domain\": [0.0, 1.0]}, \"yaxis2\": {\"anchor\": \"x2\", \"domain\": [0.3888888888888889, 0.6111111111111112]}, \"xaxis3\": {\"anchor\": \"y3\", \"domain\": [0.0, 1.0]}, \"yaxis3\": {\"anchor\": \"x3\", \"domain\": [0.0, 0.22222222222222224]}, \"height\": 700, \"width\": 900, \"title\": \"Ranking of Generosity by Year\"}, {\"showLink\": true, \"linkText\": \"Export to plot.ly\", \"plotlyServerURL\": \"https://plot.ly\"})});</script>",
            "text/vnd.plotly.v1+html": "<div id=\"57e1740e-b87b-4643-8e4f-b5617ca69186\" style=\"height: 700px; width: 900px;\" class=\"plotly-graph-div\"></div><script type=\"text/javascript\">require([\"plotly\"], function(Plotly) { window.PLOTLYENV=window.PLOTLYENV || {};window.PLOTLYENV.BASE_URL=\"https://plot.ly\";Plotly.newPlot(\"57e1740e-b87b-4643-8e4f-b5617ca69186\", [{\"name\": \"2015 Generosity\", \"opacity\": 0.65, \"x\": [\"Myanmar\", \"Thailand\", \"United Kingdom\", \"Malta\", \"Indonesia\", \"Somaliland region\", \"Bhutan\", \"Netherlands\", \"New Zealand\", \"Syria\", \"Haiti\", \"Ireland\", \"Canada\", \"Iceland\", \"Australia\"], \"y\": [0.79588, 0.5763, 0.51912, 0.51752, 0.51535, 0.5031800000000001, 0.47998, 0.4761, 0.47501000000000004, 0.47179, 0.46187, 0.45901000000000003, 0.45811, 0.4363, 0.43562], \"type\": \"bar\", \"uid\": \"a434bb46-f81e-48d6-97e8-9c8bd4f31245\", \"xaxis\": \"x\", \"yaxis\": \"y\"}, {\"name\": \"2016 Generosity\", \"opacity\": 0.65, \"x\": [\"Myanmar\", \"Thailand\", \"Indonesia\", \"Malta\", \"Somaliland Region\", \"United Kingdom\", \"New Zealand\", \"Bhutan\", \"Syria\", \"Haiti\", \"Iceland\", \"Netherlands\", \"Australia\", \"Sri Lanka\", \"Ireland\"], \"y\": [0.81971, 0.58696, 0.56521, 0.56237, 0.51479, 0.50156, 0.49401000000000006, 0.48546000000000006, 0.48396999999999996, 0.47958, 0.47678000000000004, 0.47416, 0.47407, 0.46978000000000003, 0.44963000000000003], \"type\": \"bar\", \"uid\": \"42757300-05f1-4df3-a4d8-03f7e1e668b2\", \"xaxis\": \"x2\", \"yaxis\": \"y2\"}, {\"name\": \"2017 Generosity\", \"opacity\": 0.65, \"x\": [\"Myanmar\", \"Indonesia\", \"Malta\", \"Thailand\", \"New Zealand\", \"Syria\", \"United Kingdom\", \"Sri Lanka\", \"Haiti\", \"Australia\", \"Iceland\", \"Bhutan\", \"Netherlands\", \"Kenya\", \"Canada\"], \"y\": [0.8380751609802249, 0.611704587936401, 0.5747305750846861, 0.572123110294342, 0.500005125999451, 0.49366372823715204, 0.492774158716202, 0.49086356163024897, 0.48920378088951094, 0.47769924998283403, 0.47554022073745705, 0.474054545164108, 0.47048982977867104, 0.444860309362411, 0.435539722442627], \"type\": \"bar\", \"uid\": \"932d8e43-4122-4b13-80f0-aa603c4bb556\", \"xaxis\": \"x3\", \"yaxis\": \"y3\"}], {\"xaxis\": {\"anchor\": \"y\", \"domain\": [0.0, 1.0]}, \"yaxis\": {\"anchor\": \"x\", \"domain\": [0.7777777777777778, 1.0]}, \"xaxis2\": {\"anchor\": \"y2\", \"domain\": [0.0, 1.0]}, \"yaxis2\": {\"anchor\": \"x2\", \"domain\": [0.3888888888888889, 0.6111111111111112]}, \"xaxis3\": {\"anchor\": \"y3\", \"domain\": [0.0, 1.0]}, \"yaxis3\": {\"anchor\": \"x3\", \"domain\": [0.0, 0.22222222222222224]}, \"height\": 700, \"width\": 900, \"title\": \"Ranking of Generosity by Year\"}, {\"showLink\": true, \"linkText\": \"Export to plot.ly\", \"plotlyServerURL\": \"https://plot.ly\"})});</script>"
          },
          "metadata": {}
        }
      ]
    },
    {
      "metadata": {
        "_uuid": "e72a85770a445a288e74a1f267c78a1e756b6d42"
      },
      "cell_type": "markdown",
      "source": "## Economy"
    },
    {
      "metadata": {
        "trusted": true,
        "_uuid": "1cf87b34eb0aa4c0da35a5c30681329d4041ff16",
        "_kg_hide-input": true,
        "_kg_hide-output": false
      },
      "cell_type": "code",
      "source": "trace1 = go.Bar(\n            x= data2015.sort_values('economy', ascending=False).country.head(15),\n            y=data2015.sort_values('economy', ascending=False).economy.head(15),\n            opacity=0.65,\n            name='2015 Economy'\n        )\n\ntrace2 = go.Bar(\n            x= data2016.sort_values('economy', ascending=False).country.head(15),\n            y= data2016.sort_values('economy', ascending=False).economy.head(15),\n            opacity=0.65,\n            name='2016 Economy'\n        )\ntrace3 = go.Bar(\n            x=data2017.sort_values('economy', ascending=False).country.head(15),\n            y=data2017.sort_values('economy', ascending=False).economy.head(15),\n            opacity=0.65,\n            name='2017 Economy'\n        )\n\n\nfig = tools.make_subplots(rows=3, cols=1, subplot_titles=())\nfig.append_trace(trace1, 1, 1)\nfig.append_trace(trace2, 2, 1)\nfig.append_trace(trace3, 3, 1)\n\nfig['layout'].update(height=550, width=900, title='2015 vs 2016 vs 2017')\niplot(fig)",
      "execution_count": 25,
      "outputs": [
        {
          "output_type": "stream",
          "text": "This is the format of your plot grid:\n[ (1,1) x1,y1 ]\n[ (2,1) x2,y2 ]\n[ (3,1) x3,y3 ]\n\n",
          "name": "stdout"
        },
        {
          "output_type": "display_data",
          "data": {
            "application/vnd.plotly.v1+json": {
              "data": [
                {
                  "name": "2015 Economy",
                  "opacity": 0.65,
                  "x": [
                    "Qatar",
                    "Luxembourg",
                    "Kuwait",
                    "Singapore",
                    "Norway",
                    "United Arab Emirates",
                    "Switzerland",
                    "Saudi Arabia",
                    "United States",
                    "Hong Kong",
                    "Oman",
                    "Austria",
                    "Ireland",
                    "Australia",
                    "Sweden"
                  ],
                  "y": [
                    1.69042,
                    1.5639100000000001,
                    1.5542200000000002,
                    1.52186,
                    1.459,
                    1.42727,
                    1.3965100000000001,
                    1.39541,
                    1.3945100000000001,
                    1.38604,
                    1.36011,
                    1.33723,
                    1.33596,
                    1.33358,
                    1.33171
                  ],
                  "type": "bar",
                  "uid": "1cc2b1e6-a469-4ffc-8fff-427b7de37695",
                  "xaxis": "x",
                  "yaxis": "y"
                },
                {
                  "name": "2016 Economy",
                  "opacity": 0.65,
                  "x": [
                    "Qatar",
                    "Luxembourg",
                    "Singapore",
                    "Kuwait",
                    "Norway",
                    "United Arab Emirates",
                    "Switzerland",
                    "Hong Kong",
                    "United States",
                    "Saudi Arabia",
                    "Ireland",
                    "Netherlands",
                    "Sweden",
                    "Austria",
                    "Germany"
                  ],
                  "y": [
                    1.82427,
                    1.6975200000000001,
                    1.64555,
                    1.61714,
                    1.57744,
                    1.57352,
                    1.5273299999999999,
                    1.5107,
                    1.50796,
                    1.48953,
                    1.4834100000000001,
                    1.46468,
                    1.45181,
                    1.45038,
                    1.44787
                  ],
                  "type": "bar",
                  "uid": "6e64655a-ef36-46e4-bd8b-aa7b3b89f597",
                  "xaxis": "x2",
                  "yaxis": "y2"
                },
                {
                  "name": "2017 Economy",
                  "opacity": 0.65,
                  "x": [
                    "Qatar",
                    "Luxembourg",
                    "Singapore",
                    "Kuwait",
                    "United Arab Emirates",
                    "Norway",
                    "Switzerland",
                    "Hong Kong S.A.R., China",
                    "United States",
                    "Ireland",
                    "Saudi Arabia",
                    "Netherlands",
                    "Sweden",
                    "Bahrain",
                    "Germany"
                  ],
                  "y": [
                    1.8707656860351598,
                    1.74194359779358,
                    1.69227766990662,
                    1.63295245170593,
                    1.6263433694839498,
                    1.6164631843566901,
                    1.5649795532226598,
                    1.55167484283447,
                    1.54625928401947,
                    1.5357066392898602,
                    1.53062355518341,
                    1.50394463539124,
                    1.49438726902008,
                    1.4884122610092199,
                    1.48792338371277
                  ],
                  "type": "bar",
                  "uid": "469434b7-5238-4f64-9e60-07a0af6be955",
                  "xaxis": "x3",
                  "yaxis": "y3"
                }
              ],
              "layout": {
                "xaxis": {
                  "anchor": "y",
                  "domain": [
                    0,
                    1
                  ]
                },
                "yaxis": {
                  "anchor": "x",
                  "domain": [
                    0.7777777777777778,
                    1
                  ]
                },
                "xaxis2": {
                  "anchor": "y2",
                  "domain": [
                    0,
                    1
                  ]
                },
                "yaxis2": {
                  "anchor": "x2",
                  "domain": [
                    0.3888888888888889,
                    0.6111111111111112
                  ]
                },
                "xaxis3": {
                  "anchor": "y3",
                  "domain": [
                    0,
                    1
                  ]
                },
                "yaxis3": {
                  "anchor": "x3",
                  "domain": [
                    0,
                    0.22222222222222224
                  ]
                },
                "height": 550,
                "width": 900,
                "title": "2015 vs 2016 vs 2017"
              },
              "config": {
                "showLink": true,
                "linkText": "Export to plot.ly",
                "plotlyServerURL": "https://plot.ly"
              }
            },
            "text/html": "<div id=\"ae8256fd-ff17-41f5-9625-f1f14d534c1e\" style=\"height: 550px; width: 900px;\" class=\"plotly-graph-div\"></div><script type=\"text/javascript\">require([\"plotly\"], function(Plotly) { window.PLOTLYENV=window.PLOTLYENV || {};window.PLOTLYENV.BASE_URL=\"https://plot.ly\";Plotly.newPlot(\"ae8256fd-ff17-41f5-9625-f1f14d534c1e\", [{\"name\": \"2015 Economy\", \"opacity\": 0.65, \"x\": [\"Qatar\", \"Luxembourg\", \"Kuwait\", \"Singapore\", \"Norway\", \"United Arab Emirates\", \"Switzerland\", \"Saudi Arabia\", \"United States\", \"Hong Kong\", \"Oman\", \"Austria\", \"Ireland\", \"Australia\", \"Sweden\"], \"y\": [1.69042, 1.5639100000000001, 1.5542200000000002, 1.52186, 1.459, 1.42727, 1.3965100000000001, 1.39541, 1.3945100000000001, 1.38604, 1.36011, 1.33723, 1.33596, 1.33358, 1.33171], \"type\": \"bar\", \"uid\": \"1cc2b1e6-a469-4ffc-8fff-427b7de37695\", \"xaxis\": \"x\", \"yaxis\": \"y\"}, {\"name\": \"2016 Economy\", \"opacity\": 0.65, \"x\": [\"Qatar\", \"Luxembourg\", \"Singapore\", \"Kuwait\", \"Norway\", \"United Arab Emirates\", \"Switzerland\", \"Hong Kong\", \"United States\", \"Saudi Arabia\", \"Ireland\", \"Netherlands\", \"Sweden\", \"Austria\", \"Germany\"], \"y\": [1.82427, 1.6975200000000001, 1.64555, 1.61714, 1.57744, 1.57352, 1.5273299999999999, 1.5107, 1.50796, 1.48953, 1.4834100000000001, 1.46468, 1.45181, 1.45038, 1.44787], \"type\": \"bar\", \"uid\": \"6e64655a-ef36-46e4-bd8b-aa7b3b89f597\", \"xaxis\": \"x2\", \"yaxis\": \"y2\"}, {\"name\": \"2017 Economy\", \"opacity\": 0.65, \"x\": [\"Qatar\", \"Luxembourg\", \"Singapore\", \"Kuwait\", \"United Arab Emirates\", \"Norway\", \"Switzerland\", \"Hong Kong S.A.R., China\", \"United States\", \"Ireland\", \"Saudi Arabia\", \"Netherlands\", \"Sweden\", \"Bahrain\", \"Germany\"], \"y\": [1.8707656860351598, 1.74194359779358, 1.69227766990662, 1.63295245170593, 1.6263433694839498, 1.6164631843566901, 1.5649795532226598, 1.55167484283447, 1.54625928401947, 1.5357066392898602, 1.53062355518341, 1.50394463539124, 1.49438726902008, 1.4884122610092199, 1.48792338371277], \"type\": \"bar\", \"uid\": \"469434b7-5238-4f64-9e60-07a0af6be955\", \"xaxis\": \"x3\", \"yaxis\": \"y3\"}], {\"xaxis\": {\"anchor\": \"y\", \"domain\": [0.0, 1.0]}, \"yaxis\": {\"anchor\": \"x\", \"domain\": [0.7777777777777778, 1.0]}, \"xaxis2\": {\"anchor\": \"y2\", \"domain\": [0.0, 1.0]}, \"yaxis2\": {\"anchor\": \"x2\", \"domain\": [0.3888888888888889, 0.6111111111111112]}, \"xaxis3\": {\"anchor\": \"y3\", \"domain\": [0.0, 1.0]}, \"yaxis3\": {\"anchor\": \"x3\", \"domain\": [0.0, 0.22222222222222224]}, \"height\": 550, \"width\": 900, \"title\": \"2015 vs 2016 vs 2017\"}, {\"showLink\": true, \"linkText\": \"Export to plot.ly\", \"plotlyServerURL\": \"https://plot.ly\"})});</script>",
            "text/vnd.plotly.v1+html": "<div id=\"ae8256fd-ff17-41f5-9625-f1f14d534c1e\" style=\"height: 550px; width: 900px;\" class=\"plotly-graph-div\"></div><script type=\"text/javascript\">require([\"plotly\"], function(Plotly) { window.PLOTLYENV=window.PLOTLYENV || {};window.PLOTLYENV.BASE_URL=\"https://plot.ly\";Plotly.newPlot(\"ae8256fd-ff17-41f5-9625-f1f14d534c1e\", [{\"name\": \"2015 Economy\", \"opacity\": 0.65, \"x\": [\"Qatar\", \"Luxembourg\", \"Kuwait\", \"Singapore\", \"Norway\", \"United Arab Emirates\", \"Switzerland\", \"Saudi Arabia\", \"United States\", \"Hong Kong\", \"Oman\", \"Austria\", \"Ireland\", \"Australia\", \"Sweden\"], \"y\": [1.69042, 1.5639100000000001, 1.5542200000000002, 1.52186, 1.459, 1.42727, 1.3965100000000001, 1.39541, 1.3945100000000001, 1.38604, 1.36011, 1.33723, 1.33596, 1.33358, 1.33171], \"type\": \"bar\", \"uid\": \"1cc2b1e6-a469-4ffc-8fff-427b7de37695\", \"xaxis\": \"x\", \"yaxis\": \"y\"}, {\"name\": \"2016 Economy\", \"opacity\": 0.65, \"x\": [\"Qatar\", \"Luxembourg\", \"Singapore\", \"Kuwait\", \"Norway\", \"United Arab Emirates\", \"Switzerland\", \"Hong Kong\", \"United States\", \"Saudi Arabia\", \"Ireland\", \"Netherlands\", \"Sweden\", \"Austria\", \"Germany\"], \"y\": [1.82427, 1.6975200000000001, 1.64555, 1.61714, 1.57744, 1.57352, 1.5273299999999999, 1.5107, 1.50796, 1.48953, 1.4834100000000001, 1.46468, 1.45181, 1.45038, 1.44787], \"type\": \"bar\", \"uid\": \"6e64655a-ef36-46e4-bd8b-aa7b3b89f597\", \"xaxis\": \"x2\", \"yaxis\": \"y2\"}, {\"name\": \"2017 Economy\", \"opacity\": 0.65, \"x\": [\"Qatar\", \"Luxembourg\", \"Singapore\", \"Kuwait\", \"United Arab Emirates\", \"Norway\", \"Switzerland\", \"Hong Kong S.A.R., China\", \"United States\", \"Ireland\", \"Saudi Arabia\", \"Netherlands\", \"Sweden\", \"Bahrain\", \"Germany\"], \"y\": [1.8707656860351598, 1.74194359779358, 1.69227766990662, 1.63295245170593, 1.6263433694839498, 1.6164631843566901, 1.5649795532226598, 1.55167484283447, 1.54625928401947, 1.5357066392898602, 1.53062355518341, 1.50394463539124, 1.49438726902008, 1.4884122610092199, 1.48792338371277], \"type\": \"bar\", \"uid\": \"469434b7-5238-4f64-9e60-07a0af6be955\", \"xaxis\": \"x3\", \"yaxis\": \"y3\"}], {\"xaxis\": {\"anchor\": \"y\", \"domain\": [0.0, 1.0]}, \"yaxis\": {\"anchor\": \"x\", \"domain\": [0.7777777777777778, 1.0]}, \"xaxis2\": {\"anchor\": \"y2\", \"domain\": [0.0, 1.0]}, \"yaxis2\": {\"anchor\": \"x2\", \"domain\": [0.3888888888888889, 0.6111111111111112]}, \"xaxis3\": {\"anchor\": \"y3\", \"domain\": [0.0, 1.0]}, \"yaxis3\": {\"anchor\": \"x3\", \"domain\": [0.0, 0.22222222222222224]}, \"height\": 550, \"width\": 900, \"title\": \"2015 vs 2016 vs 2017\"}, {\"showLink\": true, \"linkText\": \"Export to plot.ly\", \"plotlyServerURL\": \"https://plot.ly\"})});</script>"
          },
          "metadata": {}
        }
      ]
    },
    {
      "metadata": {
        "_uuid": "60bf9f3cccdb8972aced6c1c3be669b382ae378f"
      },
      "cell_type": "markdown",
      "source": "## Family"
    },
    {
      "metadata": {
        "_kg_hide-input": true,
        "trusted": true,
        "_uuid": "f746c484d74ed086bdb5936cb4617735153ef02a"
      },
      "cell_type": "code",
      "source": "trace1 = go.Bar(\n            x= data2015.sort_values('family', ascending=False).country.head(15),\n            y=data2015.sort_values('family', ascending=False).family.head(15),\n            opacity=0.65,\n            name='2015 Family'\n        )\n\ntrace2 = go.Bar(\n            x= data2016.sort_values('family', ascending=False).country.head(15),\n            y= data2016.sort_values('family', ascending=False).family.head(15),\n            opacity=0.65,\n            name='2016 Family'\n        )\ntrace3 = go.Bar(\n            x=data2017.sort_values('family', ascending=False).country.head(15),\n            y=data2017.sort_values('family', ascending=False).family.head(15),\n            opacity=0.65,\n            name='2017 Family'\n        )\n\n\nfig = tools.make_subplots(rows=3, cols=1, subplot_titles=())\nfig.append_trace(trace1, 1, 1)\nfig.append_trace(trace2, 2, 1)\nfig.append_trace(trace3, 3, 1)\n\nfig['layout'].update(height=550, width=900, title='2015 vs 2016 vs 2017')\niplot(fig)",
      "execution_count": 26,
      "outputs": [
        {
          "output_type": "stream",
          "text": "This is the format of your plot grid:\n[ (1,1) x1,y1 ]\n[ (2,1) x2,y2 ]\n[ (3,1) x3,y3 ]\n\n",
          "name": "stdout"
        },
        {
          "output_type": "display_data",
          "data": {
            "application/vnd.plotly.v1+json": {
              "data": [
                {
                  "name": "2015 Family",
                  "opacity": 0.65,
                  "x": [
                    "Iceland",
                    "Ireland",
                    "Denmark",
                    "Switzerland",
                    "Uzbekistan",
                    "Norway",
                    "Canada",
                    "New Zealand",
                    "Finland",
                    "Spain",
                    "Australia",
                    "Paraguay",
                    "Malta",
                    "Mongolia",
                    "Germany"
                  ],
                  "y": [
                    1.4022299999999999,
                    1.36948,
                    1.36058,
                    1.34951,
                    1.34043,
                    1.33095,
                    1.32261,
                    1.3196700000000001,
                    1.31826,
                    1.31379,
                    1.30923,
                    1.30477,
                    1.30203,
                    1.3006,
                    1.2993700000000001
                  ],
                  "type": "bar",
                  "uid": "13de40fe-b627-4061-a9b7-fe6261133509",
                  "xaxis": "x",
                  "yaxis": "y"
                },
                {
                  "name": "2016 Family",
                  "opacity": 0.65,
                  "x": [
                    "Iceland",
                    "New Zealand",
                    "Uzbekistan",
                    "Denmark",
                    "Ireland",
                    "Switzerland",
                    "Finland",
                    "Spain",
                    "Norway",
                    "Paraguay",
                    "Australia",
                    "Malta",
                    "Germany",
                    "Canada",
                    "Mongolia"
                  ],
                  "y": [
                    1.18326,
                    1.17278,
                    1.1681,
                    1.16374,
                    1.16157,
                    1.14524,
                    1.1346399999999999,
                    1.12945,
                    1.1269,
                    1.11111,
                    1.10476,
                    1.09879,
                    1.09774,
                    1.0961,
                    1.0898299999999999
                  ],
                  "type": "bar",
                  "uid": "e963b36d-7de8-4d65-a5e1-8bc1d73828d8",
                  "xaxis": "x2",
                  "yaxis": "y2"
                },
                {
                  "name": "2017 Family",
                  "opacity": 0.65,
                  "x": [
                    "Iceland",
                    "Ireland",
                    "Denmark",
                    "Uzbekistan",
                    "New Zealand",
                    "Finland",
                    "Norway",
                    "Spain",
                    "Switzerland",
                    "Australia",
                    "Paraguay",
                    "Slovakia",
                    "United Kingdom",
                    "Turkmenistan",
                    "Mongolia"
                  ],
                  "y": [
                    1.6105740070343,
                    1.5582311153411899,
                    1.55112159252167,
                    1.5489691495895401,
                    1.54819512367249,
                    1.5402467250824,
                    1.53352355957031,
                    1.53209090232849,
                    1.51691174507141,
                    1.5100419521331798,
                    1.50728487968445,
                    1.5050592422485398,
                    1.4964600801467902,
                    1.49314916133881,
                    1.4930112361908001
                  ],
                  "type": "bar",
                  "uid": "23d58ebe-b864-437b-9f75-1b69208aaedd",
                  "xaxis": "x3",
                  "yaxis": "y3"
                }
              ],
              "layout": {
                "xaxis": {
                  "anchor": "y",
                  "domain": [
                    0,
                    1
                  ]
                },
                "yaxis": {
                  "anchor": "x",
                  "domain": [
                    0.7777777777777778,
                    1
                  ]
                },
                "xaxis2": {
                  "anchor": "y2",
                  "domain": [
                    0,
                    1
                  ]
                },
                "yaxis2": {
                  "anchor": "x2",
                  "domain": [
                    0.3888888888888889,
                    0.6111111111111112
                  ]
                },
                "xaxis3": {
                  "anchor": "y3",
                  "domain": [
                    0,
                    1
                  ]
                },
                "yaxis3": {
                  "anchor": "x3",
                  "domain": [
                    0,
                    0.22222222222222224
                  ]
                },
                "height": 550,
                "width": 900,
                "title": "2015 vs 2016 vs 2017"
              },
              "config": {
                "showLink": true,
                "linkText": "Export to plot.ly",
                "plotlyServerURL": "https://plot.ly"
              }
            },
            "text/html": "<div id=\"68159f7a-f396-44aa-8b95-21a74652e558\" style=\"height: 550px; width: 900px;\" class=\"plotly-graph-div\"></div><script type=\"text/javascript\">require([\"plotly\"], function(Plotly) { window.PLOTLYENV=window.PLOTLYENV || {};window.PLOTLYENV.BASE_URL=\"https://plot.ly\";Plotly.newPlot(\"68159f7a-f396-44aa-8b95-21a74652e558\", [{\"name\": \"2015 Family\", \"opacity\": 0.65, \"x\": [\"Iceland\", \"Ireland\", \"Denmark\", \"Switzerland\", \"Uzbekistan\", \"Norway\", \"Canada\", \"New Zealand\", \"Finland\", \"Spain\", \"Australia\", \"Paraguay\", \"Malta\", \"Mongolia\", \"Germany\"], \"y\": [1.4022299999999999, 1.36948, 1.36058, 1.34951, 1.34043, 1.33095, 1.32261, 1.3196700000000001, 1.31826, 1.31379, 1.30923, 1.30477, 1.30203, 1.3006, 1.2993700000000001], \"type\": \"bar\", \"uid\": \"13de40fe-b627-4061-a9b7-fe6261133509\", \"xaxis\": \"x\", \"yaxis\": \"y\"}, {\"name\": \"2016 Family\", \"opacity\": 0.65, \"x\": [\"Iceland\", \"New Zealand\", \"Uzbekistan\", \"Denmark\", \"Ireland\", \"Switzerland\", \"Finland\", \"Spain\", \"Norway\", \"Paraguay\", \"Australia\", \"Malta\", \"Germany\", \"Canada\", \"Mongolia\"], \"y\": [1.18326, 1.17278, 1.1681, 1.16374, 1.16157, 1.14524, 1.1346399999999999, 1.12945, 1.1269, 1.11111, 1.10476, 1.09879, 1.09774, 1.0961, 1.0898299999999999], \"type\": \"bar\", \"uid\": \"e963b36d-7de8-4d65-a5e1-8bc1d73828d8\", \"xaxis\": \"x2\", \"yaxis\": \"y2\"}, {\"name\": \"2017 Family\", \"opacity\": 0.65, \"x\": [\"Iceland\", \"Ireland\", \"Denmark\", \"Uzbekistan\", \"New Zealand\", \"Finland\", \"Norway\", \"Spain\", \"Switzerland\", \"Australia\", \"Paraguay\", \"Slovakia\", \"United Kingdom\", \"Turkmenistan\", \"Mongolia\"], \"y\": [1.6105740070343, 1.5582311153411899, 1.55112159252167, 1.5489691495895401, 1.54819512367249, 1.5402467250824, 1.53352355957031, 1.53209090232849, 1.51691174507141, 1.5100419521331798, 1.50728487968445, 1.5050592422485398, 1.4964600801467902, 1.49314916133881, 1.4930112361908001], \"type\": \"bar\", \"uid\": \"23d58ebe-b864-437b-9f75-1b69208aaedd\", \"xaxis\": \"x3\", \"yaxis\": \"y3\"}], {\"xaxis\": {\"anchor\": \"y\", \"domain\": [0.0, 1.0]}, \"yaxis\": {\"anchor\": \"x\", \"domain\": [0.7777777777777778, 1.0]}, \"xaxis2\": {\"anchor\": \"y2\", \"domain\": [0.0, 1.0]}, \"yaxis2\": {\"anchor\": \"x2\", \"domain\": [0.3888888888888889, 0.6111111111111112]}, \"xaxis3\": {\"anchor\": \"y3\", \"domain\": [0.0, 1.0]}, \"yaxis3\": {\"anchor\": \"x3\", \"domain\": [0.0, 0.22222222222222224]}, \"height\": 550, \"width\": 900, \"title\": \"2015 vs 2016 vs 2017\"}, {\"showLink\": true, \"linkText\": \"Export to plot.ly\", \"plotlyServerURL\": \"https://plot.ly\"})});</script>",
            "text/vnd.plotly.v1+html": "<div id=\"68159f7a-f396-44aa-8b95-21a74652e558\" style=\"height: 550px; width: 900px;\" class=\"plotly-graph-div\"></div><script type=\"text/javascript\">require([\"plotly\"], function(Plotly) { window.PLOTLYENV=window.PLOTLYENV || {};window.PLOTLYENV.BASE_URL=\"https://plot.ly\";Plotly.newPlot(\"68159f7a-f396-44aa-8b95-21a74652e558\", [{\"name\": \"2015 Family\", \"opacity\": 0.65, \"x\": [\"Iceland\", \"Ireland\", \"Denmark\", \"Switzerland\", \"Uzbekistan\", \"Norway\", \"Canada\", \"New Zealand\", \"Finland\", \"Spain\", \"Australia\", \"Paraguay\", \"Malta\", \"Mongolia\", \"Germany\"], \"y\": [1.4022299999999999, 1.36948, 1.36058, 1.34951, 1.34043, 1.33095, 1.32261, 1.3196700000000001, 1.31826, 1.31379, 1.30923, 1.30477, 1.30203, 1.3006, 1.2993700000000001], \"type\": \"bar\", \"uid\": \"13de40fe-b627-4061-a9b7-fe6261133509\", \"xaxis\": \"x\", \"yaxis\": \"y\"}, {\"name\": \"2016 Family\", \"opacity\": 0.65, \"x\": [\"Iceland\", \"New Zealand\", \"Uzbekistan\", \"Denmark\", \"Ireland\", \"Switzerland\", \"Finland\", \"Spain\", \"Norway\", \"Paraguay\", \"Australia\", \"Malta\", \"Germany\", \"Canada\", \"Mongolia\"], \"y\": [1.18326, 1.17278, 1.1681, 1.16374, 1.16157, 1.14524, 1.1346399999999999, 1.12945, 1.1269, 1.11111, 1.10476, 1.09879, 1.09774, 1.0961, 1.0898299999999999], \"type\": \"bar\", \"uid\": \"e963b36d-7de8-4d65-a5e1-8bc1d73828d8\", \"xaxis\": \"x2\", \"yaxis\": \"y2\"}, {\"name\": \"2017 Family\", \"opacity\": 0.65, \"x\": [\"Iceland\", \"Ireland\", \"Denmark\", \"Uzbekistan\", \"New Zealand\", \"Finland\", \"Norway\", \"Spain\", \"Switzerland\", \"Australia\", \"Paraguay\", \"Slovakia\", \"United Kingdom\", \"Turkmenistan\", \"Mongolia\"], \"y\": [1.6105740070343, 1.5582311153411899, 1.55112159252167, 1.5489691495895401, 1.54819512367249, 1.5402467250824, 1.53352355957031, 1.53209090232849, 1.51691174507141, 1.5100419521331798, 1.50728487968445, 1.5050592422485398, 1.4964600801467902, 1.49314916133881, 1.4930112361908001], \"type\": \"bar\", \"uid\": \"23d58ebe-b864-437b-9f75-1b69208aaedd\", \"xaxis\": \"x3\", \"yaxis\": \"y3\"}], {\"xaxis\": {\"anchor\": \"y\", \"domain\": [0.0, 1.0]}, \"yaxis\": {\"anchor\": \"x\", \"domain\": [0.7777777777777778, 1.0]}, \"xaxis2\": {\"anchor\": \"y2\", \"domain\": [0.0, 1.0]}, \"yaxis2\": {\"anchor\": \"x2\", \"domain\": [0.3888888888888889, 0.6111111111111112]}, \"xaxis3\": {\"anchor\": \"y3\", \"domain\": [0.0, 1.0]}, \"yaxis3\": {\"anchor\": \"x3\", \"domain\": [0.0, 0.22222222222222224]}, \"height\": 550, \"width\": 900, \"title\": \"2015 vs 2016 vs 2017\"}, {\"showLink\": true, \"linkText\": \"Export to plot.ly\", \"plotlyServerURL\": \"https://plot.ly\"})});</script>"
          },
          "metadata": {}
        }
      ]
    },
    {
      "metadata": {
        "_uuid": "2cfe1ac29b79ee44bfdcf7178c96b77d19a044ee"
      },
      "cell_type": "markdown",
      "source": "## Freedom"
    },
    {
      "metadata": {
        "_kg_hide-input": true,
        "trusted": true,
        "_uuid": "d57861472a4e61752c8f35b581899c86bee48c63"
      },
      "cell_type": "code",
      "source": "trace1 = go.Bar(\n            x= data2015.sort_values('freedom', ascending=False).country.head(15),\n            y=data2015.sort_values('freedom', ascending=False).freedom.head(15),\n            opacity=0.65,\n            name='2015 Freedom'\n        )\n\ntrace2 = go.Bar(\n            x= data2016.sort_values('freedom', ascending=False).country.head(15),\n            y= data2016.sort_values('freedom', ascending=False).freedom.head(15),\n            opacity=0.65,\n            name='2016 Freedom'\n        )\ntrace3 = go.Bar(\n            x=data2017.sort_values('freedom', ascending=False).country.head(15),\n            y=data2017.sort_values('freedom', ascending=False).freedom.head(15),\n            opacity=0.65,\n            name='2017 freedom'\n        )\n\n\nfig = tools.make_subplots(rows=3, cols=1, subplot_titles=())\nfig.append_trace(trace1, 1, 1)\nfig.append_trace(trace2, 2, 1)\nfig.append_trace(trace3, 3, 1)\n\nfig['layout'].update(height=600, width=900, title='2015 vs 2016 vs 2017')\niplot(fig)",
      "execution_count": 27,
      "outputs": [
        {
          "output_type": "stream",
          "text": "This is the format of your plot grid:\n[ (1,1) x1,y1 ]\n[ (2,1) x2,y2 ]\n[ (3,1) x3,y3 ]\n\n",
          "name": "stdout"
        },
        {
          "output_type": "display_data",
          "data": {
            "application/vnd.plotly.v1+json": {
              "data": [
                {
                  "name": "2015 Freedom",
                  "opacity": 0.65,
                  "x": [
                    "Norway",
                    "Switzerland",
                    "Cambodia",
                    "Sweden",
                    "Uzbekistan",
                    "Australia",
                    "Denmark",
                    "Finland",
                    "United Arab Emirates",
                    "Qatar",
                    "New Zealand",
                    "Costa Rica",
                    "Canada",
                    "Oman",
                    "Iceland"
                  ],
                  "y": [
                    0.66973,
                    0.66557,
                    0.66246,
                    0.6598,
                    0.6582100000000001,
                    0.6512399999999999,
                    0.6493800000000001,
                    0.64169,
                    0.64157,
                    0.6404,
                    0.6393800000000001,
                    0.63376,
                    0.63297,
                    0.63274,
                    0.6287699999999999
                  ],
                  "type": "bar",
                  "uid": "0e72c637-d90b-49c6-90be-1ec06ebc8f09",
                  "xaxis": "x",
                  "yaxis": "y"
                },
                {
                  "name": "2016 Freedom",
                  "opacity": 0.65,
                  "x": [
                    "Uzbekistan",
                    "Norway",
                    "Cambodia",
                    "Switzerland",
                    "Sweden",
                    "New Zealand",
                    "Denmark",
                    "Canada",
                    "Finland",
                    "Australia",
                    "Somalia",
                    "Qatar",
                    "Iceland",
                    "United Arab Emirates",
                    "Vietnam"
                  ],
                  "y": [
                    0.60848,
                    0.59609,
                    0.5885199999999999,
                    0.58557,
                    0.58218,
                    0.5814699999999999,
                    0.5794100000000001,
                    0.5737,
                    0.57104,
                    0.5683699999999999,
                    0.5677800000000001,
                    0.56679,
                    0.56624,
                    0.56215,
                    0.5595399999999999
                  ],
                  "type": "bar",
                  "uid": "69c9eebb-6b58-4ee3-bef3-993e7cdf4d2f",
                  "xaxis": "x2",
                  "yaxis": "y2"
                },
                {
                  "name": "2017 freedom",
                  "opacity": 0.65,
                  "x": [
                    "Uzbekistan",
                    "Norway",
                    "Cambodia",
                    "Iceland",
                    "Denmark",
                    "Switzerland",
                    "Finland",
                    "New Zealand",
                    "Sweden",
                    "Canada",
                    "United Arab Emirates",
                    "Qatar",
                    "Somalia",
                    "Australia",
                    "Luxembourg"
                  ],
                  "y": [
                    0.6582486629486078,
                    0.635422587394714,
                    0.633375823497772,
                    0.6271626353263849,
                    0.626006722450256,
                    0.620070576667786,
                    0.6179508566856379,
                    0.6140621304512021,
                    0.612924098968506,
                    0.611100912094116,
                    0.60834527015686,
                    0.604130983352661,
                    0.602126955986023,
                    0.601607382297516,
                    0.59662789106369
                  ],
                  "type": "bar",
                  "uid": "9ec05051-9090-405f-abe4-db4e65b4a422",
                  "xaxis": "x3",
                  "yaxis": "y3"
                }
              ],
              "layout": {
                "xaxis": {
                  "anchor": "y",
                  "domain": [
                    0,
                    1
                  ]
                },
                "yaxis": {
                  "anchor": "x",
                  "domain": [
                    0.7777777777777778,
                    1
                  ]
                },
                "xaxis2": {
                  "anchor": "y2",
                  "domain": [
                    0,
                    1
                  ]
                },
                "yaxis2": {
                  "anchor": "x2",
                  "domain": [
                    0.3888888888888889,
                    0.6111111111111112
                  ]
                },
                "xaxis3": {
                  "anchor": "y3",
                  "domain": [
                    0,
                    1
                  ]
                },
                "yaxis3": {
                  "anchor": "x3",
                  "domain": [
                    0,
                    0.22222222222222224
                  ]
                },
                "height": 600,
                "width": 900,
                "title": "2015 vs 2016 vs 2017"
              },
              "config": {
                "showLink": true,
                "linkText": "Export to plot.ly",
                "plotlyServerURL": "https://plot.ly"
              }
            },
            "text/html": "<div id=\"69003015-482b-4b0f-8e6b-d0b4b01330c1\" style=\"height: 600px; width: 900px;\" class=\"plotly-graph-div\"></div><script type=\"text/javascript\">require([\"plotly\"], function(Plotly) { window.PLOTLYENV=window.PLOTLYENV || {};window.PLOTLYENV.BASE_URL=\"https://plot.ly\";Plotly.newPlot(\"69003015-482b-4b0f-8e6b-d0b4b01330c1\", [{\"name\": \"2015 Freedom\", \"opacity\": 0.65, \"x\": [\"Norway\", \"Switzerland\", \"Cambodia\", \"Sweden\", \"Uzbekistan\", \"Australia\", \"Denmark\", \"Finland\", \"United Arab Emirates\", \"Qatar\", \"New Zealand\", \"Costa Rica\", \"Canada\", \"Oman\", \"Iceland\"], \"y\": [0.66973, 0.66557, 0.66246, 0.6598, 0.6582100000000001, 0.6512399999999999, 0.6493800000000001, 0.64169, 0.64157, 0.6404, 0.6393800000000001, 0.63376, 0.63297, 0.63274, 0.6287699999999999], \"type\": \"bar\", \"uid\": \"0e72c637-d90b-49c6-90be-1ec06ebc8f09\", \"xaxis\": \"x\", \"yaxis\": \"y\"}, {\"name\": \"2016 Freedom\", \"opacity\": 0.65, \"x\": [\"Uzbekistan\", \"Norway\", \"Cambodia\", \"Switzerland\", \"Sweden\", \"New Zealand\", \"Denmark\", \"Canada\", \"Finland\", \"Australia\", \"Somalia\", \"Qatar\", \"Iceland\", \"United Arab Emirates\", \"Vietnam\"], \"y\": [0.60848, 0.59609, 0.5885199999999999, 0.58557, 0.58218, 0.5814699999999999, 0.5794100000000001, 0.5737, 0.57104, 0.5683699999999999, 0.5677800000000001, 0.56679, 0.56624, 0.56215, 0.5595399999999999], \"type\": \"bar\", \"uid\": \"69c9eebb-6b58-4ee3-bef3-993e7cdf4d2f\", \"xaxis\": \"x2\", \"yaxis\": \"y2\"}, {\"name\": \"2017 freedom\", \"opacity\": 0.65, \"x\": [\"Uzbekistan\", \"Norway\", \"Cambodia\", \"Iceland\", \"Denmark\", \"Switzerland\", \"Finland\", \"New Zealand\", \"Sweden\", \"Canada\", \"United Arab Emirates\", \"Qatar\", \"Somalia\", \"Australia\", \"Luxembourg\"], \"y\": [0.6582486629486078, 0.635422587394714, 0.633375823497772, 0.6271626353263849, 0.626006722450256, 0.620070576667786, 0.6179508566856379, 0.6140621304512021, 0.612924098968506, 0.611100912094116, 0.60834527015686, 0.604130983352661, 0.602126955986023, 0.601607382297516, 0.59662789106369], \"type\": \"bar\", \"uid\": \"9ec05051-9090-405f-abe4-db4e65b4a422\", \"xaxis\": \"x3\", \"yaxis\": \"y3\"}], {\"xaxis\": {\"anchor\": \"y\", \"domain\": [0.0, 1.0]}, \"yaxis\": {\"anchor\": \"x\", \"domain\": [0.7777777777777778, 1.0]}, \"xaxis2\": {\"anchor\": \"y2\", \"domain\": [0.0, 1.0]}, \"yaxis2\": {\"anchor\": \"x2\", \"domain\": [0.3888888888888889, 0.6111111111111112]}, \"xaxis3\": {\"anchor\": \"y3\", \"domain\": [0.0, 1.0]}, \"yaxis3\": {\"anchor\": \"x3\", \"domain\": [0.0, 0.22222222222222224]}, \"height\": 600, \"width\": 900, \"title\": \"2015 vs 2016 vs 2017\"}, {\"showLink\": true, \"linkText\": \"Export to plot.ly\", \"plotlyServerURL\": \"https://plot.ly\"})});</script>",
            "text/vnd.plotly.v1+html": "<div id=\"69003015-482b-4b0f-8e6b-d0b4b01330c1\" style=\"height: 600px; width: 900px;\" class=\"plotly-graph-div\"></div><script type=\"text/javascript\">require([\"plotly\"], function(Plotly) { window.PLOTLYENV=window.PLOTLYENV || {};window.PLOTLYENV.BASE_URL=\"https://plot.ly\";Plotly.newPlot(\"69003015-482b-4b0f-8e6b-d0b4b01330c1\", [{\"name\": \"2015 Freedom\", \"opacity\": 0.65, \"x\": [\"Norway\", \"Switzerland\", \"Cambodia\", \"Sweden\", \"Uzbekistan\", \"Australia\", \"Denmark\", \"Finland\", \"United Arab Emirates\", \"Qatar\", \"New Zealand\", \"Costa Rica\", \"Canada\", \"Oman\", \"Iceland\"], \"y\": [0.66973, 0.66557, 0.66246, 0.6598, 0.6582100000000001, 0.6512399999999999, 0.6493800000000001, 0.64169, 0.64157, 0.6404, 0.6393800000000001, 0.63376, 0.63297, 0.63274, 0.6287699999999999], \"type\": \"bar\", \"uid\": \"0e72c637-d90b-49c6-90be-1ec06ebc8f09\", \"xaxis\": \"x\", \"yaxis\": \"y\"}, {\"name\": \"2016 Freedom\", \"opacity\": 0.65, \"x\": [\"Uzbekistan\", \"Norway\", \"Cambodia\", \"Switzerland\", \"Sweden\", \"New Zealand\", \"Denmark\", \"Canada\", \"Finland\", \"Australia\", \"Somalia\", \"Qatar\", \"Iceland\", \"United Arab Emirates\", \"Vietnam\"], \"y\": [0.60848, 0.59609, 0.5885199999999999, 0.58557, 0.58218, 0.5814699999999999, 0.5794100000000001, 0.5737, 0.57104, 0.5683699999999999, 0.5677800000000001, 0.56679, 0.56624, 0.56215, 0.5595399999999999], \"type\": \"bar\", \"uid\": \"69c9eebb-6b58-4ee3-bef3-993e7cdf4d2f\", \"xaxis\": \"x2\", \"yaxis\": \"y2\"}, {\"name\": \"2017 freedom\", \"opacity\": 0.65, \"x\": [\"Uzbekistan\", \"Norway\", \"Cambodia\", \"Iceland\", \"Denmark\", \"Switzerland\", \"Finland\", \"New Zealand\", \"Sweden\", \"Canada\", \"United Arab Emirates\", \"Qatar\", \"Somalia\", \"Australia\", \"Luxembourg\"], \"y\": [0.6582486629486078, 0.635422587394714, 0.633375823497772, 0.6271626353263849, 0.626006722450256, 0.620070576667786, 0.6179508566856379, 0.6140621304512021, 0.612924098968506, 0.611100912094116, 0.60834527015686, 0.604130983352661, 0.602126955986023, 0.601607382297516, 0.59662789106369], \"type\": \"bar\", \"uid\": \"9ec05051-9090-405f-abe4-db4e65b4a422\", \"xaxis\": \"x3\", \"yaxis\": \"y3\"}], {\"xaxis\": {\"anchor\": \"y\", \"domain\": [0.0, 1.0]}, \"yaxis\": {\"anchor\": \"x\", \"domain\": [0.7777777777777778, 1.0]}, \"xaxis2\": {\"anchor\": \"y2\", \"domain\": [0.0, 1.0]}, \"yaxis2\": {\"anchor\": \"x2\", \"domain\": [0.3888888888888889, 0.6111111111111112]}, \"xaxis3\": {\"anchor\": \"y3\", \"domain\": [0.0, 1.0]}, \"yaxis3\": {\"anchor\": \"x3\", \"domain\": [0.0, 0.22222222222222224]}, \"height\": 600, \"width\": 900, \"title\": \"2015 vs 2016 vs 2017\"}, {\"showLink\": true, \"linkText\": \"Export to plot.ly\", \"plotlyServerURL\": \"https://plot.ly\"})});</script>"
          },
          "metadata": {}
        }
      ]
    },
    {
      "metadata": {
        "_uuid": "fd5b2655d8bd2f59a3b24c940befa541488079e9"
      },
      "cell_type": "markdown",
      "source": "## Conclusion \n\n* If you like it, thank you for you upvotes.\n* If you have any question, I will happy to hear it"
    }
  ],
  "metadata": {
    "kernelspec": {
      "display_name": "Python 3",
      "language": "python",
      "name": "python3"
    },
    "language_info": {
      "name": "python",
      "version": "3.6.6",
      "mimetype": "text/x-python",
      "codemirror_mode": {
        "name": "ipython",
        "version": 3
      },
      "pygments_lexer": "ipython3",
      "nbconvert_exporter": "python",
      "file_extension": ".py"
    }
  },
  "nbformat": 4,
  "nbformat_minor": 1
}