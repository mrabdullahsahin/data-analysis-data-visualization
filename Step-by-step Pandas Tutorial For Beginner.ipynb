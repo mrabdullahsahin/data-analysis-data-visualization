{
  "cells": [
    {
      "metadata": {
        "_uuid": "fdb0a9b3640bb8e12c6ce9ab2b9b64f9b0fbff65"
      },
      "cell_type": "markdown",
      "source": "# **Pandas Tutorial** <a id=\"0\"></a>\n<hr>\n1. [Overview](#1)\n2. [Pandas Library About](#2)\n3. [Import Library](#3)\n4. [Pandas Data Structure](#4)\n    * [Series](#5)\n    * [DataFrame](#6)\n5. [Import Data](#7)\n    * [CSV](#8)\n    * [Excel](#9)\n    * [Others(json, SQL, html)](#10)\n6. [Exporting Data](#11)\n7. [Create Test Objects](#12)\n8. [Summariza Data](#13)\n    * [df.info()](#14)\n    * [df.shape()](#15)\n    * [df.index](#16)\n    * [df.columns](#17)\n    * [df.count()](#18)\n    * [df.sum()](#19)\n    * [df.cumsum()](#20)\n    * [df.min()](#21)\n    * [df.max()](#22)\n    * [idxmin()](#23)\n    * [idxmax()](#24)\n    * [df.describe()](#25)\n    * [df.mean()](#26)\n    * [df.median()](#27)\n    * [df.quantile([0.25,0.75])](#28)\n    * [df.var()](#29)\n    * [df.std()](#30)\n    * [df.cummax()](#31)\n    * [df.cummin()](#32)\n    * [df['columnName'].cumproad()](#33)\n    * [len(df)](#34)\n    * [df.isnull()](#35)\n    * [df.corr()](#81)\n9. [Pandas with Selection & Filtering](#36)\n    * [series['index']](#37)\n    * [df[n:n]](#38)\n    * [df.iloc[[0],[5]]](#39)\n    * [df.loc[n:n]](#40)\n    * [df['columnName']](#41)\n    * [df['columnName][n]](#42)\n    * [df['columnName'].nunique()](#43)\n    * [df['columnName'].unique()](#44)\n    * [df.columnName](#45)\n    * [df['columnName'].value_counts(dropna =False)](#46)\n    * [df.head(n)](#47)\n    * [df.tail(n)](#48)\n    * [df.sample(n)](#49)\n    * [df.sample(frac=0.5)](#50)\n    * [df.nlargest(n,'columnName')](#51)\n    * [df.nsmallest(n,'columnName')](#52)\n    * [df[df.columnName < n]](#53)\n    * [df[['columnName','columnName']] ](#54)\n    * [df.loc[:,\"columnName1\":\"columnName2\"]](#55)\n    * [Create Filter](#56)\n    * [df.filter(regex = 'code')](#57)\n    * [np.logical_and](#58)\n    * [Filtering with &](#59)\n10. [Sort Data](#60)\n    * [df.sort_values('columnName')](#61)\n    * [df.sort_values('columnName', ascending=False)](#62)\n    * [df.sort_index()](#63)\n11. [Rename & Defining New & Change Columns](#64)\n    * [df.rename(columns= {'columnName' : 'newColumnName'})](#65)\n    * [Defining New Column](#66)\n    * [Change Index Name](#67)\n    * [Make all columns lowercase](#68)\n    * [Make all columns uppercase](#69)\n12. [Drop Data](#70)\n    * [df.drop(columns=['columnName'])](#71)\n    * [Series.drop(['index'])](#72)\n    * [Drop an observation (row)](#82)\n    * [Drop a variable (column)](#83)\n13. [Convert Data Types](#73)\n    * [df.dtypes](#74)\n    * [df['columnName'] = df['columnName'].astype('dataType')](#75)\n    * [pd.melt(frame=dataFrameName,id_vars = 'columnName', value_vars= ['columnName'])](#76)\n14. [Apply Function](#77)\n    * [Method 1](#78)\n    * [Method 2](#79)\n15. [Utilities Code](#80)"
    },
    {
      "metadata": {
        "_uuid": "cffb32e6054a2bfb615322322c108e19d8d69a69"
      },
      "cell_type": "markdown",
      "source": "# **Overview** <a id=\"1\"></a>\n<mark>[Return Contents](#0)\n<hr>\n\nWelcome to my Kernel! In this kernel, I show you Pandas functions and how to use pandas. Why do I this? Because everyone who's just starting out or who's a professional is using the pandas.\n\nIf you have a question or feedback, do not hesitate to write and if you **like** this kernel, please do not forget to **UPVOTE**."
    },
    {
      "metadata": {
        "_uuid": "8851575f447385ce4440ddb0247c64bca54fd46e"
      },
      "cell_type": "markdown",
      "source": "# **What is the pandas?** <a id=\"2\"></a>\n<mark>[Return Contents](#0)\n<hr>\n\npandas is an open source, BSD-licensed library providing high-performance, easy-to-use data structures and data analysis tools for the Python programming language.\n\npandas is a NumFOCUS sponsored project. This will help ensure the success of development of pandas as a world-class open-source project, and makes it possible to donate to the project."
    },
    {
      "metadata": {
        "_uuid": "4f0d13801b0c7e0cac286cb5219ccf2d39047225"
      },
      "cell_type": "markdown",
      "source": "# **Import Library** <a id=\"3\"></a>\n<mark>[Return Contents](#0)\n<hr>"
    },
    {
      "metadata": {
        "_uuid": "8f2839f25d086af736a60e9eeb907d3b93b6e0e5",
        "_cell_guid": "b1076dfc-b9ad-4769-8c92-a6c4dae69d19",
        "trusted": true
      },
      "cell_type": "code",
      "source": "import numpy as np # linear algebra\nimport pandas as pd # import in pandas\n\nimport os\nprint(os.listdir(\"../input\"))",
      "execution_count": 1,
      "outputs": [
        {
          "output_type": "stream",
          "text": "['Combined_News_DJIA.csv', 'RedditNews.csv', 'DJIA_table.csv']\n",
          "name": "stdout"
        }
      ]
    },
    {
      "metadata": {
        "_uuid": "a426ae53d18d45d00983d551db00a7467187d619"
      },
      "cell_type": "markdown",
      "source": "# **Pandas Data Structure** <a id=\"4\"></a>\n<mark>[Return Contents](#0)\n<hr>\n\nPandas has two types of data structures. These are series and dataframe.\n\n### **Series** <a id=\"5\"></a>\n\nThe series is a one-dimensional labeled array. It can accommodate any type of data in it."
    },
    {
      "metadata": {
        "trusted": true,
        "_uuid": "1263fb3f8afa0fc2b233693bb8b14305be64a868"
      },
      "cell_type": "code",
      "source": "mySeries = pd.Series([3,-5,7,4], index=['a','b','c','d'])\ntype(mySeries)",
      "execution_count": 2,
      "outputs": [
        {
          "output_type": "execute_result",
          "execution_count": 2,
          "data": {
            "text/plain": "pandas.core.series.Series"
          },
          "metadata": {}
        }
      ]
    },
    {
      "metadata": {
        "_uuid": "2b73b3f939dde85b87b827c6ce48887598c5f206"
      },
      "cell_type": "markdown",
      "source": "### **DataFrame** <a id=\"6\"></a>\n\nThe dataframe is a two-dimensional data structure. It contains columns."
    },
    {
      "metadata": {
        "trusted": true,
        "_uuid": "5fe39122825e7b4ad3b51dd48fc265326343f289"
      },
      "cell_type": "code",
      "source": "data = {'Country' : ['Belgium', 'India', 'Brazil' ],\n        'Capital': ['Brussels', 'New Delhi', 'Brassilia'],\n        'Population': [1234,1234,1234]}\ndatas = pd.DataFrame(data, columns=['Country','Capital','Population'])\nprint(type(data))\nprint(type(datas))",
      "execution_count": 3,
      "outputs": [
        {
          "output_type": "stream",
          "text": "<class 'dict'>\n<class 'pandas.core.frame.DataFrame'>\n",
          "name": "stdout"
        }
      ]
    },
    {
      "metadata": {
        "_uuid": "1316f32ba568af226f868caf2b0e693130a5bb5f"
      },
      "cell_type": "markdown",
      "source": "# **Import Library** <a id=\"7\"></a>\n<mark>[Return Contents](#0)\n<hr>\n\nWith pandas, we can open CSV, Excel and SQL databases. I will show you how to use this method for CSV and Excel files only.\n\n### **CSV(comma - separated values)** <a id=\"8\"></a>\n\nIt is very easy to open and read CSV files and to overwrite the CSV file."
    },
    {
      "metadata": {
        "trusted": true,
        "_uuid": "504c6eeb8668b0a46380e5e24f314269284e119d"
      },
      "cell_type": "code",
      "source": "df = pd.read_csv('../input/DJIA_table.csv')\ntype(df)\n# If your Python file is not in the same folder as your CSV file, you should do this as follows.\n# df = pd.read_csv('/home/desktop/Iris.csv')",
      "execution_count": 4,
      "outputs": [
        {
          "output_type": "execute_result",
          "execution_count": 4,
          "data": {
            "text/plain": "pandas.core.frame.DataFrame"
          },
          "metadata": {}
        }
      ]
    },
    {
      "metadata": {
        "_uuid": "644c4eceafba990426b635cd66cb49a4be34de0a"
      },
      "cell_type": "markdown",
      "source": "### **Excel** <a id=\"9\"></a>\n\nWhen we want to work with Excel files, we need to type the following code."
    },
    {
      "metadata": {
        "trusted": true,
        "_uuid": "468b5105d9feffb1d54cb7752cc57a07687e61dc"
      },
      "cell_type": "code",
      "source": "# pd.read_excel('filename')\n# pd.to_excel('dir/dataFrame.xlsx', sheet_name='Sheet1')",
      "execution_count": 5,
      "outputs": []
    },
    {
      "metadata": {
        "_uuid": "91d6e54d29a522606c7c843ff0efc9fb0ddbf2ca"
      },
      "cell_type": "markdown",
      "source": "### **Others(json, SQL, table, html)** <a id=\"10\"></a>"
    },
    {
      "metadata": {
        "trusted": true,
        "_uuid": "5fb0849e539bc6afdfa70fcbcba38b869e74f195"
      },
      "cell_type": "code",
      "source": "# pd.read_sql(query,connection_object) -> Reads from a SQL table/database\n# pd.read_table(filename) -> From a delimited text file(like TSV)\n# pd.read_json(json_string) -> Reads from a json formatted string, URL or file\n# pd.read_html(url) -> Parses an html URL, string or file and extracts tables to a list of dataframes\n# pd.read_clipboard() -> Takes the contentes of your clipboard and passes it to read_table()\n# pd.DataFrame(dict) -> From a dict, keys for columns names, values for data as lists",
      "execution_count": 6,
      "outputs": []
    },
    {
      "metadata": {
        "_uuid": "caaf40c4674f87d855900e5223f51e2a4dd07cfc"
      },
      "cell_type": "markdown",
      "source": "# **Exporting Data** <a id=\"11\"></a>\n<mark>[Return Contents](#0)\n<hr>"
    },
    {
      "metadata": {
        "trusted": true,
        "_uuid": "91ef5e0bc13b063b95ae1e4424c303bd684c02ce"
      },
      "cell_type": "code",
      "source": "# df.to_csv(filename) -> Writes to a CSV file\n# df.to_excel(filename) -> Writes on an Excel file\n# df.to_sql(table_name, connection_object) -> Writes to a SQL table\n# df.to_json(filename) -> Writes to a file in JSON format\n# df.to_html(filename) -> Saves as an HTML table\n# df.to_clipboard() -> Writes to the clipboard",
      "execution_count": 7,
      "outputs": []
    },
    {
      "metadata": {
        "_uuid": "3b7d9b79a7b22a994648e4fe7cd7cd5622aae105"
      },
      "cell_type": "markdown",
      "source": "# **Create Test Objects** <a id=\"12\"></a>\n<mark>[Return Contents](#0)\n<hr>"
    },
    {
      "metadata": {
        "trusted": true,
        "_uuid": "0cf5537b0c3930da09e825bdf5a0058456c10715"
      },
      "cell_type": "code",
      "source": "pd.DataFrame(np.random.rand(20,5)) # 5 columns and 20 rows of random floats",
      "execution_count": 8,
      "outputs": [
        {
          "output_type": "execute_result",
          "execution_count": 8,
          "data": {
            "text/plain": "           0         1         2         3         4\n0   0.808639  0.281225  0.480197  0.084736  0.242893\n1   0.676472  0.151413  0.785370  0.898932  0.878787\n2   0.640385  0.524518  0.583757  0.871140  0.114943\n3   0.371965  0.815227  0.117033  0.611672  0.204243\n4   0.887673  0.480430  0.529047  0.802405  0.232551\n5   0.014621  0.852560  0.853207  0.426616  0.348736\n6   0.409532  0.193169  0.863902  0.024209  0.061656\n7   0.135864  0.645957  0.046537  0.774577  0.264007\n8   0.186717  0.204239  0.958197  0.633584  0.729426\n9   0.258022  0.231359  0.959360  0.793321  0.072882\n10  0.571081  0.335542  0.488163  0.590270  0.134618\n11  0.737837  0.781597  0.620254  0.356117  0.573403\n12  0.219779  0.530431  0.893597  0.981417  0.970282\n13  0.861812  0.664867  0.789371  0.991023  0.761877\n14  0.618412  0.125496  0.825255  0.983985  0.214977\n15  0.283995  0.669441  0.021800  0.455980  0.469921\n16  0.075401  0.478178  0.820360  0.044812  0.098128\n17  0.632696  0.364991  0.826306  0.918026  0.159411\n18  0.927157  0.527509  0.059302  0.367548  0.516431\n19  0.451573  0.864896  0.012442  0.240510  0.748835",
            "text/html": "<div>\n<style scoped>\n    .dataframe tbody tr th:only-of-type {\n        vertical-align: middle;\n    }\n\n    .dataframe tbody tr th {\n        vertical-align: top;\n    }\n\n    .dataframe thead th {\n        text-align: right;\n    }\n</style>\n<table border=\"1\" class=\"dataframe\">\n  <thead>\n    <tr style=\"text-align: right;\">\n      <th></th>\n      <th>0</th>\n      <th>1</th>\n      <th>2</th>\n      <th>3</th>\n      <th>4</th>\n    </tr>\n  </thead>\n  <tbody>\n    <tr>\n      <th>0</th>\n      <td>0.808639</td>\n      <td>0.281225</td>\n      <td>0.480197</td>\n      <td>0.084736</td>\n      <td>0.242893</td>\n    </tr>\n    <tr>\n      <th>1</th>\n      <td>0.676472</td>\n      <td>0.151413</td>\n      <td>0.785370</td>\n      <td>0.898932</td>\n      <td>0.878787</td>\n    </tr>\n    <tr>\n      <th>2</th>\n      <td>0.640385</td>\n      <td>0.524518</td>\n      <td>0.583757</td>\n      <td>0.871140</td>\n      <td>0.114943</td>\n    </tr>\n    <tr>\n      <th>3</th>\n      <td>0.371965</td>\n      <td>0.815227</td>\n      <td>0.117033</td>\n      <td>0.611672</td>\n      <td>0.204243</td>\n    </tr>\n    <tr>\n      <th>4</th>\n      <td>0.887673</td>\n      <td>0.480430</td>\n      <td>0.529047</td>\n      <td>0.802405</td>\n      <td>0.232551</td>\n    </tr>\n    <tr>\n      <th>5</th>\n      <td>0.014621</td>\n      <td>0.852560</td>\n      <td>0.853207</td>\n      <td>0.426616</td>\n      <td>0.348736</td>\n    </tr>\n    <tr>\n      <th>6</th>\n      <td>0.409532</td>\n      <td>0.193169</td>\n      <td>0.863902</td>\n      <td>0.024209</td>\n      <td>0.061656</td>\n    </tr>\n    <tr>\n      <th>7</th>\n      <td>0.135864</td>\n      <td>0.645957</td>\n      <td>0.046537</td>\n      <td>0.774577</td>\n      <td>0.264007</td>\n    </tr>\n    <tr>\n      <th>8</th>\n      <td>0.186717</td>\n      <td>0.204239</td>\n      <td>0.958197</td>\n      <td>0.633584</td>\n      <td>0.729426</td>\n    </tr>\n    <tr>\n      <th>9</th>\n      <td>0.258022</td>\n      <td>0.231359</td>\n      <td>0.959360</td>\n      <td>0.793321</td>\n      <td>0.072882</td>\n    </tr>\n    <tr>\n      <th>10</th>\n      <td>0.571081</td>\n      <td>0.335542</td>\n      <td>0.488163</td>\n      <td>0.590270</td>\n      <td>0.134618</td>\n    </tr>\n    <tr>\n      <th>11</th>\n      <td>0.737837</td>\n      <td>0.781597</td>\n      <td>0.620254</td>\n      <td>0.356117</td>\n      <td>0.573403</td>\n    </tr>\n    <tr>\n      <th>12</th>\n      <td>0.219779</td>\n      <td>0.530431</td>\n      <td>0.893597</td>\n      <td>0.981417</td>\n      <td>0.970282</td>\n    </tr>\n    <tr>\n      <th>13</th>\n      <td>0.861812</td>\n      <td>0.664867</td>\n      <td>0.789371</td>\n      <td>0.991023</td>\n      <td>0.761877</td>\n    </tr>\n    <tr>\n      <th>14</th>\n      <td>0.618412</td>\n      <td>0.125496</td>\n      <td>0.825255</td>\n      <td>0.983985</td>\n      <td>0.214977</td>\n    </tr>\n    <tr>\n      <th>15</th>\n      <td>0.283995</td>\n      <td>0.669441</td>\n      <td>0.021800</td>\n      <td>0.455980</td>\n      <td>0.469921</td>\n    </tr>\n    <tr>\n      <th>16</th>\n      <td>0.075401</td>\n      <td>0.478178</td>\n      <td>0.820360</td>\n      <td>0.044812</td>\n      <td>0.098128</td>\n    </tr>\n    <tr>\n      <th>17</th>\n      <td>0.632696</td>\n      <td>0.364991</td>\n      <td>0.826306</td>\n      <td>0.918026</td>\n      <td>0.159411</td>\n    </tr>\n    <tr>\n      <th>18</th>\n      <td>0.927157</td>\n      <td>0.527509</td>\n      <td>0.059302</td>\n      <td>0.367548</td>\n      <td>0.516431</td>\n    </tr>\n    <tr>\n      <th>19</th>\n      <td>0.451573</td>\n      <td>0.864896</td>\n      <td>0.012442</td>\n      <td>0.240510</td>\n      <td>0.748835</td>\n    </tr>\n  </tbody>\n</table>\n</div>"
          },
          "metadata": {}
        }
      ]
    },
    {
      "metadata": {
        "_uuid": "4b6898acc1f32bab20b37fe7b0dee8f47a321301"
      },
      "cell_type": "markdown",
      "source": "# **Summarize Data** <a id=\"13\"></a>\n<mark>[Return Contents](#0)\n<hr>\n\nIt's easy to get information about data with pandas. It makes it easier for us. Let's examine the existing functions one by one"
    },
    {
      "metadata": {
        "_uuid": "bd615451f4c5670bd4e8fa3f727d1c0f1d82dbed"
      },
      "cell_type": "markdown",
      "source": "### **df.info()** <a id=\"14\"></a>\nThis Code provides detailed information about our data.\n\n* **RangeIndex:** Specifies how many data there is.\n* **Data Columns:** Specifies how many columns are found.\n* **Columns:** Gives information about Columns.\n* **dtypes:** It says what kind of data you have and how many of these data you have.\n* **Memory Usage:** It says how much memory usage is.\n\n<mark>[Return Contents](#0)\n<hr>"
    },
    {
      "metadata": {
        "trusted": true,
        "_uuid": "10c546875a26f15d71ae9517d1f165b3e9a70781"
      },
      "cell_type": "code",
      "source": "df.info()",
      "execution_count": 9,
      "outputs": [
        {
          "output_type": "stream",
          "text": "<class 'pandas.core.frame.DataFrame'>\nRangeIndex: 1989 entries, 0 to 1988\nData columns (total 7 columns):\nDate         1989 non-null object\nOpen         1989 non-null float64\nHigh         1989 non-null float64\nLow          1989 non-null float64\nClose        1989 non-null float64\nVolume       1989 non-null int64\nAdj Close    1989 non-null float64\ndtypes: float64(5), int64(1), object(1)\nmemory usage: 108.9+ KB\n",
          "name": "stdout"
        }
      ]
    },
    {
      "metadata": {
        "_uuid": "f885b5ef0f5cde44dc5fbdffac16695503b35fc6"
      },
      "cell_type": "markdown",
      "source": "### **df.shape()** <a id=\"15\"></a>\nThis code shows us the number of rows and columns.\n\n<mark>[Return Contents](#0)\n<hr>"
    },
    {
      "metadata": {
        "trusted": true,
        "_uuid": "6a2f6f6ef1d420c6ccdb2d52b1ab531fb1148d24"
      },
      "cell_type": "code",
      "source": "df.shape",
      "execution_count": 10,
      "outputs": [
        {
          "output_type": "execute_result",
          "execution_count": 10,
          "data": {
            "text/plain": "(1989, 7)"
          },
          "metadata": {}
        }
      ]
    },
    {
      "metadata": {
        "_uuid": "617ea072afc3ca84a35ccd9b451ea32ead59823f"
      },
      "cell_type": "markdown",
      "source": "### **df.index** <a id=\"16\"></a>\nThis code shows the total number of index found.\n\n<mark>[Return Contents](#0)\n<hr>"
    },
    {
      "metadata": {
        "trusted": true,
        "_uuid": "7faf88abf28731ab59c9838c665026b6348ce32d"
      },
      "cell_type": "code",
      "source": "df.index",
      "execution_count": 11,
      "outputs": [
        {
          "output_type": "execute_result",
          "execution_count": 11,
          "data": {
            "text/plain": "RangeIndex(start=0, stop=1989, step=1)"
          },
          "metadata": {}
        }
      ]
    },
    {
      "metadata": {
        "_uuid": "35bc3f0f534f3882d7462fa91d51f57e8361327b"
      },
      "cell_type": "markdown",
      "source": "### **df.columns** <a id=\"17\"></a>\nThis code shows all the columns contained in the data we have examined.\n\n<mark>[Return Contents](#0)\n<hr>"
    },
    {
      "metadata": {
        "trusted": true,
        "_uuid": "e31b26213b05a838e5376d370e14acba61790a2e"
      },
      "cell_type": "code",
      "source": "df.columns",
      "execution_count": 12,
      "outputs": [
        {
          "output_type": "execute_result",
          "execution_count": 12,
          "data": {
            "text/plain": "Index(['Date', 'Open', 'High', 'Low', 'Close', 'Volume', 'Adj Close'], dtype='object')"
          },
          "metadata": {}
        }
      ]
    },
    {
      "metadata": {
        "_uuid": "9c1b1229f876a1791c34337b13b789106d0bcfef"
      },
      "cell_type": "markdown",
      "source": "### **df.count()** <a id=\"18\"></a>\nThis code shows us how many pieces of data are in each column.\n\n<mark>[Return Contents](#0)\n<hr>"
    },
    {
      "metadata": {
        "trusted": true,
        "_uuid": "3509654c02ace990c098b9cdef6d43a4d35c2454"
      },
      "cell_type": "code",
      "source": "df.count()",
      "execution_count": 13,
      "outputs": [
        {
          "output_type": "execute_result",
          "execution_count": 13,
          "data": {
            "text/plain": "Date         1989\nOpen         1989\nHigh         1989\nLow          1989\nClose        1989\nVolume       1989\nAdj Close    1989\ndtype: int64"
          },
          "metadata": {}
        }
      ]
    },
    {
      "metadata": {
        "_uuid": "4756f4d3ee72fd0d5a02ff0c48bc27ee0438854a"
      },
      "cell_type": "markdown",
      "source": "### **df.sum()** <a id=\"19\"></a>\nThis code shows us the sum of the data in each column.\n\n<mark>[Return Contents](#0)\n<hr>"
    },
    {
      "metadata": {
        "trusted": true,
        "_uuid": "01420020ad3f68adc9ae8000c26101d03009fbef"
      },
      "cell_type": "code",
      "source": "df.sum()",
      "execution_count": 14,
      "outputs": [
        {
          "output_type": "execute_result",
          "execution_count": 14,
          "data": {
            "text/plain": "Date         2016-07-012016-06-302016-06-292016-06-282016-0...\nOpen                                               2.67702e+07\nHigh                                               2.69337e+07\nLow                                                2.65988e+07\nClose                                               2.6778e+07\nVolume                                            323831020000\nAdj Close                                           2.6778e+07\ndtype: object"
          },
          "metadata": {}
        }
      ]
    },
    {
      "metadata": {
        "_uuid": "b2695908688bf1ab5811768b35209483f6a14ae8"
      },
      "cell_type": "markdown",
      "source": "### **df.cumsum()** <a id=\"20\"></a>\nThis code gives us cumulative sum of the data.\n\n<mark>[Return Contents](#0)\n<hr>"
    },
    {
      "metadata": {
        "trusted": true,
        "_uuid": "82827d42ae7bb44b20a5c960135430e497391895"
      },
      "cell_type": "code",
      "source": "df.cumsum().head()",
      "execution_count": 15,
      "outputs": [
        {
          "output_type": "execute_result",
          "execution_count": 15,
          "data": {
            "text/plain": "                                                Date    ...    Adj Close\n0                                         2016-07-01    ...      17949.4\n1                               2016-07-012016-06-30    ...      35879.4\n2                     2016-07-012016-06-302016-06-29    ...        53574\n3           2016-07-012016-06-302016-06-292016-06-28    ...      70983.8\n4  2016-07-012016-06-302016-06-292016-06-282016-0...    ...        88124\n\n[5 rows x 7 columns]",
            "text/html": "<div>\n<style scoped>\n    .dataframe tbody tr th:only-of-type {\n        vertical-align: middle;\n    }\n\n    .dataframe tbody tr th {\n        vertical-align: top;\n    }\n\n    .dataframe thead th {\n        text-align: right;\n    }\n</style>\n<table border=\"1\" class=\"dataframe\">\n  <thead>\n    <tr style=\"text-align: right;\">\n      <th></th>\n      <th>Date</th>\n      <th>Open</th>\n      <th>High</th>\n      <th>Low</th>\n      <th>Close</th>\n      <th>Volume</th>\n      <th>Adj Close</th>\n    </tr>\n  </thead>\n  <tbody>\n    <tr>\n      <th>0</th>\n      <td>2016-07-01</td>\n      <td>17924.2</td>\n      <td>18002.4</td>\n      <td>17916.9</td>\n      <td>17949.4</td>\n      <td>82160000</td>\n      <td>17949.4</td>\n    </tr>\n    <tr>\n      <th>1</th>\n      <td>2016-07-012016-06-30</td>\n      <td>35637</td>\n      <td>35933</td>\n      <td>35628.7</td>\n      <td>35879.4</td>\n      <td>215190000</td>\n      <td>35879.4</td>\n    </tr>\n    <tr>\n      <th>2</th>\n      <td>2016-07-012016-06-302016-06-29</td>\n      <td>53093</td>\n      <td>53637.5</td>\n      <td>53084.7</td>\n      <td>53574</td>\n      <td>321570000</td>\n      <td>53574</td>\n    </tr>\n    <tr>\n      <th>3</th>\n      <td>2016-07-012016-06-302016-06-292016-06-28</td>\n      <td>70283.5</td>\n      <td>71047.2</td>\n      <td>70275.2</td>\n      <td>70983.8</td>\n      <td>433760000</td>\n      <td>70983.8</td>\n    </tr>\n    <tr>\n      <th>4</th>\n      <td>2016-07-012016-06-302016-06-292016-06-282016-0...</td>\n      <td>87638.7</td>\n      <td>88402.4</td>\n      <td>87338.3</td>\n      <td>88124</td>\n      <td>572500000</td>\n      <td>88124</td>\n    </tr>\n  </tbody>\n</table>\n</div>"
          },
          "metadata": {}
        }
      ]
    },
    {
      "metadata": {
        "_uuid": "8a36d94e3e0d961dbd674c808dc14be1a0958371"
      },
      "cell_type": "markdown",
      "source": "### **df.min()** <a id=\"21\"></a>\nThis code brings us the smallest of the data.\n\n<mark>[Return Contents](#0)\n<hr>"
    },
    {
      "metadata": {
        "trusted": true,
        "_uuid": "dcef4961748e9eb2b0c1311265d5e2c69a8c8e4a"
      },
      "cell_type": "code",
      "source": "df.min()",
      "execution_count": 16,
      "outputs": [
        {
          "output_type": "execute_result",
          "execution_count": 16,
          "data": {
            "text/plain": "Date         2008-08-08\nOpen            6547.01\nHigh            6709.61\nLow             6469.95\nClose           6547.05\nVolume          8410000\nAdj Close       6547.05\ndtype: object"
          },
          "metadata": {}
        }
      ]
    },
    {
      "metadata": {
        "_uuid": "6387ac8877231eeb35e210275d9f0c4fe4bab90b"
      },
      "cell_type": "markdown",
      "source": "### **df.max()** <a id=\"22\"></a>\nThis code brings up the largest among the data.\n\n<mark>[Return Contents](#0)\n<hr>"
    },
    {
      "metadata": {
        "trusted": true,
        "_uuid": "bce741708b2a6387ccdf7bccf7bc44d37307ad31"
      },
      "cell_type": "code",
      "source": "df.max()",
      "execution_count": 17,
      "outputs": [
        {
          "output_type": "execute_result",
          "execution_count": 17,
          "data": {
            "text/plain": "Date         2016-07-01\nOpen            18315.1\nHigh            18351.4\nLow             18272.6\nClose           18312.4\nVolume        674920000\nAdj Close       18312.4\ndtype: object"
          },
          "metadata": {}
        }
      ]
    },
    {
      "metadata": {
        "_uuid": "88b7dea1b9cc468b0c4344cb6c7f3fb94f3c616e"
      },
      "cell_type": "markdown",
      "source": "### **idxmin()**  <a id=\"23\"></a>\nThis code fetches the smallest value in the data. The use on series and dataframe is different.\n\n<mark>[Return Contents](#0)\n<hr>"
    },
    {
      "metadata": {
        "trusted": true,
        "_uuid": "9096b7015c2259e4e4a67beb44d55914a59929a4"
      },
      "cell_type": "code",
      "source": "print(\"df: \",df['Open'].idxmin())\nprint(\"series\", mySeries.idxmin())",
      "execution_count": 18,
      "outputs": [
        {
          "output_type": "stream",
          "text": "df:  1842\nseries b\n",
          "name": "stdout"
        }
      ]
    },
    {
      "metadata": {
        "_uuid": "2ad1b3dac499ca9c5e26f1e0f303ef6ea2670e13"
      },
      "cell_type": "markdown",
      "source": "### **idxmax()**  <a id=\"24\"></a>\nThis code returns the largest value in the data.\n\n<mark>[Return Contents](#0)\n<hr>"
    },
    {
      "metadata": {
        "trusted": true,
        "_uuid": "607b8bea1225ccdaa76a2f70076d5fa438e859ab"
      },
      "cell_type": "code",
      "source": "print(\"df: \",df['Open'].idxmax())\nprint(\"series: \",mySeries.idxmax())",
      "execution_count": 19,
      "outputs": [
        {
          "output_type": "stream",
          "text": "df:  282\nseries:  c\n",
          "name": "stdout"
        }
      ]
    },
    {
      "metadata": {
        "_uuid": "97f89c5cc2ca00c8a9848ac77066fee54f935ec3"
      },
      "cell_type": "markdown",
      "source": "### **df.describe()**  <a id=\"25\"></a>\nThis Code provides basic statistical information about the data. The numerical column is based.\n\n* **count:** vnumber of entries\n* **mean: **average of entries\n* **std:** standart deviation\n* **min:** minimum entry\n* **25%:** first quantile\n* **50%:** median or second quantile\n* **75%:** third quantile\n* **max:** maximum entry\n\n<mark>[Return Contents](#0)\n<hr>"
    },
    {
      "metadata": {
        "trusted": true,
        "_uuid": "f75c57e9f16adc167f8148b2225111056ebbf432"
      },
      "cell_type": "code",
      "source": "df.describe()",
      "execution_count": 20,
      "outputs": [
        {
          "output_type": "execute_result",
          "execution_count": 20,
          "data": {
            "text/plain": "               Open          High      ...             Volume     Adj Close\ncount   1989.000000   1989.000000      ...       1.989000e+03   1989.000000\nmean   13459.116048  13541.303173      ...       1.628110e+08  13463.032255\nstd     3143.281634   3136.271725      ...       9.392343e+07   3144.006996\nmin     6547.009766   6709.609863      ...       8.410000e+06   6547.049805\n25%    10907.339844  11000.980469      ...       1.000000e+08  10913.379883\n50%    13022.049805  13088.110352      ...       1.351700e+08  13025.580078\n75%    16477.699219  16550.070312      ...       1.926000e+08  16478.410156\nmax    18315.060547  18351.359375      ...       6.749200e+08  18312.390625\n\n[8 rows x 6 columns]",
            "text/html": "<div>\n<style scoped>\n    .dataframe tbody tr th:only-of-type {\n        vertical-align: middle;\n    }\n\n    .dataframe tbody tr th {\n        vertical-align: top;\n    }\n\n    .dataframe thead th {\n        text-align: right;\n    }\n</style>\n<table border=\"1\" class=\"dataframe\">\n  <thead>\n    <tr style=\"text-align: right;\">\n      <th></th>\n      <th>Open</th>\n      <th>High</th>\n      <th>Low</th>\n      <th>Close</th>\n      <th>Volume</th>\n      <th>Adj Close</th>\n    </tr>\n  </thead>\n  <tbody>\n    <tr>\n      <th>count</th>\n      <td>1989.000000</td>\n      <td>1989.000000</td>\n      <td>1989.000000</td>\n      <td>1989.000000</td>\n      <td>1.989000e+03</td>\n      <td>1989.000000</td>\n    </tr>\n    <tr>\n      <th>mean</th>\n      <td>13459.116048</td>\n      <td>13541.303173</td>\n      <td>13372.931728</td>\n      <td>13463.032255</td>\n      <td>1.628110e+08</td>\n      <td>13463.032255</td>\n    </tr>\n    <tr>\n      <th>std</th>\n      <td>3143.281634</td>\n      <td>3136.271725</td>\n      <td>3150.420934</td>\n      <td>3144.006996</td>\n      <td>9.392343e+07</td>\n      <td>3144.006996</td>\n    </tr>\n    <tr>\n      <th>min</th>\n      <td>6547.009766</td>\n      <td>6709.609863</td>\n      <td>6469.950195</td>\n      <td>6547.049805</td>\n      <td>8.410000e+06</td>\n      <td>6547.049805</td>\n    </tr>\n    <tr>\n      <th>25%</th>\n      <td>10907.339844</td>\n      <td>11000.980469</td>\n      <td>10824.759766</td>\n      <td>10913.379883</td>\n      <td>1.000000e+08</td>\n      <td>10913.379883</td>\n    </tr>\n    <tr>\n      <th>50%</th>\n      <td>13022.049805</td>\n      <td>13088.110352</td>\n      <td>12953.129883</td>\n      <td>13025.580078</td>\n      <td>1.351700e+08</td>\n      <td>13025.580078</td>\n    </tr>\n    <tr>\n      <th>75%</th>\n      <td>16477.699219</td>\n      <td>16550.070312</td>\n      <td>16392.769531</td>\n      <td>16478.410156</td>\n      <td>1.926000e+08</td>\n      <td>16478.410156</td>\n    </tr>\n    <tr>\n      <th>max</th>\n      <td>18315.060547</td>\n      <td>18351.359375</td>\n      <td>18272.560547</td>\n      <td>18312.390625</td>\n      <td>6.749200e+08</td>\n      <td>18312.390625</td>\n    </tr>\n  </tbody>\n</table>\n</div>"
          },
          "metadata": {}
        }
      ]
    },
    {
      "metadata": {
        "_uuid": "ee81ed576d22d6e350d59e961697231de83dbd6c"
      },
      "cell_type": "markdown",
      "source": "### **df.mean()**  <a id=\"26\"></a>\nThis code returns the mean value for the numeric column.\n\n<mark>[Return Contents](#0)\n<hr>"
    },
    {
      "metadata": {
        "trusted": true,
        "_uuid": "a48fe07b2e9edf425eea43ee8efc7208451053b8"
      },
      "cell_type": "code",
      "source": "df.mean()",
      "execution_count": 21,
      "outputs": [
        {
          "output_type": "execute_result",
          "execution_count": 21,
          "data": {
            "text/plain": "Open         1.345912e+04\nHigh         1.354130e+04\nLow          1.337293e+04\nClose        1.346303e+04\nVolume       1.628110e+08\nAdj Close    1.346303e+04\ndtype: float64"
          },
          "metadata": {}
        }
      ]
    },
    {
      "metadata": {
        "_uuid": "9505e713279ca2d4f9ee8e9e8f493fc6fc1dffaf"
      },
      "cell_type": "markdown",
      "source": "### **df.median()**  <a id=\"27\"></a>\nThis code returns median for columns with numeric values.\n\n<mark>[Return Contents](#0)\n<hr>"
    },
    {
      "metadata": {
        "trusted": true,
        "_uuid": "e8f946be9ec391af5cf4cdc720bd86f08b1e11f8"
      },
      "cell_type": "code",
      "source": "df.median()",
      "execution_count": 22,
      "outputs": [
        {
          "output_type": "execute_result",
          "execution_count": 22,
          "data": {
            "text/plain": "Open         1.302205e+04\nHigh         1.308811e+04\nLow          1.295313e+04\nClose        1.302558e+04\nVolume       1.351700e+08\nAdj Close    1.302558e+04\ndtype: float64"
          },
          "metadata": {}
        }
      ]
    },
    {
      "metadata": {
        "_uuid": "e6ef1d3c59446abef4af4e9a8f9e4c7091268d07"
      },
      "cell_type": "markdown",
      "source": "### **df.quantile([0.25,0.75])**  <a id=\"28\"></a>\nThis code calculates the values 0.25 and 0.75 of the columns for each column.\n\n<mark>[Return Contents](#0)\n<hr>"
    },
    {
      "metadata": {
        "trusted": true,
        "_uuid": "8145c67dde8b9aba6803436d28cc7225445343a3"
      },
      "cell_type": "code",
      "source": "df.quantile([0.25,0.75])",
      "execution_count": 23,
      "outputs": [
        {
          "output_type": "execute_result",
          "execution_count": 23,
          "data": {
            "text/plain": "              Open          High      ...            Volume     Adj Close\n0.25  10907.339844  11000.980469      ...       100000000.0  10913.379883\n0.75  16477.699219  16550.070312      ...       192600000.0  16478.410156\n\n[2 rows x 6 columns]",
            "text/html": "<div>\n<style scoped>\n    .dataframe tbody tr th:only-of-type {\n        vertical-align: middle;\n    }\n\n    .dataframe tbody tr th {\n        vertical-align: top;\n    }\n\n    .dataframe thead th {\n        text-align: right;\n    }\n</style>\n<table border=\"1\" class=\"dataframe\">\n  <thead>\n    <tr style=\"text-align: right;\">\n      <th></th>\n      <th>Open</th>\n      <th>High</th>\n      <th>Low</th>\n      <th>Close</th>\n      <th>Volume</th>\n      <th>Adj Close</th>\n    </tr>\n  </thead>\n  <tbody>\n    <tr>\n      <th>0.25</th>\n      <td>10907.339844</td>\n      <td>11000.980469</td>\n      <td>10824.759766</td>\n      <td>10913.379883</td>\n      <td>100000000.0</td>\n      <td>10913.379883</td>\n    </tr>\n    <tr>\n      <th>0.75</th>\n      <td>16477.699219</td>\n      <td>16550.070312</td>\n      <td>16392.769531</td>\n      <td>16478.410156</td>\n      <td>192600000.0</td>\n      <td>16478.410156</td>\n    </tr>\n  </tbody>\n</table>\n</div>"
          },
          "metadata": {}
        }
      ]
    },
    {
      "metadata": {
        "_uuid": "aac3a79b56277361df222d188abf5916e158287c"
      },
      "cell_type": "markdown",
      "source": "### **df.var()**  <a id=\"29\"></a>\nThis code calculates the variance value for each column with a numeric value.\n\n<mark>[Return Contents](#0)\n<hr>"
    },
    {
      "metadata": {
        "trusted": true,
        "_uuid": "4d6dc0723b2a02b1a30eba32aee013e618a8c777"
      },
      "cell_type": "code",
      "source": "df.var()",
      "execution_count": 24,
      "outputs": [
        {
          "output_type": "execute_result",
          "execution_count": 24,
          "data": {
            "text/plain": "Open         9.880219e+06\nHigh         9.836200e+06\nLow          9.925152e+06\nClose        9.884780e+06\nVolume       8.821610e+15\nAdj Close    9.884780e+06\ndtype: float64"
          },
          "metadata": {}
        }
      ]
    },
    {
      "metadata": {
        "_uuid": "9dadcadc50fa2f35d0be27c491706ae64ddb5879"
      },
      "cell_type": "markdown",
      "source": "### **df.std()** <a id=\"30\"></a>\nThis code calculates the standard deviation value for each column with numeric value.\n\n<mark>[Return Contents](#0)\n<hr>"
    },
    {
      "metadata": {
        "trusted": true,
        "_uuid": "dc29b13723a50b444d0892194aa9c131a6969217"
      },
      "cell_type": "code",
      "source": "df.std()",
      "execution_count": 25,
      "outputs": [
        {
          "output_type": "execute_result",
          "execution_count": 25,
          "data": {
            "text/plain": "Open         3.143282e+03\nHigh         3.136272e+03\nLow          3.150421e+03\nClose        3.144007e+03\nVolume       9.392343e+07\nAdj Close    3.144007e+03\ndtype: float64"
          },
          "metadata": {}
        }
      ]
    },
    {
      "metadata": {
        "_uuid": "9143f758fa6d821ece2efd8389b09b045bf486c2"
      },
      "cell_type": "markdown",
      "source": "### **df.cummax()** <a id=\"31\"></a>\nThis code calculates the cumulative max value between the data.\n\n<mark>[Return Contents](#0)\n<hr>"
    },
    {
      "metadata": {
        "trusted": true,
        "_uuid": "beac65acb14480ea7c2a3b1db839bda1b700aed8"
      },
      "cell_type": "code",
      "source": "df.cummax()",
      "execution_count": 26,
      "outputs": [
        {
          "output_type": "execute_result",
          "execution_count": 26,
          "data": {
            "text/plain": "            Date     Open     High    ...       Close     Volume Adj Close\n0     2016-07-01  17924.2  18002.4    ...     17949.4   82160000   17949.4\n1     2016-07-01  17924.2  18002.4    ...     17949.4  133030000   17949.4\n2     2016-07-01  17924.2  18002.4    ...     17949.4  133030000   17949.4\n3     2016-07-01  17924.2  18002.4    ...     17949.4  133030000   17949.4\n4     2016-07-01  17924.2  18002.4    ...     17949.4  138740000   17949.4\n5     2016-07-01  17946.6  18002.4    ...     17949.4  239000000   17949.4\n6     2016-07-01  17946.6  18011.1    ...     18011.1  239000000   18011.1\n7     2016-07-01  17946.6  18011.1    ...     18011.1  239000000   18011.1\n8     2016-07-01  17946.6  18011.1    ...     18011.1  239000000   18011.1\n9     2016-07-01  17946.6  18011.1    ...     18011.1  239000000   18011.1\n10    2016-07-01  17946.6  18011.1    ...     18011.1  248680000   18011.1\n11    2016-07-01  17946.6  18011.1    ...     18011.1  248680000   18011.1\n12    2016-07-01  17946.6  18011.1    ...     18011.1  248680000   18011.1\n13    2016-07-01  17946.6  18011.1    ...     18011.1  248680000   18011.1\n14    2016-07-01  17946.6  18011.1    ...     18011.1  248680000   18011.1\n15    2016-07-01  17946.6  18011.1    ...     18011.1  248680000   18011.1\n16    2016-07-01    17970  18011.1    ...     18011.1  248680000   18011.1\n17    2016-07-01    17970    18016    ...     18011.1  248680000   18011.1\n18    2016-07-01    17970    18016    ...     18011.1  248680000   18011.1\n19    2016-07-01    17970    18016    ...     18011.1  248680000   18011.1\n20    2016-07-01    17970    18016    ...     18011.1  248680000   18011.1\n21    2016-07-01    17970    18016    ...     18011.1  248680000   18011.1\n22    2016-07-01    17970    18016    ...     18011.1  248680000   18011.1\n23    2016-07-01    17970    18016    ...     18011.1  248680000   18011.1\n24    2016-07-01    17970    18016    ...     18011.1  248680000   18011.1\n25    2016-07-01    17970    18016    ...     18011.1  248680000   18011.1\n26    2016-07-01    17970    18016    ...     18011.1  248680000   18011.1\n27    2016-07-01    17970    18016    ...     18011.1  248680000   18011.1\n28    2016-07-01    17970    18016    ...     18011.1  248680000   18011.1\n29    2016-07-01    17970    18016    ...     18011.1  248680000   18011.1\n...          ...      ...      ...    ...         ...        ...       ...\n1959  2016-07-01  18315.1  18351.4    ...     18312.4  674920000   18312.4\n1960  2016-07-01  18315.1  18351.4    ...     18312.4  674920000   18312.4\n1961  2016-07-01  18315.1  18351.4    ...     18312.4  674920000   18312.4\n1962  2016-07-01  18315.1  18351.4    ...     18312.4  674920000   18312.4\n1963  2016-07-01  18315.1  18351.4    ...     18312.4  674920000   18312.4\n1964  2016-07-01  18315.1  18351.4    ...     18312.4  674920000   18312.4\n1965  2016-07-01  18315.1  18351.4    ...     18312.4  674920000   18312.4\n1966  2016-07-01  18315.1  18351.4    ...     18312.4  674920000   18312.4\n1967  2016-07-01  18315.1  18351.4    ...     18312.4  674920000   18312.4\n1968  2016-07-01  18315.1  18351.4    ...     18312.4  674920000   18312.4\n1969  2016-07-01  18315.1  18351.4    ...     18312.4  674920000   18312.4\n1970  2016-07-01  18315.1  18351.4    ...     18312.4  674920000   18312.4\n1971  2016-07-01  18315.1  18351.4    ...     18312.4  674920000   18312.4\n1972  2016-07-01  18315.1  18351.4    ...     18312.4  674920000   18312.4\n1973  2016-07-01  18315.1  18351.4    ...     18312.4  674920000   18312.4\n1974  2016-07-01  18315.1  18351.4    ...     18312.4  674920000   18312.4\n1975  2016-07-01  18315.1  18351.4    ...     18312.4  674920000   18312.4\n1976  2016-07-01  18315.1  18351.4    ...     18312.4  674920000   18312.4\n1977  2016-07-01  18315.1  18351.4    ...     18312.4  674920000   18312.4\n1978  2016-07-01  18315.1  18351.4    ...     18312.4  674920000   18312.4\n1979  2016-07-01  18315.1  18351.4    ...     18312.4  674920000   18312.4\n1980  2016-07-01  18315.1  18351.4    ...     18312.4  674920000   18312.4\n1981  2016-07-01  18315.1  18351.4    ...     18312.4  674920000   18312.4\n1982  2016-07-01  18315.1  18351.4    ...     18312.4  674920000   18312.4\n1983  2016-07-01  18315.1  18351.4    ...     18312.4  674920000   18312.4\n1984  2016-07-01  18315.1  18351.4    ...     18312.4  674920000   18312.4\n1985  2016-07-01  18315.1  18351.4    ...     18312.4  674920000   18312.4\n1986  2016-07-01  18315.1  18351.4    ...     18312.4  674920000   18312.4\n1987  2016-07-01  18315.1  18351.4    ...     18312.4  674920000   18312.4\n1988  2016-07-01  18315.1  18351.4    ...     18312.4  674920000   18312.4\n\n[1989 rows x 7 columns]",
            "text/html": "<div>\n<style scoped>\n    .dataframe tbody tr th:only-of-type {\n        vertical-align: middle;\n    }\n\n    .dataframe tbody tr th {\n        vertical-align: top;\n    }\n\n    .dataframe thead th {\n        text-align: right;\n    }\n</style>\n<table border=\"1\" class=\"dataframe\">\n  <thead>\n    <tr style=\"text-align: right;\">\n      <th></th>\n      <th>Date</th>\n      <th>Open</th>\n      <th>High</th>\n      <th>Low</th>\n      <th>Close</th>\n      <th>Volume</th>\n      <th>Adj Close</th>\n    </tr>\n  </thead>\n  <tbody>\n    <tr>\n      <th>0</th>\n      <td>2016-07-01</td>\n      <td>17924.2</td>\n      <td>18002.4</td>\n      <td>17916.9</td>\n      <td>17949.4</td>\n      <td>82160000</td>\n      <td>17949.4</td>\n    </tr>\n    <tr>\n      <th>1</th>\n      <td>2016-07-01</td>\n      <td>17924.2</td>\n      <td>18002.4</td>\n      <td>17916.9</td>\n      <td>17949.4</td>\n      <td>133030000</td>\n      <td>17949.4</td>\n    </tr>\n    <tr>\n      <th>2</th>\n      <td>2016-07-01</td>\n      <td>17924.2</td>\n      <td>18002.4</td>\n      <td>17916.9</td>\n      <td>17949.4</td>\n      <td>133030000</td>\n      <td>17949.4</td>\n    </tr>\n    <tr>\n      <th>3</th>\n      <td>2016-07-01</td>\n      <td>17924.2</td>\n      <td>18002.4</td>\n      <td>17916.9</td>\n      <td>17949.4</td>\n      <td>133030000</td>\n      <td>17949.4</td>\n    </tr>\n    <tr>\n      <th>4</th>\n      <td>2016-07-01</td>\n      <td>17924.2</td>\n      <td>18002.4</td>\n      <td>17916.9</td>\n      <td>17949.4</td>\n      <td>138740000</td>\n      <td>17949.4</td>\n    </tr>\n    <tr>\n      <th>5</th>\n      <td>2016-07-01</td>\n      <td>17946.6</td>\n      <td>18002.4</td>\n      <td>17916.9</td>\n      <td>17949.4</td>\n      <td>239000000</td>\n      <td>17949.4</td>\n    </tr>\n    <tr>\n      <th>6</th>\n      <td>2016-07-01</td>\n      <td>17946.6</td>\n      <td>18011.1</td>\n      <td>17916.9</td>\n      <td>18011.1</td>\n      <td>239000000</td>\n      <td>18011.1</td>\n    </tr>\n    <tr>\n      <th>7</th>\n      <td>2016-07-01</td>\n      <td>17946.6</td>\n      <td>18011.1</td>\n      <td>17916.9</td>\n      <td>18011.1</td>\n      <td>239000000</td>\n      <td>18011.1</td>\n    </tr>\n    <tr>\n      <th>8</th>\n      <td>2016-07-01</td>\n      <td>17946.6</td>\n      <td>18011.1</td>\n      <td>17916.9</td>\n      <td>18011.1</td>\n      <td>239000000</td>\n      <td>18011.1</td>\n    </tr>\n    <tr>\n      <th>9</th>\n      <td>2016-07-01</td>\n      <td>17946.6</td>\n      <td>18011.1</td>\n      <td>17916.9</td>\n      <td>18011.1</td>\n      <td>239000000</td>\n      <td>18011.1</td>\n    </tr>\n    <tr>\n      <th>10</th>\n      <td>2016-07-01</td>\n      <td>17946.6</td>\n      <td>18011.1</td>\n      <td>17916.9</td>\n      <td>18011.1</td>\n      <td>248680000</td>\n      <td>18011.1</td>\n    </tr>\n    <tr>\n      <th>11</th>\n      <td>2016-07-01</td>\n      <td>17946.6</td>\n      <td>18011.1</td>\n      <td>17916.9</td>\n      <td>18011.1</td>\n      <td>248680000</td>\n      <td>18011.1</td>\n    </tr>\n    <tr>\n      <th>12</th>\n      <td>2016-07-01</td>\n      <td>17946.6</td>\n      <td>18011.1</td>\n      <td>17916.9</td>\n      <td>18011.1</td>\n      <td>248680000</td>\n      <td>18011.1</td>\n    </tr>\n    <tr>\n      <th>13</th>\n      <td>2016-07-01</td>\n      <td>17946.6</td>\n      <td>18011.1</td>\n      <td>17916.9</td>\n      <td>18011.1</td>\n      <td>248680000</td>\n      <td>18011.1</td>\n    </tr>\n    <tr>\n      <th>14</th>\n      <td>2016-07-01</td>\n      <td>17946.6</td>\n      <td>18011.1</td>\n      <td>17916.9</td>\n      <td>18011.1</td>\n      <td>248680000</td>\n      <td>18011.1</td>\n    </tr>\n    <tr>\n      <th>15</th>\n      <td>2016-07-01</td>\n      <td>17946.6</td>\n      <td>18011.1</td>\n      <td>17916.9</td>\n      <td>18011.1</td>\n      <td>248680000</td>\n      <td>18011.1</td>\n    </tr>\n    <tr>\n      <th>16</th>\n      <td>2016-07-01</td>\n      <td>17970</td>\n      <td>18011.1</td>\n      <td>17916.9</td>\n      <td>18011.1</td>\n      <td>248680000</td>\n      <td>18011.1</td>\n    </tr>\n    <tr>\n      <th>17</th>\n      <td>2016-07-01</td>\n      <td>17970</td>\n      <td>18016</td>\n      <td>17931.9</td>\n      <td>18011.1</td>\n      <td>248680000</td>\n      <td>18011.1</td>\n    </tr>\n    <tr>\n      <th>18</th>\n      <td>2016-07-01</td>\n      <td>17970</td>\n      <td>18016</td>\n      <td>17936.2</td>\n      <td>18011.1</td>\n      <td>248680000</td>\n      <td>18011.1</td>\n    </tr>\n    <tr>\n      <th>19</th>\n      <td>2016-07-01</td>\n      <td>17970</td>\n      <td>18016</td>\n      <td>17936.2</td>\n      <td>18011.1</td>\n      <td>248680000</td>\n      <td>18011.1</td>\n    </tr>\n    <tr>\n      <th>20</th>\n      <td>2016-07-01</td>\n      <td>17970</td>\n      <td>18016</td>\n      <td>17936.2</td>\n      <td>18011.1</td>\n      <td>248680000</td>\n      <td>18011.1</td>\n    </tr>\n    <tr>\n      <th>21</th>\n      <td>2016-07-01</td>\n      <td>17970</td>\n      <td>18016</td>\n      <td>17936.2</td>\n      <td>18011.1</td>\n      <td>248680000</td>\n      <td>18011.1</td>\n    </tr>\n    <tr>\n      <th>22</th>\n      <td>2016-07-01</td>\n      <td>17970</td>\n      <td>18016</td>\n      <td>17936.2</td>\n      <td>18011.1</td>\n      <td>248680000</td>\n      <td>18011.1</td>\n    </tr>\n    <tr>\n      <th>23</th>\n      <td>2016-07-01</td>\n      <td>17970</td>\n      <td>18016</td>\n      <td>17936.2</td>\n      <td>18011.1</td>\n      <td>248680000</td>\n      <td>18011.1</td>\n    </tr>\n    <tr>\n      <th>24</th>\n      <td>2016-07-01</td>\n      <td>17970</td>\n      <td>18016</td>\n      <td>17936.2</td>\n      <td>18011.1</td>\n      <td>248680000</td>\n      <td>18011.1</td>\n    </tr>\n    <tr>\n      <th>25</th>\n      <td>2016-07-01</td>\n      <td>17970</td>\n      <td>18016</td>\n      <td>17936.2</td>\n      <td>18011.1</td>\n      <td>248680000</td>\n      <td>18011.1</td>\n    </tr>\n    <tr>\n      <th>26</th>\n      <td>2016-07-01</td>\n      <td>17970</td>\n      <td>18016</td>\n      <td>17936.2</td>\n      <td>18011.1</td>\n      <td>248680000</td>\n      <td>18011.1</td>\n    </tr>\n    <tr>\n      <th>27</th>\n      <td>2016-07-01</td>\n      <td>17970</td>\n      <td>18016</td>\n      <td>17936.2</td>\n      <td>18011.1</td>\n      <td>248680000</td>\n      <td>18011.1</td>\n    </tr>\n    <tr>\n      <th>28</th>\n      <td>2016-07-01</td>\n      <td>17970</td>\n      <td>18016</td>\n      <td>17936.2</td>\n      <td>18011.1</td>\n      <td>248680000</td>\n      <td>18011.1</td>\n    </tr>\n    <tr>\n      <th>29</th>\n      <td>2016-07-01</td>\n      <td>17970</td>\n      <td>18016</td>\n      <td>17936.2</td>\n      <td>18011.1</td>\n      <td>248680000</td>\n      <td>18011.1</td>\n    </tr>\n    <tr>\n      <th>...</th>\n      <td>...</td>\n      <td>...</td>\n      <td>...</td>\n      <td>...</td>\n      <td>...</td>\n      <td>...</td>\n      <td>...</td>\n    </tr>\n    <tr>\n      <th>1959</th>\n      <td>2016-07-01</td>\n      <td>18315.1</td>\n      <td>18351.4</td>\n      <td>18272.6</td>\n      <td>18312.4</td>\n      <td>674920000</td>\n      <td>18312.4</td>\n    </tr>\n    <tr>\n      <th>1960</th>\n      <td>2016-07-01</td>\n      <td>18315.1</td>\n      <td>18351.4</td>\n      <td>18272.6</td>\n      <td>18312.4</td>\n      <td>674920000</td>\n      <td>18312.4</td>\n    </tr>\n    <tr>\n      <th>1961</th>\n      <td>2016-07-01</td>\n      <td>18315.1</td>\n      <td>18351.4</td>\n      <td>18272.6</td>\n      <td>18312.4</td>\n      <td>674920000</td>\n      <td>18312.4</td>\n    </tr>\n    <tr>\n      <th>1962</th>\n      <td>2016-07-01</td>\n      <td>18315.1</td>\n      <td>18351.4</td>\n      <td>18272.6</td>\n      <td>18312.4</td>\n      <td>674920000</td>\n      <td>18312.4</td>\n    </tr>\n    <tr>\n      <th>1963</th>\n      <td>2016-07-01</td>\n      <td>18315.1</td>\n      <td>18351.4</td>\n      <td>18272.6</td>\n      <td>18312.4</td>\n      <td>674920000</td>\n      <td>18312.4</td>\n    </tr>\n    <tr>\n      <th>1964</th>\n      <td>2016-07-01</td>\n      <td>18315.1</td>\n      <td>18351.4</td>\n      <td>18272.6</td>\n      <td>18312.4</td>\n      <td>674920000</td>\n      <td>18312.4</td>\n    </tr>\n    <tr>\n      <th>1965</th>\n      <td>2016-07-01</td>\n      <td>18315.1</td>\n      <td>18351.4</td>\n      <td>18272.6</td>\n      <td>18312.4</td>\n      <td>674920000</td>\n      <td>18312.4</td>\n    </tr>\n    <tr>\n      <th>1966</th>\n      <td>2016-07-01</td>\n      <td>18315.1</td>\n      <td>18351.4</td>\n      <td>18272.6</td>\n      <td>18312.4</td>\n      <td>674920000</td>\n      <td>18312.4</td>\n    </tr>\n    <tr>\n      <th>1967</th>\n      <td>2016-07-01</td>\n      <td>18315.1</td>\n      <td>18351.4</td>\n      <td>18272.6</td>\n      <td>18312.4</td>\n      <td>674920000</td>\n      <td>18312.4</td>\n    </tr>\n    <tr>\n      <th>1968</th>\n      <td>2016-07-01</td>\n      <td>18315.1</td>\n      <td>18351.4</td>\n      <td>18272.6</td>\n      <td>18312.4</td>\n      <td>674920000</td>\n      <td>18312.4</td>\n    </tr>\n    <tr>\n      <th>1969</th>\n      <td>2016-07-01</td>\n      <td>18315.1</td>\n      <td>18351.4</td>\n      <td>18272.6</td>\n      <td>18312.4</td>\n      <td>674920000</td>\n      <td>18312.4</td>\n    </tr>\n    <tr>\n      <th>1970</th>\n      <td>2016-07-01</td>\n      <td>18315.1</td>\n      <td>18351.4</td>\n      <td>18272.6</td>\n      <td>18312.4</td>\n      <td>674920000</td>\n      <td>18312.4</td>\n    </tr>\n    <tr>\n      <th>1971</th>\n      <td>2016-07-01</td>\n      <td>18315.1</td>\n      <td>18351.4</td>\n      <td>18272.6</td>\n      <td>18312.4</td>\n      <td>674920000</td>\n      <td>18312.4</td>\n    </tr>\n    <tr>\n      <th>1972</th>\n      <td>2016-07-01</td>\n      <td>18315.1</td>\n      <td>18351.4</td>\n      <td>18272.6</td>\n      <td>18312.4</td>\n      <td>674920000</td>\n      <td>18312.4</td>\n    </tr>\n    <tr>\n      <th>1973</th>\n      <td>2016-07-01</td>\n      <td>18315.1</td>\n      <td>18351.4</td>\n      <td>18272.6</td>\n      <td>18312.4</td>\n      <td>674920000</td>\n      <td>18312.4</td>\n    </tr>\n    <tr>\n      <th>1974</th>\n      <td>2016-07-01</td>\n      <td>18315.1</td>\n      <td>18351.4</td>\n      <td>18272.6</td>\n      <td>18312.4</td>\n      <td>674920000</td>\n      <td>18312.4</td>\n    </tr>\n    <tr>\n      <th>1975</th>\n      <td>2016-07-01</td>\n      <td>18315.1</td>\n      <td>18351.4</td>\n      <td>18272.6</td>\n      <td>18312.4</td>\n      <td>674920000</td>\n      <td>18312.4</td>\n    </tr>\n    <tr>\n      <th>1976</th>\n      <td>2016-07-01</td>\n      <td>18315.1</td>\n      <td>18351.4</td>\n      <td>18272.6</td>\n      <td>18312.4</td>\n      <td>674920000</td>\n      <td>18312.4</td>\n    </tr>\n    <tr>\n      <th>1977</th>\n      <td>2016-07-01</td>\n      <td>18315.1</td>\n      <td>18351.4</td>\n      <td>18272.6</td>\n      <td>18312.4</td>\n      <td>674920000</td>\n      <td>18312.4</td>\n    </tr>\n    <tr>\n      <th>1978</th>\n      <td>2016-07-01</td>\n      <td>18315.1</td>\n      <td>18351.4</td>\n      <td>18272.6</td>\n      <td>18312.4</td>\n      <td>674920000</td>\n      <td>18312.4</td>\n    </tr>\n    <tr>\n      <th>1979</th>\n      <td>2016-07-01</td>\n      <td>18315.1</td>\n      <td>18351.4</td>\n      <td>18272.6</td>\n      <td>18312.4</td>\n      <td>674920000</td>\n      <td>18312.4</td>\n    </tr>\n    <tr>\n      <th>1980</th>\n      <td>2016-07-01</td>\n      <td>18315.1</td>\n      <td>18351.4</td>\n      <td>18272.6</td>\n      <td>18312.4</td>\n      <td>674920000</td>\n      <td>18312.4</td>\n    </tr>\n    <tr>\n      <th>1981</th>\n      <td>2016-07-01</td>\n      <td>18315.1</td>\n      <td>18351.4</td>\n      <td>18272.6</td>\n      <td>18312.4</td>\n      <td>674920000</td>\n      <td>18312.4</td>\n    </tr>\n    <tr>\n      <th>1982</th>\n      <td>2016-07-01</td>\n      <td>18315.1</td>\n      <td>18351.4</td>\n      <td>18272.6</td>\n      <td>18312.4</td>\n      <td>674920000</td>\n      <td>18312.4</td>\n    </tr>\n    <tr>\n      <th>1983</th>\n      <td>2016-07-01</td>\n      <td>18315.1</td>\n      <td>18351.4</td>\n      <td>18272.6</td>\n      <td>18312.4</td>\n      <td>674920000</td>\n      <td>18312.4</td>\n    </tr>\n    <tr>\n      <th>1984</th>\n      <td>2016-07-01</td>\n      <td>18315.1</td>\n      <td>18351.4</td>\n      <td>18272.6</td>\n      <td>18312.4</td>\n      <td>674920000</td>\n      <td>18312.4</td>\n    </tr>\n    <tr>\n      <th>1985</th>\n      <td>2016-07-01</td>\n      <td>18315.1</td>\n      <td>18351.4</td>\n      <td>18272.6</td>\n      <td>18312.4</td>\n      <td>674920000</td>\n      <td>18312.4</td>\n    </tr>\n    <tr>\n      <th>1986</th>\n      <td>2016-07-01</td>\n      <td>18315.1</td>\n      <td>18351.4</td>\n      <td>18272.6</td>\n      <td>18312.4</td>\n      <td>674920000</td>\n      <td>18312.4</td>\n    </tr>\n    <tr>\n      <th>1987</th>\n      <td>2016-07-01</td>\n      <td>18315.1</td>\n      <td>18351.4</td>\n      <td>18272.6</td>\n      <td>18312.4</td>\n      <td>674920000</td>\n      <td>18312.4</td>\n    </tr>\n    <tr>\n      <th>1988</th>\n      <td>2016-07-01</td>\n      <td>18315.1</td>\n      <td>18351.4</td>\n      <td>18272.6</td>\n      <td>18312.4</td>\n      <td>674920000</td>\n      <td>18312.4</td>\n    </tr>\n  </tbody>\n</table>\n<p>1989 rows × 7 columns</p>\n</div>"
          },
          "metadata": {}
        }
      ]
    },
    {
      "metadata": {
        "_uuid": "3fcc12a897018a10be30af61dd962ce55783ced6"
      },
      "cell_type": "markdown",
      "source": "### **df.cummin()** <a id=\"32\"></a>\nThis code returns the cumulative min value of the data.\n\n<mark>[Return Contents](#0)\n<hr>"
    },
    {
      "metadata": {
        "trusted": true,
        "_uuid": "1f338476139eeea15cb87f2df4b7f6958daa1e14"
      },
      "cell_type": "code",
      "source": "df.cummin()",
      "execution_count": 27,
      "outputs": [
        {
          "output_type": "execute_result",
          "execution_count": 27,
          "data": {
            "text/plain": "            Date     Open     High    ...       Close    Volume Adj Close\n0     2016-07-01  17924.2  18002.4    ...     17949.4  82160000   17949.4\n1     2016-06-30  17712.8  17930.6    ...       17930  82160000     17930\n2     2016-06-29    17456  17704.5    ...     17694.7  82160000   17694.7\n3     2016-06-28  17190.5  17409.7    ...     17409.7  82160000   17409.7\n4     2016-06-27  17190.5  17355.2    ...     17140.2  82160000   17140.2\n5     2016-06-24  17190.5  17355.2    ...     17140.2  82160000   17140.2\n6     2016-06-23  17190.5  17355.2    ...     17140.2  82160000   17140.2\n7     2016-06-22  17190.5  17355.2    ...     17140.2  82160000   17140.2\n8     2016-06-21  17190.5  17355.2    ...     17140.2  82160000   17140.2\n9     2016-06-20  17190.5  17355.2    ...     17140.2  82160000   17140.2\n10    2016-06-17  17190.5  17355.2    ...     17140.2  82160000   17140.2\n11    2016-06-16  17190.5  17355.2    ...     17140.2  82160000   17140.2\n12    2016-06-15  17190.5  17355.2    ...     17140.2  82160000   17140.2\n13    2016-06-14  17190.5  17355.2    ...     17140.2  82160000   17140.2\n14    2016-06-13  17190.5  17355.2    ...     17140.2  82160000   17140.2\n15    2016-06-10  17190.5  17355.2    ...     17140.2  82160000   17140.2\n16    2016-06-09  17190.5  17355.2    ...     17140.2  69690000   17140.2\n17    2016-06-08  17190.5  17355.2    ...     17140.2  69690000   17140.2\n18    2016-06-07  17190.5  17355.2    ...     17140.2  69690000   17140.2\n19    2016-06-06  17190.5  17355.2    ...     17140.2  69690000   17140.2\n20    2016-06-03  17190.5  17355.2    ...     17140.2  69690000   17140.2\n21    2016-06-02  17190.5  17355.2    ...     17140.2  69690000   17140.2\n22    2016-06-01  17190.5  17355.2    ...     17140.2  69690000   17140.2\n23    2016-05-31  17190.5  17355.2    ...     17140.2  69690000   17140.2\n24    2016-05-27  17190.5  17355.2    ...     17140.2  69690000   17140.2\n25    2016-05-26  17190.5  17355.2    ...     17140.2  68940000   17140.2\n26    2016-05-25  17190.5  17355.2    ...     17140.2  68940000   17140.2\n27    2016-05-24  17190.5  17355.2    ...     17140.2  68940000   17140.2\n28    2016-05-23  17190.5  17355.2    ...     17140.2  68940000   17140.2\n29    2016-05-20  17190.5  17355.2    ...     17140.2  68940000   17140.2\n...          ...      ...      ...    ...         ...       ...       ...\n1959  2008-09-19  6547.01  6709.61    ...     6547.05   8410000   6547.05\n1960  2008-09-18  6547.01  6709.61    ...     6547.05   8410000   6547.05\n1961  2008-09-17  6547.01  6709.61    ...     6547.05   8410000   6547.05\n1962  2008-09-16  6547.01  6709.61    ...     6547.05   8410000   6547.05\n1963  2008-09-15  6547.01  6709.61    ...     6547.05   8410000   6547.05\n1964  2008-09-12  6547.01  6709.61    ...     6547.05   8410000   6547.05\n1965  2008-09-11  6547.01  6709.61    ...     6547.05   8410000   6547.05\n1966  2008-09-10  6547.01  6709.61    ...     6547.05   8410000   6547.05\n1967  2008-09-09  6547.01  6709.61    ...     6547.05   8410000   6547.05\n1968  2008-09-08  6547.01  6709.61    ...     6547.05   8410000   6547.05\n1969  2008-09-05  6547.01  6709.61    ...     6547.05   8410000   6547.05\n1970  2008-09-04  6547.01  6709.61    ...     6547.05   8410000   6547.05\n1971  2008-09-03  6547.01  6709.61    ...     6547.05   8410000   6547.05\n1972  2008-09-02  6547.01  6709.61    ...     6547.05   8410000   6547.05\n1973  2008-08-29  6547.01  6709.61    ...     6547.05   8410000   6547.05\n1974  2008-08-28  6547.01  6709.61    ...     6547.05   8410000   6547.05\n1975  2008-08-27  6547.01  6709.61    ...     6547.05   8410000   6547.05\n1976  2008-08-26  6547.01  6709.61    ...     6547.05   8410000   6547.05\n1977  2008-08-25  6547.01  6709.61    ...     6547.05   8410000   6547.05\n1978  2008-08-22  6547.01  6709.61    ...     6547.05   8410000   6547.05\n1979  2008-08-21  6547.01  6709.61    ...     6547.05   8410000   6547.05\n1980  2008-08-20  6547.01  6709.61    ...     6547.05   8410000   6547.05\n1981  2008-08-19  6547.01  6709.61    ...     6547.05   8410000   6547.05\n1982  2008-08-18  6547.01  6709.61    ...     6547.05   8410000   6547.05\n1983  2008-08-15  6547.01  6709.61    ...     6547.05   8410000   6547.05\n1984  2008-08-14  6547.01  6709.61    ...     6547.05   8410000   6547.05\n1985  2008-08-13  6547.01  6709.61    ...     6547.05   8410000   6547.05\n1986  2008-08-12  6547.01  6709.61    ...     6547.05   8410000   6547.05\n1987  2008-08-11  6547.01  6709.61    ...     6547.05   8410000   6547.05\n1988  2008-08-08  6547.01  6709.61    ...     6547.05   8410000   6547.05\n\n[1989 rows x 7 columns]",
            "text/html": "<div>\n<style scoped>\n    .dataframe tbody tr th:only-of-type {\n        vertical-align: middle;\n    }\n\n    .dataframe tbody tr th {\n        vertical-align: top;\n    }\n\n    .dataframe thead th {\n        text-align: right;\n    }\n</style>\n<table border=\"1\" class=\"dataframe\">\n  <thead>\n    <tr style=\"text-align: right;\">\n      <th></th>\n      <th>Date</th>\n      <th>Open</th>\n      <th>High</th>\n      <th>Low</th>\n      <th>Close</th>\n      <th>Volume</th>\n      <th>Adj Close</th>\n    </tr>\n  </thead>\n  <tbody>\n    <tr>\n      <th>0</th>\n      <td>2016-07-01</td>\n      <td>17924.2</td>\n      <td>18002.4</td>\n      <td>17916.9</td>\n      <td>17949.4</td>\n      <td>82160000</td>\n      <td>17949.4</td>\n    </tr>\n    <tr>\n      <th>1</th>\n      <td>2016-06-30</td>\n      <td>17712.8</td>\n      <td>17930.6</td>\n      <td>17711.8</td>\n      <td>17930</td>\n      <td>82160000</td>\n      <td>17930</td>\n    </tr>\n    <tr>\n      <th>2</th>\n      <td>2016-06-29</td>\n      <td>17456</td>\n      <td>17704.5</td>\n      <td>17456</td>\n      <td>17694.7</td>\n      <td>82160000</td>\n      <td>17694.7</td>\n    </tr>\n    <tr>\n      <th>3</th>\n      <td>2016-06-28</td>\n      <td>17190.5</td>\n      <td>17409.7</td>\n      <td>17190.5</td>\n      <td>17409.7</td>\n      <td>82160000</td>\n      <td>17409.7</td>\n    </tr>\n    <tr>\n      <th>4</th>\n      <td>2016-06-27</td>\n      <td>17190.5</td>\n      <td>17355.2</td>\n      <td>17063.1</td>\n      <td>17140.2</td>\n      <td>82160000</td>\n      <td>17140.2</td>\n    </tr>\n    <tr>\n      <th>5</th>\n      <td>2016-06-24</td>\n      <td>17190.5</td>\n      <td>17355.2</td>\n      <td>17063.1</td>\n      <td>17140.2</td>\n      <td>82160000</td>\n      <td>17140.2</td>\n    </tr>\n    <tr>\n      <th>6</th>\n      <td>2016-06-23</td>\n      <td>17190.5</td>\n      <td>17355.2</td>\n      <td>17063.1</td>\n      <td>17140.2</td>\n      <td>82160000</td>\n      <td>17140.2</td>\n    </tr>\n    <tr>\n      <th>7</th>\n      <td>2016-06-22</td>\n      <td>17190.5</td>\n      <td>17355.2</td>\n      <td>17063.1</td>\n      <td>17140.2</td>\n      <td>82160000</td>\n      <td>17140.2</td>\n    </tr>\n    <tr>\n      <th>8</th>\n      <td>2016-06-21</td>\n      <td>17190.5</td>\n      <td>17355.2</td>\n      <td>17063.1</td>\n      <td>17140.2</td>\n      <td>82160000</td>\n      <td>17140.2</td>\n    </tr>\n    <tr>\n      <th>9</th>\n      <td>2016-06-20</td>\n      <td>17190.5</td>\n      <td>17355.2</td>\n      <td>17063.1</td>\n      <td>17140.2</td>\n      <td>82160000</td>\n      <td>17140.2</td>\n    </tr>\n    <tr>\n      <th>10</th>\n      <td>2016-06-17</td>\n      <td>17190.5</td>\n      <td>17355.2</td>\n      <td>17063.1</td>\n      <td>17140.2</td>\n      <td>82160000</td>\n      <td>17140.2</td>\n    </tr>\n    <tr>\n      <th>11</th>\n      <td>2016-06-16</td>\n      <td>17190.5</td>\n      <td>17355.2</td>\n      <td>17063.1</td>\n      <td>17140.2</td>\n      <td>82160000</td>\n      <td>17140.2</td>\n    </tr>\n    <tr>\n      <th>12</th>\n      <td>2016-06-15</td>\n      <td>17190.5</td>\n      <td>17355.2</td>\n      <td>17063.1</td>\n      <td>17140.2</td>\n      <td>82160000</td>\n      <td>17140.2</td>\n    </tr>\n    <tr>\n      <th>13</th>\n      <td>2016-06-14</td>\n      <td>17190.5</td>\n      <td>17355.2</td>\n      <td>17063.1</td>\n      <td>17140.2</td>\n      <td>82160000</td>\n      <td>17140.2</td>\n    </tr>\n    <tr>\n      <th>14</th>\n      <td>2016-06-13</td>\n      <td>17190.5</td>\n      <td>17355.2</td>\n      <td>17063.1</td>\n      <td>17140.2</td>\n      <td>82160000</td>\n      <td>17140.2</td>\n    </tr>\n    <tr>\n      <th>15</th>\n      <td>2016-06-10</td>\n      <td>17190.5</td>\n      <td>17355.2</td>\n      <td>17063.1</td>\n      <td>17140.2</td>\n      <td>82160000</td>\n      <td>17140.2</td>\n    </tr>\n    <tr>\n      <th>16</th>\n      <td>2016-06-09</td>\n      <td>17190.5</td>\n      <td>17355.2</td>\n      <td>17063.1</td>\n      <td>17140.2</td>\n      <td>69690000</td>\n      <td>17140.2</td>\n    </tr>\n    <tr>\n      <th>17</th>\n      <td>2016-06-08</td>\n      <td>17190.5</td>\n      <td>17355.2</td>\n      <td>17063.1</td>\n      <td>17140.2</td>\n      <td>69690000</td>\n      <td>17140.2</td>\n    </tr>\n    <tr>\n      <th>18</th>\n      <td>2016-06-07</td>\n      <td>17190.5</td>\n      <td>17355.2</td>\n      <td>17063.1</td>\n      <td>17140.2</td>\n      <td>69690000</td>\n      <td>17140.2</td>\n    </tr>\n    <tr>\n      <th>19</th>\n      <td>2016-06-06</td>\n      <td>17190.5</td>\n      <td>17355.2</td>\n      <td>17063.1</td>\n      <td>17140.2</td>\n      <td>69690000</td>\n      <td>17140.2</td>\n    </tr>\n    <tr>\n      <th>20</th>\n      <td>2016-06-03</td>\n      <td>17190.5</td>\n      <td>17355.2</td>\n      <td>17063.1</td>\n      <td>17140.2</td>\n      <td>69690000</td>\n      <td>17140.2</td>\n    </tr>\n    <tr>\n      <th>21</th>\n      <td>2016-06-02</td>\n      <td>17190.5</td>\n      <td>17355.2</td>\n      <td>17063.1</td>\n      <td>17140.2</td>\n      <td>69690000</td>\n      <td>17140.2</td>\n    </tr>\n    <tr>\n      <th>22</th>\n      <td>2016-06-01</td>\n      <td>17190.5</td>\n      <td>17355.2</td>\n      <td>17063.1</td>\n      <td>17140.2</td>\n      <td>69690000</td>\n      <td>17140.2</td>\n    </tr>\n    <tr>\n      <th>23</th>\n      <td>2016-05-31</td>\n      <td>17190.5</td>\n      <td>17355.2</td>\n      <td>17063.1</td>\n      <td>17140.2</td>\n      <td>69690000</td>\n      <td>17140.2</td>\n    </tr>\n    <tr>\n      <th>24</th>\n      <td>2016-05-27</td>\n      <td>17190.5</td>\n      <td>17355.2</td>\n      <td>17063.1</td>\n      <td>17140.2</td>\n      <td>69690000</td>\n      <td>17140.2</td>\n    </tr>\n    <tr>\n      <th>25</th>\n      <td>2016-05-26</td>\n      <td>17190.5</td>\n      <td>17355.2</td>\n      <td>17063.1</td>\n      <td>17140.2</td>\n      <td>68940000</td>\n      <td>17140.2</td>\n    </tr>\n    <tr>\n      <th>26</th>\n      <td>2016-05-25</td>\n      <td>17190.5</td>\n      <td>17355.2</td>\n      <td>17063.1</td>\n      <td>17140.2</td>\n      <td>68940000</td>\n      <td>17140.2</td>\n    </tr>\n    <tr>\n      <th>27</th>\n      <td>2016-05-24</td>\n      <td>17190.5</td>\n      <td>17355.2</td>\n      <td>17063.1</td>\n      <td>17140.2</td>\n      <td>68940000</td>\n      <td>17140.2</td>\n    </tr>\n    <tr>\n      <th>28</th>\n      <td>2016-05-23</td>\n      <td>17190.5</td>\n      <td>17355.2</td>\n      <td>17063.1</td>\n      <td>17140.2</td>\n      <td>68940000</td>\n      <td>17140.2</td>\n    </tr>\n    <tr>\n      <th>29</th>\n      <td>2016-05-20</td>\n      <td>17190.5</td>\n      <td>17355.2</td>\n      <td>17063.1</td>\n      <td>17140.2</td>\n      <td>68940000</td>\n      <td>17140.2</td>\n    </tr>\n    <tr>\n      <th>...</th>\n      <td>...</td>\n      <td>...</td>\n      <td>...</td>\n      <td>...</td>\n      <td>...</td>\n      <td>...</td>\n      <td>...</td>\n    </tr>\n    <tr>\n      <th>1959</th>\n      <td>2008-09-19</td>\n      <td>6547.01</td>\n      <td>6709.61</td>\n      <td>6469.95</td>\n      <td>6547.05</td>\n      <td>8410000</td>\n      <td>6547.05</td>\n    </tr>\n    <tr>\n      <th>1960</th>\n      <td>2008-09-18</td>\n      <td>6547.01</td>\n      <td>6709.61</td>\n      <td>6469.95</td>\n      <td>6547.05</td>\n      <td>8410000</td>\n      <td>6547.05</td>\n    </tr>\n    <tr>\n      <th>1961</th>\n      <td>2008-09-17</td>\n      <td>6547.01</td>\n      <td>6709.61</td>\n      <td>6469.95</td>\n      <td>6547.05</td>\n      <td>8410000</td>\n      <td>6547.05</td>\n    </tr>\n    <tr>\n      <th>1962</th>\n      <td>2008-09-16</td>\n      <td>6547.01</td>\n      <td>6709.61</td>\n      <td>6469.95</td>\n      <td>6547.05</td>\n      <td>8410000</td>\n      <td>6547.05</td>\n    </tr>\n    <tr>\n      <th>1963</th>\n      <td>2008-09-15</td>\n      <td>6547.01</td>\n      <td>6709.61</td>\n      <td>6469.95</td>\n      <td>6547.05</td>\n      <td>8410000</td>\n      <td>6547.05</td>\n    </tr>\n    <tr>\n      <th>1964</th>\n      <td>2008-09-12</td>\n      <td>6547.01</td>\n      <td>6709.61</td>\n      <td>6469.95</td>\n      <td>6547.05</td>\n      <td>8410000</td>\n      <td>6547.05</td>\n    </tr>\n    <tr>\n      <th>1965</th>\n      <td>2008-09-11</td>\n      <td>6547.01</td>\n      <td>6709.61</td>\n      <td>6469.95</td>\n      <td>6547.05</td>\n      <td>8410000</td>\n      <td>6547.05</td>\n    </tr>\n    <tr>\n      <th>1966</th>\n      <td>2008-09-10</td>\n      <td>6547.01</td>\n      <td>6709.61</td>\n      <td>6469.95</td>\n      <td>6547.05</td>\n      <td>8410000</td>\n      <td>6547.05</td>\n    </tr>\n    <tr>\n      <th>1967</th>\n      <td>2008-09-09</td>\n      <td>6547.01</td>\n      <td>6709.61</td>\n      <td>6469.95</td>\n      <td>6547.05</td>\n      <td>8410000</td>\n      <td>6547.05</td>\n    </tr>\n    <tr>\n      <th>1968</th>\n      <td>2008-09-08</td>\n      <td>6547.01</td>\n      <td>6709.61</td>\n      <td>6469.95</td>\n      <td>6547.05</td>\n      <td>8410000</td>\n      <td>6547.05</td>\n    </tr>\n    <tr>\n      <th>1969</th>\n      <td>2008-09-05</td>\n      <td>6547.01</td>\n      <td>6709.61</td>\n      <td>6469.95</td>\n      <td>6547.05</td>\n      <td>8410000</td>\n      <td>6547.05</td>\n    </tr>\n    <tr>\n      <th>1970</th>\n      <td>2008-09-04</td>\n      <td>6547.01</td>\n      <td>6709.61</td>\n      <td>6469.95</td>\n      <td>6547.05</td>\n      <td>8410000</td>\n      <td>6547.05</td>\n    </tr>\n    <tr>\n      <th>1971</th>\n      <td>2008-09-03</td>\n      <td>6547.01</td>\n      <td>6709.61</td>\n      <td>6469.95</td>\n      <td>6547.05</td>\n      <td>8410000</td>\n      <td>6547.05</td>\n    </tr>\n    <tr>\n      <th>1972</th>\n      <td>2008-09-02</td>\n      <td>6547.01</td>\n      <td>6709.61</td>\n      <td>6469.95</td>\n      <td>6547.05</td>\n      <td>8410000</td>\n      <td>6547.05</td>\n    </tr>\n    <tr>\n      <th>1973</th>\n      <td>2008-08-29</td>\n      <td>6547.01</td>\n      <td>6709.61</td>\n      <td>6469.95</td>\n      <td>6547.05</td>\n      <td>8410000</td>\n      <td>6547.05</td>\n    </tr>\n    <tr>\n      <th>1974</th>\n      <td>2008-08-28</td>\n      <td>6547.01</td>\n      <td>6709.61</td>\n      <td>6469.95</td>\n      <td>6547.05</td>\n      <td>8410000</td>\n      <td>6547.05</td>\n    </tr>\n    <tr>\n      <th>1975</th>\n      <td>2008-08-27</td>\n      <td>6547.01</td>\n      <td>6709.61</td>\n      <td>6469.95</td>\n      <td>6547.05</td>\n      <td>8410000</td>\n      <td>6547.05</td>\n    </tr>\n    <tr>\n      <th>1976</th>\n      <td>2008-08-26</td>\n      <td>6547.01</td>\n      <td>6709.61</td>\n      <td>6469.95</td>\n      <td>6547.05</td>\n      <td>8410000</td>\n      <td>6547.05</td>\n    </tr>\n    <tr>\n      <th>1977</th>\n      <td>2008-08-25</td>\n      <td>6547.01</td>\n      <td>6709.61</td>\n      <td>6469.95</td>\n      <td>6547.05</td>\n      <td>8410000</td>\n      <td>6547.05</td>\n    </tr>\n    <tr>\n      <th>1978</th>\n      <td>2008-08-22</td>\n      <td>6547.01</td>\n      <td>6709.61</td>\n      <td>6469.95</td>\n      <td>6547.05</td>\n      <td>8410000</td>\n      <td>6547.05</td>\n    </tr>\n    <tr>\n      <th>1979</th>\n      <td>2008-08-21</td>\n      <td>6547.01</td>\n      <td>6709.61</td>\n      <td>6469.95</td>\n      <td>6547.05</td>\n      <td>8410000</td>\n      <td>6547.05</td>\n    </tr>\n    <tr>\n      <th>1980</th>\n      <td>2008-08-20</td>\n      <td>6547.01</td>\n      <td>6709.61</td>\n      <td>6469.95</td>\n      <td>6547.05</td>\n      <td>8410000</td>\n      <td>6547.05</td>\n    </tr>\n    <tr>\n      <th>1981</th>\n      <td>2008-08-19</td>\n      <td>6547.01</td>\n      <td>6709.61</td>\n      <td>6469.95</td>\n      <td>6547.05</td>\n      <td>8410000</td>\n      <td>6547.05</td>\n    </tr>\n    <tr>\n      <th>1982</th>\n      <td>2008-08-18</td>\n      <td>6547.01</td>\n      <td>6709.61</td>\n      <td>6469.95</td>\n      <td>6547.05</td>\n      <td>8410000</td>\n      <td>6547.05</td>\n    </tr>\n    <tr>\n      <th>1983</th>\n      <td>2008-08-15</td>\n      <td>6547.01</td>\n      <td>6709.61</td>\n      <td>6469.95</td>\n      <td>6547.05</td>\n      <td>8410000</td>\n      <td>6547.05</td>\n    </tr>\n    <tr>\n      <th>1984</th>\n      <td>2008-08-14</td>\n      <td>6547.01</td>\n      <td>6709.61</td>\n      <td>6469.95</td>\n      <td>6547.05</td>\n      <td>8410000</td>\n      <td>6547.05</td>\n    </tr>\n    <tr>\n      <th>1985</th>\n      <td>2008-08-13</td>\n      <td>6547.01</td>\n      <td>6709.61</td>\n      <td>6469.95</td>\n      <td>6547.05</td>\n      <td>8410000</td>\n      <td>6547.05</td>\n    </tr>\n    <tr>\n      <th>1986</th>\n      <td>2008-08-12</td>\n      <td>6547.01</td>\n      <td>6709.61</td>\n      <td>6469.95</td>\n      <td>6547.05</td>\n      <td>8410000</td>\n      <td>6547.05</td>\n    </tr>\n    <tr>\n      <th>1987</th>\n      <td>2008-08-11</td>\n      <td>6547.01</td>\n      <td>6709.61</td>\n      <td>6469.95</td>\n      <td>6547.05</td>\n      <td>8410000</td>\n      <td>6547.05</td>\n    </tr>\n    <tr>\n      <th>1988</th>\n      <td>2008-08-08</td>\n      <td>6547.01</td>\n      <td>6709.61</td>\n      <td>6469.95</td>\n      <td>6547.05</td>\n      <td>8410000</td>\n      <td>6547.05</td>\n    </tr>\n  </tbody>\n</table>\n<p>1989 rows × 7 columns</p>\n</div>"
          },
          "metadata": {}
        }
      ]
    },
    {
      "metadata": {
        "_uuid": "0cd60da3b32d18ebbee2e5c4af63880694ec546a"
      },
      "cell_type": "markdown",
      "source": "### **df['columnName'].cumproad()** <a id=\"33\"></a>\nThis code returns the cumulative production of the data.\n\n<mark>[Return Contents](#0)\n<hr>"
    },
    {
      "metadata": {
        "trusted": true,
        "_uuid": "b1ada72f4fa74e8caf4962f0901b301b110c4ef0"
      },
      "cell_type": "code",
      "source": "df['Open'].cumprod().head()",
      "execution_count": 28,
      "outputs": [
        {
          "output_type": "execute_result",
          "execution_count": 28,
          "data": {
            "text/plain": "0    1.792424e+04\n1    3.174878e+08\n2    5.542073e+12\n3    9.527105e+16\n4    1.653449e+21\nName: Open, dtype: float64"
          },
          "metadata": {}
        }
      ]
    },
    {
      "metadata": {
        "_uuid": "dbbb7f7547fa7499cd81ef2e2ceb6e62e353f193"
      },
      "cell_type": "markdown",
      "source": "### **len(df)** <a id=\"34\"></a>\nThis code gives you how many data there is.\n\n<mark>[Return Contents](#0)\n<hr>"
    },
    {
      "metadata": {
        "trusted": true,
        "_uuid": "e773df58aa59556aea40bbd379b47cb99bfc5629"
      },
      "cell_type": "code",
      "source": "len(df)",
      "execution_count": 29,
      "outputs": [
        {
          "output_type": "execute_result",
          "execution_count": 29,
          "data": {
            "text/plain": "1989"
          },
          "metadata": {}
        }
      ]
    },
    {
      "metadata": {
        "_uuid": "14ff3ff54a24aa3ad8996f3ef68e119a7b03f8f9"
      },
      "cell_type": "markdown",
      "source": "### **df.isnull()** <a id=\"35\"></a>\nChecks for null values, returns boolean.\n\n<mark>[Return Contents](#0)\n<hr>"
    },
    {
      "metadata": {
        "trusted": true,
        "_uuid": "d6c4c3ed8f7bd639db1eb3487a5e61aff1651847"
      },
      "cell_type": "code",
      "source": "df.isnull().head()",
      "execution_count": 30,
      "outputs": [
        {
          "output_type": "execute_result",
          "execution_count": 30,
          "data": {
            "text/plain": "    Date   Open   High    Low  Close  Volume  Adj Close\n0  False  False  False  False  False   False      False\n1  False  False  False  False  False   False      False\n2  False  False  False  False  False   False      False\n3  False  False  False  False  False   False      False\n4  False  False  False  False  False   False      False",
            "text/html": "<div>\n<style scoped>\n    .dataframe tbody tr th:only-of-type {\n        vertical-align: middle;\n    }\n\n    .dataframe tbody tr th {\n        vertical-align: top;\n    }\n\n    .dataframe thead th {\n        text-align: right;\n    }\n</style>\n<table border=\"1\" class=\"dataframe\">\n  <thead>\n    <tr style=\"text-align: right;\">\n      <th></th>\n      <th>Date</th>\n      <th>Open</th>\n      <th>High</th>\n      <th>Low</th>\n      <th>Close</th>\n      <th>Volume</th>\n      <th>Adj Close</th>\n    </tr>\n  </thead>\n  <tbody>\n    <tr>\n      <th>0</th>\n      <td>False</td>\n      <td>False</td>\n      <td>False</td>\n      <td>False</td>\n      <td>False</td>\n      <td>False</td>\n      <td>False</td>\n    </tr>\n    <tr>\n      <th>1</th>\n      <td>False</td>\n      <td>False</td>\n      <td>False</td>\n      <td>False</td>\n      <td>False</td>\n      <td>False</td>\n      <td>False</td>\n    </tr>\n    <tr>\n      <th>2</th>\n      <td>False</td>\n      <td>False</td>\n      <td>False</td>\n      <td>False</td>\n      <td>False</td>\n      <td>False</td>\n      <td>False</td>\n    </tr>\n    <tr>\n      <th>3</th>\n      <td>False</td>\n      <td>False</td>\n      <td>False</td>\n      <td>False</td>\n      <td>False</td>\n      <td>False</td>\n      <td>False</td>\n    </tr>\n    <tr>\n      <th>4</th>\n      <td>False</td>\n      <td>False</td>\n      <td>False</td>\n      <td>False</td>\n      <td>False</td>\n      <td>False</td>\n      <td>False</td>\n    </tr>\n  </tbody>\n</table>\n</div>"
          },
          "metadata": {}
        }
      ]
    },
    {
      "metadata": {
        "_uuid": "9c2242ccb54b0cccecd0f5ebdfda70f454cb35d7"
      },
      "cell_type": "markdown",
      "source": "### **df.corr()** <a id=\"81\"></a>\nit gives information about the correlation between the data.\n\n<mark>[Return Contents](#0)\n<hr>"
    },
    {
      "metadata": {
        "trusted": true,
        "_uuid": "7ad15ffbc630aa1ffbeebe5270844112e1c88b18"
      },
      "cell_type": "code",
      "source": "df.corr()",
      "execution_count": 31,
      "outputs": [
        {
          "output_type": "execute_result",
          "execution_count": 31,
          "data": {
            "text/plain": "               Open      High    ...        Volume  Adj Close\nOpen       1.000000  0.999592    ...     -0.691621   0.998991\nHigh       0.999592  1.000000    ...     -0.686997   0.999546\nLow        0.999436  0.999373    ...     -0.699572   0.999595\nClose      0.998991  0.999546    ...     -0.694281   1.000000\nVolume    -0.691621 -0.686997    ...      1.000000  -0.694281\nAdj Close  0.998991  0.999546    ...     -0.694281   1.000000\n\n[6 rows x 6 columns]",
            "text/html": "<div>\n<style scoped>\n    .dataframe tbody tr th:only-of-type {\n        vertical-align: middle;\n    }\n\n    .dataframe tbody tr th {\n        vertical-align: top;\n    }\n\n    .dataframe thead th {\n        text-align: right;\n    }\n</style>\n<table border=\"1\" class=\"dataframe\">\n  <thead>\n    <tr style=\"text-align: right;\">\n      <th></th>\n      <th>Open</th>\n      <th>High</th>\n      <th>Low</th>\n      <th>Close</th>\n      <th>Volume</th>\n      <th>Adj Close</th>\n    </tr>\n  </thead>\n  <tbody>\n    <tr>\n      <th>Open</th>\n      <td>1.000000</td>\n      <td>0.999592</td>\n      <td>0.999436</td>\n      <td>0.998991</td>\n      <td>-0.691621</td>\n      <td>0.998991</td>\n    </tr>\n    <tr>\n      <th>High</th>\n      <td>0.999592</td>\n      <td>1.000000</td>\n      <td>0.999373</td>\n      <td>0.999546</td>\n      <td>-0.686997</td>\n      <td>0.999546</td>\n    </tr>\n    <tr>\n      <th>Low</th>\n      <td>0.999436</td>\n      <td>0.999373</td>\n      <td>1.000000</td>\n      <td>0.999595</td>\n      <td>-0.699572</td>\n      <td>0.999595</td>\n    </tr>\n    <tr>\n      <th>Close</th>\n      <td>0.998991</td>\n      <td>0.999546</td>\n      <td>0.999595</td>\n      <td>1.000000</td>\n      <td>-0.694281</td>\n      <td>1.000000</td>\n    </tr>\n    <tr>\n      <th>Volume</th>\n      <td>-0.691621</td>\n      <td>-0.686997</td>\n      <td>-0.699572</td>\n      <td>-0.694281</td>\n      <td>1.000000</td>\n      <td>-0.694281</td>\n    </tr>\n    <tr>\n      <th>Adj Close</th>\n      <td>0.998991</td>\n      <td>0.999546</td>\n      <td>0.999595</td>\n      <td>1.000000</td>\n      <td>-0.694281</td>\n      <td>1.000000</td>\n    </tr>\n  </tbody>\n</table>\n</div>"
          },
          "metadata": {}
        }
      ]
    },
    {
      "metadata": {
        "_uuid": "37ec533a2bdbadc4271c1eabe3956ca7f112bf11"
      },
      "cell_type": "markdown",
      "source": "# **Selection & Filtering** <a id=\"36\"></a>\n<mark>[Return Contents](#0)\n<hr>\n\nThis is how we can choose the data we want with pandas, how we can bring unique data."
    },
    {
      "metadata": {
        "_uuid": "cd86aed11ba3388bee1c7038fa653bdd0c40b88c"
      },
      "cell_type": "markdown",
      "source": "### **mySeries['b']** <a id=\"37\"></a>\nThis code returns data with a value of B in series.\n\n<mark>[Return Contents](#0)\n<hr>"
    },
    {
      "metadata": {
        "trusted": true,
        "_uuid": "d296ecf3432c28312feb0784abb4967686f7e0bc"
      },
      "cell_type": "code",
      "source": "mySeries['b']",
      "execution_count": 32,
      "outputs": [
        {
          "output_type": "execute_result",
          "execution_count": 32,
          "data": {
            "text/plain": "-5"
          },
          "metadata": {}
        }
      ]
    },
    {
      "metadata": {
        "_uuid": "b0276f695b6ee645cf6c65fc15198973b1bf1b2f"
      },
      "cell_type": "markdown",
      "source": "### **df[n:n]** <a id=\"38\"></a>\nThis code fetches data from N to N.\n\n<mark>[Return Contents](#0)\n<hr>"
    },
    {
      "metadata": {
        "trusted": true,
        "_uuid": "68fc73b45d10fbba5dbf09ebcf87621885bf1787"
      },
      "cell_type": "code",
      "source": "df[1982:]\n#Or\n#df[5:7]",
      "execution_count": 33,
      "outputs": [
        {
          "output_type": "execute_result",
          "execution_count": 33,
          "data": {
            "text/plain": "            Date          Open      ...          Volume     Adj Close\n1982  2008-08-18  11659.650391      ...       156290000  11479.389648\n1983  2008-08-15  11611.209961      ...       215040000  11659.900391\n1984  2008-08-14  11532.070312      ...       159790000  11615.929688\n1985  2008-08-13  11632.809570      ...       182550000  11532.959961\n1986  2008-08-12  11781.700195      ...       173590000  11642.469727\n1987  2008-08-11  11729.669922      ...       183190000  11782.349609\n1988  2008-08-08  11432.089844      ...       212830000  11734.320312\n\n[7 rows x 7 columns]",
            "text/html": "<div>\n<style scoped>\n    .dataframe tbody tr th:only-of-type {\n        vertical-align: middle;\n    }\n\n    .dataframe tbody tr th {\n        vertical-align: top;\n    }\n\n    .dataframe thead th {\n        text-align: right;\n    }\n</style>\n<table border=\"1\" class=\"dataframe\">\n  <thead>\n    <tr style=\"text-align: right;\">\n      <th></th>\n      <th>Date</th>\n      <th>Open</th>\n      <th>High</th>\n      <th>Low</th>\n      <th>Close</th>\n      <th>Volume</th>\n      <th>Adj Close</th>\n    </tr>\n  </thead>\n  <tbody>\n    <tr>\n      <th>1982</th>\n      <td>2008-08-18</td>\n      <td>11659.650391</td>\n      <td>11690.429688</td>\n      <td>11434.120117</td>\n      <td>11479.389648</td>\n      <td>156290000</td>\n      <td>11479.389648</td>\n    </tr>\n    <tr>\n      <th>1983</th>\n      <td>2008-08-15</td>\n      <td>11611.209961</td>\n      <td>11709.889648</td>\n      <td>11599.730469</td>\n      <td>11659.900391</td>\n      <td>215040000</td>\n      <td>11659.900391</td>\n    </tr>\n    <tr>\n      <th>1984</th>\n      <td>2008-08-14</td>\n      <td>11532.070312</td>\n      <td>11718.280273</td>\n      <td>11450.889648</td>\n      <td>11615.929688</td>\n      <td>159790000</td>\n      <td>11615.929688</td>\n    </tr>\n    <tr>\n      <th>1985</th>\n      <td>2008-08-13</td>\n      <td>11632.809570</td>\n      <td>11633.780273</td>\n      <td>11453.339844</td>\n      <td>11532.959961</td>\n      <td>182550000</td>\n      <td>11532.959961</td>\n    </tr>\n    <tr>\n      <th>1986</th>\n      <td>2008-08-12</td>\n      <td>11781.700195</td>\n      <td>11782.349609</td>\n      <td>11601.519531</td>\n      <td>11642.469727</td>\n      <td>173590000</td>\n      <td>11642.469727</td>\n    </tr>\n    <tr>\n      <th>1987</th>\n      <td>2008-08-11</td>\n      <td>11729.669922</td>\n      <td>11867.110352</td>\n      <td>11675.530273</td>\n      <td>11782.349609</td>\n      <td>183190000</td>\n      <td>11782.349609</td>\n    </tr>\n    <tr>\n      <th>1988</th>\n      <td>2008-08-08</td>\n      <td>11432.089844</td>\n      <td>11759.959961</td>\n      <td>11388.040039</td>\n      <td>11734.320312</td>\n      <td>212830000</td>\n      <td>11734.320312</td>\n    </tr>\n  </tbody>\n</table>\n</div>"
          },
          "metadata": {}
        }
      ]
    },
    {
      "metadata": {
        "_uuid": "0d16f5649598feb417b990ac8d6e1571a193ef35"
      },
      "cell_type": "markdown",
      "source": "### **df.iloc[[n],[n]]** <a id=\"39\"></a>\nThis code brings the data in the N row and N column in the DataFrame.\n\n<mark>[Return Contents](#0)\n<hr>"
    },
    {
      "metadata": {
        "trusted": true,
        "_uuid": "de6796a0684aac7f6c37c9c9ff3e67308ba20adb"
      },
      "cell_type": "code",
      "source": "df.iloc[[0],[3]]",
      "execution_count": 34,
      "outputs": [
        {
          "output_type": "execute_result",
          "execution_count": 34,
          "data": {
            "text/plain": "            Low\n0  17916.910156",
            "text/html": "<div>\n<style scoped>\n    .dataframe tbody tr th:only-of-type {\n        vertical-align: middle;\n    }\n\n    .dataframe tbody tr th {\n        vertical-align: top;\n    }\n\n    .dataframe thead th {\n        text-align: right;\n    }\n</style>\n<table border=\"1\" class=\"dataframe\">\n  <thead>\n    <tr style=\"text-align: right;\">\n      <th></th>\n      <th>Low</th>\n    </tr>\n  </thead>\n  <tbody>\n    <tr>\n      <th>0</th>\n      <td>17916.910156</td>\n    </tr>\n  </tbody>\n</table>\n</div>"
          },
          "metadata": {}
        }
      ]
    },
    {
      "metadata": {
        "_uuid": "bb3b27a4c73fa3bccaf3457e8a6a8bacdb7f8b88"
      },
      "cell_type": "markdown",
      "source": "### **df.loc[n:n]** <a id=\"40\"></a>\nThis code allows us to fetch the data in the range we specify.\n\n<mark>[Return Contents](#0)\n<hr>"
    },
    {
      "metadata": {
        "trusted": true,
        "_uuid": "e0791dc5f7012b248d6216bc3edfc5af591c50ea"
      },
      "cell_type": "code",
      "source": "#df.loc[n:]\n# OR\ndf.loc[5:7]",
      "execution_count": 35,
      "outputs": [
        {
          "output_type": "execute_result",
          "execution_count": 35,
          "data": {
            "text/plain": "         Date          Open      ...          Volume     Adj Close\n5  2016-06-24  17946.630859      ...       239000000  17400.750000\n6  2016-06-23  17844.109375      ...        98070000  18011.070312\n7  2016-06-22  17832.669922      ...        89440000  17780.830078\n\n[3 rows x 7 columns]",
            "text/html": "<div>\n<style scoped>\n    .dataframe tbody tr th:only-of-type {\n        vertical-align: middle;\n    }\n\n    .dataframe tbody tr th {\n        vertical-align: top;\n    }\n\n    .dataframe thead th {\n        text-align: right;\n    }\n</style>\n<table border=\"1\" class=\"dataframe\">\n  <thead>\n    <tr style=\"text-align: right;\">\n      <th></th>\n      <th>Date</th>\n      <th>Open</th>\n      <th>High</th>\n      <th>Low</th>\n      <th>Close</th>\n      <th>Volume</th>\n      <th>Adj Close</th>\n    </tr>\n  </thead>\n  <tbody>\n    <tr>\n      <th>5</th>\n      <td>2016-06-24</td>\n      <td>17946.630859</td>\n      <td>17946.630859</td>\n      <td>17356.339844</td>\n      <td>17400.750000</td>\n      <td>239000000</td>\n      <td>17400.750000</td>\n    </tr>\n    <tr>\n      <th>6</th>\n      <td>2016-06-23</td>\n      <td>17844.109375</td>\n      <td>18011.070312</td>\n      <td>17844.109375</td>\n      <td>18011.070312</td>\n      <td>98070000</td>\n      <td>18011.070312</td>\n    </tr>\n    <tr>\n      <th>7</th>\n      <td>2016-06-22</td>\n      <td>17832.669922</td>\n      <td>17920.160156</td>\n      <td>17770.359375</td>\n      <td>17780.830078</td>\n      <td>89440000</td>\n      <td>17780.830078</td>\n    </tr>\n  </tbody>\n</table>\n</div>"
          },
          "metadata": {}
        }
      ]
    },
    {
      "metadata": {
        "_uuid": "5d7dfc275348d58e53436938e96d3233b4d6753e"
      },
      "cell_type": "markdown",
      "source": "### **df['columnName']** <a id=\"41\"></a>\nWith this code, we can select and bring any column we want.\n\n<mark>[Return Contents](#0)\n<hr>"
    },
    {
      "metadata": {
        "trusted": true,
        "_uuid": "da3167e40f0419054bde6e6d168bb22bce24973b"
      },
      "cell_type": "code",
      "source": "df['Open'].head()\n# OR\n# df.Open",
      "execution_count": 36,
      "outputs": [
        {
          "output_type": "execute_result",
          "execution_count": 36,
          "data": {
            "text/plain": "0    17924.240234\n1    17712.759766\n2    17456.019531\n3    17190.509766\n4    17355.210938\nName: Open, dtype: float64"
          },
          "metadata": {}
        }
      ]
    },
    {
      "metadata": {
        "_uuid": "394d9e7a7b3bd7077a490a264ef4d308e035771f"
      },
      "cell_type": "markdown",
      "source": "### **df['columnName'][n]** <a id=\"42\"></a>\nWith this code, we can select and return any value of the column we want.\n\n<mark>[Return Contents](#0)\n<hr>"
    },
    {
      "metadata": {
        "trusted": true,
        "_uuid": "40f514f220034b9d27c8390147c577f69a5c5dac"
      },
      "cell_type": "code",
      "source": "df['Open'][0]\n# OR\n# df.Open[0]\n# df[\"Open\"][1]\n# df.loc[1,[\"Open\"]]",
      "execution_count": 37,
      "outputs": [
        {
          "output_type": "execute_result",
          "execution_count": 37,
          "data": {
            "text/plain": "17924.240234"
          },
          "metadata": {}
        }
      ]
    },
    {
      "metadata": {
        "_uuid": "714c9cc591916b1bd88f2bc164a76aa37092ab3e"
      },
      "cell_type": "markdown",
      "source": "### **df['columnName'].nunique()** <a id=\"43\"></a>\nThis code shows how many of the data that is in the selected column and does not repeat.\n\n<mark>[Return Contents](#0)\n<hr>"
    },
    {
      "metadata": {
        "trusted": true,
        "_uuid": "7e5559e6f63e2d975e99666574f110b87a58e74a"
      },
      "cell_type": "code",
      "source": "df['Open'].nunique()",
      "execution_count": 38,
      "outputs": [
        {
          "output_type": "execute_result",
          "execution_count": 38,
          "data": {
            "text/plain": "1980"
          },
          "metadata": {}
        }
      ]
    },
    {
      "metadata": {
        "_uuid": "1326f2c62207fd3345f16bfc5728b8ddf3988257"
      },
      "cell_type": "markdown",
      "source": "### **df['columnName'].unique()** <a id=\"44\"></a>\nThis code shows which of the data in the selected column repeats.\n\n<mark>[Return Contents](#0)\n<hr>"
    },
    {
      "metadata": {
        "trusted": true,
        "_uuid": "88ffb43d255ad0a471be3a27732e3c5158ba8fd7"
      },
      "cell_type": "code",
      "source": "df['Open'].unique()\n# We can write the above code as follows:: df.Open.unique()",
      "execution_count": 39,
      "outputs": [
        {
          "output_type": "execute_result",
          "execution_count": 39,
          "data": {
            "text/plain": "array([17924.240234, 17712.759766, 17456.019531, ..., 11781.700195,\n       11729.669922, 11432.089844])"
          },
          "metadata": {}
        }
      ]
    },
    {
      "metadata": {
        "_uuid": "a394405d4c8055ace028e2b360af9a495e3aca79"
      },
      "cell_type": "markdown",
      "source": "### **df.columnName** <a id=\"45\"></a>\nThis code is another way to select the column we want.\n\n<mark>[Return Contents](#0)\n<hr>"
    },
    {
      "metadata": {
        "trusted": true,
        "_uuid": "5fb80a8a47528d73d77d0369d27ad02855a675e6"
      },
      "cell_type": "code",
      "source": "df.Open.head()",
      "execution_count": 40,
      "outputs": [
        {
          "output_type": "execute_result",
          "execution_count": 40,
          "data": {
            "text/plain": "0    17924.240234\n1    17712.759766\n2    17456.019531\n3    17190.509766\n4    17355.210938\nName: Open, dtype: float64"
          },
          "metadata": {}
        }
      ]
    },
    {
      "metadata": {
        "_uuid": "260398cf0a5fd7774021f5b85aa651d76869fe61"
      },
      "cell_type": "markdown",
      "source": "### **df['columnName'].value_counts(dropna =False)** <a id=\"46\"></a>\nThis code counts all of the data in the column we have specified, but does not count the null/none values.\n\n<mark>[Return Contents](#0)\n<hr>"
    },
    {
      "metadata": {
        "trusted": true,
        "_uuid": "6bed66e2f74a1f00e10fad7cf874b962cb3bdfc8"
      },
      "cell_type": "code",
      "source": "print(df.Open.value_counts(dropna =True).head())\n# OR\n# print(df['Item'].value_counts(dropna =False))",
      "execution_count": 41,
      "outputs": [
        {
          "output_type": "stream",
          "text": "17374.779297    2\n18033.330078    2\n10309.389648    2\n17711.119141    2\n17812.250000    2\nName: Open, dtype: int64\n",
          "name": "stdout"
        }
      ]
    },
    {
      "metadata": {
        "_uuid": "f9b78c632be9052e8713a529fd74dd59ae769b71"
      },
      "cell_type": "markdown",
      "source": "### **df.head(n)** <a id=\"47\"></a>\nThis code optionally brings in the first 5 data. returns the number of data that you type instead of N.\n\n<mark>[Return Contents](#0)\n<hr>"
    },
    {
      "metadata": {
        "trusted": true,
        "_uuid": "e9751b0512899f2d84eb07d8bd24b45351f564a3"
      },
      "cell_type": "code",
      "source": "df.head()\n# OR\n# df.head(15)",
      "execution_count": 42,
      "outputs": [
        {
          "output_type": "execute_result",
          "execution_count": 42,
          "data": {
            "text/plain": "         Date          Open      ...          Volume     Adj Close\n0  2016-07-01  17924.240234      ...        82160000  17949.369141\n1  2016-06-30  17712.759766      ...       133030000  17929.990234\n2  2016-06-29  17456.019531      ...       106380000  17694.679688\n3  2016-06-28  17190.509766      ...       112190000  17409.720703\n4  2016-06-27  17355.210938      ...       138740000  17140.240234\n\n[5 rows x 7 columns]",
            "text/html": "<div>\n<style scoped>\n    .dataframe tbody tr th:only-of-type {\n        vertical-align: middle;\n    }\n\n    .dataframe tbody tr th {\n        vertical-align: top;\n    }\n\n    .dataframe thead th {\n        text-align: right;\n    }\n</style>\n<table border=\"1\" class=\"dataframe\">\n  <thead>\n    <tr style=\"text-align: right;\">\n      <th></th>\n      <th>Date</th>\n      <th>Open</th>\n      <th>High</th>\n      <th>Low</th>\n      <th>Close</th>\n      <th>Volume</th>\n      <th>Adj Close</th>\n    </tr>\n  </thead>\n  <tbody>\n    <tr>\n      <th>0</th>\n      <td>2016-07-01</td>\n      <td>17924.240234</td>\n      <td>18002.380859</td>\n      <td>17916.910156</td>\n      <td>17949.369141</td>\n      <td>82160000</td>\n      <td>17949.369141</td>\n    </tr>\n    <tr>\n      <th>1</th>\n      <td>2016-06-30</td>\n      <td>17712.759766</td>\n      <td>17930.609375</td>\n      <td>17711.800781</td>\n      <td>17929.990234</td>\n      <td>133030000</td>\n      <td>17929.990234</td>\n    </tr>\n    <tr>\n      <th>2</th>\n      <td>2016-06-29</td>\n      <td>17456.019531</td>\n      <td>17704.509766</td>\n      <td>17456.019531</td>\n      <td>17694.679688</td>\n      <td>106380000</td>\n      <td>17694.679688</td>\n    </tr>\n    <tr>\n      <th>3</th>\n      <td>2016-06-28</td>\n      <td>17190.509766</td>\n      <td>17409.720703</td>\n      <td>17190.509766</td>\n      <td>17409.720703</td>\n      <td>112190000</td>\n      <td>17409.720703</td>\n    </tr>\n    <tr>\n      <th>4</th>\n      <td>2016-06-27</td>\n      <td>17355.210938</td>\n      <td>17355.210938</td>\n      <td>17063.080078</td>\n      <td>17140.240234</td>\n      <td>138740000</td>\n      <td>17140.240234</td>\n    </tr>\n  </tbody>\n</table>\n</div>"
          },
          "metadata": {}
        }
      ]
    },
    {
      "metadata": {
        "_uuid": "be2de7201deaea863247067fe5432746c0d04cba"
      },
      "cell_type": "markdown",
      "source": "### **df.tail(n)** <a id=\"48\"></a>\nThis code optionally brings 5 data at the end. returns the number of data that you type instead of N.\n\n<mark>[Return Contents](#0)\n<hr>"
    },
    {
      "metadata": {
        "trusted": true,
        "_uuid": "318f20d9624d31dc6a3f8150523b266da9acfcc5"
      },
      "cell_type": "code",
      "source": "df.tail()\n# OR\n# df.tail(20)",
      "execution_count": 43,
      "outputs": [
        {
          "output_type": "execute_result",
          "execution_count": 43,
          "data": {
            "text/plain": "            Date          Open      ...          Volume     Adj Close\n1984  2008-08-14  11532.070312      ...       159790000  11615.929688\n1985  2008-08-13  11632.809570      ...       182550000  11532.959961\n1986  2008-08-12  11781.700195      ...       173590000  11642.469727\n1987  2008-08-11  11729.669922      ...       183190000  11782.349609\n1988  2008-08-08  11432.089844      ...       212830000  11734.320312\n\n[5 rows x 7 columns]",
            "text/html": "<div>\n<style scoped>\n    .dataframe tbody tr th:only-of-type {\n        vertical-align: middle;\n    }\n\n    .dataframe tbody tr th {\n        vertical-align: top;\n    }\n\n    .dataframe thead th {\n        text-align: right;\n    }\n</style>\n<table border=\"1\" class=\"dataframe\">\n  <thead>\n    <tr style=\"text-align: right;\">\n      <th></th>\n      <th>Date</th>\n      <th>Open</th>\n      <th>High</th>\n      <th>Low</th>\n      <th>Close</th>\n      <th>Volume</th>\n      <th>Adj Close</th>\n    </tr>\n  </thead>\n  <tbody>\n    <tr>\n      <th>1984</th>\n      <td>2008-08-14</td>\n      <td>11532.070312</td>\n      <td>11718.280273</td>\n      <td>11450.889648</td>\n      <td>11615.929688</td>\n      <td>159790000</td>\n      <td>11615.929688</td>\n    </tr>\n    <tr>\n      <th>1985</th>\n      <td>2008-08-13</td>\n      <td>11632.809570</td>\n      <td>11633.780273</td>\n      <td>11453.339844</td>\n      <td>11532.959961</td>\n      <td>182550000</td>\n      <td>11532.959961</td>\n    </tr>\n    <tr>\n      <th>1986</th>\n      <td>2008-08-12</td>\n      <td>11781.700195</td>\n      <td>11782.349609</td>\n      <td>11601.519531</td>\n      <td>11642.469727</td>\n      <td>173590000</td>\n      <td>11642.469727</td>\n    </tr>\n    <tr>\n      <th>1987</th>\n      <td>2008-08-11</td>\n      <td>11729.669922</td>\n      <td>11867.110352</td>\n      <td>11675.530273</td>\n      <td>11782.349609</td>\n      <td>183190000</td>\n      <td>11782.349609</td>\n    </tr>\n    <tr>\n      <th>1988</th>\n      <td>2008-08-08</td>\n      <td>11432.089844</td>\n      <td>11759.959961</td>\n      <td>11388.040039</td>\n      <td>11734.320312</td>\n      <td>212830000</td>\n      <td>11734.320312</td>\n    </tr>\n  </tbody>\n</table>\n</div>"
          },
          "metadata": {}
        }
      ]
    },
    {
      "metadata": {
        "_uuid": "fb84fc0ec1005c386ca34948dbc31a2f78482524"
      },
      "cell_type": "markdown",
      "source": "### **df.sample(n)** <a id=\"49\"></a>\nThis code fetches random n data from the data.\n\n<mark>[Return Contents](#0)\n<hr>"
    },
    {
      "metadata": {
        "trusted": true,
        "_uuid": "9b7035347af1daf7a0ad44800c58655ec290a5ad"
      },
      "cell_type": "code",
      "source": "df.sample(5)",
      "execution_count": 44,
      "outputs": [
        {
          "output_type": "execute_result",
          "execution_count": 44,
          "data": {
            "text/plain": "            Date          Open      ...          Volume     Adj Close\n170   2015-10-28  17586.689453      ...       115630000  17779.519531\n1744  2009-07-29   9092.339844      ...       190510000   9070.719727\n1322  2011-03-31  12350.759766      ...       186140000  12319.730469\n1551  2010-05-05  10918.400391      ...       218830000  10866.830078\n1912  2008-11-25   8445.139648      ...       374020000   8479.469727\n\n[5 rows x 7 columns]",
            "text/html": "<div>\n<style scoped>\n    .dataframe tbody tr th:only-of-type {\n        vertical-align: middle;\n    }\n\n    .dataframe tbody tr th {\n        vertical-align: top;\n    }\n\n    .dataframe thead th {\n        text-align: right;\n    }\n</style>\n<table border=\"1\" class=\"dataframe\">\n  <thead>\n    <tr style=\"text-align: right;\">\n      <th></th>\n      <th>Date</th>\n      <th>Open</th>\n      <th>High</th>\n      <th>Low</th>\n      <th>Close</th>\n      <th>Volume</th>\n      <th>Adj Close</th>\n    </tr>\n  </thead>\n  <tbody>\n    <tr>\n      <th>170</th>\n      <td>2015-10-28</td>\n      <td>17586.689453</td>\n      <td>17779.949219</td>\n      <td>17556.710938</td>\n      <td>17779.519531</td>\n      <td>115630000</td>\n      <td>17779.519531</td>\n    </tr>\n    <tr>\n      <th>1744</th>\n      <td>2009-07-29</td>\n      <td>9092.339844</td>\n      <td>9094.830078</td>\n      <td>9014.190430</td>\n      <td>9070.719727</td>\n      <td>190510000</td>\n      <td>9070.719727</td>\n    </tr>\n    <tr>\n      <th>1322</th>\n      <td>2011-03-31</td>\n      <td>12350.759766</td>\n      <td>12381.679688</td>\n      <td>12319.009766</td>\n      <td>12319.730469</td>\n      <td>186140000</td>\n      <td>12319.730469</td>\n    </tr>\n    <tr>\n      <th>1551</th>\n      <td>2010-05-05</td>\n      <td>10918.400391</td>\n      <td>10946.790039</td>\n      <td>10814.839844</td>\n      <td>10866.830078</td>\n      <td>218830000</td>\n      <td>10866.830078</td>\n    </tr>\n    <tr>\n      <th>1912</th>\n      <td>2008-11-25</td>\n      <td>8445.139648</td>\n      <td>8607.379883</td>\n      <td>8281.459961</td>\n      <td>8479.469727</td>\n      <td>374020000</td>\n      <td>8479.469727</td>\n    </tr>\n  </tbody>\n</table>\n</div>"
          },
          "metadata": {}
        }
      ]
    },
    {
      "metadata": {
        "_uuid": "5fc0c9e236247779b6f929004ba980bf2bb3487a"
      },
      "cell_type": "markdown",
      "source": "### **df.sample(frac=0.5)** <a id=\"50\"></a>\nThis code selects the fractions of random rows and fetches the data to that extent.\n\n<mark>[Return Contents](#0)\n<hr>"
    },
    {
      "metadata": {
        "trusted": true,
        "_uuid": "501b38a9b6abe3f5fed9da98a0d4d0fb095fe2c5"
      },
      "cell_type": "code",
      "source": "df.sample(frac=0.5).head()",
      "execution_count": 45,
      "outputs": [
        {
          "output_type": "execute_result",
          "execution_count": 45,
          "data": {
            "text/plain": "            Date          Open      ...          Volume     Adj Close\n60    2016-04-07  17687.279297      ...        90120000  17541.960938\n1104  2012-02-10  12889.549805      ...       123620000  12801.230469\n222   2015-08-14  17410.119141      ...        82120000  17477.400391\n1420  2010-11-09  11403.589844      ...       161910000  11346.750000\n924   2012-10-26  13104.219727      ...       134640000  13107.209961\n\n[5 rows x 7 columns]",
            "text/html": "<div>\n<style scoped>\n    .dataframe tbody tr th:only-of-type {\n        vertical-align: middle;\n    }\n\n    .dataframe tbody tr th {\n        vertical-align: top;\n    }\n\n    .dataframe thead th {\n        text-align: right;\n    }\n</style>\n<table border=\"1\" class=\"dataframe\">\n  <thead>\n    <tr style=\"text-align: right;\">\n      <th></th>\n      <th>Date</th>\n      <th>Open</th>\n      <th>High</th>\n      <th>Low</th>\n      <th>Close</th>\n      <th>Volume</th>\n      <th>Adj Close</th>\n    </tr>\n  </thead>\n  <tbody>\n    <tr>\n      <th>60</th>\n      <td>2016-04-07</td>\n      <td>17687.279297</td>\n      <td>17687.279297</td>\n      <td>17484.230469</td>\n      <td>17541.960938</td>\n      <td>90120000</td>\n      <td>17541.960938</td>\n    </tr>\n    <tr>\n      <th>1104</th>\n      <td>2012-02-10</td>\n      <td>12889.549805</td>\n      <td>12889.629883</td>\n      <td>12743.559570</td>\n      <td>12801.230469</td>\n      <td>123620000</td>\n      <td>12801.230469</td>\n    </tr>\n    <tr>\n      <th>222</th>\n      <td>2015-08-14</td>\n      <td>17410.119141</td>\n      <td>17492.900391</td>\n      <td>17394.060547</td>\n      <td>17477.400391</td>\n      <td>82120000</td>\n      <td>17477.400391</td>\n    </tr>\n    <tr>\n      <th>1420</th>\n      <td>2010-11-09</td>\n      <td>11403.589844</td>\n      <td>11421.139648</td>\n      <td>11303.190430</td>\n      <td>11346.750000</td>\n      <td>161910000</td>\n      <td>11346.750000</td>\n    </tr>\n    <tr>\n      <th>924</th>\n      <td>2012-10-26</td>\n      <td>13104.219727</td>\n      <td>13151.719727</td>\n      <td>13040.169922</td>\n      <td>13107.209961</td>\n      <td>134640000</td>\n      <td>13107.209961</td>\n    </tr>\n  </tbody>\n</table>\n</div>"
          },
          "metadata": {}
        }
      ]
    },
    {
      "metadata": {
        "_uuid": "f900885737988b1cb56df881fda6920eaa07381c"
      },
      "cell_type": "markdown",
      "source": "### **df.nlargest(n,'columnName')** <a id=\"51\"></a>\nThis code brings N from the column where we have specified the largest data.\n\n<mark>[Return Contents](#0)\n<hr>"
    },
    {
      "metadata": {
        "trusted": true,
        "_uuid": "2d61d5cb304bf17ef3ec00395152afece27eea42"
      },
      "cell_type": "code",
      "source": "df.nlargest(5,'Open')",
      "execution_count": 46,
      "outputs": [
        {
          "output_type": "execute_result",
          "execution_count": 46,
          "data": {
            "text/plain": "           Date          Open      ...         Volume     Adj Close\n282  2015-05-20  18315.060547      ...       80190000  18285.400391\n283  2015-05-19  18300.480469      ...       87200000  18312.390625\n280  2015-05-22  18286.869141      ...       78890000  18232.019531\n281  2015-05-21  18285.869141      ...       84270000  18285.740234\n337  2015-03-03  18281.949219      ...       83830000  18203.369141\n\n[5 rows x 7 columns]",
            "text/html": "<div>\n<style scoped>\n    .dataframe tbody tr th:only-of-type {\n        vertical-align: middle;\n    }\n\n    .dataframe tbody tr th {\n        vertical-align: top;\n    }\n\n    .dataframe thead th {\n        text-align: right;\n    }\n</style>\n<table border=\"1\" class=\"dataframe\">\n  <thead>\n    <tr style=\"text-align: right;\">\n      <th></th>\n      <th>Date</th>\n      <th>Open</th>\n      <th>High</th>\n      <th>Low</th>\n      <th>Close</th>\n      <th>Volume</th>\n      <th>Adj Close</th>\n    </tr>\n  </thead>\n  <tbody>\n    <tr>\n      <th>282</th>\n      <td>2015-05-20</td>\n      <td>18315.060547</td>\n      <td>18350.130859</td>\n      <td>18272.560547</td>\n      <td>18285.400391</td>\n      <td>80190000</td>\n      <td>18285.400391</td>\n    </tr>\n    <tr>\n      <th>283</th>\n      <td>2015-05-19</td>\n      <td>18300.480469</td>\n      <td>18351.359375</td>\n      <td>18261.349609</td>\n      <td>18312.390625</td>\n      <td>87200000</td>\n      <td>18312.390625</td>\n    </tr>\n    <tr>\n      <th>280</th>\n      <td>2015-05-22</td>\n      <td>18286.869141</td>\n      <td>18286.869141</td>\n      <td>18217.140625</td>\n      <td>18232.019531</td>\n      <td>78890000</td>\n      <td>18232.019531</td>\n    </tr>\n    <tr>\n      <th>281</th>\n      <td>2015-05-21</td>\n      <td>18285.869141</td>\n      <td>18314.890625</td>\n      <td>18249.900391</td>\n      <td>18285.740234</td>\n      <td>84270000</td>\n      <td>18285.740234</td>\n    </tr>\n    <tr>\n      <th>337</th>\n      <td>2015-03-03</td>\n      <td>18281.949219</td>\n      <td>18281.949219</td>\n      <td>18136.880859</td>\n      <td>18203.369141</td>\n      <td>83830000</td>\n      <td>18203.369141</td>\n    </tr>\n  </tbody>\n</table>\n</div>"
          },
          "metadata": {}
        }
      ]
    },
    {
      "metadata": {
        "_uuid": "e925e067c524cabf599b4b4cc36c55332590a4b0"
      },
      "cell_type": "markdown",
      "source": "### **df.nsmallest(n,'columnName')** <a id=\"52\"></a>\nThis code brings N from the column where we have specified the smallest data.\n\n<mark>[Return Contents](#0)\n<hr>"
    },
    {
      "metadata": {
        "trusted": true,
        "_uuid": "1cb8e5e34abb9f9cbdc2963d9b8fdb0c0109c17d"
      },
      "cell_type": "code",
      "source": "df.nsmallest(3,'Open')",
      "execution_count": 47,
      "outputs": [
        {
          "output_type": "execute_result",
          "execution_count": 47,
          "data": {
            "text/plain": "            Date         Open     ...          Volume    Adj Close\n1842  2009-03-10  6547.009766     ...       640020000  6926.490234\n1844  2009-03-06  6595.160156     ...       425170000  6626.939941\n1843  2009-03-09  6625.740234     ...       365990000  6547.049805\n\n[3 rows x 7 columns]",
            "text/html": "<div>\n<style scoped>\n    .dataframe tbody tr th:only-of-type {\n        vertical-align: middle;\n    }\n\n    .dataframe tbody tr th {\n        vertical-align: top;\n    }\n\n    .dataframe thead th {\n        text-align: right;\n    }\n</style>\n<table border=\"1\" class=\"dataframe\">\n  <thead>\n    <tr style=\"text-align: right;\">\n      <th></th>\n      <th>Date</th>\n      <th>Open</th>\n      <th>High</th>\n      <th>Low</th>\n      <th>Close</th>\n      <th>Volume</th>\n      <th>Adj Close</th>\n    </tr>\n  </thead>\n  <tbody>\n    <tr>\n      <th>1842</th>\n      <td>2009-03-10</td>\n      <td>6547.009766</td>\n      <td>6926.490234</td>\n      <td>6546.609863</td>\n      <td>6926.490234</td>\n      <td>640020000</td>\n      <td>6926.490234</td>\n    </tr>\n    <tr>\n      <th>1844</th>\n      <td>2009-03-06</td>\n      <td>6595.160156</td>\n      <td>6755.169922</td>\n      <td>6469.950195</td>\n      <td>6626.939941</td>\n      <td>425170000</td>\n      <td>6626.939941</td>\n    </tr>\n    <tr>\n      <th>1843</th>\n      <td>2009-03-09</td>\n      <td>6625.740234</td>\n      <td>6709.609863</td>\n      <td>6516.859863</td>\n      <td>6547.049805</td>\n      <td>365990000</td>\n      <td>6547.049805</td>\n    </tr>\n  </tbody>\n</table>\n</div>"
          },
          "metadata": {}
        }
      ]
    },
    {
      "metadata": {
        "_uuid": "a51ee840ca8cd0400f2c4d95221158b25133d12f"
      },
      "cell_type": "markdown",
      "source": "### **df[df.columnName < 5]** <a id=\"53\"></a>\nThis code returns the column name we have specified, which is less than 5.\n\n<mark>[Return Contents](#0)\n<hr>"
    },
    {
      "metadata": {
        "trusted": true,
        "_uuid": "52be41ac78b67ca5c95a18199fa7f09f2d2efc4c"
      },
      "cell_type": "code",
      "source": "df[df.Open > 18281.949219]",
      "execution_count": 48,
      "outputs": [
        {
          "output_type": "execute_result",
          "execution_count": 48,
          "data": {
            "text/plain": "           Date          Open      ...         Volume     Adj Close\n280  2015-05-22  18286.869141      ...       78890000  18232.019531\n281  2015-05-21  18285.869141      ...       84270000  18285.740234\n282  2015-05-20  18315.060547      ...       80190000  18285.400391\n283  2015-05-19  18300.480469      ...       87200000  18312.390625\n\n[4 rows x 7 columns]",
            "text/html": "<div>\n<style scoped>\n    .dataframe tbody tr th:only-of-type {\n        vertical-align: middle;\n    }\n\n    .dataframe tbody tr th {\n        vertical-align: top;\n    }\n\n    .dataframe thead th {\n        text-align: right;\n    }\n</style>\n<table border=\"1\" class=\"dataframe\">\n  <thead>\n    <tr style=\"text-align: right;\">\n      <th></th>\n      <th>Date</th>\n      <th>Open</th>\n      <th>High</th>\n      <th>Low</th>\n      <th>Close</th>\n      <th>Volume</th>\n      <th>Adj Close</th>\n    </tr>\n  </thead>\n  <tbody>\n    <tr>\n      <th>280</th>\n      <td>2015-05-22</td>\n      <td>18286.869141</td>\n      <td>18286.869141</td>\n      <td>18217.140625</td>\n      <td>18232.019531</td>\n      <td>78890000</td>\n      <td>18232.019531</td>\n    </tr>\n    <tr>\n      <th>281</th>\n      <td>2015-05-21</td>\n      <td>18285.869141</td>\n      <td>18314.890625</td>\n      <td>18249.900391</td>\n      <td>18285.740234</td>\n      <td>84270000</td>\n      <td>18285.740234</td>\n    </tr>\n    <tr>\n      <th>282</th>\n      <td>2015-05-20</td>\n      <td>18315.060547</td>\n      <td>18350.130859</td>\n      <td>18272.560547</td>\n      <td>18285.400391</td>\n      <td>80190000</td>\n      <td>18285.400391</td>\n    </tr>\n    <tr>\n      <th>283</th>\n      <td>2015-05-19</td>\n      <td>18300.480469</td>\n      <td>18351.359375</td>\n      <td>18261.349609</td>\n      <td>18312.390625</td>\n      <td>87200000</td>\n      <td>18312.390625</td>\n    </tr>\n  </tbody>\n</table>\n</div>"
          },
          "metadata": {}
        }
      ]
    },
    {
      "metadata": {
        "_uuid": "b0ff118b7df06756d55ce9196aa558325e214b23"
      },
      "cell_type": "markdown",
      "source": "### **df[['columnName','columnName']]** <a id=\"54\"></a>\nThis code helps us pick and bring any columns we want.\n\n<mark>[Return Contents](#0)\n<hr>"
    },
    {
      "metadata": {
        "trusted": true,
        "_uuid": "979f91158aaba4a2c287c70096c4f63f289da3e5"
      },
      "cell_type": "code",
      "source": "df[['High','Low']].head()\n# df.loc[:,[\"High\",\"Low\"]]",
      "execution_count": 49,
      "outputs": [
        {
          "output_type": "execute_result",
          "execution_count": 49,
          "data": {
            "text/plain": "           High           Low\n0  18002.380859  17916.910156\n1  17930.609375  17711.800781\n2  17704.509766  17456.019531\n3  17409.720703  17190.509766\n4  17355.210938  17063.080078",
            "text/html": "<div>\n<style scoped>\n    .dataframe tbody tr th:only-of-type {\n        vertical-align: middle;\n    }\n\n    .dataframe tbody tr th {\n        vertical-align: top;\n    }\n\n    .dataframe thead th {\n        text-align: right;\n    }\n</style>\n<table border=\"1\" class=\"dataframe\">\n  <thead>\n    <tr style=\"text-align: right;\">\n      <th></th>\n      <th>High</th>\n      <th>Low</th>\n    </tr>\n  </thead>\n  <tbody>\n    <tr>\n      <th>0</th>\n      <td>18002.380859</td>\n      <td>17916.910156</td>\n    </tr>\n    <tr>\n      <th>1</th>\n      <td>17930.609375</td>\n      <td>17711.800781</td>\n    </tr>\n    <tr>\n      <th>2</th>\n      <td>17704.509766</td>\n      <td>17456.019531</td>\n    </tr>\n    <tr>\n      <th>3</th>\n      <td>17409.720703</td>\n      <td>17190.509766</td>\n    </tr>\n    <tr>\n      <th>4</th>\n      <td>17355.210938</td>\n      <td>17063.080078</td>\n    </tr>\n  </tbody>\n</table>\n</div>"
          },
          "metadata": {}
        }
      ]
    },
    {
      "metadata": {
        "_uuid": "33045814a6e5e2735bedffbfe5c69184e7e2a68a"
      },
      "cell_type": "markdown",
      "source": "### **df.loc[:,\"columnName1\":\"columnName2\"]** <a id=\"55\"></a>\nThis code returns columns from columnname1 to columnname2.\n\n<mark>[Return Contents](#0)\n<hr>"
    },
    {
      "metadata": {
        "trusted": true,
        "_uuid": "3fef8f90c9972582f593a0af3dae462146bc871d"
      },
      "cell_type": "code",
      "source": "df.loc[:,\"Date\":\"Close\"].head()\n# OR\n# data.loc[:3,\"Date\":\"Close\"]",
      "execution_count": 50,
      "outputs": [
        {
          "output_type": "execute_result",
          "execution_count": 50,
          "data": {
            "text/plain": "         Date          Open      ...                Low         Close\n0  2016-07-01  17924.240234      ...       17916.910156  17949.369141\n1  2016-06-30  17712.759766      ...       17711.800781  17929.990234\n2  2016-06-29  17456.019531      ...       17456.019531  17694.679688\n3  2016-06-28  17190.509766      ...       17190.509766  17409.720703\n4  2016-06-27  17355.210938      ...       17063.080078  17140.240234\n\n[5 rows x 5 columns]",
            "text/html": "<div>\n<style scoped>\n    .dataframe tbody tr th:only-of-type {\n        vertical-align: middle;\n    }\n\n    .dataframe tbody tr th {\n        vertical-align: top;\n    }\n\n    .dataframe thead th {\n        text-align: right;\n    }\n</style>\n<table border=\"1\" class=\"dataframe\">\n  <thead>\n    <tr style=\"text-align: right;\">\n      <th></th>\n      <th>Date</th>\n      <th>Open</th>\n      <th>High</th>\n      <th>Low</th>\n      <th>Close</th>\n    </tr>\n  </thead>\n  <tbody>\n    <tr>\n      <th>0</th>\n      <td>2016-07-01</td>\n      <td>17924.240234</td>\n      <td>18002.380859</td>\n      <td>17916.910156</td>\n      <td>17949.369141</td>\n    </tr>\n    <tr>\n      <th>1</th>\n      <td>2016-06-30</td>\n      <td>17712.759766</td>\n      <td>17930.609375</td>\n      <td>17711.800781</td>\n      <td>17929.990234</td>\n    </tr>\n    <tr>\n      <th>2</th>\n      <td>2016-06-29</td>\n      <td>17456.019531</td>\n      <td>17704.509766</td>\n      <td>17456.019531</td>\n      <td>17694.679688</td>\n    </tr>\n    <tr>\n      <th>3</th>\n      <td>2016-06-28</td>\n      <td>17190.509766</td>\n      <td>17409.720703</td>\n      <td>17190.509766</td>\n      <td>17409.720703</td>\n    </tr>\n    <tr>\n      <th>4</th>\n      <td>2016-06-27</td>\n      <td>17355.210938</td>\n      <td>17355.210938</td>\n      <td>17063.080078</td>\n      <td>17140.240234</td>\n    </tr>\n  </tbody>\n</table>\n</div>"
          },
          "metadata": {}
        }
      ]
    },
    {
      "metadata": {
        "_uuid": "09d20f2795a29736a8a444f1f7bd1bdf3bb607d0"
      },
      "cell_type": "markdown",
      "source": "### **Create Filter** <a id=\"56\"></a>\n<mark>[Return Contents](#0)\n<hr>"
    },
    {
      "metadata": {
        "trusted": true,
        "_uuid": "920f513014e6ef5a46f13a71c24a0114e3fb9c44"
      },
      "cell_type": "code",
      "source": "filters = df.Date > '2016-06-27'\ndf[filters]",
      "execution_count": 51,
      "outputs": [
        {
          "output_type": "execute_result",
          "execution_count": 51,
          "data": {
            "text/plain": "         Date          Open      ...          Volume     Adj Close\n0  2016-07-01  17924.240234      ...        82160000  17949.369141\n1  2016-06-30  17712.759766      ...       133030000  17929.990234\n2  2016-06-29  17456.019531      ...       106380000  17694.679688\n3  2016-06-28  17190.509766      ...       112190000  17409.720703\n\n[4 rows x 7 columns]",
            "text/html": "<div>\n<style scoped>\n    .dataframe tbody tr th:only-of-type {\n        vertical-align: middle;\n    }\n\n    .dataframe tbody tr th {\n        vertical-align: top;\n    }\n\n    .dataframe thead th {\n        text-align: right;\n    }\n</style>\n<table border=\"1\" class=\"dataframe\">\n  <thead>\n    <tr style=\"text-align: right;\">\n      <th></th>\n      <th>Date</th>\n      <th>Open</th>\n      <th>High</th>\n      <th>Low</th>\n      <th>Close</th>\n      <th>Volume</th>\n      <th>Adj Close</th>\n    </tr>\n  </thead>\n  <tbody>\n    <tr>\n      <th>0</th>\n      <td>2016-07-01</td>\n      <td>17924.240234</td>\n      <td>18002.380859</td>\n      <td>17916.910156</td>\n      <td>17949.369141</td>\n      <td>82160000</td>\n      <td>17949.369141</td>\n    </tr>\n    <tr>\n      <th>1</th>\n      <td>2016-06-30</td>\n      <td>17712.759766</td>\n      <td>17930.609375</td>\n      <td>17711.800781</td>\n      <td>17929.990234</td>\n      <td>133030000</td>\n      <td>17929.990234</td>\n    </tr>\n    <tr>\n      <th>2</th>\n      <td>2016-06-29</td>\n      <td>17456.019531</td>\n      <td>17704.509766</td>\n      <td>17456.019531</td>\n      <td>17694.679688</td>\n      <td>106380000</td>\n      <td>17694.679688</td>\n    </tr>\n    <tr>\n      <th>3</th>\n      <td>2016-06-28</td>\n      <td>17190.509766</td>\n      <td>17409.720703</td>\n      <td>17190.509766</td>\n      <td>17409.720703</td>\n      <td>112190000</td>\n      <td>17409.720703</td>\n    </tr>\n  </tbody>\n</table>\n</div>"
          },
          "metadata": {}
        }
      ]
    },
    {
      "metadata": {
        "_uuid": "efa55b8fad561c2fa5b23cf16ada80388ffb1d89"
      },
      "cell_type": "markdown",
      "source": "### **df.filter(regex = 'code')** <a id=\"57\"></a>\nThis code allows regex to filter any data we want.\n\n<mark>[Return Contents](#0)\n<hr>"
    },
    {
      "metadata": {
        "trusted": true,
        "_uuid": "391f736af8220b16ffe4dd371e7d1701b22af190"
      },
      "cell_type": "code",
      "source": "df.filter(regex='^L').head()",
      "execution_count": 52,
      "outputs": [
        {
          "output_type": "execute_result",
          "execution_count": 52,
          "data": {
            "text/plain": "            Low\n0  17916.910156\n1  17711.800781\n2  17456.019531\n3  17190.509766\n4  17063.080078",
            "text/html": "<div>\n<style scoped>\n    .dataframe tbody tr th:only-of-type {\n        vertical-align: middle;\n    }\n\n    .dataframe tbody tr th {\n        vertical-align: top;\n    }\n\n    .dataframe thead th {\n        text-align: right;\n    }\n</style>\n<table border=\"1\" class=\"dataframe\">\n  <thead>\n    <tr style=\"text-align: right;\">\n      <th></th>\n      <th>Low</th>\n    </tr>\n  </thead>\n  <tbody>\n    <tr>\n      <th>0</th>\n      <td>17916.910156</td>\n    </tr>\n    <tr>\n      <th>1</th>\n      <td>17711.800781</td>\n    </tr>\n    <tr>\n      <th>2</th>\n      <td>17456.019531</td>\n    </tr>\n    <tr>\n      <th>3</th>\n      <td>17190.509766</td>\n    </tr>\n    <tr>\n      <th>4</th>\n      <td>17063.080078</td>\n    </tr>\n  </tbody>\n</table>\n</div>"
          },
          "metadata": {}
        }
      ]
    },
    {
      "metadata": {
        "_uuid": "98565ee61d70ee8c2684209457d341afd009cd52"
      },
      "cell_type": "markdown",
      "source": "### **np.logical_and** <a id=\"58\"></a>\nFiltering with logical_and. Lets look at the example.\n\n<mark>[Return Contents](#0)\n<hr>"
    },
    {
      "metadata": {
        "trusted": true,
        "_uuid": "502a7a68ee0e0901db77c9ef66b2b41946936396"
      },
      "cell_type": "code",
      "source": "df[np.logical_and(df['Open']>18281.949219, df['Date']>'2015-05-20' )]",
      "execution_count": 53,
      "outputs": [
        {
          "output_type": "execute_result",
          "execution_count": 53,
          "data": {
            "text/plain": "           Date          Open      ...         Volume     Adj Close\n280  2015-05-22  18286.869141      ...       78890000  18232.019531\n281  2015-05-21  18285.869141      ...       84270000  18285.740234\n\n[2 rows x 7 columns]",
            "text/html": "<div>\n<style scoped>\n    .dataframe tbody tr th:only-of-type {\n        vertical-align: middle;\n    }\n\n    .dataframe tbody tr th {\n        vertical-align: top;\n    }\n\n    .dataframe thead th {\n        text-align: right;\n    }\n</style>\n<table border=\"1\" class=\"dataframe\">\n  <thead>\n    <tr style=\"text-align: right;\">\n      <th></th>\n      <th>Date</th>\n      <th>Open</th>\n      <th>High</th>\n      <th>Low</th>\n      <th>Close</th>\n      <th>Volume</th>\n      <th>Adj Close</th>\n    </tr>\n  </thead>\n  <tbody>\n    <tr>\n      <th>280</th>\n      <td>2015-05-22</td>\n      <td>18286.869141</td>\n      <td>18286.869141</td>\n      <td>18217.140625</td>\n      <td>18232.019531</td>\n      <td>78890000</td>\n      <td>18232.019531</td>\n    </tr>\n    <tr>\n      <th>281</th>\n      <td>2015-05-21</td>\n      <td>18285.869141</td>\n      <td>18314.890625</td>\n      <td>18249.900391</td>\n      <td>18285.740234</td>\n      <td>84270000</td>\n      <td>18285.740234</td>\n    </tr>\n  </tbody>\n</table>\n</div>"
          },
          "metadata": {}
        }
      ]
    },
    {
      "metadata": {
        "_uuid": "be8cc807047dd7037f0013d573c58573649c3097"
      },
      "cell_type": "markdown",
      "source": "### **Filtering with &** <a id=\"59\"></a>\n<mark>[Return Contents](#0)\n<hr>"
    },
    {
      "metadata": {
        "trusted": true,
        "_uuid": "48930d97ce2d7aebf9fc44d41ef9a21b21ece804"
      },
      "cell_type": "code",
      "source": "df[(df['Open']>18281.949219) & (df['Date']>'2015-05-20')]",
      "execution_count": 54,
      "outputs": [
        {
          "output_type": "execute_result",
          "execution_count": 54,
          "data": {
            "text/plain": "           Date          Open      ...         Volume     Adj Close\n280  2015-05-22  18286.869141      ...       78890000  18232.019531\n281  2015-05-21  18285.869141      ...       84270000  18285.740234\n\n[2 rows x 7 columns]",
            "text/html": "<div>\n<style scoped>\n    .dataframe tbody tr th:only-of-type {\n        vertical-align: middle;\n    }\n\n    .dataframe tbody tr th {\n        vertical-align: top;\n    }\n\n    .dataframe thead th {\n        text-align: right;\n    }\n</style>\n<table border=\"1\" class=\"dataframe\">\n  <thead>\n    <tr style=\"text-align: right;\">\n      <th></th>\n      <th>Date</th>\n      <th>Open</th>\n      <th>High</th>\n      <th>Low</th>\n      <th>Close</th>\n      <th>Volume</th>\n      <th>Adj Close</th>\n    </tr>\n  </thead>\n  <tbody>\n    <tr>\n      <th>280</th>\n      <td>2015-05-22</td>\n      <td>18286.869141</td>\n      <td>18286.869141</td>\n      <td>18217.140625</td>\n      <td>18232.019531</td>\n      <td>78890000</td>\n      <td>18232.019531</td>\n    </tr>\n    <tr>\n      <th>281</th>\n      <td>2015-05-21</td>\n      <td>18285.869141</td>\n      <td>18314.890625</td>\n      <td>18249.900391</td>\n      <td>18285.740234</td>\n      <td>84270000</td>\n      <td>18285.740234</td>\n    </tr>\n  </tbody>\n</table>\n</div>"
          },
          "metadata": {}
        }
      ]
    },
    {
      "metadata": {
        "_uuid": "9bb0b4f8e2b1b4e5c4d1d54404078201fe64b774"
      },
      "cell_type": "markdown",
      "source": "# **Sort Data** <a id=\"60\"></a>\n\n<mark>[Return Contents](#0)\n<hr>\n\n### **df.sort_values('columnName')** <a id=\"61\"></a>\nThis code sorts the column we specify in the form of low to high."
    },
    {
      "metadata": {
        "trusted": true,
        "_uuid": "f15141d1d55decedc9682157f4f02be6ece75be2"
      },
      "cell_type": "code",
      "source": "df.sort_values('Open').head()",
      "execution_count": 55,
      "outputs": [
        {
          "output_type": "execute_result",
          "execution_count": 55,
          "data": {
            "text/plain": "            Date         Open     ...          Volume    Adj Close\n1842  2009-03-10  6547.009766     ...       640020000  6926.490234\n1844  2009-03-06  6595.160156     ...       425170000  6626.939941\n1843  2009-03-09  6625.740234     ...       365990000  6547.049805\n1846  2009-03-04  6726.500000     ...       464830000  6875.839844\n1847  2009-03-03  6764.810059     ...       445280000  6726.020020\n\n[5 rows x 7 columns]",
            "text/html": "<div>\n<style scoped>\n    .dataframe tbody tr th:only-of-type {\n        vertical-align: middle;\n    }\n\n    .dataframe tbody tr th {\n        vertical-align: top;\n    }\n\n    .dataframe thead th {\n        text-align: right;\n    }\n</style>\n<table border=\"1\" class=\"dataframe\">\n  <thead>\n    <tr style=\"text-align: right;\">\n      <th></th>\n      <th>Date</th>\n      <th>Open</th>\n      <th>High</th>\n      <th>Low</th>\n      <th>Close</th>\n      <th>Volume</th>\n      <th>Adj Close</th>\n    </tr>\n  </thead>\n  <tbody>\n    <tr>\n      <th>1842</th>\n      <td>2009-03-10</td>\n      <td>6547.009766</td>\n      <td>6926.490234</td>\n      <td>6546.609863</td>\n      <td>6926.490234</td>\n      <td>640020000</td>\n      <td>6926.490234</td>\n    </tr>\n    <tr>\n      <th>1844</th>\n      <td>2009-03-06</td>\n      <td>6595.160156</td>\n      <td>6755.169922</td>\n      <td>6469.950195</td>\n      <td>6626.939941</td>\n      <td>425170000</td>\n      <td>6626.939941</td>\n    </tr>\n    <tr>\n      <th>1843</th>\n      <td>2009-03-09</td>\n      <td>6625.740234</td>\n      <td>6709.609863</td>\n      <td>6516.859863</td>\n      <td>6547.049805</td>\n      <td>365990000</td>\n      <td>6547.049805</td>\n    </tr>\n    <tr>\n      <th>1846</th>\n      <td>2009-03-04</td>\n      <td>6726.500000</td>\n      <td>6979.220215</td>\n      <td>6726.419922</td>\n      <td>6875.839844</td>\n      <td>464830000</td>\n      <td>6875.839844</td>\n    </tr>\n    <tr>\n      <th>1847</th>\n      <td>2009-03-03</td>\n      <td>6764.810059</td>\n      <td>6855.290039</td>\n      <td>6705.629883</td>\n      <td>6726.020020</td>\n      <td>445280000</td>\n      <td>6726.020020</td>\n    </tr>\n  </tbody>\n</table>\n</div>"
          },
          "metadata": {}
        }
      ]
    },
    {
      "metadata": {
        "_uuid": "8816e0ceab950045905c67d7782733690001908c"
      },
      "cell_type": "markdown",
      "source": "### **df.sort_values('columnName', ascending=False)** <a id=\"62\"></a>\nThis code is the column we specify in the form of high to low.\n\n<mark>[Return Contents](#0)\n<hr>"
    },
    {
      "metadata": {
        "trusted": true,
        "_uuid": "13f2b3ac2b4c80f75acdcbdfa08fbcd5c61fd710"
      },
      "cell_type": "code",
      "source": "df.sort_values('Date', ascending=False).head()",
      "execution_count": 56,
      "outputs": [
        {
          "output_type": "execute_result",
          "execution_count": 56,
          "data": {
            "text/plain": "         Date          Open      ...          Volume     Adj Close\n0  2016-07-01  17924.240234      ...        82160000  17949.369141\n1  2016-06-30  17712.759766      ...       133030000  17929.990234\n2  2016-06-29  17456.019531      ...       106380000  17694.679688\n3  2016-06-28  17190.509766      ...       112190000  17409.720703\n4  2016-06-27  17355.210938      ...       138740000  17140.240234\n\n[5 rows x 7 columns]",
            "text/html": "<div>\n<style scoped>\n    .dataframe tbody tr th:only-of-type {\n        vertical-align: middle;\n    }\n\n    .dataframe tbody tr th {\n        vertical-align: top;\n    }\n\n    .dataframe thead th {\n        text-align: right;\n    }\n</style>\n<table border=\"1\" class=\"dataframe\">\n  <thead>\n    <tr style=\"text-align: right;\">\n      <th></th>\n      <th>Date</th>\n      <th>Open</th>\n      <th>High</th>\n      <th>Low</th>\n      <th>Close</th>\n      <th>Volume</th>\n      <th>Adj Close</th>\n    </tr>\n  </thead>\n  <tbody>\n    <tr>\n      <th>0</th>\n      <td>2016-07-01</td>\n      <td>17924.240234</td>\n      <td>18002.380859</td>\n      <td>17916.910156</td>\n      <td>17949.369141</td>\n      <td>82160000</td>\n      <td>17949.369141</td>\n    </tr>\n    <tr>\n      <th>1</th>\n      <td>2016-06-30</td>\n      <td>17712.759766</td>\n      <td>17930.609375</td>\n      <td>17711.800781</td>\n      <td>17929.990234</td>\n      <td>133030000</td>\n      <td>17929.990234</td>\n    </tr>\n    <tr>\n      <th>2</th>\n      <td>2016-06-29</td>\n      <td>17456.019531</td>\n      <td>17704.509766</td>\n      <td>17456.019531</td>\n      <td>17694.679688</td>\n      <td>106380000</td>\n      <td>17694.679688</td>\n    </tr>\n    <tr>\n      <th>3</th>\n      <td>2016-06-28</td>\n      <td>17190.509766</td>\n      <td>17409.720703</td>\n      <td>17190.509766</td>\n      <td>17409.720703</td>\n      <td>112190000</td>\n      <td>17409.720703</td>\n    </tr>\n    <tr>\n      <th>4</th>\n      <td>2016-06-27</td>\n      <td>17355.210938</td>\n      <td>17355.210938</td>\n      <td>17063.080078</td>\n      <td>17140.240234</td>\n      <td>138740000</td>\n      <td>17140.240234</td>\n    </tr>\n  </tbody>\n</table>\n</div>"
          },
          "metadata": {}
        }
      ]
    },
    {
      "metadata": {
        "_uuid": "8cba417bec9ee6ac67ed1e37c2132842e4cfefb9"
      },
      "cell_type": "markdown",
      "source": "### **df.sort_index()** <a id=\"63\"></a>\nThis code sorts from small to large according to the DataFrame index.\n\n<mark>[Return Contents](#0)\n<hr>"
    },
    {
      "metadata": {
        "trusted": true,
        "_uuid": "0317290f54888b03bf983a84382c6f78494a2a25"
      },
      "cell_type": "code",
      "source": "df.sort_index().head()",
      "execution_count": 57,
      "outputs": [
        {
          "output_type": "execute_result",
          "execution_count": 57,
          "data": {
            "text/plain": "         Date          Open      ...          Volume     Adj Close\n0  2016-07-01  17924.240234      ...        82160000  17949.369141\n1  2016-06-30  17712.759766      ...       133030000  17929.990234\n2  2016-06-29  17456.019531      ...       106380000  17694.679688\n3  2016-06-28  17190.509766      ...       112190000  17409.720703\n4  2016-06-27  17355.210938      ...       138740000  17140.240234\n\n[5 rows x 7 columns]",
            "text/html": "<div>\n<style scoped>\n    .dataframe tbody tr th:only-of-type {\n        vertical-align: middle;\n    }\n\n    .dataframe tbody tr th {\n        vertical-align: top;\n    }\n\n    .dataframe thead th {\n        text-align: right;\n    }\n</style>\n<table border=\"1\" class=\"dataframe\">\n  <thead>\n    <tr style=\"text-align: right;\">\n      <th></th>\n      <th>Date</th>\n      <th>Open</th>\n      <th>High</th>\n      <th>Low</th>\n      <th>Close</th>\n      <th>Volume</th>\n      <th>Adj Close</th>\n    </tr>\n  </thead>\n  <tbody>\n    <tr>\n      <th>0</th>\n      <td>2016-07-01</td>\n      <td>17924.240234</td>\n      <td>18002.380859</td>\n      <td>17916.910156</td>\n      <td>17949.369141</td>\n      <td>82160000</td>\n      <td>17949.369141</td>\n    </tr>\n    <tr>\n      <th>1</th>\n      <td>2016-06-30</td>\n      <td>17712.759766</td>\n      <td>17930.609375</td>\n      <td>17711.800781</td>\n      <td>17929.990234</td>\n      <td>133030000</td>\n      <td>17929.990234</td>\n    </tr>\n    <tr>\n      <th>2</th>\n      <td>2016-06-29</td>\n      <td>17456.019531</td>\n      <td>17704.509766</td>\n      <td>17456.019531</td>\n      <td>17694.679688</td>\n      <td>106380000</td>\n      <td>17694.679688</td>\n    </tr>\n    <tr>\n      <th>3</th>\n      <td>2016-06-28</td>\n      <td>17190.509766</td>\n      <td>17409.720703</td>\n      <td>17190.509766</td>\n      <td>17409.720703</td>\n      <td>112190000</td>\n      <td>17409.720703</td>\n    </tr>\n    <tr>\n      <th>4</th>\n      <td>2016-06-27</td>\n      <td>17355.210938</td>\n      <td>17355.210938</td>\n      <td>17063.080078</td>\n      <td>17140.240234</td>\n      <td>138740000</td>\n      <td>17140.240234</td>\n    </tr>\n  </tbody>\n</table>\n</div>"
          },
          "metadata": {}
        }
      ]
    },
    {
      "metadata": {
        "_uuid": "1e10d8a4929a0bd2587d0826dc863d35784bcd68"
      },
      "cell_type": "markdown",
      "source": "# **Rename & Defining New & Change Columns** <a id=\"64\"></a>\n<mark>[Return Contents](#0)\n<hr>"
    },
    {
      "metadata": {
        "_uuid": "e6d2f6146eee2aec07942640be832e6f465f8b13"
      },
      "cell_type": "markdown",
      "source": "### **df.rename(columns= {'columnName' : 'newColumnName'})** <a id=\"65\"></a>\nThis code helps us change the column name. The code I wrote below changes the ID value, but as we did not assign the change to the variable DF, it seems to be unchanged as you see below."
    },
    {
      "metadata": {
        "trusted": true,
        "_uuid": "f9629a7d893e2d06b28cd894755960b330abc5f1"
      },
      "cell_type": "code",
      "source": "df.rename(columns= {'Adj Close' : 'Adjclose'}).head()\n# df = df.rename(columns= {'Id' : 'Identif'}, inplace=True) -> True way\n# inplace= True or False; This meaning, overwrite the data set.\n# Other Way\n# df.columns = ['date', 'open', 'high', 'low', 'close', 'volume', 'adjclose']",
      "execution_count": 58,
      "outputs": [
        {
          "output_type": "execute_result",
          "execution_count": 58,
          "data": {
            "text/plain": "         Date          Open      ...          Volume      Adjclose\n0  2016-07-01  17924.240234      ...        82160000  17949.369141\n1  2016-06-30  17712.759766      ...       133030000  17929.990234\n2  2016-06-29  17456.019531      ...       106380000  17694.679688\n3  2016-06-28  17190.509766      ...       112190000  17409.720703\n4  2016-06-27  17355.210938      ...       138740000  17140.240234\n\n[5 rows x 7 columns]",
            "text/html": "<div>\n<style scoped>\n    .dataframe tbody tr th:only-of-type {\n        vertical-align: middle;\n    }\n\n    .dataframe tbody tr th {\n        vertical-align: top;\n    }\n\n    .dataframe thead th {\n        text-align: right;\n    }\n</style>\n<table border=\"1\" class=\"dataframe\">\n  <thead>\n    <tr style=\"text-align: right;\">\n      <th></th>\n      <th>Date</th>\n      <th>Open</th>\n      <th>High</th>\n      <th>Low</th>\n      <th>Close</th>\n      <th>Volume</th>\n      <th>Adjclose</th>\n    </tr>\n  </thead>\n  <tbody>\n    <tr>\n      <th>0</th>\n      <td>2016-07-01</td>\n      <td>17924.240234</td>\n      <td>18002.380859</td>\n      <td>17916.910156</td>\n      <td>17949.369141</td>\n      <td>82160000</td>\n      <td>17949.369141</td>\n    </tr>\n    <tr>\n      <th>1</th>\n      <td>2016-06-30</td>\n      <td>17712.759766</td>\n      <td>17930.609375</td>\n      <td>17711.800781</td>\n      <td>17929.990234</td>\n      <td>133030000</td>\n      <td>17929.990234</td>\n    </tr>\n    <tr>\n      <th>2</th>\n      <td>2016-06-29</td>\n      <td>17456.019531</td>\n      <td>17704.509766</td>\n      <td>17456.019531</td>\n      <td>17694.679688</td>\n      <td>106380000</td>\n      <td>17694.679688</td>\n    </tr>\n    <tr>\n      <th>3</th>\n      <td>2016-06-28</td>\n      <td>17190.509766</td>\n      <td>17409.720703</td>\n      <td>17190.509766</td>\n      <td>17409.720703</td>\n      <td>112190000</td>\n      <td>17409.720703</td>\n    </tr>\n    <tr>\n      <th>4</th>\n      <td>2016-06-27</td>\n      <td>17355.210938</td>\n      <td>17355.210938</td>\n      <td>17063.080078</td>\n      <td>17140.240234</td>\n      <td>138740000</td>\n      <td>17140.240234</td>\n    </tr>\n  </tbody>\n</table>\n</div>"
          },
          "metadata": {}
        }
      ]
    },
    {
      "metadata": {
        "_uuid": "589a1f14eb9a14430b16fe7bdbb7f8f75739a672"
      },
      "cell_type": "markdown",
      "source": "###  **Defining New Column** <a id=\"66\"></a>\nCreate a new column\n\n<mark>[Return Contents](#0)\n<hr>"
    },
    {
      "metadata": {
        "trusted": true,
        "_uuid": "6056aa5ff4fbfa729cf28f13fe12693bc2baad24"
      },
      "cell_type": "code",
      "source": "df[\"Difference\"] = df.High - df.Low\ndf.head()",
      "execution_count": 59,
      "outputs": [
        {
          "output_type": "execute_result",
          "execution_count": 59,
          "data": {
            "text/plain": "         Date          Open     ...         Adj Close  Difference\n0  2016-07-01  17924.240234     ...      17949.369141   85.470703\n1  2016-06-30  17712.759766     ...      17929.990234  218.808594\n2  2016-06-29  17456.019531     ...      17694.679688  248.490235\n3  2016-06-28  17190.509766     ...      17409.720703  219.210937\n4  2016-06-27  17355.210938     ...      17140.240234  292.130860\n\n[5 rows x 8 columns]",
            "text/html": "<div>\n<style scoped>\n    .dataframe tbody tr th:only-of-type {\n        vertical-align: middle;\n    }\n\n    .dataframe tbody tr th {\n        vertical-align: top;\n    }\n\n    .dataframe thead th {\n        text-align: right;\n    }\n</style>\n<table border=\"1\" class=\"dataframe\">\n  <thead>\n    <tr style=\"text-align: right;\">\n      <th></th>\n      <th>Date</th>\n      <th>Open</th>\n      <th>High</th>\n      <th>Low</th>\n      <th>Close</th>\n      <th>Volume</th>\n      <th>Adj Close</th>\n      <th>Difference</th>\n    </tr>\n  </thead>\n  <tbody>\n    <tr>\n      <th>0</th>\n      <td>2016-07-01</td>\n      <td>17924.240234</td>\n      <td>18002.380859</td>\n      <td>17916.910156</td>\n      <td>17949.369141</td>\n      <td>82160000</td>\n      <td>17949.369141</td>\n      <td>85.470703</td>\n    </tr>\n    <tr>\n      <th>1</th>\n      <td>2016-06-30</td>\n      <td>17712.759766</td>\n      <td>17930.609375</td>\n      <td>17711.800781</td>\n      <td>17929.990234</td>\n      <td>133030000</td>\n      <td>17929.990234</td>\n      <td>218.808594</td>\n    </tr>\n    <tr>\n      <th>2</th>\n      <td>2016-06-29</td>\n      <td>17456.019531</td>\n      <td>17704.509766</td>\n      <td>17456.019531</td>\n      <td>17694.679688</td>\n      <td>106380000</td>\n      <td>17694.679688</td>\n      <td>248.490235</td>\n    </tr>\n    <tr>\n      <th>3</th>\n      <td>2016-06-28</td>\n      <td>17190.509766</td>\n      <td>17409.720703</td>\n      <td>17190.509766</td>\n      <td>17409.720703</td>\n      <td>112190000</td>\n      <td>17409.720703</td>\n      <td>219.210937</td>\n    </tr>\n    <tr>\n      <th>4</th>\n      <td>2016-06-27</td>\n      <td>17355.210938</td>\n      <td>17355.210938</td>\n      <td>17063.080078</td>\n      <td>17140.240234</td>\n      <td>138740000</td>\n      <td>17140.240234</td>\n      <td>292.130860</td>\n    </tr>\n  </tbody>\n</table>\n</div>"
          },
          "metadata": {}
        }
      ]
    },
    {
      "metadata": {
        "_uuid": "1964b6b7fc90407b51aa73cb742abf02880f65cc"
      },
      "cell_type": "markdown",
      "source": "### **Change Index Name** <a id=\"67\"></a>\nChange index name to new index name\n\n<mark>[Return Contents](#0)\n<hr>"
    },
    {
      "metadata": {
        "trusted": true,
        "_uuid": "ada0dc263126bde102f32891d5a574136ea0796d"
      },
      "cell_type": "code",
      "source": "print(df.index.name)\ndf.index.name = \"index_name\"\ndf.head()",
      "execution_count": 60,
      "outputs": [
        {
          "output_type": "stream",
          "text": "None\n",
          "name": "stdout"
        },
        {
          "output_type": "execute_result",
          "execution_count": 60,
          "data": {
            "text/plain": "                  Date          Open     ...         Adj Close  Difference\nindex_name                               ...                              \n0           2016-07-01  17924.240234     ...      17949.369141   85.470703\n1           2016-06-30  17712.759766     ...      17929.990234  218.808594\n2           2016-06-29  17456.019531     ...      17694.679688  248.490235\n3           2016-06-28  17190.509766     ...      17409.720703  219.210937\n4           2016-06-27  17355.210938     ...      17140.240234  292.130860\n\n[5 rows x 8 columns]",
            "text/html": "<div>\n<style scoped>\n    .dataframe tbody tr th:only-of-type {\n        vertical-align: middle;\n    }\n\n    .dataframe tbody tr th {\n        vertical-align: top;\n    }\n\n    .dataframe thead th {\n        text-align: right;\n    }\n</style>\n<table border=\"1\" class=\"dataframe\">\n  <thead>\n    <tr style=\"text-align: right;\">\n      <th></th>\n      <th>Date</th>\n      <th>Open</th>\n      <th>High</th>\n      <th>Low</th>\n      <th>Close</th>\n      <th>Volume</th>\n      <th>Adj Close</th>\n      <th>Difference</th>\n    </tr>\n    <tr>\n      <th>index_name</th>\n      <th></th>\n      <th></th>\n      <th></th>\n      <th></th>\n      <th></th>\n      <th></th>\n      <th></th>\n      <th></th>\n    </tr>\n  </thead>\n  <tbody>\n    <tr>\n      <th>0</th>\n      <td>2016-07-01</td>\n      <td>17924.240234</td>\n      <td>18002.380859</td>\n      <td>17916.910156</td>\n      <td>17949.369141</td>\n      <td>82160000</td>\n      <td>17949.369141</td>\n      <td>85.470703</td>\n    </tr>\n    <tr>\n      <th>1</th>\n      <td>2016-06-30</td>\n      <td>17712.759766</td>\n      <td>17930.609375</td>\n      <td>17711.800781</td>\n      <td>17929.990234</td>\n      <td>133030000</td>\n      <td>17929.990234</td>\n      <td>218.808594</td>\n    </tr>\n    <tr>\n      <th>2</th>\n      <td>2016-06-29</td>\n      <td>17456.019531</td>\n      <td>17704.509766</td>\n      <td>17456.019531</td>\n      <td>17694.679688</td>\n      <td>106380000</td>\n      <td>17694.679688</td>\n      <td>248.490235</td>\n    </tr>\n    <tr>\n      <th>3</th>\n      <td>2016-06-28</td>\n      <td>17190.509766</td>\n      <td>17409.720703</td>\n      <td>17190.509766</td>\n      <td>17409.720703</td>\n      <td>112190000</td>\n      <td>17409.720703</td>\n      <td>219.210937</td>\n    </tr>\n    <tr>\n      <th>4</th>\n      <td>2016-06-27</td>\n      <td>17355.210938</td>\n      <td>17355.210938</td>\n      <td>17063.080078</td>\n      <td>17140.240234</td>\n      <td>138740000</td>\n      <td>17140.240234</td>\n      <td>292.130860</td>\n    </tr>\n  </tbody>\n</table>\n</div>"
          },
          "metadata": {}
        }
      ]
    },
    {
      "metadata": {
        "_uuid": "15710f63a62ff12196912e9b41919b6157b90dff"
      },
      "cell_type": "markdown",
      "source": "### **Make all columns lowercase** <a id=\"68\"></a>\n<mark>[Return Contents](#0)\n<hr>"
    },
    {
      "metadata": {
        "trusted": true,
        "_uuid": "ae9b53e39babf6b99fae1ebc3746ccd41be813b3"
      },
      "cell_type": "code",
      "source": "#df.columns = map(str.lower(), df.columns)",
      "execution_count": 61,
      "outputs": []
    },
    {
      "metadata": {
        "_uuid": "5e56335f86a4e3e463151a9e4470bdf71183b863"
      },
      "cell_type": "markdown",
      "source": "### **Make all columns uppercase** <a id=\"69\"></a>\n<mark>[Return Contents](#0)\n<hr>"
    },
    {
      "metadata": {
        "trusted": true,
        "_uuid": "7c1800e1b60aadffc1105b77dae3ae98f62b67fa"
      },
      "cell_type": "code",
      "source": "#df.columns = map(str.upper(), df.columns)",
      "execution_count": 62,
      "outputs": []
    },
    {
      "metadata": {
        "_uuid": "6b289272d9dff6967d82110f9e71b8cf0754cf1f"
      },
      "cell_type": "markdown",
      "source": "# **Drop Data** <a id=\"70\"></a>\n\n<mark>[Return Contents](#0)\n<hr>"
    },
    {
      "metadata": {
        "_uuid": "e9ac8aff9d77672a72d8460ccc00612d13fff631"
      },
      "cell_type": "markdown",
      "source": "### **df.drop(columns=['columnName'])** <a id=\"71\"></a>\nThis code deletes the column we have specified. But as above, I have to reset the delete to the df variable again."
    },
    {
      "metadata": {
        "trusted": true,
        "_uuid": "41d2d8fff5ad5d5e1175ec4bc985169bf3872f23"
      },
      "cell_type": "code",
      "source": "df.drop(columns=['Adj Close']).head()\n# df = df.drop(columns=['Id']) -> True way\n# OR\n# df = df.drop('col', axis=1)\n# axis = 1 is meaning delete columns\n# axis = 0 is meaning delete rows",
      "execution_count": 63,
      "outputs": [
        {
          "output_type": "execute_result",
          "execution_count": 63,
          "data": {
            "text/plain": "                  Date          Open     ...         Volume  Difference\nindex_name                               ...                           \n0           2016-07-01  17924.240234     ...       82160000   85.470703\n1           2016-06-30  17712.759766     ...      133030000  218.808594\n2           2016-06-29  17456.019531     ...      106380000  248.490235\n3           2016-06-28  17190.509766     ...      112190000  219.210937\n4           2016-06-27  17355.210938     ...      138740000  292.130860\n\n[5 rows x 7 columns]",
            "text/html": "<div>\n<style scoped>\n    .dataframe tbody tr th:only-of-type {\n        vertical-align: middle;\n    }\n\n    .dataframe tbody tr th {\n        vertical-align: top;\n    }\n\n    .dataframe thead th {\n        text-align: right;\n    }\n</style>\n<table border=\"1\" class=\"dataframe\">\n  <thead>\n    <tr style=\"text-align: right;\">\n      <th></th>\n      <th>Date</th>\n      <th>Open</th>\n      <th>High</th>\n      <th>Low</th>\n      <th>Close</th>\n      <th>Volume</th>\n      <th>Difference</th>\n    </tr>\n    <tr>\n      <th>index_name</th>\n      <th></th>\n      <th></th>\n      <th></th>\n      <th></th>\n      <th></th>\n      <th></th>\n      <th></th>\n    </tr>\n  </thead>\n  <tbody>\n    <tr>\n      <th>0</th>\n      <td>2016-07-01</td>\n      <td>17924.240234</td>\n      <td>18002.380859</td>\n      <td>17916.910156</td>\n      <td>17949.369141</td>\n      <td>82160000</td>\n      <td>85.470703</td>\n    </tr>\n    <tr>\n      <th>1</th>\n      <td>2016-06-30</td>\n      <td>17712.759766</td>\n      <td>17930.609375</td>\n      <td>17711.800781</td>\n      <td>17929.990234</td>\n      <td>133030000</td>\n      <td>218.808594</td>\n    </tr>\n    <tr>\n      <th>2</th>\n      <td>2016-06-29</td>\n      <td>17456.019531</td>\n      <td>17704.509766</td>\n      <td>17456.019531</td>\n      <td>17694.679688</td>\n      <td>106380000</td>\n      <td>248.490235</td>\n    </tr>\n    <tr>\n      <th>3</th>\n      <td>2016-06-28</td>\n      <td>17190.509766</td>\n      <td>17409.720703</td>\n      <td>17190.509766</td>\n      <td>17409.720703</td>\n      <td>112190000</td>\n      <td>219.210937</td>\n    </tr>\n    <tr>\n      <th>4</th>\n      <td>2016-06-27</td>\n      <td>17355.210938</td>\n      <td>17355.210938</td>\n      <td>17063.080078</td>\n      <td>17140.240234</td>\n      <td>138740000</td>\n      <td>292.130860</td>\n    </tr>\n  </tbody>\n</table>\n</div>"
          },
          "metadata": {}
        }
      ]
    },
    {
      "metadata": {
        "_uuid": "f80fb6f28d3b1ca5c0e30ebbb40e3c56ba19581c"
      },
      "cell_type": "markdown",
      "source": "### **mySeries.drop(['a'])** <a id=\"72\"></a>\nThis code allows us to delete the value specified in the series.\n\n<mark>[Return Contents](#0)\n<hr>"
    },
    {
      "metadata": {
        "trusted": true,
        "_uuid": "77930a8a0369518c8c5bfcf4c8594adb14ca028c"
      },
      "cell_type": "code",
      "source": "mySeries.drop(['a'])",
      "execution_count": 64,
      "outputs": [
        {
          "output_type": "execute_result",
          "execution_count": 64,
          "data": {
            "text/plain": "b   -5\nc    7\nd    4\ndtype: int64"
          },
          "metadata": {}
        }
      ]
    },
    {
      "metadata": {
        "_uuid": "6a472c27b3703d89606949b355c5008ff8981908"
      },
      "cell_type": "markdown",
      "source": "### **Drop an observation (row)** <a id=\"82\"></a>\n\n<mark>[Return Contents](#0)\n<hr>"
    },
    {
      "metadata": {
        "trusted": true,
        "_uuid": "3fb937803e52af8a17314cfd0ccb24e0d87f7423"
      },
      "cell_type": "code",
      "source": "# df.drop(['2016-07-01', '2016-06-27'])",
      "execution_count": 65,
      "outputs": []
    },
    {
      "metadata": {
        "_uuid": "24773e44d98f5c9bcb97c7aa8b7109919f8c8d91"
      },
      "cell_type": "markdown",
      "source": "### **Drop a variable (column)** <a id=\"83\"></a>\n\n<mark>[Return Contents](#0)\n<hr>\nNote: axis=1 denotes that we are referring to a column, not a row"
    },
    {
      "metadata": {
        "trusted": true,
        "_uuid": "3b341838cde86e0bf29cf10acd86c89fd5e3dae9"
      },
      "cell_type": "code",
      "source": "# df.drop('Volume', axis=1)",
      "execution_count": 66,
      "outputs": []
    },
    {
      "metadata": {
        "_uuid": "257734e1e5181e1a7983b246b96fd9d48e82c383"
      },
      "cell_type": "markdown",
      "source": "# **Convert Data Types** <a id=\"73\"></a>\n\n<mark>[Return Contents](#0)\n<hr>\n\n### **df.dtypes** <a id=\"74\"></a>\nThis code shows what data type of columns are. Boolean, int, float, object(String), date and categorical."
    },
    {
      "metadata": {
        "trusted": true,
        "_uuid": "d02e7c7f166080e52b16976bbf2e823bc341f6c9"
      },
      "cell_type": "code",
      "source": "df.dtypes",
      "execution_count": 67,
      "outputs": [
        {
          "output_type": "execute_result",
          "execution_count": 67,
          "data": {
            "text/plain": "Date           object\nOpen          float64\nHigh          float64\nLow           float64\nClose         float64\nVolume          int64\nAdj Close     float64\nDifference    float64\ndtype: object"
          },
          "metadata": {}
        }
      ]
    },
    {
      "metadata": {
        "_uuid": "ca2aa5c9ab554e05194f2d615b951e7bd0dd53a5"
      },
      "cell_type": "markdown",
      "source": "### **df['columnName'] = df['columnName'].astype('dataType')** <a id=\"75\"></a>\nThis code convert the column we specify into the data type we specify.\n\n<mark>[Return Contents](#0)\n<hr>"
    },
    {
      "metadata": {
        "trusted": true,
        "_uuid": "ab77df3bc11b833c288e65de5b14942623323141"
      },
      "cell_type": "code",
      "source": "df.Date.astype('category').dtypes\n# OR Convert Datetime\n# df.Date= pd.to_datetime(df.Date)",
      "execution_count": 68,
      "outputs": [
        {
          "output_type": "execute_result",
          "execution_count": 68,
          "data": {
            "text/plain": "CategoricalDtype(categories=['2008-08-08', '2008-08-11', '2008-08-12', '2008-08-13',\n                  '2008-08-14', '2008-08-15', '2008-08-18', '2008-08-19',\n                  '2008-08-20', '2008-08-21',\n                  ...\n                  '2016-06-20', '2016-06-21', '2016-06-22', '2016-06-23',\n                  '2016-06-24', '2016-06-27', '2016-06-28', '2016-06-29',\n                  '2016-06-30', '2016-07-01'],\n                 ordered=False)"
          },
          "metadata": {}
        }
      ]
    },
    {
      "metadata": {
        "_uuid": "5f6a908930f020091d29630525dea48a6b5047ee"
      },
      "cell_type": "markdown",
      "source": "### **pd.melt(frame=dataFrameName,id_vars = 'columnName', value_vars= ['columnName'])** <a id=\"76\"></a>\nThis code is confusing, so lets look at the example.\n\n<mark>[Return Contents](#0)\n<hr>"
    },
    {
      "metadata": {
        "trusted": true,
        "_uuid": "2a461f5a7096f6c3047c37f77a21a302a4724be3"
      },
      "cell_type": "code",
      "source": "df_new = df.head()\nmelted = pd.melt(frame=df_new,id_vars = 'Date', value_vars= ['Low'])\nmelted",
      "execution_count": 69,
      "outputs": [
        {
          "output_type": "execute_result",
          "execution_count": 69,
          "data": {
            "text/plain": "         Date variable         value\n0  2016-07-01      Low  17916.910156\n1  2016-06-30      Low  17711.800781\n2  2016-06-29      Low  17456.019531\n3  2016-06-28      Low  17190.509766\n4  2016-06-27      Low  17063.080078",
            "text/html": "<div>\n<style scoped>\n    .dataframe tbody tr th:only-of-type {\n        vertical-align: middle;\n    }\n\n    .dataframe tbody tr th {\n        vertical-align: top;\n    }\n\n    .dataframe thead th {\n        text-align: right;\n    }\n</style>\n<table border=\"1\" class=\"dataframe\">\n  <thead>\n    <tr style=\"text-align: right;\">\n      <th></th>\n      <th>Date</th>\n      <th>variable</th>\n      <th>value</th>\n    </tr>\n  </thead>\n  <tbody>\n    <tr>\n      <th>0</th>\n      <td>2016-07-01</td>\n      <td>Low</td>\n      <td>17916.910156</td>\n    </tr>\n    <tr>\n      <th>1</th>\n      <td>2016-06-30</td>\n      <td>Low</td>\n      <td>17711.800781</td>\n    </tr>\n    <tr>\n      <th>2</th>\n      <td>2016-06-29</td>\n      <td>Low</td>\n      <td>17456.019531</td>\n    </tr>\n    <tr>\n      <th>3</th>\n      <td>2016-06-28</td>\n      <td>Low</td>\n      <td>17190.509766</td>\n    </tr>\n    <tr>\n      <th>4</th>\n      <td>2016-06-27</td>\n      <td>Low</td>\n      <td>17063.080078</td>\n    </tr>\n  </tbody>\n</table>\n</div>"
          },
          "metadata": {}
        }
      ]
    },
    {
      "metadata": {
        "_uuid": "019d675c8328676e2a53c936359a83530f2fccf8"
      },
      "cell_type": "markdown",
      "source": "# **Apply Function** <a id=\"77\"></a>\n\n<mark>[Return Contents](#0)\n<hr>\n\n### **Method 1** <a id=\"78\"></a>"
    },
    {
      "metadata": {
        "trusted": true,
        "_uuid": "f3d0a47f7f60f42ab74031960962dca9f5c51a90"
      },
      "cell_type": "code",
      "source": "def examples(x):   #create a function\n    return x*2\n\ndf.Open.apply(examples).head()  #use the function with apply() ",
      "execution_count": 70,
      "outputs": [
        {
          "output_type": "execute_result",
          "execution_count": 70,
          "data": {
            "text/plain": "index_name\n0    35848.480468\n1    35425.519532\n2    34912.039062\n3    34381.019532\n4    34710.421876\nName: Open, dtype: float64"
          },
          "metadata": {}
        }
      ]
    },
    {
      "metadata": {
        "_uuid": "45734ddf89edf8ad9075a2222c78448b0e455214"
      },
      "cell_type": "markdown",
      "source": "### **Method 2** <a id=\"79\"></a>"
    },
    {
      "metadata": {
        "trusted": true,
        "_uuid": "6447848a7f2fd2c7a0100317e1c4869260f4c11e"
      },
      "cell_type": "code",
      "source": "df.Open.apply(lambda x: x*2).head()",
      "execution_count": 71,
      "outputs": [
        {
          "output_type": "execute_result",
          "execution_count": 71,
          "data": {
            "text/plain": "index_name\n0    35848.480468\n1    35425.519532\n2    34912.039062\n3    34381.019532\n4    34710.421876\nName: Open, dtype: float64"
          },
          "metadata": {}
        }
      ]
    },
    {
      "metadata": {
        "trusted": true,
        "_uuid": "e80845b38f09a29a6b486e8c692c32b4e32b8267"
      },
      "cell_type": "markdown",
      "source": "# **Utilities Code** <a id=\"80\"></a>\n\n<mark>[Return Contents](#0)\n<hr>"
    },
    {
      "metadata": {
        "trusted": true,
        "_uuid": "5319d80d0d27b4aa0065de122ec43d1715fc9264"
      },
      "cell_type": "code",
      "source": "# pd.get_option OR pd.set_option\n# pd.reset_option(\"^display\")\n\n# pd.reset_option(\"display.max_rows\")\n# pd.get_option(\"display.max_rows\")\n# pd.set_option(\"max_r\",102)                 -> specifies the maximum number of rows to display.\n# pd.options.display.max_rows = 999          -> specifies the maximum number of rows to display.\n\n# pd.get_option(\"display.max_columns\")\n# pd.options.display.max_columns = 999       -> specifies the maximum number of columns to display.\n\n# pd.set_option('display.width', 300)\n\n# pd.set_option('display.max_columns', 300)  -> specifies the maximum number of rows to display.\n# pd.set_option('display.max_colwidth', 500) -> specifies the maximum number of columns to display. \n\n# pd.get_option('max_colwidth')\n# pd.set_option('max_colwidth',40)\n# pd.reset_option('max_colwidth')\n\n# pd.get_option('max_info_columns')\n# pd.set_option('max_info_columns', 11)\n# pd.reset_option('max_info_columns')\n\n# pd.get_option('max_info_rows')\n# pd.set_option('max_info_rows', 11)\n# pd.reset_option('max_info_rows')\n\n# pd.set_option('precision',7) -> sets the output display precision in terms of decimal places. This is only a suggestion.\n# OR\n# pd.set_option('display.precision',3)\n\n# pd.set_option('chop_threshold', 0) -> sets at what level pandas rounds to zero when it displays a Series of DataFrame. This setting does not change the precision at which the number is stored.\n# pd.reset_option('chop_threshold') ",
      "execution_count": 72,
      "outputs": []
    }
  ],
  "metadata": {
    "kernelspec": {
      "display_name": "Python 3",
      "language": "python",
      "name": "python3"
    },
    "language_info": {
      "name": "python",
      "version": "3.6.6",
      "mimetype": "text/x-python",
      "codemirror_mode": {
        "name": "ipython",
        "version": 3
      },
      "pygments_lexer": "ipython3",
      "nbconvert_exporter": "python",
      "file_extension": ".py"
    }
  },
  "nbformat": 4,
  "nbformat_minor": 1
}